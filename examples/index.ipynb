{
 "cells": [
  {
   "cell_type": "markdown",
   "metadata": {},
   "source": [
    "## Intermedium examples\n",
    "[An R example: `ashr` benchmark](examples/Intermedium_R_1.html)<br>\n",
    "&nbsp; &nbsp; An illustration of inline codes, variable alias, R library installation and query demos"
   ]
  },
  {
   "cell_type": "markdown",
   "metadata": {},
   "source": [
    "[Reimplementation of \"quick start\" example from `simulator` R package](examples/Intermedium_R_2.html)<br>\n",
    "&nbsp; &nbsp; A more modular implementation illustrating compound and inline module executables"
   ]
  },
  {
   "cell_type": "markdown",
   "metadata": {},
   "source": [
    "## Advanced examples\n",
    "[Covariance estimation](https://stephenslab.github.io/dsc-omega) by Wei Wang and Gao Wang<br>\n",
    "&nbsp; &nbsp; A benchmark on methods estimating covariance matrix from data"
   ]
  },
  {
   "cell_type": "markdown",
   "metadata": {
    "output_cache": "[]"
   },
   "source": [
    "[Linear regression](https://github.com/stephenslab/dsc-reg) by Matthew Stephens<br>\n",
    "&nbsp; &nbsp; High-dimensional regression and variable selection"
   ]
  },
  {
   "cell_type": "markdown",
   "metadata": {
    "output_cache": "[]"
   },
   "source": [
    "[Bayesian regression in genomic prediction](https://github.com/stephenslab/dsc-blm) by Xiang Zhu<br>\n",
    "&nbsp; &nbsp; Bayesian linear model fitting procedures and their applications in genetic association studies"
   ]
  }
 ],
 "metadata": {
  "anaconda-cloud": {},
  "kernelspec": {
   "display_name": "SoS",
   "language": "sos",
   "name": "sos"
  },
  "language_info": {
   "codemirror_mode": "sos",
   "file_extension": ".sos",
   "mimetype": "text/x-sos",
   "name": "sos",
   "nbconvert_exporter": "sos_notebook.converter.SoS_Exporter",
   "pygments_lexer": "sos"
  },
  "sos": {
   "celltoolbar": true,
   "default_kernel": "SoS",
   "kernels": [],
   "panel": {
    "displayed": true,
    "height": 0,
    "style": "side"
   },
   "version": "0.9.13.2"
  },
  "toc": {
   "colors": {
    "hover_highlight": "#DAA520",
    "running_highlight": "#FF0000",
    "selected_highlight": "#FFD700"
   },
   "moveMenuLeft": true,
   "nav_menu": {
    "height": "45px",
    "width": "254px"
   },
   "navigate_menu": true,
   "number_sections": true,
   "sideBar": true,
   "threshold": 4,
   "toc_cell": false,
   "toc_section_display": "block",
   "toc_window_display": false
  }
 },
 "nbformat": 4,
 "nbformat_minor": 2
}
