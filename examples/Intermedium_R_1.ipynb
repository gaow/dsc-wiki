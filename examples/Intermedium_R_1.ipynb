{
 "cells": [
  {
   "cell_type": "markdown",
   "metadata": {},
   "source": [
    "# An R example: ashr benchmark"
   ]
  },
  {
   "cell_type": "markdown",
   "metadata": {},
   "source": [
    "This is a more advanced application of DSC with R scripts. We demonstrate in this tutorial features of DSC including:\n",
    "\n",
    "*  Inline code as parameters\n",
    "*  `@ALIAS` decorator\n",
    "*  R library installation and version check\n",
    "*  Use `dscrutils` to query results limited to given conditions"
   ]
  },
  {
   "cell_type": "markdown",
   "metadata": {},
   "source": [
    "## DSC Problem\n",
    "The DSC problem is based on the ASH example of DSCR ([R Markdown version](https://github.com/stephens999/dscr/blob/master/vignettes/dsc_shrink.rmd) and [HTML version](dscr_dsc_shrink.html)). Material to run this tutorial can be found in [DSC vignettes repo](https://github.com/stephenslab/dsc/tree/master/vignettes/ash). Description below is copied from the DSCR vignette:\n",
    "\n",
    "> To illustrate we consider the problem of shrinkage, which is tackled by the `ashr` package at [http://www.github.com/stephens999/ashr](http://www.github.com/stephens999/ashr). The input to this DSC is a set of estimates $\\hat\\beta$,  with associated standard errors $s$. These values are estimates of actual (true) values for $\\beta$, so the meta-data in this case are the true values of beta. Methods must take $\\hat\\beta$ and $s$ as input, and provide as output \"shrunk\" estimates for $\\beta$ (so output is a list with one element, called `beta_est`, which is a vector of estimates for beta). The score function then scores methods on their RMSE comparing `beta_est` with beta.\n",
    "\n",
    "> First define a datamaker which simulates true values of $\\beta$ from a user-specified normal mixture, where one of the components is a point mass at 0 of mass $\\pi_0$, which is a user-specified parameter. It then simulates $\\hat\\beta \\sim N(\\beta_j,s_j)$ (where $s_j$ is again user-specified). It returns the true $\\beta$ values and true $\\pi_0$ value as meta-data, and the estimates $\\hat\\beta$ and $s$ as input-data.\n",
    "\n",
    "\n",
    "> Now define a [method wrapper](https://github.com/stephenslab/dsc/blob/master/vignettes/ash/bin/runash.R) for the `ash` function from the `ashr` package. Notice that this wrapper does not return output in the required format - it simply returns the entire ash output.\n",
    "\n",
    "> Finally add a generic (can be used to deal with both $\\pi$ and $\\beta$) [score function](https://github.com/stephenslab/dsc/blob/master/vignettes/ash/bin/score.R) to evaluate estimates by `ash`."
   ]
  },
  {
   "cell_type": "markdown",
   "metadata": {},
   "source": [
    "## DSC Specification\n",
    "The problem is fully specified in DSC syntax below, following the structure of the original `DSCR` implementation:\n",
    "\n",
    "```\n",
    "#!/usr/bin/env dsc\n",
    "simulate: datamaker.R\n",
    "    # module input and variables\n",
    "    mixcompdist: normalmix\n",
    "    g: (c(2/3,1/3),c(0,0),c(1,2)),\n",
    "       (rep(1/7,7),c(-1.5,-1,-0.5,0,0.5,1,1.5),rep(0.5,7)),\n",
    "       (c(1/4,1/4,1/3,1/6),c(-2,-1,0,1),c(2,1.5,1,1))\n",
    "    min_pi0: 0\n",
    "    max_pi0: 1\n",
    "    nsamp: 1000\n",
    "    betahatsd: 1\n",
    "    # module decoration\n",
    "    @ALIAS: args = List()\n",
    "    # module output\n",
    "    $data: data\n",
    "    $true_beta: data$meta$beta\n",
    "    $true_pi0: data$meta$pi0\n",
    "\n",
    "shrink: runash.R\n",
    "    # module input and variables\n",
    "    input: $data\n",
    "    mixcompdist: \"normal\", \"halfuniform\"\n",
    "    # module output\n",
    "    $ash_data: ash_data\n",
    "    $beta_est: ashr::get_pm(ash_data)\n",
    "    $pi0_est: ashr::get_pi0(ash_data)\n",
    "\n",
    "score_beta: score.R\n",
    "    # module input and variables\n",
    "    est: $true_beta\n",
    "    truth: $beta_est\n",
    "    # module output aka pipeline variable\n",
    "    $mse: result\n",
    "\n",
    "score_pi0: score.R\n",
    "    # module input and variables\n",
    "    est: $pi0_est\n",
    "    truth: $true_pi0\n",
    "    # module output\n",
    "    $mse: result\n",
    "\n",
    "DSC:\n",
    "    # module ensembles\n",
    "    define:\n",
    "      score: score_beta, score_pi0\n",
    "    # pipelines\n",
    "    run: simulate * shrink * score\n",
    "    # runtime environments\n",
    "    R_libs: ashr@stephens999 (2.2.7+)\n",
    "    exec_path: bin\n",
    "    output: dsc_result\n",
    "```"
   ]
  },
  {
   "cell_type": "markdown",
   "metadata": {},
   "source": [
    "It is suggested that you check out the corresponding R codes for modules [`simulate`](https://github.com/stephenslab/dsc/blob/master/vignettes/ash/bin/datamaker.R), [`shrink`](https://github.com/stephenslab/dsc/blob/master/vignettes/ash/bin/runash.R) and the [score function](https://github.com/stephenslab/dsc/blob/master/vignettes/ash/bin/score.R) to figure out how DSC communicates with your R scripts.\n",
    "\n",
    "Here we will walk through all modules to highlight important syntactical elements."
   ]
  },
  {
   "cell_type": "markdown",
   "metadata": {},
   "source": [
    "### Module `simulate`\n",
    "\n",
    "#### Un-quoted string as parameters and output values\n",
    "\n",
    "The parameter `g` has three candidate values, all of which are un-quoted string to be plugged to script as is. In other words, DSC will interpret each as, eg, `g <- list(c(2/3,1/3),c(0,0),c(1,2))` so that `g` will be assigned **at runtime** the output of R codes as specified for use with `datamaker.R`. Similarly, `mixcompdist: normalmix` will be interpreted as `mixcompdist <- normalmix` -- this statement is valid as long as `datamaker.R` has loaded `ashr` library, because `normalmix` is function from `ashr` library."
   ]
  },
  {
   "cell_type": "markdown",
   "metadata": {},
   "source": [
    "#### Decorator `@ALIAS` for R list\n",
    "Inside `datamaker.R` the input for the core function is a single parameter of an R [list](http://www.r-tutor.com/r-introduction/list) containing all parameters specified in this module. The decorator `@ALIAS` uses a special DSC operation `List()` to consolidate these parameters into an R list `args` which corresponds to the input parameter in `datamaker.R`."
   ]
  },
  {
   "cell_type": "markdown",
   "metadata": {},
   "source": [
    "### Module `shrink` \n",
    "Here notice the output variable are also provided at runtime: DSC allows output variables to directly accept pieces of codes that can provide the desired output. In this case, `get_pi0` function from `ashr` package will get us what we need."
   ]
  },
  {
   "cell_type": "markdown",
   "metadata": {},
   "source": [
    "### Module `beta_score` & `pi0_score`\n",
    "These modules uses the same module executable `score.R` but on different input data. Due to differences in variable names it makes sense to configure them in separate blocks. However an alternative style that configures them in the same block is:\n",
    "\n",
    "```\n",
    "score_beta, score_pi0: score.R\n",
    "    @score_beta:\n",
    "        est: $true_beta\n",
    "        truth: $beta_est\n",
    "        $mse_beta: result\n",
    "    @score_pi0:\n",
    "        est: $pi0_est\n",
    "        truth: $true_pi0\n",
    "        $mse_pi: result        \n",
    "```\n",
    "\n",
    "Here `@*` are module specific variable decorations that configures input and output such that different modules can be allowed in the same block. \n",
    "\n",
    "Notice that different from the [DSCR ASH example](https://github.com/stephens999/dscr/blob/master/vignettes/dsc_shrink.rmd) the output score is an \"atomic\" value (a float number). If the outcome object `result` is not such a simple object, for example it returns an R list, then you may want to code it to only extract the information you need so that they'll be readily extractable in the benchmark query process -- the query process can only extract [atomic types](https://stat.ethz.ch/R-manual/R-devel/library/base/html/is.recursive.html). To do so, you can write something like, e.g., `$mse_pi: score_output$mse`."
   ]
  },
  {
   "cell_type": "markdown",
   "metadata": {},
   "source": [
    "### `DSC` section for benchmark configuration\n",
    "As has been discussed in previous tutorials, `DSC` sections defines module / pipeline ensembles and a benchmark. This DSC executes essentially two pipelines (one ending with `score_beta` another with `score_pi0`). The `R_libs` property specifies the R package required by the DSC. It is formatted as a github package (`pkg@repo`) and the minimal version requirement is `2.0.0`. DSC will check first if the package is available and up-to-date, and install it if necessary. It will then check its version and quit on error if it does not satisfy the requirement. **For safety concerns, DSC does not attempt to upgrade/downgrade a package in cases of version mismatch.**"
   ]
  },
  {
   "cell_type": "markdown",
   "metadata": {},
   "source": [
    "## Execution logic\n",
    "This diagram (generated by `dot` command using execution graph of this DSC) shows the logic of the benchmark:\n",
    "\n",
    "![ash.png](ash.png)"
   ]
  },
  {
   "cell_type": "markdown",
   "metadata": {},
   "source": [
    "## Run DSC"
   ]
  },
  {
   "cell_type": "markdown",
   "metadata": {},
   "source": [
    "We now run this DSC with 10 replicates:"
   ]
  },
  {
   "cell_type": "code",
   "execution_count": 1,
   "metadata": {
    "kernel": "SoS"
   },
   "outputs": [
    {
     "name": "stdout",
     "output_type": "stream",
     "text": [
      "/home/gaow/GIT/dsc/vignettes/ash"
     ]
    }
   ],
   "source": [
    "%cd ~/GIT/dsc/vignettes/ash"
   ]
  },
  {
   "cell_type": "code",
   "execution_count": 2,
   "metadata": {
    "kernel": "Bash",
    "output_cache": "[{\"name\":\"stderr\",\"text\":\"INFO: Checking R library \\u001b[32mstephens999/ashr\\u001b[0m ...\\nINFO: DSC script exported to \\u001b[32mdsc_result.html\\u001b[0m\\nINFO: Constructing DSC from \\u001b[32msettings.dsc\\u001b[0m ...\\nINFO: Building execution graph ...\\n\\rDSC:   0%|          | 0/5 [00:00<?, ?it/s]\\rDSC:  20%|██        | 1/5 [00:16<01:05, 16.42s/it]\\rRunning shrink: \\rRunning core_shrink_1 (runash): \\rRunning shrink (00:02:00): \\rRunning core_shrink_1 (runash) (00:02:00): \\n\\n\\rDSC:  40%|████      | 2/5 [03:11<03:12, 64.06s/it]\\rRunning pi0_score: \\rRunning beta_score: \\rRunning core_pi0_score_1 (score_pi0): \\rRunning core_beta_score_1 (score_beta): \\rRunning core_beta_score_1 (score_beta) (00:01:00): \\n\\rRunning core_pi0_score_1 (score_pi0) (00:01:00): \\n\\rRunning beta_score (00:01:00): \\n\\rRunning pi0_score (00:01:00): \\n\\rDSC:  60%|██████    | 3/5 [04:12<02:05, 62.97s/it]\\rDSC: 100%|██████████| 5/5 [04:12<00:00, 44.10s/it]\\nINFO: Writing output metadata ...\\nINFO: DSC complete!\\nINFO: Elapsed time \\u001b[32m253.911\\u001b[0m seconds.\\n\",\"output_type\":\"stream\"}]"
   },
   "outputs": [
    {
     "name": "stdout",
     "output_type": "stream",
     "text": [
      "INFO: DSC script exported to \u001b[32mdsc_result.html\u001b[0m\n",
      "INFO: Constructing DSC from \u001b[32m./settings.dsc\u001b[0m ...\n",
      "INFO: Building execution graph & running DSC ...\n",
      "DSC: 100%|████████████████████████████████████████| 5/5 [02:42<00:00, 30.25s/it]\n",
      "INFO: Building DSC database ...\n",
      "INFO: DSC complete!\n",
      "INFO: Elapsed time \u001b[32m165.376\u001b[0m seconds.\n"
     ]
    }
   ],
   "source": [
    "./settings.dsc --replicate 10"
   ]
  },
  {
   "cell_type": "markdown",
   "metadata": {},
   "source": [
    "## Benchmark evaluation\n",
    "\n",
    "### Extract result of interest\n",
    "\n",
    "The [DSCR ASH example](https://github.com/stephens999/dscr/blob/master/vignettes/dsc_shrink.rmd) has names to various simulation settings and methods. Here we use `dscrutils` to reproduce the DSCR example. It is similar to what we have done in the [DSC Introduction example](../tutorials/Intro_DSC.html), but we will demonstrate the use of `condition` argument, to create 3 data-sets:"
   ]
  },
  {
   "cell_type": "code",
   "execution_count": 3,
   "metadata": {
    "kernel": "R",
    "output_cache": "[]"
   },
   "outputs": [],
   "source": [
    "setwd('~/GIT/dsc/vignettes/ash')\n",
    "dsc_dir = 'dsc_result'"
   ]
  },
  {
   "cell_type": "code",
   "execution_count": 4,
   "metadata": {
    "kernel": "R",
    "output_cache": "[]"
   },
   "outputs": [
    {
     "name": "stdout",
     "output_type": "stream",
     "text": [
      "Loading dsc-query output from CSV file.\n",
      "Reading DSC outputs:\n",
      " - simulate.true_pi0: extracted atomic values\n",
      " - shrink.beta_est: vectors not extracted (set max.extract.vector = 1000 to extract)\n",
      " - shrink.pi0_est: extracted atomic values\n",
      " - score.mse: extracted atomic values\n"
     ]
    }
   ],
   "source": [
    "An = dscrutils::dscquery(dsc_dir, targets = c(\"simulate.true_pi0\",\n",
    "                                              \"shrink.mixcompdist\",\n",
    "                                              \"shrink.beta_est\",\n",
    "                                              \"shrink.pi0_est\",\n",
    "                                              \"score.mse\"),\n",
    "                         condition = \"simulate.g = 'list(c(2/3,1/3),c(0,0),c(1,2))'\")"
   ]
  },
  {
   "cell_type": "code",
   "execution_count": 5,
   "metadata": {
    "kernel": "R",
    "output_cache": "[]"
   },
   "outputs": [
    {
     "name": "stdout",
     "output_type": "stream",
     "text": [
      "Loading dsc-query output from CSV file.\n",
      "Reading DSC outputs:\n",
      " - simulate.true_pi0: extracted atomic values\n",
      " - shrink.beta_est: vectors not extracted (set max.extract.vector = 1000 to extract)\n",
      " - shrink.pi0_est: extracted atomic values\n",
      " - score.mse: extracted atomic values\n"
     ]
    }
   ],
   "source": [
    "Bn = dscrutils::dscquery(dsc_dir, targets = c(\"simulate.true_pi0\",\n",
    "                                              \"shrink.mixcompdist\",\n",
    "                                              \"shrink.beta_est\",\n",
    "                                              \"shrink.pi0_est\", \n",
    "                                              \"score.mse\"),\n",
    "                         condition = \"simulate.g = 'list(rep(1/7,7),c(-1.5,-1,-0.5,0,0.5,1,1.5),rep(0.5,7))'\")"
   ]
  },
  {
   "cell_type": "code",
   "execution_count": 6,
   "metadata": {
    "kernel": "R",
    "output_cache": "[]"
   },
   "outputs": [
    {
     "name": "stdout",
     "output_type": "stream",
     "text": [
      "Loading dsc-query output from CSV file.\n",
      "Reading DSC outputs:\n",
      " - simulate.true_pi0: extracted atomic values\n",
      " - shrink.beta_est: vectors not extracted (set max.extract.vector = 1000 to extract)\n",
      " - shrink.pi0_est: extracted atomic values\n",
      " - score.mse: extracted atomic values\n"
     ]
    }
   ],
   "source": [
    "Cn = dscrutils::dscquery(dsc_dir, targets = c(\"simulate.true_pi0\",\n",
    "                                              \"shrink.mixcompdist\",\n",
    "                                              \"shrink.beta_est\",\n",
    "                                              \"shrink.pi0_est\", \n",
    "                                              \"score.mse\"),\n",
    "                         condition = \"simulate.g = 'list(c(1/4,1/4,1/3,1/6),c(-2,-1,0,1),c(2,1.5,1,1))'\")"
   ]
  },
  {
   "cell_type": "markdown",
   "metadata": {},
   "source": [
    "To view one of the resulting data frame:"
   ]
  },
  {
   "cell_type": "code",
   "execution_count": 7,
   "metadata": {
    "kernel": "R",
    "output_cache": "[]"
   },
   "outputs": [
    {
     "data": {
      "text/html": [
       "<table>\n",
       "<thead><tr><th scope=col>DSC</th><th scope=col>simulate.true_pi0</th><th scope=col>shrink.beta_est</th><th scope=col>shrink.mixcompdist</th><th scope=col>shrink.pi0_est</th><th scope=col>score</th><th scope=col>score.mse</th></tr></thead>\n",
       "<tbody>\n",
       "\t<tr><td>1                         </td><td>0.2655087                 </td><td>shrink/simulate_1_shrink_1</td><td>normal                    </td><td>0.4792830                 </td><td>score_beta                </td><td>0.7336363                 </td></tr>\n",
       "\t<tr><td>1                         </td><td>0.2655087                 </td><td>shrink/simulate_1_shrink_1</td><td>normal                    </td><td>0.4792830                 </td><td>score_pi0                 </td><td>0.2137744                 </td></tr>\n",
       "\t<tr><td>1                         </td><td>0.2655087                 </td><td>shrink/simulate_1_shrink_2</td><td>halfuniform               </td><td>0.6016295                 </td><td>score_beta                </td><td>0.7401442                 </td></tr>\n",
       "\t<tr><td>1                         </td><td>0.2655087                 </td><td>shrink/simulate_1_shrink_2</td><td>halfuniform               </td><td>0.6016295                 </td><td>score_pi0                 </td><td>0.3361209                 </td></tr>\n",
       "\t<tr><td>2                         </td><td>0.1848823                 </td><td>shrink/simulate_4_shrink_1</td><td>normal                    </td><td>0.4528959                 </td><td>score_beta                </td><td>0.7968913                 </td></tr>\n",
       "\t<tr><td>2                         </td><td>0.1848823                 </td><td>shrink/simulate_4_shrink_1</td><td>normal                    </td><td>0.4528959                 </td><td>score_pi0                 </td><td>0.2680137                 </td></tr>\n",
       "</tbody>\n",
       "</table>\n"
      ],
      "text/latex": [
       "\\begin{tabular}{r|lllllll}\n",
       " DSC & simulate.true\\_pi0 & shrink.beta\\_est & shrink.mixcompdist & shrink.pi0\\_est & score & score.mse\\\\\n",
       "\\hline\n",
       "\t 1                                & 0.2655087                        & shrink/simulate\\_1\\_shrink\\_1 & normal                           & 0.4792830                        & score\\_beta                     & 0.7336363                       \\\\\n",
       "\t 1                                & 0.2655087                        & shrink/simulate\\_1\\_shrink\\_1 & normal                           & 0.4792830                        & score\\_pi0                      & 0.2137744                       \\\\\n",
       "\t 1                                & 0.2655087                        & shrink/simulate\\_1\\_shrink\\_2 & halfuniform                      & 0.6016295                        & score\\_beta                     & 0.7401442                       \\\\\n",
       "\t 1                                & 0.2655087                        & shrink/simulate\\_1\\_shrink\\_2 & halfuniform                      & 0.6016295                        & score\\_pi0                      & 0.3361209                       \\\\\n",
       "\t 2                                & 0.1848823                        & shrink/simulate\\_4\\_shrink\\_1 & normal                           & 0.4528959                        & score\\_beta                     & 0.7968913                       \\\\\n",
       "\t 2                                & 0.1848823                        & shrink/simulate\\_4\\_shrink\\_1 & normal                           & 0.4528959                        & score\\_pi0                      & 0.2680137                       \\\\\n",
       "\\end{tabular}\n"
      ],
      "text/markdown": [
       "\n",
       "DSC | simulate.true_pi0 | shrink.beta_est | shrink.mixcompdist | shrink.pi0_est | score | score.mse | \n",
       "|---|---|---|---|---|---|\n",
       "| 1                          | 0.2655087                  | shrink/simulate_1_shrink_1 | normal                     | 0.4792830                  | score_beta                 | 0.7336363                  | \n",
       "| 1                          | 0.2655087                  | shrink/simulate_1_shrink_1 | normal                     | 0.4792830                  | score_pi0                  | 0.2137744                  | \n",
       "| 1                          | 0.2655087                  | shrink/simulate_1_shrink_2 | halfuniform                | 0.6016295                  | score_beta                 | 0.7401442                  | \n",
       "| 1                          | 0.2655087                  | shrink/simulate_1_shrink_2 | halfuniform                | 0.6016295                  | score_pi0                  | 0.3361209                  | \n",
       "| 2                          | 0.1848823                  | shrink/simulate_4_shrink_1 | normal                     | 0.4528959                  | score_beta                 | 0.7968913                  | \n",
       "| 2                          | 0.1848823                  | shrink/simulate_4_shrink_1 | normal                     | 0.4528959                  | score_pi0                  | 0.2680137                  | \n",
       "\n",
       "\n"
      ],
      "text/plain": [
       "  DSC simulate.true_pi0 shrink.beta_est            shrink.mixcompdist\n",
       "1 1   0.2655087         shrink/simulate_1_shrink_1 normal            \n",
       "2 1   0.2655087         shrink/simulate_1_shrink_1 normal            \n",
       "3 1   0.2655087         shrink/simulate_1_shrink_2 halfuniform       \n",
       "4 1   0.2655087         shrink/simulate_1_shrink_2 halfuniform       \n",
       "5 2   0.1848823         shrink/simulate_4_shrink_1 normal            \n",
       "6 2   0.1848823         shrink/simulate_4_shrink_1 normal            \n",
       "  shrink.pi0_est score      score.mse\n",
       "1 0.4792830      score_beta 0.7336363\n",
       "2 0.4792830      score_pi0  0.2137744\n",
       "3 0.6016295      score_beta 0.7401442\n",
       "4 0.6016295      score_pi0  0.3361209\n",
       "5 0.4528959      score_beta 0.7968913\n",
       "6 0.4528959      score_pi0  0.2680137"
      ]
     },
     "metadata": {},
     "output_type": "display_data"
    }
   ],
   "source": [
    "head(An)"
   ]
  },
  {
   "cell_type": "markdown",
   "metadata": {
    "output_cache": "[]"
   },
   "source": [
    "### Explore results of interest\n",
    "\n",
    "Suppose we are interested in comparing $\\pi_0$ estimates under scenario `An`, for two flavors of shrink module `normal` and `halfuniform`."
   ]
  },
  {
   "cell_type": "code",
   "execution_count": 8,
   "metadata": {
    "kernel": "R"
   },
   "outputs": [],
   "source": [
    "normal = subset(An, shrink.mixcompdist == 'normal')\n",
    "hu = subset(An, shrink.mixcompdist == 'halfuniform')"
   ]
  },
  {
   "cell_type": "markdown",
   "metadata": {
    "output_cache": "[]"
   },
   "source": [
    "First, we visualize estimated vs true $\\pi_0$ for two methods:"
   ]
  },
  {
   "cell_type": "code",
   "execution_count": 9,
   "metadata": {
    "kernel": "R"
   },
   "outputs": [
    {
     "data": {
      "image/png": "[encoded data removed]",
      "text/plain": [
       "Plot with title “halfunif”"
      ]
     },
     "metadata": {},
     "output_type": "display_data"
    }
   ],
   "source": [
    "par(mfrow=c(1,2))\n",
    "plot(subset(normal, score == 'score_pi0')$simulate.true_pi0, \n",
    "     subset(normal, score == 'score_pi0')$shrink.pi0_est, \n",
    "     xlab = 'truth', ylab = 'estimated', main = 'normal', \n",
    "     pch = 16, col = \"#800000\", xlim = c(0,1), ylim = c(0,1))\n",
    "abline(a=0,b=1)\n",
    "plot(subset(hu, score == 'score_pi0')$simulate.true_pi0, \n",
    "     subset(hu, score == 'score_pi0')$shrink.pi0_est, \n",
    "     xlab = 'truth', ylab = 'estimated', main = 'halfunif', \n",
    "     pch = 16, col = \"#800000\", xlim = c(0,1), ylim = c(0,1))\n",
    "abline(a=0,b=1)"
   ]
  },
  {
   "cell_type": "markdown",
   "metadata": {},
   "source": [
    "We then summarize the MSE scores for the two methods:"
   ]
  },
  {
   "cell_type": "code",
   "execution_count": 10,
   "metadata": {
    "kernel": "R"
   },
   "outputs": [],
   "source": [
    "suppressMessages(library(plotly))\n",
    "options(warn=-1)\n",
    "p = plot_ly(y = subset(normal, score == 'score_pi0')$score.mse, name = 'Normal', type = \"box\") %>%\n",
    "    add_trace(y = subset(hu, score == 'score_pi0')$score.mse, name = 'Half Uniform', type = \"box\")  %>% \n",
    "    layout(title = \"MSE for pi_0 estimate\")\n",
    "htmlwidgets::saveWidget(as_widget(p), \"pi0_score.html\")"
   ]
  },
  {
   "cell_type": "code",
   "execution_count": null,
   "metadata": {
    "kernel": "SoS"
   },
   "outputs": [],
   "source": [
    "from IPython.display import IFrame\n",
    "IFrame('pi0_score.html', '100%', 400)"
   ]
  },
  {
   "cell_type": "markdown",
   "metadata": {},
   "source": [
    "## Explore intermediate output\n",
    "\n",
    "We have previously focused on benchmark \"results\", ie, the mean square errors. It is also possible to extract quantities of interest from any module in the benchmark. For example we want to explore relationship between \"true\" value and posterior estimates of $\\beta$ from method `normal` and `halfnormal`. First we use `dscrutils` to extract these quantities:"
   ]
  },
  {
   "cell_type": "code",
   "execution_count": 12,
   "metadata": {
    "kernel": "R",
    "output_cache": "[{\"name\":\"stderr\",\"output_type\":\"stream\",\"text\":\"\\rExtracting:   0%|          | 0/5 [00:00<?, ?it/s]\\rExtracting:  20%|██        | 1/5 [00:00<00:00,  9.25it/s]\\rExtracting:  60%|██████    | 3/5 [00:00<00:00, 10.88it/s]\\rExtracting: 100%|██████████| 5/5 [00:00<00:00, 12.50it/s]\\nINFO: Data extracted to \\u001b[32mashr_beta_1.rds\\u001b[0m for DSC result \\u001b[32mbeta_score\\u001b[0m via annotations: \\n\\t\\u001b[32mcase1 = An && ash_n\\n\\tcase2 = An && ash_nu\\u001b[0m\\nINFO: Elapsed time \\u001b[32m1.385\\u001b[0m seconds.\\n\"}]"
   },
   "outputs": [
    {
     "name": "stdout",
     "output_type": "stream",
     "text": [
      "Loading dsc-query output from CSV file.\n",
      "Reading DSC outputs:\n",
      " - simulate.true_beta: extracted vector values\n",
      " - shrink.beta_est: extracted vector values\n"
     ]
    }
   ],
   "source": [
    "dat2 = dscrutils::dscquery(dsc_dir,\n",
    "                           targets = c(\"simulate.true_beta\", \"shrink.mixcompdist\", \"shrink.beta_est\"),\n",
    "                           condition = \"simulate.g = 'list(c(2/3,1/3),c(0,0),c(1,2))'\",\n",
    "                           max.extract.vector = 1000)"
   ]
  },
  {
   "cell_type": "code",
   "execution_count": 13,
   "metadata": {
    "kernel": "R"
   },
   "outputs": [
    {
     "name": "stdout",
     "output_type": "stream",
     "text": [
      "[1]   20 2002\n"
     ]
    }
   ],
   "source": [
    "print(dim(dat2))"
   ]
  },
  {
   "cell_type": "code",
   "execution_count": 14,
   "metadata": {
    "kernel": "R"
   },
   "outputs": [
    {
     "data": {
      "text/html": [
       "<table>\n",
       "<thead><tr><th scope=col>DSC</th><th scope=col>simulate.true_beta.1</th><th scope=col>simulate.true_beta.2</th><th scope=col>simulate.true_beta.3</th><th scope=col>simulate.true_beta.4</th></tr></thead>\n",
       "<tbody>\n",
       "\t<tr><td>1          </td><td>1.841107   </td><td>-0.15676431</td><td>-2.7796053 </td><td> 0.0000000 </td></tr>\n",
       "\t<tr><td>1          </td><td>1.841107   </td><td>-0.15676431</td><td>-2.7796053 </td><td> 0.0000000 </td></tr>\n",
       "\t<tr><td>2          </td><td>0.000000   </td><td>-0.08736819</td><td>-0.4296717 </td><td> 2.3048867 </td></tr>\n",
       "\t<tr><td>2          </td><td>0.000000   </td><td>-0.08736819</td><td>-0.4296717 </td><td> 2.3048867 </td></tr>\n",
       "\t<tr><td>3          </td><td>0.000000   </td><td> 0.00000000</td><td>-0.3067235 </td><td>-0.2249873 </td></tr>\n",
       "\t<tr><td>3          </td><td>0.000000   </td><td> 0.00000000</td><td>-0.3067235 </td><td>-0.2249873 </td></tr>\n",
       "</tbody>\n",
       "</table>\n"
      ],
      "text/latex": [
       "\\begin{tabular}{r|lllll}\n",
       " DSC & simulate.true\\_beta.1 & simulate.true\\_beta.2 & simulate.true\\_beta.3 & simulate.true\\_beta.4\\\\\n",
       "\\hline\n",
       "\t 1           & 1.841107    & -0.15676431 & -2.7796053  &  0.0000000 \\\\\n",
       "\t 1           & 1.841107    & -0.15676431 & -2.7796053  &  0.0000000 \\\\\n",
       "\t 2           & 0.000000    & -0.08736819 & -0.4296717  &  2.3048867 \\\\\n",
       "\t 2           & 0.000000    & -0.08736819 & -0.4296717  &  2.3048867 \\\\\n",
       "\t 3           & 0.000000    &  0.00000000 & -0.3067235  & -0.2249873 \\\\\n",
       "\t 3           & 0.000000    &  0.00000000 & -0.3067235  & -0.2249873 \\\\\n",
       "\\end{tabular}\n"
      ],
      "text/markdown": [
       "\n",
       "DSC | simulate.true_beta.1 | simulate.true_beta.2 | simulate.true_beta.3 | simulate.true_beta.4 | \n",
       "|---|---|---|---|---|---|\n",
       "| 1           | 1.841107    | -0.15676431 | -2.7796053  |  0.0000000  | \n",
       "| 1           | 1.841107    | -0.15676431 | -2.7796053  |  0.0000000  | \n",
       "| 2           | 0.000000    | -0.08736819 | -0.4296717  |  2.3048867  | \n",
       "| 2           | 0.000000    | -0.08736819 | -0.4296717  |  2.3048867  | \n",
       "| 3           | 0.000000    |  0.00000000 | -0.3067235  | -0.2249873  | \n",
       "| 3           | 0.000000    |  0.00000000 | -0.3067235  | -0.2249873  | \n",
       "\n",
       "\n"
      ],
      "text/plain": [
       "  DSC simulate.true_beta.1 simulate.true_beta.2 simulate.true_beta.3\n",
       "1 1   1.841107             -0.15676431          -2.7796053          \n",
       "2 1   1.841107             -0.15676431          -2.7796053          \n",
       "3 2   0.000000             -0.08736819          -0.4296717          \n",
       "4 2   0.000000             -0.08736819          -0.4296717          \n",
       "5 3   0.000000              0.00000000          -0.3067235          \n",
       "6 3   0.000000              0.00000000          -0.3067235          \n",
       "  simulate.true_beta.4\n",
       "1  0.0000000          \n",
       "2  0.0000000          \n",
       "3  2.3048867          \n",
       "4  2.3048867          \n",
       "5 -0.2249873          \n",
       "6 -0.2249873          "
      ]
     },
     "metadata": {},
     "output_type": "display_data"
    }
   ],
   "source": [
    "head(dat2[,1:5])"
   ]
  },
  {
   "cell_type": "markdown",
   "metadata": {
    "output_cache": "[]"
   },
   "source": [
    "As shown above, with `max.extract.vector = 1000` we allow for extracting vector-valued $\\beta$ estimates into the outputted data frame. The resulting dataframe has 2001 columns containing both $\\beta$ and its posterior estimate $\\tilde{\\beta}_{\\text{normal}}$ and $\\tilde{\\beta}_{\\text{halfunif}}$. We make them into separate tables. Rows in each table are replicates."
   ]
  },
  {
   "cell_type": "code",
   "execution_count": 15,
   "metadata": {
    "kernel": "R",
    "output_cache": "[]"
   },
   "outputs": [],
   "source": [
    "pattern = \"simulate.true_beta\"\n",
    "cols = which(sapply(strsplit(names(dat2),\"[.]\"), function (x) paste0(x[1],'.', x[2])) == pattern)\n",
    "normal0 = subset(dat2, shrink.mixcompdist == 'normal')[,cols]\n",
    "hu0 = subset(dat2, shrink.mixcompdist == 'halfuniform')[,cols]                 \n",
    "#\n",
    "pattern = \"shrink.beta_est\"\n",
    "cols = which(sapply(strsplit(names(dat2),\"[.]\"), function (x) paste0(x[1],'.', x[2])) == pattern)\n",
    "normal = subset(dat2, shrink.mixcompdist == 'normal')[,cols]\n",
    "hu = subset(dat2, shrink.mixcompdist == 'halfuniform')[,cols]                 "
   ]
  },
  {
   "cell_type": "markdown",
   "metadata": {
    "output_cache": "[]"
   },
   "source": [
    "To view distribution of $\\tilde{\\beta}$ from one replicate:"
   ]
  },
  {
   "cell_type": "code",
   "execution_count": 16,
   "metadata": {
    "kernel": "R",
    "output_cache": "[]"
   },
   "outputs": [],
   "source": [
    "p = plot_ly(x = as.numeric(normal[1,]), name = 'Normal', opacity = 0.9, type = \"histogram\") %>%\n",
    "  add_trace(x = as.numeric(hu[1,]), name = 'Half Uniform', opacity = 0.9, type = \"histogram\") %>%\n",
    "  layout(title = \"Posterior mean distribution\")\n",
    "htmlwidgets::saveWidget(as_widget(p), \"beta.html\")"
   ]
  },
  {
   "cell_type": "code",
   "execution_count": 15,
   "metadata": {
    "kernel": "SoS",
    "output_cache": "[]"
   },
   "outputs": [
    {
     "data": {
      "text/html": [
       "\n",
       "        <iframe\n",
       "            width=\"100%\"\n",
       "            height=\"400\"\n",
       "            src=\"beta.html\"\n",
       "            frameborder=\"0\"\n",
       "            allowfullscreen\n",
       "        ></iframe>\n",
       "        "
      ],
      "text/plain": [
       "<IPython.lib.display.IFrame at 0x2abd238bfa58>"
      ]
     },
     "execution_count": 15,
     "metadata": {},
     "output_type": "execute_result"
    }
   ],
   "source": [
    "from IPython.display import IFrame\n",
    "IFrame('beta.html', '100%', 400)"
   ]
  },
  {
   "cell_type": "markdown",
   "metadata": {
    "output_cache": "[]"
   },
   "source": [
    "Now we compare correlation between estimate and the truth for these 2 methods:"
   ]
  },
  {
   "cell_type": "code",
   "execution_count": 17,
   "metadata": {
    "kernel": "R"
   },
   "outputs": [],
   "source": [
    "normal0 = as.matrix(normal0)\n",
    "normal = as.matrix(normal)\n",
    "normal_cor = sapply(seq.int(dim(normal0)[1]), function(i) cor(normal0[i,], normal[i,]))"
   ]
  },
  {
   "cell_type": "code",
   "execution_count": 18,
   "metadata": {
    "kernel": "R"
   },
   "outputs": [],
   "source": [
    "hu0 = as.matrix(hu0)\n",
    "hu = as.matrix(hu)\n",
    "hu_cor = sapply(seq.int(dim(hu0)[1]), function(i) cor(hu0[i,], hu[i,]))"
   ]
  },
  {
   "cell_type": "code",
   "execution_count": 19,
   "metadata": {
    "kernel": "R"
   },
   "outputs": [],
   "source": [
    "p = plot_ly(y = normal_cor, name = 'Normal', type = \"box\") %>%\n",
    "    add_trace(y = hu_cor, name = 'Half Uniform', type = \"box\")  %>% \n",
    "    layout(title = \"Correlation between truth and estimates for beta\")\n",
    "htmlwidgets::saveWidget(as_widget(p), \"corr.html\")"
   ]
  },
  {
   "cell_type": "code",
   "execution_count": 18,
   "metadata": {
    "kernel": "SoS"
   },
   "outputs": [
    {
     "data": {
      "text/html": [
       "\n",
       "        <iframe\n",
       "            width=\"100%\"\n",
       "            height=\"400\"\n",
       "            src=\"corr.html\"\n",
       "            frameborder=\"0\"\n",
       "            allowfullscreen\n",
       "        ></iframe>\n",
       "        "
      ],
      "text/plain": [
       "<IPython.lib.display.IFrame at 0x2abd2110da90>"
      ]
     },
     "execution_count": 18,
     "metadata": {},
     "output_type": "execute_result"
    }
   ],
   "source": [
    "from IPython.display import IFrame\n",
    "IFrame('corr.html', '100%', 400)"
   ]
  }
 ],
 "metadata": {
  "kernelspec": {
   "display_name": "SoS",
   "language": "sos",
   "name": "sos"
  },
  "language_info": {
   "codemirror_mode": "sos",
   "file_extension": ".sos",
   "mimetype": "text/x-sos",
   "name": "sos",
   "nbconvert_exporter": "sos_notebook.converter.SoS_Exporter",
   "pygments_lexer": "sos"
  },
  "sos": {
   "celltoolbar": true,
   "default_kernel": "SoS",
   "kernels": [
    [
     "Bash",
     "bash",
     "Bash",
     "#E6EEFF"
    ],
    [
     "R",
     "ir",
     "R",
     "#DCDCDA"
    ],
    [
     "SoS",
     "sos",
     "",
     ""
    ]
   ],
   "panel": {
    "displayed": true,
    "height": 0,
    "style": "side"
   },
   "version": "0.9.12.9"
  }
 },
 "nbformat": 4,
 "nbformat_minor": 2
}
