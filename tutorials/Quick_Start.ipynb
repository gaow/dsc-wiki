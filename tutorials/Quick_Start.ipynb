{
 "cells": [
  {
   "cell_type": "markdown",
   "metadata": {},
   "source": [
    "# Quick start tutorial"
   ]
  },
  {
   "cell_type": "markdown",
   "metadata": {},
   "source": [
    "In this tutorial we will use DSC to compare methods implemented in [R](https://cran.r-project.org/) for location parameter estimations, based on this DSCR example ([R Markdown version](https://github.com/stephens999/dscr/blob/master/vignettes/one_sample_location.rmd) and [HTML version](dscr_one_sample_location.html)). Material used in this document can be found in [DSC2 vignettes repo](https://github.com/stephenslab/dsc2/tree/master/vignettes/one_sample_location).\n"
   ]
  },
  {
   "cell_type": "markdown",
   "metadata": {},
   "source": [
    "## DSC Specification\n",
    "The DSC problem is to assess location parameter estimation methods via simulation studies. We will simulate data under normal distribution and *t* distribution with 2 degrees of freedom; then estimate the location parameter using mean and median, and finally compare the performance of estimators by computing the difference between the estimate and the underlying parameter. The problem is fully specified in DSC2 language below:\n",
    "\n",
    "```yaml\n",
    "  simulate:\n",
    "      exec: rnorm.R, rt.R\n",
    "      seed: R(1:10)\n",
    "      params:\n",
    "          n: 1000\n",
    "          true_mean: 0, 1\n",
    "      return: x, true_mean\n",
    "  \n",
    "  estimate:\n",
    "      exec: mean.R, median.R\n",
    "      params:\n",
    "          x: $x\n",
    "      return: mean\n",
    "  \n",
    "  mse:\n",
    "      exec: MSE.R\n",
    "      params:\n",
    "          mean_est: $mean\n",
    "          true_mean: $true_mean\n",
    "      return: mse\n",
    "  \n",
    "  DSC:\n",
    "      run: simulate *\n",
    "           estimate *\n",
    "           mse\n",
    "      exec_path: R/scenarios, R/methods, R/scores\n",
    "      output: dsc_result\n",
    "```\n",
    "\n",
    "All computational routines in this DSC are R scripts (each with one line of code!), located in directories as specified in the `DSC::exec_path` entry of the configuration file. Contents of these R scripts are:\n",
    "\n",
    "```r\n",
    "  ==> ../vignettes/one_sample_location/R/methods/mean.R <==\n",
    "  mean = mean(x)\n",
    "  \n",
    "  ==> ../vignettes/one_sample_location/R/methods/median.R <==\n",
    "  mean = median(x)\n",
    "  \n",
    "  ==> ../vignettes/one_sample_location/R/scores/MSE.R <==\n",
    "  mse = (mean_est-true_mean)^2\n",
    "  \n",
    "  ==> ../vignettes/one_sample_location/R/scenarios/rt.R <==\n",
    "  # produces n random numbers from t with df=2 and  with specified mean\n",
    "  x=true_mean+rt(n,df=2)\n",
    "  \n",
    "  ==> ../vignettes/one_sample_location/R/scenarios/rnorm.R <==\n",
    "  # produces n random numbers from normal with specified mean\n",
    "  x=rnorm(n,mean=true_mean)\n",
    "  \n",
    "```\n",
    "\n",
    "It is important to ensure the parameter names and return variable names match between R script and DSC files. For example the `simulate` block involves computational routines `rnorm.R` and `rt.R`, both take parameters `n` and `true_mean` and generate a new variable `x` as return value (the other return variable `true_mean` already exists as an input parameter). The R script, `rnorm.R`, is ` x = rnorm(n, mean = true_mean)`, which uses the input parameters `n` and `true_mean` on the right hand side to produce `x` on the left hand side, as the return value of the `simulate` block. The same holds for `rt.R` which is `x = true_mean + rt(n, df = 2)`.\n",
    "\n",
    "The `DSC::run` entry reflects a typical DSC setup where `simulate` creates *scenarios* under various settings, `estimate` applies various *methods* to analyze data and `mse` is a *score* that measures the performance of different methods. They are connected by `*` to allow for all possible combinations of computational steps from these 3 blocks."
   ]
  },
  {
   "cell_type": "markdown",
   "metadata": {},
   "source": [
    "## Run DSC\n",
    "To execute the DSC on a computer using 8 CPU threads,\n"
   ]
  },
  {
   "cell_type": "code",
   "execution_count": 1,
   "metadata": {
    "kernel": "sos",
    "output_cache": "[]"
   },
   "outputs": [
    {
     "name": "stderr",
     "output_type": "stream",
     "text": [
      "INFO: DSC script exported to \u001b[32mdsc_result.html\u001b[0m\n",
      "INFO: Constructing DSC from \u001b[32msettings.dsc\u001b[0m ...\n",
      "INFO: Building execution graph ...\n",
      "\r",
      "DSC:   0%|          | 0/11 [00:00<?, ?it/s]\r",
      "DSC:   9%|▉         | 1/11 [00:01<00:11,  1.11s/it]\r",
      "DSC:  27%|██▋       | 3/11 [00:02<00:08,  1.05s/it]\r",
      "DSC:  45%|████▌     | 5/11 [00:03<00:04,  1.33it/s]\r",
      "DSC:  64%|██████▎   | 7/11 [00:04<00:03,  1.27it/s]\r",
      "DSC:  82%|████████▏ | 9/11 [00:04<00:01,  1.77it/s]\r",
      "DSC: 100%|██████████| 11/11 [00:04<00:00,  2.43it/s]\n",
      "INFO: Writing output metadata ...\n",
      "INFO: DSC complete!\n",
      "INFO: Elapsed time \u001b[32m5.716\u001b[0m seconds.\n"
     ]
    }
   ],
   "source": [
    "! dsc -x settings.dsc -j 8"
   ]
  },
  {
   "cell_type": "markdown",
   "metadata": {
    "collapsed": true
   },
   "source": [
    "In this example the results will be stored in `dsc_result.rds`. These files contain the same information only differing in format. We will discuss the output in detail in [a separate tutorial](). \n"
   ]
  },
  {
   "cell_type": "markdown",
   "metadata": {},
   "source": [
    "## Re-run DSC\n",
    "DSC keeps track of commands that has been executed before so that if you re-run the same DSC command it will skip computational steps if there is no change in DSC configuration file. For example if you rerun this command it will end quickly:"
   ]
  },
  {
   "cell_type": "code",
   "execution_count": 2,
   "metadata": {
    "kernel": "sos",
    "output_cache": "[{\"name\":\"stderr\",\"text\":\"INFO: DSC script exported to \\u001b[32msettings.html\\u001b[0m\\nINFO: Constructing DSC from \\u001b[32msettings.dsc\\u001b[0m ...\\n\\rDSC:   0%|          | 0/11 [00:00<?, ?it/s]\\rDSC:   9%|▉         | 1/11 [00:00<00:01,  9.44it/s]\\rDSC:  27%|██▋       | 3/11 [00:00<00:00, 10.96it/s]\\rDSC:  64%|██████▎   | 7/11 [00:00<00:00, 13.82it/s]\\rDSC: 100%|██████████| 11/11 [00:00<00:00, 17.11it/s]\\nINFO: Building output database \\u001b[32mdsc_result.rds\\u001b[0m ...\\nINFO: DSC complete!\\nINFO: Elapsed time \\u001b[32m1.865\\u001b[0m seconds.\\n\",\"output_type\":\"stream\"}]"
   },
   "outputs": [
    {
     "name": "stderr",
     "output_type": "stream",
     "text": [
      "INFO: DSC script exported to \u001b[32mdsc_result.html\u001b[0m\n",
      "INFO: Constructing DSC from \u001b[32msettings.dsc\u001b[0m ...\n",
      "INFO: Building execution graph ...\n",
      "\r",
      "DSC:   0%|          | 0/11 [00:00<?, ?it/s]\r",
      "DSC:   9%|▉         | 1/11 [00:00<00:01,  9.43it/s]\r",
      "DSC:  27%|██▋       | 3/11 [00:00<00:00, 10.96it/s]\r",
      "DSC:  64%|██████▎   | 7/11 [00:00<00:00, 13.82it/s]\r",
      "DSC: 100%|██████████| 11/11 [00:00<00:00, 17.11it/s]\n",
      "INFO: Writing output metadata ...\n",
      "INFO: DSC complete!\n",
      "INFO: Elapsed time \u001b[32m1.166\u001b[0m seconds.\n"
     ]
    }
   ],
   "source": [
    "! dsc -x settings.dsc -j 8"
   ]
  },
  {
   "cell_type": "markdown",
   "metadata": {},
   "source": [
    "Notice the last line of output records elapsed time of ~1 seconds, compared to ~6 seconds in the first run. If you want to ignore existing cache you can use the `-f` flag to force DSC start afresh:"
   ]
  },
  {
   "cell_type": "code",
   "execution_count": 3,
   "metadata": {
    "kernel": "sos",
    "output_cache": "[{\"name\":\"stderr\",\"text\":\"INFO: DSC script exported to \\u001b[32msettings.html\\u001b[0m\\nINFO: Constructing DSC from \\u001b[32msettings.dsc\\u001b[0m ...\\n\\rDSC:   0%|          | 0/11 [00:00<?, ?it/s]\\rDSC:   9%|▉         | 1/11 [00:01<00:18,  1.83s/it]\\rDSC:  27%|██▋       | 3/11 [00:05<00:14,  1.78s/it]\\rDSC:  45%|████▌     | 5/11 [00:05<00:07,  1.26s/it]\\rDSC:  64%|██████▎   | 7/11 [00:08<00:05,  1.37s/it]\\rDSC:  73%|███████▎  | 8/11 [00:08<00:02,  1.01it/s]\\rDSC:  82%|████████▏ | 9/11 [00:08<00:01,  1.39it/s]\\rDSC: 100%|██████████| 11/11 [00:08<00:00,  1.92it/s]\\nINFO: Building output database \\u001b[32mdsc_result.rds\\u001b[0m ...\\nINFO: DSC complete!\\nINFO: Elapsed time \\u001b[32m10.278\\u001b[0m seconds.\\n\",\"output_type\":\"stream\"}]"
   },
   "outputs": [
    {
     "name": "stderr",
     "output_type": "stream",
     "text": [
      "INFO: DSC script exported to \u001b[32mdsc_result.html\u001b[0m\n",
      "INFO: Constructing DSC from \u001b[32msettings.dsc\u001b[0m ...\n",
      "INFO: Building execution graph ...\n",
      "\r",
      "DSC:   0%|          | 0/11 [00:00<?, ?it/s]\r",
      "DSC:   9%|▉         | 1/11 [00:01<00:10,  1.01s/it]\r",
      "DSC:  27%|██▋       | 3/11 [00:02<00:07,  1.02it/s]\r",
      "DSC:  64%|██████▎   | 7/11 [00:04<00:03,  1.22it/s]\r",
      "DSC:  73%|███████▎  | 8/11 [00:04<00:01,  1.66it/s]\r",
      "DSC: 100%|██████████| 11/11 [00:04<00:00,  2.32it/s]\n",
      "INFO: Writing output metadata ...\n",
      "INFO: DSC complete!\n",
      "INFO: Elapsed time \u001b[32m5.494\u001b[0m seconds.\n"
     ]
    }
   ],
   "source": [
    "! dsc -x settings.dsc -j 8 -f"
   ]
  },
  {
   "cell_type": "markdown",
   "metadata": {
    "collapsed": true
   },
   "source": [
    "## DSC script browser\n",
    "DSC commands generates a script browser in HTML format. In this example it is `settings.html` under your work directory. You can use a web browser to open it and browse DSC scripts as well as your source code involved.\n",
    "\n",
    "## DSC results\n",
    "Results of this DSC is stored in the folder `dsc_result`. It contains numerous intermediate or final data from all steps involved in the DSC procedure. Please continue on the [next tutorial](Explore_Output.html) to extract and analyze the benchmark results."
   ]
  }
 ],
 "metadata": {
  "kernelspec": {
   "display_name": "SoS",
   "language": "sos",
   "name": "sos"
  },
  "language_info": {
   "codemirror_mode": "sos",
   "file_extension": ".sos",
   "mimetype": "text/x-sos",
   "name": "sos",
   "nbconvert_exporter": "sos.jupyter.converter.SoS_Exporter",
   "pygments_lexer": "sos"
  },
  "sos": {
   "celltoolbar": true,
   "default_kernel": "SoS",
   "kernels": [
    [
     "SoS",
     "sos",
     "SoS",
     ""
    ],
    [
     "Python3",
     "python3",
     "Python3",
     "#FFE771"
    ],
    [
     "R",
     "ir",
     "R",
     "#DCDCDA"
    ]
   ],
   "panel": {
    "displayed": false,
    "height": 0,
    "style": "side"
   }
  }
 },
 "nbformat": 4,
 "nbformat_minor": 1
}
