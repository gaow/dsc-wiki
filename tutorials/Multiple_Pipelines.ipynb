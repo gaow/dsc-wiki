{
 "cells": [
  {
   "cell_type": "markdown",
   "metadata": {},
   "source": [
    "# Multiple DSC pipelines"
   ]
  },
  {
   "cell_type": "markdown",
   "metadata": {},
   "source": [
    "In this tutorial we further expand benchmark of the DSC problem described in [the Quick Start tutorial](Quick_Start.html), to demonstrate the use of multiple pipelines (pipeline ensembles) in DSC. Material used in this document can be found in [DSC2 vignettes repo](https://github.com/stephenslab/dsc2/tree/master/vignettes/one_sample_location_winsor)."
   ]
  },
  {
   "cell_type": "markdown",
   "metadata": {},
   "source": [
    "## Configuration\n",
    "The DSC problem is similar to what we have previously worked on, i.e. comparison of location parameter estimation methods. This time we simulate data under *t* distribution (df = 2) and Cauchy distribution. Then before estimating location parameter using mean or median method, there is an **optional** `transform` step where we provide two methods for *Winsorization*. This results in two DSC pipelines:\n",
    "\n",
    "*  simulate -> estimate -> score\n",
    "*  simulate -> transform -> estimate -> score\n",
    "\n",
    "The DSC problem is fully specified as:\n",
    "\n",
    "```\n",
    "rt, rcauchy: rt.R, rcauchy.R\n",
    "    seed: R(1:5)\n",
    "    n: 1000\n",
    "    true_loc: 0, 1\n",
    "    $x: x\n",
    "    $true_loc: true_loc\n",
    "\n",
    "winsor1, winsor2: winsor1.R, winsor2.R\n",
    "    x: $x\n",
    "    @winsor1:\n",
    "      fraction: 0.05\n",
    "    @winsor2:\n",
    "      multiple: 3\n",
    "    $x: x\n",
    "\n",
    "mean, median: mean.R, median.R\n",
    "    x: $x\n",
    "    $loc: loc\n",
    "\n",
    "mse: MSE.R\n",
    "    mean_est: $loc\n",
    "    true_mean: $true_loc\n",
    "    $mse: mse\n",
    "\n",
    "DSC:\n",
    "    define:\n",
    "      simulate: rt, rcauchy\n",
    "      transform: winsor1, winsor2\n",
    "      estimate: mean, median\n",
    "    run: simulate *\n",
    "         (transform * estimate, estimate) *\n",
    "         mse\n",
    "    exec_path: R\n",
    "    output: dsc_result\n",
    "```\n",
    "\n",
    "where `transform` module ensemble contains:\n",
    "\n",
    "```r\n",
    "  ==> ../vignettes/one_sample_location_winsor/R/winsor1.R <==\n",
    "  ##  replace the extreme values with limits\n",
    "  winsor1 <- function (x, fraction=.05)\n",
    "  {\n",
    "     if(length(fraction) != 1 || fraction < 0 ||\n",
    "           fraction > 0.5) {\n",
    "        stop(\"bad value for 'fraction'\")\n",
    "     }\n",
    "     lim <- quantile(x, probs=c(fraction, 1-fraction))\n",
    "     x[ x < lim[1] ] <- lim[1]\n",
    "     x[ x > lim[2] ] <- lim[2]\n",
    "     return(x)\n",
    "  }\n",
    "  x = winsor1(x, fraction)\n",
    "\n",
    "  ==> ../vignettes/one_sample_location_winsor/R/winsor2.R <==\n",
    "  ## move the datapoints that are x times the absolute deviations from mean\n",
    "  winsor2 <- function (x, multiple=3)\n",
    "  {\n",
    "     if(length(multiple) != 1 || multiple <= 0) {\n",
    "        stop(\"bad value for 'multiple'\")\n",
    "     }\n",
    "     med <- median(x)\n",
    "     y <- x - med\n",
    "     sc <- mad(y, center=0) * multiple\n",
    "     y[ y > sc ] <- sc\n",
    "     y[ y < -sc ] <- -sc\n",
    "     return(y + med)\n",
    "  }\n",
    "  x = winsor2(x, multiple)\n",
    "\n",
    "```\n",
    "\n",
    "As a result, the previous `estimate` step is now a pipeline ensemble of `(transform * estimate, estimate)`."
   ]
  },
  {
   "cell_type": "markdown",
   "metadata": {},
   "source": [
    "## Execution\n",
    "\n",
    "To run the benchmark"
   ]
  },
  {
   "cell_type": "code",
   "execution_count": 1,
   "metadata": {
    "kernel": "SoS"
   },
   "outputs": [
    {
     "name": "stdout",
     "output_type": "stream",
     "text": [
      "/home/gaow/GIT/dsc2/vignettes/one_sample_location_winsor"
     ]
    }
   ],
   "source": [
    "%cd ~/GIT/dsc2/vignettes/one_sample_location_winsor"
   ]
  },
  {
   "cell_type": "code",
   "execution_count": 2,
   "metadata": {
    "kernel": "SoS",
    "output_cache": "[]"
   },
   "outputs": [
    {
     "name": "stdout",
     "output_type": "stream",
     "text": [
      "\u001b[1;32mINFO: Checking R library dscrutils@stephenslab/dsc2/dscrutils ...\u001b[0m\n",
      "INFO: DSC script exported to \u001b[32mdsc_result.html\u001b[0m\n",
      "INFO: Constructing DSC from \u001b[32msettings.dsc\u001b[0m ...\n",
      "INFO: Building execution graph & running DSC ...\n",
      "DSC: 100%|██████████████████████████████████████| 31/31 [00:15<00:00,  1.51it/s]\n",
      "INFO: Building DSC database ...\n",
      "INFO: DSC complete!\n",
      "INFO: Elapsed time \u001b[32m19.693\u001b[0m seconds.\n"
     ]
    }
   ],
   "source": [
    "! dsc settings.dsc -c 30"
   ]
  }
 ],
 "metadata": {
  "kernelspec": {
   "display_name": "SoS",
   "language": "sos",
   "name": "sos"
  },
  "language_info": {
   "codemirror_mode": "sos",
   "file_extension": ".sos",
   "mimetype": "text/x-sos",
   "name": "sos",
   "nbconvert_exporter": "sos_notebook.converter.SoS_Exporter",
   "pygments_lexer": "sos"
  },
  "sos": {
   "celltoolbar": true,
   "default_kernel": "SoS",
   "kernels": [
    [
     "SoS",
     "sos",
     "",
     ""
    ],
    [
     "Python3",
     "python3",
     "Python3",
     "#FFE771"
    ],
    [
     "R",
     "ir",
     "R",
     "#DCDCDA"
    ]
   ],
   "panel": {
    "displayed": true,
    "height": 0,
    "style": "side"
   }
  }
 },
 "nbformat": 4,
 "nbformat_minor": 1
}
