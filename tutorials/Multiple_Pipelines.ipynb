{
 "cells": [
  {
   "cell_type": "markdown",
   "metadata": {},
   "source": [
    "# Multiple DSC pipelines"
   ]
  },
  {
   "cell_type": "markdown",
   "metadata": {},
   "source": [
    "In this tutorial we further expand benchmark of the DSC problem described in [the 5 Minutes tutorial](5_Minutes.html), to demonstrate the use of multiple pipelines (pipeline ensembles) in DSC. Material used in this document can be found in [DSC vignettes repo](https://github.com/stephenslab/dsc/tree/master/vignettes/one_sample_location_winsor)."
   ]
  },
  {
   "cell_type": "markdown",
   "metadata": {},
   "source": [
    "## Configuration\n",
    "The DSC problem is similar to what we have previously worked on, i.e. comparison of location parameter estimation methods. This time we simulate data under *t* distribution (df = 2) and Cauchy distribution. Then before estimating location parameter using mean or median method, there is an **optional** `transform` step where we provide two methods for *Winsorization*. This results in two DSC pipelines:\n",
    "\n",
    "*  simulate -> estimate -> score\n",
    "*  simulate -> transform -> estimate -> score\n",
    "\n",
    "The DSC problem is fully specified as:\n",
    "\n",
    "```\n",
    "#!/usr/bin/env dsc\n",
    "\n",
    "normal: normal.R\n",
    "  n: 100\n",
    "  $data: x\n",
    "  $true_mean: 0\n",
    "\n",
    "t: t.R\n",
    "  n: 100\n",
    "  df: 2\n",
    "  $data: x\n",
    "  $true_mean: 3\n",
    "\n",
    "winsor1, winsor2: winsor1.R, winsor2.R\n",
    "    x: $data\n",
    "    @winsor1:\n",
    "      fraction: 0.05\n",
    "    @winsor2:\n",
    "      multiple: 3\n",
    "    $data: x\n",
    "\n",
    "mean: mean.R\n",
    "  x: $data\n",
    "  $est_mean: y\n",
    "\n",
    "median: median.R\n",
    "  x: $data\n",
    "  $est_mean: y\n",
    "\n",
    "sq_err: sq.R\n",
    "  a: $est_mean\n",
    "  b: $true_mean\n",
    "  $error: e\n",
    " \n",
    "abs_err: abs.R\n",
    "  a: $est_mean\n",
    "  b: $true_mean\n",
    "  $error: e \n",
    "  \n",
    "DSC:\n",
    "    define:\n",
    "      simulate: normal, t\n",
    "      transform: winsor1, winsor2\n",
    "      analyze: mean, median\n",
    "      score: abs_err, sq_err\n",
    "    run: simulate * (analyze, transform * analyze) * score\n",
    "    exec_path: R\n",
    "    output: dsc_result\n",
    "```\n",
    "\n",
    "where `transform` module ensemble contains:\n",
    "\n",
    "```r\n",
    "  ==> ../vignettes/one_sample_location_winsor/R/winsor1.R <==\n",
    "  ##  replace the extreme values with limits\n",
    "  winsor1 <- function (x, fraction=.05)\n",
    "  {\n",
    "     if(length(fraction) != 1 || fraction < 0 ||\n",
    "           fraction > 0.5) {\n",
    "        stop(\"bad value for 'fraction'\")\n",
    "     }\n",
    "     lim <- quantile(x, probs=c(fraction, 1-fraction))\n",
    "     x[ x < lim[1] ] <- lim[1]\n",
    "     x[ x > lim[2] ] <- lim[2]\n",
    "     return(x)\n",
    "  }\n",
    "  x = winsor1(x, fraction)\n",
    "\n",
    "  ==> ../vignettes/one_sample_location_winsor/R/winsor2.R <==\n",
    "  ## move the datapoints that are x times the absolute deviations from mean\n",
    "  winsor2 <- function (x, multiple=3)\n",
    "  {\n",
    "     if(length(multiple) != 1 || multiple <= 0) {\n",
    "        stop(\"bad value for 'multiple'\")\n",
    "     }\n",
    "     med <- median(x)\n",
    "     y <- x - med\n",
    "     sc <- mad(y, center=0) * multiple\n",
    "     y[ y > sc ] <- sc\n",
    "     y[ y < -sc ] <- -sc\n",
    "     return(y + med)\n",
    "  }\n",
    "  x = winsor2(x, multiple)\n",
    "\n",
    "```\n",
    "\n",
    "As a result, the previous `analyze` step is now a pipeline ensemble of `(transform * analyze, analyze)`."
   ]
  },
  {
   "cell_type": "markdown",
   "metadata": {},
   "source": [
    "## Execution\n",
    "\n",
    "To run the benchmark"
   ]
  },
  {
   "cell_type": "code",
   "execution_count": 1,
   "metadata": {
    "kernel": "SoS"
   },
   "outputs": [
    {
     "name": "stdout",
     "output_type": "stream",
     "text": [
      "/home/gaow/Documents/GIT/software/dsc/vignettes/one_sample_location_winsor"
     ]
    }
   ],
   "source": [
    "%cd ~/GIT/dsc/vignettes/one_sample_location_winsor"
   ]
  },
  {
   "cell_type": "code",
   "execution_count": 2,
   "metadata": {
    "kernel": "SoS",
    "output_cache": "[]"
   },
   "outputs": [
    {
     "name": "stdout",
     "output_type": "stream",
     "text": [
      "\u001b[1;32mINFO: Checking R library dscrutils@stephenslab/dsc/dscrutils ...\u001b[0m\n",
      "INFO: DSC script exported to \u001b[32mdsc_result.html\u001b[0m\n",
      "INFO: Constructing DSC from \u001b[32m./settings.dsc\u001b[0m ...\n",
      "INFO: Building execution graph & Running DSC ...\n",
      "DSC: 100%|██████████████████████████████████████| 43/43 [00:04<00:00, 12.82it/s]\n",
      "INFO: Building DSC database ...\n",
      "INFO: DSC complete!\n",
      "INFO: Elapsed time \u001b[32m7.230\u001b[0m seconds.\n"
     ]
    }
   ],
   "source": [
    "! ./settings.dsc -c 30"
   ]
  }
 ],
 "metadata": {
  "kernelspec": {
   "display_name": "SoS",
   "language": "sos",
   "name": "sos"
  },
  "language_info": {
   "codemirror_mode": "sos",
   "file_extension": ".sos",
   "mimetype": "text/x-sos",
   "name": "sos",
   "nbconvert_exporter": "sos_notebook.converter.SoS_Exporter",
   "pygments_lexer": "sos"
  },
  "sos": {
   "celltoolbar": true,
   "default_kernel": "SoS",
   "kernels": [
    [
     "SoS",
     "sos",
     "",
     ""
    ],
    [
     "Python3",
     "python3",
     "Python3",
     "#FFE771"
    ],
    [
     "R",
     "ir",
     "R",
     "#DCDCDA"
    ]
   ],
   "panel": {
    "displayed": true,
    "height": 0,
    "style": "side"
   }
  }
 },
 "nbformat": 4,
 "nbformat_minor": 1
}
