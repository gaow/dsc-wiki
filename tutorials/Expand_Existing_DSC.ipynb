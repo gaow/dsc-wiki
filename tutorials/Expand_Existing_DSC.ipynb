{
 "cells": [
  {
   "cell_type": "markdown",
   "metadata": {},
   "source": [
    "# Update existing DSC"
   ]
  },
  {
   "cell_type": "markdown",
   "metadata": {},
   "source": [
    "The [Quick Start](Quick_Start.html) example contains 3 module / module ensembles, `simulate`, `estimate` and `mse`. Suppose we now have a new computational approach for location estimate via the *Winsorized* mean. This can be implemented as `winsor.R`:\n",
    "\n",
    "```r\n",
    "  mean = psych::winsor.mean(x, trim = trim, na.rm = TRUE)\n",
    "```\n",
    "and be incoroperated to DSC as a module.\n",
    "\n",
    "For `winsor.R` there is an additional parameter `trim` which does not exist in `mean` or `median`. Syntactically are two ways to proceed: either by adding it to the existing group of modules, or by adding a new block that configures this module. We will show here two flavors to update, both involving minimal changes to the DSC file and result in the same outcome. In practice one should always adopt flavor that is most logically clear and succinct.\n",
    "\n",
    "## Add module to Existing Block\n",
    "We change the existing block to the following:\n",
    "\n",
    "```\n",
    "mean, median, winsor: mean.R, median.R, winsor.R\n",
    "    x: $x\n",
    "    @winsor:\n",
    "      trim: 0.1, 0.2\n",
    "    $mean: mean\n",
    "```\n",
    "\n",
    "where we added in a new module `winsor` with executable `winsor.R`, along with an executable specific parameter specification via `@winsor` to assign two possible values to `trim` which essentially provides two versions of Winsorization for comparison.\n",
    "\n",
    "We also added `winsor` to the `estimate` ensemble:\n",
    "\n",
    "```\n",
    "DSC:\n",
    "    define:\n",
    "      simulate: normal, t\n",
    "      estimate: mean, median, winsor\n",
    "```\n",
    "\n",
    "To run the new DSC,"
   ]
  },
  {
   "cell_type": "code",
   "execution_count": 1,
   "metadata": {
    "kernel": "SoS"
   },
   "outputs": [
    {
     "name": "stdout",
     "output_type": "stream",
     "text": [
      "/home/gaow/GIT/dsc2/vignettes/one_sample_location"
     ]
    }
   ],
   "source": [
    "%cd ~/GIT/dsc2/vignettes/one_sample_location"
   ]
  },
  {
   "cell_type": "code",
   "execution_count": 2,
   "metadata": {
    "kernel": "SoS",
    "output_cache": "[{\"output_type\":\"stream\",\"name\":\"stderr\",\"text\":\"INFO: Checking R library \\u001b[32mpsych\\u001b[0m ...\\nINFO: DSC script exported to \\u001b[32msettings_add_method_v1.html\\u001b[0m\\nINFO: Constructing DSC from \\u001b[32msettings_add_method_v1.dsc\\u001b[0m ...\\n\\rDSC:   0%|          | 0/6 [00:00<?, ?it/s]\\n\\rsimulate:1+estimate:1+mse:1:   0%|          | 0/3 [00:00<?, ?it/s]\\u001b[A\\n\\rsimulate:1+estimate:1+mse:1:  33%|███▎      | 1/3 [00:01<00:02,  1.01s/it]\\u001b[A\\n\\rsimulate:1+estimate:1+mse:1:  67%|██████▋   | 2/3 [00:02<00:01,  1.01s/it]\\u001b[A\\n\\rsimulate:1+estimate:1+mse:1: 100%|██████████| 3/3 [00:03<00:00,  1.01s/it]\\u001b[A\\n\\u001b[A\\rDSC:  17%|█▋        | 1/6 [00:03<00:16,  3.22s/it]\\n\\rsimulate:1+estimate:2+mse:1:   0%|          | 0/3 [00:00<?, ?it/s]\\u001b[A\\n\\rsimulate:1+estimate:2+mse:1:  33%|███▎      | 1/3 [00:01<00:02,  1.01s/it]\\u001b[A\\n\\rsimulate:1+estimate:2+mse:1:  67%|██████▋   | 2/3 [00:02<00:01,  1.01s/it]\\u001b[A\\n\\rsimulate:1+estimate:2+mse:1: 100%|██████████| 3/3 [00:03<00:00,  1.01s/it]\\u001b[A\\n\\u001b[A\\rDSC:  33%|███▎      | 2/6 [00:06<00:12,  3.22s/it]\\n\\rsimulate:1+estimate:3+mse:1:   0%|          | 0/3 [00:00<?, ?it/s]\\u001b[A\\n\\rsimulate:1+estimate:3+mse:1:  33%|███▎      | 1/3 [00:01<00:02,  1.01s/it]\\u001b[A\\n\\rsimulate:1+estimate:3+mse:1:  67%|██████▋   | 2/3 [00:03<00:01,  1.34s/it]\\u001b[A\\n\\rsimulate:1+estimate:3+mse:1: 100%|██████████| 3/3 [00:05<00:00,  1.57s/it]\\u001b[A\\n\\u001b[A\\rDSC:  50%|█████     | 3/6 [00:11<00:11,  3.88s/it]\\n\\rsimulate:2+estimate:1+mse:1:   0%|          | 0/3 [00:00<?, ?it/s]\\u001b[A\\n\\rsimulate:2+estimate:1+mse:1:  33%|███▎      | 1/3 [00:01<00:02,  1.11s/it]\\u001b[A\\n\\rsimulate:2+estimate:1+mse:1:  67%|██████▋   | 2/3 [00:02<00:01,  1.08s/it]\\u001b[A\\n\\rsimulate:2+estimate:1+mse:1: 100%|██████████| 3/3 [00:03<00:00,  1.06s/it]\\u001b[A\\n\\u001b[A\\rDSC:  67%|██████▋   | 4/6 [00:15<00:07,  3.71s/it]\\n\\rsimulate:2+estimate:2+mse:1:   0%|          | 0/3 [00:00<?, ?it/s]\\u001b[A\\n\\rsimulate:2+estimate:2+mse:1:  33%|███▎      | 1/3 [00:01<00:02,  1.11s/it]\\u001b[A\\n\\rsimulate:2+estimate:2+mse:1:  67%|██████▋   | 2/3 [00:02<00:01,  1.11s/it]\\u001b[A\\n\\rsimulate:2+estimate:2+mse:1: 100%|██████████| 3/3 [00:03<00:00,  1.11s/it]\\u001b[A\\n\\u001b[A\\rDSC:  83%|████████▎ | 5/6 [00:18<00:03,  3.65s/it]\\n\\rsimulate:2+estimate:3+mse:1:   0%|          | 0/3 [00:00<?, ?it/s]\\u001b[A\\n\\rsimulate:2+estimate:3+mse:1:  33%|███▎      | 1/3 [00:01<00:02,  1.11s/it]\\u001b[A\\n\\rsimulate:2+estimate:3+mse:1:  67%|██████▋   | 2/3 [00:03<00:01,  1.38s/it]\\u001b[A\\n\\rsimulate:2+estimate:3+mse:1: 100%|██████████| 3/3 [00:05<00:00,  1.57s/it]\\u001b[A\\n\\u001b[A\\rDSC: 100%|██████████| 6/6 [00:24<00:00,  4.16s/it]\\nINFO: Building output database \\u001b[32mdsc_result.rds\\u001b[0m ...\\nINFO: DSC complete!\\nINFO: Elapsed time \\u001b[32m25.387\\u001b[0m seconds.\\n\"}]"
   },
   "outputs": [
    {
     "name": "stdout",
     "output_type": "stream",
     "text": [
      "\u001b[1;32mINFO: Checking R library psych ...\u001b[0m\n",
      "\u001b[1;32mINFO: Checking R library dscrutils@stephenslab/dsc2/dscrutils ...\u001b[0m\n",
      "INFO: DSC script exported to \u001b[32mdsc_result.html\u001b[0m\n",
      "INFO: Constructing DSC from \u001b[32msettings_add_method_v1.dsc\u001b[0m ...\n",
      "INFO: Building execution graph & running DSC ...\n",
      "DSC: 100%|██████████████████████████████████████| 15/15 [00:05<00:00,  2.20it/s]\n",
      "INFO: Building DSC database ...\n",
      "INFO: DSC complete!\n",
      "INFO: Elapsed time \u001b[32m9.648\u001b[0m seconds.\n"
     ]
    }
   ],
   "source": [
    "! dsc settings_add_method_v1.dsc -c 30"
   ]
  },
  {
   "cell_type": "markdown",
   "metadata": {},
   "source": [
    "Notice that compared to the run in [Quick Start](Quick_Start.html) which took ~11 seconds, running additional two flavors of the `winsor` module took ~9 seconds. This is because results from `mean` and `median` were skipped in this run; only newly added modules are executed.\n",
    "\n",
    "Also notice that DSC checks and ensures required package `psych` is available. The package will be installed if it cannot be found on the system."
   ]
  },
  {
   "cell_type": "markdown",
   "metadata": {},
   "source": [
    "## Add a New Block\n",
    "Here we show an alternative style to update the existing DSC file: we use a new syntax block for `winsor` method:\n",
    "\n",
    "```\n",
    "mean, median: mean.R, median.R\n",
    "    x: $x\n",
    "    $mean: mean\n",
    "\n",
    "winsor: winsor.R\n",
    "    x: $x\n",
    "    trim: 0.1, 0.2\n",
    "    $mean: mean\n",
    "```\n",
    "\n",
    "To run this version,"
   ]
  },
  {
   "cell_type": "code",
   "execution_count": 3,
   "metadata": {
    "kernel": "SoS",
    "output_cache": "[{\"output_type\":\"stream\",\"text\":\"INFO: DSC script exported to \\u001b[32msettings_add_method_v2.html\\u001b[0m\\nINFO: Constructing DSC from \\u001b[32msettings_add_method_v2.dsc\\u001b[0m ...\\n\\rDSC:   0%|          | 0/15 [00:00<?, ?it/s]\\rDSC:   7%|▋         | 1/15 [00:01<00:25,  1.81s/it]\\rDSC:  20%|██        | 3/15 [00:02<00:15,  1.30s/it]\\rDSC:  47%|████▋     | 7/15 [00:02<00:07,  1.09it/s]\\rDSC:  60%|██████    | 9/15 [00:02<00:03,  1.52it/s]\\rDSC:  87%|████████▋ | 13/15 [00:02<00:00,  2.13it/s]\\rDSC: 100%|██████████| 15/15 [00:02<00:00,  6.10it/s]\\nINFO: Building output database \\u001b[32mdsc_result.rds\\u001b[0m ...\\nINFO: DSC complete!\\nINFO: Elapsed time \\u001b[32m5.083\\u001b[0m seconds.\\n\",\"name\":\"stderr\"}]"
   },
   "outputs": [
    {
     "name": "stdout",
     "output_type": "stream",
     "text": [
      "INFO: DSC script exported to \u001b[32mdsc_result.html\u001b[0m\n",
      "INFO: Constructing DSC from \u001b[32msettings_add_method_v2.dsc\u001b[0m ...\n",
      "INFO: Building execution graph & running DSC ...\n",
      "DSC: 100%|██████████████████████████████████████| 15/15 [00:02<00:00,  5.38it/s]\n",
      "INFO: Building DSC database ...\n",
      "INFO: DSC complete!\n",
      "INFO: Elapsed time \u001b[32m4.885\u001b[0m seconds.\n"
     ]
    }
   ],
   "source": [
    "! dsc settings_add_method_v2.dsc -c 30"
   ]
  },
  {
   "cell_type": "markdown",
   "metadata": {},
   "source": [
    "The benchmark is identical to that from previous section albeit different syntax style. Therefore using 5 seconds to check & match file status, DSC2 has skipped all the actual computations."
   ]
  }
 ],
 "metadata": {
  "kernelspec": {
   "display_name": "SoS",
   "language": "sos",
   "name": "sos"
  },
  "language_info": {
   "codemirror_mode": "sos",
   "file_extension": ".sos",
   "mimetype": "text/x-sos",
   "name": "sos",
   "nbconvert_exporter": "sos_notebook.converter.SoS_Exporter",
   "pygments_lexer": "sos"
  },
  "sos": {
   "celltoolbar": true,
   "default_kernel": "SoS",
   "kernels": [
    [
     "SoS",
     "sos",
     "",
     ""
    ],
    [
     "Python3",
     "python3",
     "Python3",
     "#FFE771"
    ],
    [
     "R",
     "ir",
     "R",
     "#DCDCDA"
    ]
   ],
   "panel": {
    "displayed": false,
    "height": 0,
    "style": "side"
   }
  }
 },
 "nbformat": 4,
 "nbformat_minor": 1
}
