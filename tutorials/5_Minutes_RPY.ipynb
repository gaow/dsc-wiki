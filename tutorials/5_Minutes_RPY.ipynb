{
 "cells": [
  {
   "cell_type": "markdown",
   "metadata": {},
   "source": [
    "# DSC in 5 Minutes with R & Python mix"
   ]
  },
  {
   "cell_type": "markdown",
   "metadata": {},
   "source": [
    "This tutorials shows re-implementation of the [5 Minutes example](5_Minutes.html) mixing R and Python implementations. Source code to run this example can be found [here](https://github.com/stephenslab/dsc/tree/master/vignettes/one_sample_location_python)."
   ]
  },
  {
   "cell_type": "markdown",
   "metadata": {},
   "source": [
    "If you are reading this page and are in need of R & Python communications, I suppose you might have experience interacting between R and Python, and appreciate the challenges. Data transfer between R and Python currently depends on `rpy2`. This has 2 implications: 1) information flow is no longer lossless because it is impossible to support the Python counter part for any arbitary R object (and vise versa) and 2) installation of `rpy2` and get it to work can be challenging. While I cannot provide support for `rpy2` installation, here is a [personal note](https://gist.github.com/gaow/39902e16603ffbe185ae38ff062fa266) on how I got it work on my system, possibly the hard way, but might be of interest to those who are in the same situation as I did. Additionally, 3) there is noticible performance overhead at the data transfer interface.\n",
    "\n",
    "Data communication via a more universial and robust interface [has been proposed](https://github.com/stephenslab/dsc/issues/86). We hope to be able to implement it in a near future release."
   ]
  },
  {
   "cell_type": "markdown",
   "metadata": {},
   "source": [
    "Here is the DSC script:\n",
    "\n",
    "```\n",
    "#!/usr/bin/env dsc\n",
    "\n",
    "normal: normal.py\n",
    "  n: 100\n",
    "  $data: x\n",
    "  $true_mean: 0\n",
    "\n",
    "t: t.R\n",
    "  n: 100\n",
    "  df: 2\n",
    "  $data: x\n",
    "  $true_mean: 3\n",
    "\n",
    "mean: mean.R\n",
    "  x: $data\n",
    "  $est_mean: y\n",
    "\n",
    "median: median.py\n",
    "  x: $data\n",
    "  $est_mean: y\n",
    "\n",
    "sq_err: sq.py\n",
    "  a: $est_mean\n",
    "  b: $true_mean\n",
    "  $error: e\n",
    " \n",
    "abs_err: abs.R\n",
    "  a: $est_mean\n",
    "  b: $true_mean\n",
    "  $error: e \n",
    "  \n",
    "DSC:\n",
    "    define:\n",
    "      simulate: normal, t\n",
    "      analyze: mean, median\n",
    "      score: abs_err, sq_err\n",
    "    run: simulate * analyze * score\n",
    "    exec_path: R, PY\n",
    "    python_modules: numpy\n",
    "    output: dsc_result\n",
    "```\n",
    "To execute:"
   ]
  },
  {
   "cell_type": "code",
   "execution_count": 1,
   "metadata": {
    "kernel": "SoS",
    "output_cache": "[{\"name\":\"stderr\",\"output_type\":\"stream\",\"text\":\"INFO: Checking R library \\u001b[32mpsych\\u001b[0m ...\\nINFO: DSC script exported to \\u001b[32msettings_mix.html\\u001b[0m\\nINFO: Constructing DSC from \\u001b[32msettings_mix.dsc\\u001b[0m ...\\n\\rDSC:   0%|          | 0/4 [00:00<?, ?it/s]\\n\\rsimulate:1+estimate:1+mse:1:   0%|          | 0/3 [00:00<?, ?it/s]\\u001b[A\\n\\rsimulate:1+estimate:1+mse:1:  33%|███▎      | 1/3 [00:05<00:11,  5.75s/it]\\u001b[A\\n\\rsimulate:1+estimate:1+mse:1:  67%|██████▋   | 2/3 [00:06<00:04,  4.39s/it]\\u001b[A\\n\\rsimulate:1+estimate:1+mse:1: 100%|██████████| 3/3 [00:13<00:00,  4.97s/it]\\u001b[A\\n\\u001b[A\\rDSC:  25%|██▌       | 1/4 [00:13<00:40, 13.46s/it]\\n\\rsimulate:1+estimate:2+mse:1:   0%|          | 0/3 [00:00<?, ?it/s]\\u001b[A\\n\\rsimulate:1+estimate:2+mse:1:  33%|███▎      | 1/3 [00:05<00:11,  5.64s/it]\\u001b[A\\n\\rsimulate:1+estimate:2+mse:1:  67%|██████▋   | 2/3 [00:11<00:05,  5.61s/it]\\u001b[A\\n\\rsimulate:1+estimate:2+mse:1: 100%|██████████| 3/3 [00:16<00:00,  5.52s/it]\\u001b[A\\n\\u001b[A\\rDSC:  50%|█████     | 2/4 [00:30<00:28, 14.42s/it]\\n\\rsimulate:2+estimate:1+mse:1:   0%|          | 0/3 [00:00<?, ?it/s]\\u001b[A\\n\\rsimulate:2+estimate:1+mse:1:  33%|███▎      | 1/3 [00:01<00:02,  1.01s/it]\\u001b[A\\n\\rsimulate:2+estimate:1+mse:1:  67%|██████▋   | 2/3 [00:02<00:01,  1.01s/it]\\u001b[A\\n\\rsimulate:2+estimate:1+mse:1: 100%|██████████| 3/3 [00:07<00:00,  2.33s/it]\\u001b[A\\n\\u001b[A\\rDSC:  75%|███████▌  | 3/4 [00:37<00:12, 12.35s/it]\\n\\rsimulate:2+estimate:2+mse:1:   0%|          | 0/3 [00:00<?, ?it/s]\\u001b[A\\n\\rsimulate:2+estimate:2+mse:1:  33%|███▎      | 1/3 [00:01<00:02,  1.01s/it]\\u001b[A\\n\\rsimulate:2+estimate:2+mse:1:  67%|██████▋   | 2/3 [00:06<00:02,  2.31s/it]\\u001b[A\\n\\rsimulate:2+estimate:2+mse:1: 100%|██████████| 3/3 [00:11<00:00,  3.21s/it]\\u001b[A\\n\\u001b[A\\rDSC: 100%|██████████| 4/4 [00:49<00:00, 12.17s/it]\\nINFO: Building output database \\u001b[32mdsc_result.rds\\u001b[0m ...\\nINFO: DSC complete!\\nINFO: Elapsed time \\u001b[32m50.566\\u001b[0m seconds.\\n\"}]"
   },
   "outputs": [
    {
     "name": "stdout",
     "output_type": "stream",
     "text": [
      "/home/gaow/Documents/GIT/software/dsc/vignettes/one_sample_location_python"
     ]
    }
   ],
   "source": [
    "%cd ~/GIT/dsc/vignettes/one_sample_location_python"
   ]
  },
  {
   "cell_type": "code",
   "execution_count": 2,
   "metadata": {
    "kernel": "SoS"
   },
   "outputs": [
    {
     "name": "stdout",
     "output_type": "stream",
     "text": [
      "\u001b[1;32mINFO: Checking R library dscrutils@stephenslab/dsc/dscrutils ...\u001b[0m\n",
      "\u001b[1;32mINFO: Checking Python module numpy ...\u001b[0m\n",
      "\u001b[1;32mINFO: Checking Python module rpy2 ...\u001b[0m\n",
      "INFO: DSC script exported to \u001b[32mdsc_result.html\u001b[0m\n",
      "INFO: Constructing DSC from \u001b[32m./settings_mix.dsc\u001b[0m ...\n",
      "INFO: Building execution graph & running DSC ...\n",
      "DSC: 100%|██████████████████████████████████████| 15/15 [00:04<00:00,  4.52it/s]\n",
      "INFO: Building DSC database ...\n",
      "INFO: DSC complete!\n",
      "INFO: Elapsed time \u001b[32m6.583\u001b[0m seconds.\n"
     ]
    }
   ],
   "source": [
    "! ./settings_mix.dsc -c 30"
   ]
  }
 ],
 "metadata": {
  "kernelspec": {
   "display_name": "SoS",
   "language": "sos",
   "name": "sos"
  },
  "language_info": {
   "codemirror_mode": "sos",
   "file_extension": ".sos",
   "mimetype": "text/x-sos",
   "name": "sos",
   "nbconvert_exporter": "sos_notebook.converter.SoS_Exporter",
   "pygments_lexer": "sos"
  },
  "sos": {
   "celltoolbar": true,
   "default_kernel": "SoS",
   "kernels": [
    [
     "SoS",
     "sos",
     "",
     ""
    ],
    [
     "ir",
     "ir",
     "",
     ""
    ],
    [
     "python3",
     "python3",
     "",
     ""
    ]
   ],
   "panel": {
    "displayed": true,
    "height": 0,
    "style": "side"
   }
  }
 },
 "nbformat": 4,
 "nbformat_minor": 1
}
