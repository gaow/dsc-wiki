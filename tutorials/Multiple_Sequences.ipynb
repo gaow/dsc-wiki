{
 "cells": [
  {
   "cell_type": "markdown",
   "metadata": {},
   "source": [
    "# Multiple DSC sequences"
   ]
  },
  {
   "cell_type": "markdown",
   "metadata": {},
   "source": [
    "This is an enhanced version of [the Quick Start tutorial](tutorials/Quick_Start.html) to demonstrate the use of multiple sequences in DSC. Material used in this document can be found in [DSC2 vignettes repo](https://github.com/stephenslab/dsc2/tree/master/vignettes/one_sample_location_winsor).\n"
   ]
  },
  {
   "cell_type": "markdown",
   "metadata": {},
   "source": [
    "## DSC Specification and Execution\n",
    "The DSC problem is similar to what we have previously worked on, i.e. comparison of location parameter estimation methods. This time we simulate data under *t* distribution (df = 2) and Cauchy distribution. Then before estimating location parameter using mean or median method, there is an **optional** `transform` step where we provide two methods for *Winsorization*. This results in two possible DSC sequences:\n",
    "\n",
    "*  simulate -> estimate -> score\n",
    "*  simulate -> transform -> estimate -> score\n",
    "\n",
    "The DSC problem is fully specified as:\n",
    "\n",
    "```yaml\n",
    "  simulate:\n",
    "      exec: rt.R, rcauchy.R\n",
    "      seed: R(1:5)\n",
    "      params:\n",
    "          n: 1000\n",
    "          true_loc: 0, 1\n",
    "      return: x, true_loc\n",
    "\n",
    "  transform:\n",
    "      exec: winsor1.R, winsor2.R\n",
    "      params:\n",
    "          x: $x\n",
    "          exec[1]:\n",
    "              fraction: 0.05\n",
    "          exec[2]:\n",
    "              multiple: 3\n",
    "      return: x\n",
    "\n",
    "  estimate:\n",
    "      exec: mean.R, median.R\n",
    "      params:\n",
    "          x: $x\n",
    "      return: loc\n",
    "\n",
    "  mse:\n",
    "      exec: MSE.R\n",
    "      params:\n",
    "          mean_est: $loc\n",
    "          true_mean: $true_loc\n",
    "      return: mse\n",
    "\n",
    "  DSC:\n",
    "      run: simulate *\n",
    "           (transform * estimate, estimate) *\n",
    "           mse\n",
    "      exec_path: R\n",
    "      output: dsc_result\n",
    "```\n",
    "\n",
    "where Winsorization routines in `transform` block are:\n",
    "\n",
    "```r\n",
    "  ==> ../vignettes/one_sample_location_winsor/R/winsor1.R <==\n",
    "  ##  replace the extreme values with limits\n",
    "  winsor1 <- function (x, fraction=.05)\n",
    "  {\n",
    "     if(length(fraction) != 1 || fraction < 0 ||\n",
    "           fraction > 0.5) {\n",
    "        stop(\"bad value for 'fraction'\")\n",
    "     }\n",
    "     lim <- quantile(x, probs=c(fraction, 1-fraction))\n",
    "     x[ x < lim[1] ] <- lim[1]\n",
    "     x[ x > lim[2] ] <- lim[2]\n",
    "     return(x)\n",
    "  }\n",
    "  x = winsor1(x, fraction)\n",
    "\n",
    "  ==> ../vignettes/one_sample_location_winsor/R/winsor2.R <==\n",
    "  ## move the datapoints that are x times the absolute deviations from mean\n",
    "  winsor2 <- function (x, multiple=3)\n",
    "  {\n",
    "     if(length(multiple) != 1 || multiple <= 0) {\n",
    "        stop(\"bad value for 'multiple'\")\n",
    "     }\n",
    "     med <- median(x)\n",
    "     y <- x - med\n",
    "     sc <- mad(y, center=0) * multiple\n",
    "     y[ y > sc ] <- sc\n",
    "     y[ y < -sc ] <- -sc\n",
    "     return(y + med)\n",
    "  }\n",
    "  x = winsor2(x, multiple)\n",
    "\n",
    "```\n",
    "\n",
    "To execute the DSC on a computer using 8 CPU threads,\n"
   ]
  },
  {
   "cell_type": "code",
   "execution_count": 1,
   "metadata": {
    "kernel": "sos",
    "output_cache": "[]"
   },
   "outputs": [
    {
     "name": "stderr",
     "output_type": "stream",
     "text": [
      "INFO: DSC script exported to \u001b[32msettings.html\u001b[0m\n",
      "INFO: Constructing DSC from \u001b[32msettings.dsc\u001b[0m ...\n",
      "\r",
      "DSC:   0%|          | 0/31 [00:00<?, ?it/s]\r",
      "DSC:   3%|▎         | 1/31 [00:01<00:30,  1.02s/it]\r",
      "DSC:  10%|▉         | 3/31 [00:04<00:35,  1.25s/it]\r",
      "DSC:  13%|█▎        | 4/31 [00:04<00:24,  1.10it/s]\r",
      "DSC:  35%|███▌      | 11/31 [00:08<00:15,  1.29it/s]\r",
      "DSC:  39%|███▊      | 12/31 [00:08<00:10,  1.74it/s]\r",
      "DSC:  42%|████▏     | 13/31 [00:08<00:07,  2.28it/s]\r",
      "DSC:  58%|█████▊    | 18/31 [00:08<00:04,  3.15it/s]\r",
      "DSC:  65%|██████▍   | 20/31 [00:11<00:07,  1.42it/s]\r",
      "DSC:  74%|███████▍  | 23/31 [00:11<00:04,  1.98it/s]\r",
      "DSC:  81%|████████  | 25/31 [00:11<00:02,  2.71it/s]\r",
      "DSC:  87%|████████▋ | 27/31 [00:12<00:01,  2.75it/s]\r",
      "DSC:  94%|█████████▎| 29/31 [00:13<00:00,  3.01it/s]\r",
      "DSC:  97%|█████████▋| 30/31 [00:13<00:00,  2.26it/s]\r",
      "DSC: 100%|██████████| 31/31 [00:13<00:00,  2.91it/s]\n",
      "INFO: Building output database \u001b[32mdsc_result.rds\u001b[0m ...\n",
      "INFO: DSC complete!\n",
      "INFO: Elapsed time \u001b[32m16.958\u001b[0m seconds.\n"
     ]
    }
   ],
   "source": [
    "! dsc -x settings.dsc -j 8"
   ]
  },
  {
   "cell_type": "markdown",
   "metadata": {},
   "source": [
    "*FIXME* annotation and link to shinydsc for result exploration"
   ]
  }
 ],
 "metadata": {
  "kernelspec": {
   "display_name": "SoS",
   "language": "sos",
   "name": "sos"
  },
  "language_info": {
   "codemirror_mode": "sos",
   "file_extension": ".sos",
   "mimetype": "text/x-sos",
   "name": "sos",
   "nbconvert_exporter": "sos.jupyter.converter.SoS_Exporter",
   "pygments_lexer": "sos"
  },
  "sos": {
   "celltoolbar": true,
   "default_kernel": "SoS",
   "kernels": [
    [
     "Python3",
     "python3",
     "Python3",
     "#FFE771"
    ],
    [
     "R",
     "ir",
     "R",
     "#DCDCDA"
    ],
    [
     "SoS",
     "sos",
     "",
     ""
    ]
   ],
   "panel": {
    "displayed": true,
    "height": 0,
    "style": "side"
   }
  }
 },
 "nbformat": 4,
 "nbformat_minor": 1
}
