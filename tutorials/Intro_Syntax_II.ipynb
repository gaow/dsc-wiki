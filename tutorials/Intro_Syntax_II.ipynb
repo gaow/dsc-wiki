{
 "cells": [
  {
   "cell_type": "markdown",
   "metadata": {},
   "source": [
    "# DSC Basics, Part II\n",
    "\n",
    "This is the second part of the \"DSC Basics\" tutorial. Before working through this tutorial, you should have already read [DSC Basics, Part I](Intro_Syntax_I.html). Here we build on the mean estimation example from the previous part to illustrate new concepts and syntax in DSC, with an emphasis on the use of *module parameters*.\n",
    "\n",
    "Materials used in this tutorial can be found in the [DSC vignettes repository](https://github.com/stephenslab/dsc/tree/master/vignettes/one_sample_location). As before, you may choose to run this example DSC program as you read through the tutorial, but this is not required."
   ]
  },
  {
   "cell_type": "markdown",
   "metadata": {},
   "source": [
    "## Defining a module parameter\n",
    "\n",
    "In our example DSC, recall we defined the `normal` module as follows:\n",
    "\n",
    "```\n",
    "normal: R(x <- rnorm(n = 100,mean = 0,sd = 1))\n",
    "  $data: x\n",
    "  $true_mean: 0\n",
    "```\n",
    "\n",
    "In defining this module, we made an unfortunate design decision: the mean used to simulate the data is defined twice, once inside the call to `rnorm`, where we set `mean = 0`, and once when we set the module output `$true_mean` to zero. If we decided to use a different mean to simulate the data, then we would have to be careful to change the code in two different places, otherwise this would lead to downstream errors. It would be preferrable if we had a single variable that defines the mean of the data.\n",
    "\n",
    "In DSC, this can be done with a *module parameter*:\n",
    "\n",
    "```\n",
    "normal: R(x <- rnorm(n = 100,mean = mu,sd = 1))\n",
    "  mu: 0\n",
    "  $data: x\n",
    "  $true_mean: mu\n",
    "```\n",
    "\n",
    "Here, we defined a module parameter `mu`, and set it to the value zero. Once we have defined module parameter `mu`, any R code and module outputs within the `normal` module may refer to this module parameter. For example, here the second argument of `rnorm` is set to the value of `mu`.\n",
    "\n",
    "Now modifying the mean used to simulate the data only requires changing one line of code.\n",
    "\n",
    "Similarly, we can use a module parameter to specify the mean of the data that are simulated from a $t$ distribution:\n",
    "\n",
    "```\n",
    "t: R(x <- mu + rt(n = 100,df = 2))\n",
    "  mu: 3d\n",
    "  $data: x\n",
    "  $true_mean: mu\n",
    "```\n",
    "\n",
    "Note that there is no requirement that the module parameters for the `normal` and `t` modules have the same name, `mu`."
   ]
  },
  {
   "cell_type": "markdown",
   "metadata": {},
   "source": [
    "## The order of evaluation inside a module\n",
    "\n",
    "Below, we will give some more elaborate examples using module parameters. Before continuing, please keep in mind these two points:\n",
    "\n",
    "+ A module parameter cannot depend on any of the module inputs or any other module parameters. In other words, it must be possible to evaluate the module parameter without knowing the values of the module inputs or the values of the other module parameters.\n",
    "\n",
    "+ Module parameters are evaluated *before* the module script. The exact procedure for evaluating a module is as follows:\n",
    " \n",
    "    1. Evaluate any R code used to determine the values of the module parameters.\n",
    "    2. Set the values of the module parameters.\n",
    "    3. Initialize the module inputs according to the current stored values of the pipeline variables.\n",
    "    4. For each module parameter and module input, define a script variable with the same name and same value. \n",
    "    5. Evaluate the module script or inline source code. Any variable defined within the global environment in which the script is evaluated is retained for resolving any module outputs.\n",
    "    6. Set each module output to the stored value of the selected script variable.\n",
    "\n",
    "This evaluation procedure will become more clear as we illustrate it in some of the examples below."
   ]
  },
  {
   "cell_type": "markdown",
   "metadata": {},
   "source": [
    "## A single module parameter with multiple alternative values\n",
    "\n",
    "In the example above, we showed that module parameters are useful for simplifying a module definition by defining a variable that is used in multiple places inside the module. Here we will see that module parameters have another powerful feature: they can be used to define multiple similar modules.\n",
    "\n",
    "Currently, in the `normal` module, we simulate 100 random samples from a normal distribution. Suppose we would like to define a second module that simulates 1,000 random samples from the same normal distribution. This is easily done by defining a new module parameter `n` that takes on two different values:\n",
    "\n",
    "```\n",
    "normal: R(x <- rnorm(n,mean = mu,sd = 1))\n",
    "  mu: 0\n",
    "  n: 100, 1000\n",
    "  $data: x\n",
    "  $true_mean: mu\n",
    "```\n",
    "\n",
    "The comma delimits the two possible values of model parameter `n`.\n",
    "\n",
    "Now that we have defined `n` inside this module, we can refer to this module parameter inside the R code that simulates random draws from a normal distribution.\n",
    "\n",
    "This is equivalent to defining two modules, `normal_100` and `normal_1000`, that are identical in every way except that the first module includes parameter definition `n: 100` and the second defines `n: 100`. The code above is of course much more succinct.\n",
    "\n",
    "The values 100 and 1000 are *alternative values* for module parameter `n`; that is, the definition of `n` should not be interpreted as a vector or sequence with two entries, 100 and 1000. Instead, it should be understood as defining a *set of alternative values*, in which `n` within any given module is set to 100 or 1000. To put it another way, `n: 100, 1000` defines two *alternative values* for module parameter `n`, and likewise defines two *alternative modules* that are the same in every way except for the setting of `n`.\n",
    "\n",
    "A distinguishing property of module parameters with multiple alternative values is that *their order does not matter*. For example, if we instead wrote `n: 1000, 100`, *the DSC results will be exactly the same*. (The only thing that will change is the order in which the results will appear in the tables, and the way in which the results are stored in files.)\n",
    "\n",
    "Now that we have defined two `normal` modules, there is also the question of how these modules can be distinguished in the results; for example, you may want to compare the accuracy of the estimates in the larger and smaller simulated data sets. Next we will see that the results from these two modules can be selected according to the stored value of the module parameter `n`."
   ]
  },
  {
   "cell_type": "markdown",
   "metadata": {},
   "source": [
    "## Executing the DSC with alternative `simulate` modules\n",
    "\n",
    "In our new DSC, `simulate_data_twice.dsc`, we define the two `simulate` modules as follows:\n",
    "\n",
    "```\n",
    "normal: R(x <- rnorm(n,mean = mu,sd = 1))\n",
    "  mu: 0\n",
    "  n: 100, 1000\n",
    "  $data: x\n",
    "  $true_mean: mu\n",
    "\n",
    "t: R(x <- mu + rt(n,df = 2))\n",
    "  mu: 3\n",
    "  n: 100, 1000\n",
    "  $data: x\n",
    "  $true_mean: mu\n",
    "```\n",
    "\n",
    "The rest of the DSC remains unchanged from before.\n",
    "\n",
    "To run the DSC benchmark, change the working directory (here we have assumed the dsc repository is stored in the git subdirectory of your home directory),"
   ]
  },
  {
   "cell_type": "code",
   "execution_count": 2,
   "metadata": {
    "kernel": "Bash"
   },
   "outputs": [
    {
     "name": "stdout",
     "output_type": "stream",
     "text": [
      "/Users/pcarbo/git/dsc/vignettes/one_sample_location\n"
     ]
    }
   ],
   "source": [
    "cd ~/git/dsc/vignettes/one_sample_location\n",
    "pwd"
   ]
  },
  {
   "cell_type": "markdown",
   "metadata": {},
   "source": [
    "remove any previously generated results,"
   ]
  },
  {
   "cell_type": "code",
   "execution_count": 12,
   "metadata": {
    "collapsed": true,
    "kernel": "Bash"
   },
   "outputs": [],
   "source": [
    "rm -Rf first_investigation.html first_investigation.log first_investigation"
   ]
  },
  {
   "cell_type": "markdown",
   "metadata": {},
   "source": [
    "then run 10 replicates of all the pipelines:"
   ]
  },
  {
   "cell_type": "code",
   "execution_count": 13,
   "metadata": {
    "kernel": "Bash"
   },
   "outputs": [
    {
     "name": "stdout",
     "output_type": "stream",
     "text": [
      "INFO: DSC script exported to \u001b[32mfirst_investigation.html\u001b[0m\n",
      "INFO: Constructing DSC from \u001b[32msimulate_data_twice.dsc\u001b[0m ...\n",
      "INFO: Building execution graph & running DSC ...\n",
      "DSC: 100%|██████████████████████████████████████| 15/15 [00:51<00:00,  2.49s/it]\n",
      "INFO: Building DSC database ...\n",
      "INFO: DSC complete!\n",
      "INFO: Elapsed time \u001b[32m53.970\u001b[0m seconds.\n"
     ]
    }
   ],
   "source": [
    "dsc simulate_data_twice.dsc --replicate 10"
   ]
  },
  {
   "cell_type": "markdown",
   "metadata": {},
   "source": [
    "## Comparing the DSC result with `n=100` and `n=1000`\n",
    "\n",
    "*Add text here.*\n",
    "\n",
    "+ The two modules have the same name, but they can be identified in the results by different values for `n`."
   ]
  },
  {
   "cell_type": "code",
   "execution_count": 19,
   "metadata": {
    "kernel": "R"
   },
   "outputs": [
    {
     "name": "stdout",
     "output_type": "stream",
     "text": [
      "Running shell command:\n",
      "dsc-query first_investigation -o /var/folders/9b/ck4lp8s140lcksryyh4dppdr0000gn/T//RtmpuFA2aT/file4a332912f0f6.csv -f --target simulate.n simulate.true_mean analyze score.error \n",
      "Loading dsc-query output from CSV file.\n",
      "Reading DSC outputs:\n",
      " - simulate.true_mean: extracted atomic values\n",
      " - score.error: extracted atomic values\n"
     ]
    },
    {
     "data": {
      "text/html": [
       "160"
      ],
      "text/latex": [
       "160"
      ],
      "text/markdown": [
       "160"
      ],
      "text/plain": [
       "[1] 160"
      ]
     },
     "metadata": {},
     "output_type": "display_data"
    }
   ],
   "source": [
    "setwd(\"~/git/dsc/vignettes/one_sample_location\")\n",
    "library(dscrutils)\n",
    "dscout <-\n",
    "  dscquery(dsc.outdir = \"first_investigation\",\n",
    "           targets = c(\"simulate.n\",\"simulate.true_mean\",\"analyze\",\"score.error\"))\n",
    "nrow(dscout)"
   ]
  },
  {
   "cell_type": "markdown",
   "metadata": {},
   "source": [
    "*Text goes here.*"
   ]
  },
  {
   "cell_type": "code",
   "execution_count": 23,
   "metadata": {
    "kernel": "R"
   },
   "outputs": [
    {
     "data": {
      "text/plain": [
       "        simulate.n\n",
       "simulate 100 1000\n",
       "  normal  40   40\n",
       "  t       40   40"
      ]
     },
     "metadata": {},
     "output_type": "display_data"
    }
   ],
   "source": [
    "with(dscout,table(simulate,simulate.n))"
   ]
  },
  {
   "cell_type": "markdown",
   "metadata": {},
   "source": [
    "*Text goes here.*"
   ]
  },
  {
   "cell_type": "code",
   "execution_count": 25,
   "metadata": {
    "kernel": "R"
   },
   "outputs": [
    {
     "data": {
      "text/plain": [
       "            100     1000\n",
       "mean   0.308991 0.004709\n",
       "median 0.015792 0.002163"
      ]
     },
     "metadata": {},
     "output_type": "display_data"
    }
   ],
   "source": [
    "dat <- subset(dscout,score == \"sq_err\")\n",
    "as.table(with(dat,by(dat,list(analyze,simulate.n),function (x) mean(x$score.error))))"
   ]
  },
  {
   "cell_type": "markdown",
   "metadata": {},
   "source": [
    "*Text goes here.*"
   ]
  },
  {
   "cell_type": "markdown",
   "metadata": {},
   "source": [
    "## Two module parameters with multiple alternatives\n",
    "\n",
    "If you provide more than one value for multiple parameters, DSC considers all combinations. For example:\n",
    "\n",
    "```\n",
    "t: R( x = rt(n, df) )\n",
    "  n: 100, 1000\n",
    "  df: 2, 4, 10\n",
    "  $data: x\n",
    "  $true_mean: 0\n",
    "```\n",
    "\n",
    "defines a group of six modules, which simulate 100 or 1000 observations from a $t$ distributions with 2, 4 or 10 degrees of freedom.\n",
    "\n",
    "TO DO: Show the results from running this DSC and querying the results."
   ]
  },
  {
   "cell_type": "markdown",
   "metadata": {},
   "source": [
    "## Executing and querying the DSC when module alternatives are defined using two module parameters\n",
    "\n",
    "Run the DSC program and show the results here."
   ]
  },
  {
   "cell_type": "markdown",
   "metadata": {},
   "source": [
    "## Setting the seed with a module parameter\n",
    "\n",
    "A common use of module parameters is to initialize the state, or \"seed\", for generating a sequence of pseudorandom numbers. (This section is not essential, and may be skipped if you are pressed for time.)"
   ]
  },
  {
   "cell_type": "markdown",
   "metadata": {},
   "source": [
    "## Combining module parameters with module inputs\n",
    "\n",
    "NOTE: trim is a good example to illustrate how it cannot be determined based on the data input.\n",
    "\n",
    "Now consider the following DSC syntax:\n",
    "\n",
    "```\n",
    "trim_mean: R( y = mean(x, trim) )\n",
    "  trim: 0, 0.2\n",
    "  x: $data\n",
    "  $est_mean: y\n",
    "```\n",
    "\n",
    "defines two modules which compute the trimmed mean of the pipeline variable\n",
    "`$data`, with different levels of trimming (0 or 0.2), and output\n",
    "the result as the pipeline variable `$est_mean`.\n",
    "\n",
    "Schematically we might represent this as:\n",
    "\n",
    "```\n",
    "# trim_mean(trim=0): $data -> $est_mean\n",
    "# trim_mean(trim=0.2): $data -> $est_mean\n",
    "```\n",
    "\n",
    "to indicate we have two different modules, each of which take input\n",
    "`$data` and output `$est_mean`."
   ]
  },
  {
   "cell_type": "markdown",
   "metadata": {},
   "source": [
    "## Defining more complex module parameters\n",
    "\n",
    "Example goes here."
   ]
  },
  {
   "cell_type": "markdown",
   "metadata": {},
   "source": [
    "## Defining module parameters with many alternative values\n",
    "\n",
    "Example for this section: \n",
    "\n",
    "Start with an example in which the different values of n are 10^1, 10^1.5, 10^2, etc, all defined within R().\n",
    "\n",
    "Then generate many simulated data sets with different values of n, from very small (10) to very large (1e6) using R{}. \n",
    "\n",
    "Finally, run the code and show that it works."
   ]
  },
  {
   "cell_type": "markdown",
   "metadata": {},
   "source": [
    "## Recap\n",
    "\n",
    "Add recap here."
   ]
  },
  {
   "cell_type": "markdown",
   "metadata": {},
   "source": [
    "## Exploring further\n",
    "\n",
    "In this tutorial, we introduced the most essential features of DSC that are sufficient to . There are many other features of DSC that we did not have a chance to mention in these introductory tutorial.  "
   ]
  }
 ],
 "metadata": {
  "Rmd_header": {
   "author": "Matthew Stephens",
   "date": "2/26/2018",
   "output": "html_document",
   "title": "dsc_intro_partIII.rmd"
  },
  "kernelspec": {
   "display_name": "SoS",
   "language": "sos",
   "name": "sos"
  },
  "language_info": {
   "codemirror_mode": "sos",
   "file_extension": ".sos",
   "mimetype": "text/x-sos",
   "name": "sos",
   "nbconvert_exporter": "sos_notebook.converter.SoS_Exporter",
   "pygments_lexer": "sos"
  },
  "sos": {
   "default_kernel": "SoS",
   "kernels": [],
   "panel": {
    "displayed": true,
    "height": 0,
    "style": "side"
   },
   "version": "0.9.12.11"
  }
 },
 "nbformat": 4,
 "nbformat_minor": 1
}
