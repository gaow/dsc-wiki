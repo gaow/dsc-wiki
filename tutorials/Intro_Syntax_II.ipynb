{
 "cells": [
  {
   "cell_type": "markdown",
   "metadata": {},
   "source": [
    "# DSC Basics, Part II\n",
    "\n",
    "This is the second part of the \"DSC Basics\" tutorial. You should have read already [DSC Basics, Part I](Intro_Syntax_I.html). Here we continue the mean estimation example from the previous part to illustrate new concepts and syntax, particularly the use of *module parameters*.\n",
    "\n",
    "Materials used in this tutorial can be found in the [DSC vignettes repository](https://github.com/stephenslab/dsc/tree/master/vignettes/one_sample_location). As before, you may choose to run this example DSC program as you read through the tutorial, but this is not required."
   ]
  },
  {
   "cell_type": "markdown",
   "metadata": {},
   "source": [
    "## Defining a module parameter\n",
    "\n",
    "In our example DSC, recall we defined the `normal` module as follows:\n",
    "\n",
    "```\n",
    "normal: R(x <- rnorm(n = 100,mean = 0,sd = 1))\n",
    "  $data: x\n",
    "  $true_mean: 0\n",
    "```\n",
    "\n",
    "In defining this module, we made a poor design decision: the mean used to simulate the data is defined twice, once inside the call to `rnorm`, where we set `mean = 0`, and once when we set the module output `$true_mean` to zero. If we decided to use a different mean to simulate the data, then we would have to be careful to change the code in two different places. It would be better if we had a single variable that defines the mean of the data.\n",
    "\n",
    "In DSC, it is possible to define such a variable, called a *module parameter*:\n",
    "\n",
    "```\n",
    "normal: R(x <- rnorm(n = 100,mean = mu,sd = 1))\n",
    "  mu: 0\n",
    "  $data: x\n",
    "  $true_mean: mu\n",
    "```\n",
    "\n",
    "Here, a module parameter `mu` is defined, and it is set to the value zero. Once we have defined module parameter `mu`, any R code and module outputs within the `normal` module may refer to this module parameter.\n",
    "\n",
    "Now, with this newly defined module, modifying the mean used to simulate the data only requires changing one line of code.\n",
    "\n",
    "Similarly, we can use a module parameter to specify the mean of the data that are simulated from a $t$ distribution:\n",
    "\n",
    "```\n",
    "t: R(x <- mu + rt(n = 100,df = 2))\n",
    "  mu: 3\n",
    "  $data: x\n",
    "  $true_mean: mu\n",
    "```\n",
    "\n",
    "Note that there is no requirement that the module parameters for the `normal` and `t` modules have the same name, `mu`."
   ]
  },
  {
   "cell_type": "markdown",
   "metadata": {},
   "source": [
    "## The order of evaluation inside a module\n",
    "\n",
    "Below, we will give some more elaborate examples of using module parameters inside a DSC. Before continuing, it is important to keep in mind these two points:\n",
    "\n",
    "+ A module parameter cannot depend on any of the module inputs or any other module parameters. In other words, it must be possible to evaluate the module parameter without knowing the values of the module inputs or the values of the other module parameters.\n",
    "\n",
    "+ Module parameters are evaluated *before* the module script. The exact procedure for evaluating a module is as follows:\n",
    " \n",
    "    1. Evaluate any R code used to determine the module parameters.\n",
    "    2. Set the values of the module parameters.\n",
    "    3. Initialize the module inputs according to the current values of the pipeline variables.\n",
    "    4. For each module parameter and module input, define a script variable with the same name and same value. \n",
    "    5. Evaluate the module script or inline source code. Any variable defined within the global environment in which the script is evaluated is retained for resolving the module outputs.\n",
    "    6. Set each module output to the stored value of the specified script variable.\n",
    "\n",
    "The evaluation procedure will become more clear as we illustrate it in some of the examples below."
   ]
  },
  {
   "cell_type": "markdown",
   "metadata": {},
   "source": [
    "## A single module parameter with multiple values\n",
    "\n",
    "In the example above, we showed that module parameters can be useful to streamline code by defining a variable that is used in multiple places inside the module. Another reason module parameters are useful is that they can be used to define multiple similar modules.\n",
    "\n",
    "For example, in the `normal` module above, we simulated 100 random samples from a normal distribution. If we would like to define a second module that simulates 1,000 random samples from a normal distribution, this is easily done by defining a new module parameter that takes on two possible values:\n",
    "\n",
    "```\n",
    "normal: R(x <- rnorm(n,mean = mu,sd = 1))\n",
    "  mu: 0\n",
    "  n: 100, 1000\n",
    "  $data: x\n",
    "  $true_mean: mu\n",
    "```\n",
    "\n",
    "Observe that, since we have defined a new module parameter `n`, we can refer to this module parameter inside the R code that simulates random draws from a normal distribution.\n",
    "\n",
    "This is equivalent to defining two modules, `normal_100` and `normal_1000`, that are the identical in every way except that the first module includes parameter definition `n: 100` and the second defines `n: 100`. The code above is of course much more succinct. \n",
    "\n",
    "The values 100 and 1000 are *alternative values* for module parameter `n`; that is, `n` should not be interpreted as a vector or sequence with two entries, 100 and 1000, but rather should be understood as a single number that is either set to 100 or 1000 depending on the module that is evaluated. Likewise, the values 100 and 1000 define two *alternative modules*, both named \"normal\".\n",
    "\n",
    "Although we have now defined two modules with the same name, \"normal\", these two modules can be distinguished in the results by the value for the module parameter `n`. We will illustrate this next."
   ]
  },
  {
   "cell_type": "markdown",
   "metadata": {},
   "source": [
    "## Executing and querying the DSC when module alternatives are defined with a module parameter\n",
    "\n",
    "Here we examine how the new DSC works in practice.\n",
    "\n",
    "+ Run the DSC.\n",
    "\n",
    "+ The two modules have the same name, but they can be identified in the results by different values for `n`."
   ]
  },
  {
   "cell_type": "markdown",
   "metadata": {},
   "source": [
    "## Two module parameters with multiple alternatives\n",
    "\n",
    "If you provide more than one value for multiple parameters, DSC considers all combinations. For example:\n",
    "\n",
    "```\n",
    "t: R( x = rt(n, df) )\n",
    "  n: 100, 1000\n",
    "  df: 2, 4, 10\n",
    "  $data: x\n",
    "  $true_mean: 0\n",
    "```\n",
    "\n",
    "defines a group of six modules, which simulate 100 or 1000 observations from a $t$ distributions with 2, 4 or 10 degrees of freedom.\n",
    "\n",
    "TO DO: Show the results from running this DSC and querying the results."
   ]
  },
  {
   "cell_type": "markdown",
   "metadata": {},
   "source": [
    "## Executing and querying the DSC when module alternatives are defined using two module parameters\n",
    "\n",
    "Run the DSC program and show the results here."
   ]
  },
  {
   "cell_type": "markdown",
   "metadata": {},
   "source": [
    "## Setting the seed with a module parameter\n",
    "\n",
    "A common use of module parameters is to initialize the state, or \"seed\", for generating a sequence of pseudorandom numbers. (This section is not essential, and may be skipped if you are pressed for time.)"
   ]
  },
  {
   "cell_type": "markdown",
   "metadata": {},
   "source": [
    "## Combining module parameters with module inputs\n",
    "\n",
    "NOTE: trim is a good example to illustrate how it cannot be determined based on the data input.\n",
    "\n",
    "Now consider the following DSC syntax:\n",
    "\n",
    "```\n",
    "trim_mean: R( y = mean(x, trim) )\n",
    "  trim: 0, 0.2\n",
    "  x: $data\n",
    "  $est_mean: y\n",
    "```\n",
    "\n",
    "defines two modules which compute the trimmed mean of the pipeline variable\n",
    "`$data`, with different levels of trimming (0 or 0.2), and output\n",
    "the result as the pipeline variable `$est_mean`.\n",
    "\n",
    "Schematically we might represent this as:\n",
    "\n",
    "```\n",
    "# trim_mean(trim=0): $data -> $est_mean\n",
    "# trim_mean(trim=0.2): $data -> $est_mean\n",
    "```\n",
    "\n",
    "to indicate we have two different modules, each of which take input\n",
    "`$data` and output `$est_mean`."
   ]
  },
  {
   "cell_type": "markdown",
   "metadata": {},
   "source": [
    "## Defining more complex module parameters\n",
    "\n",
    "Example goes here."
   ]
  },
  {
   "cell_type": "markdown",
   "metadata": {},
   "source": [
    "## Defining module parameters with many alternative values\n",
    "\n",
    "Example for this section: \n",
    "\n",
    "Start with an example in which the different values of n are 10^1, 10^1.5, 10^2, etc, all defined within R().\n",
    "\n",
    "Then generate many simulated data sets with different values of n, from very small (10) to very large (1e6) using R{}. \n",
    "\n",
    "Finally, run the code and show that it works."
   ]
  },
  {
   "cell_type": "markdown",
   "metadata": {},
   "source": [
    "## Recap\n",
    "\n",
    "Add recap here."
   ]
  },
  {
   "cell_type": "markdown",
   "metadata": {},
   "source": [
    "## Exploring further\n",
    "\n",
    "In this tutorial, we introduced the most essential features of DSC that are sufficient to . There are many other features of DSC that we did not have a chance to mention in these introductory tutorial.  "
   ]
  }
 ],
 "metadata": {
  "Rmd_header": {
   "author": "Matthew Stephens",
   "date": "2/26/2018",
   "output": "html_document",
   "title": "dsc_intro_partIII.rmd"
  },
  "kernelspec": {
   "display_name": "R",
   "language": "R",
   "name": "ir"
  },
  "language_info": {
   "codemirror_mode": "r",
   "file_extension": ".r",
   "mimetype": "text/x-r-source",
   "name": "R",
   "pygments_lexer": "r",
   "version": "3.4.3"
  }
 },
 "nbformat": 4,
 "nbformat_minor": 1
}
