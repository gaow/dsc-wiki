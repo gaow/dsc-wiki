{
 "cells": [
  {
   "cell_type": "markdown",
   "metadata": {},
   "source": [
    "# Introduction to DSC\n",
    "\n",
    "*Add a 1–3 sentence summary here explaining what this tutorial is about---who this tutorial is for, and what you will learn from it.*"
   ]
  },
  {
   "cell_type": "markdown",
   "metadata": {},
   "source": [
    "## Overview\n",
    "\n",
    "Suppose we want to compare several methods for a particular inference task, denoted by $I$. For example, $I$ could be:\n",
    "\n",
    "+ Predict the missing entries of a matrix;\n",
    "\n",
    "+ Estimate a covariance matrix from a data sample; \n",
    "\n",
    "+ Estimate a regression function relating outcome $Y$ to covariates (features) $X$.\n",
    "\n",
    "For these three tasks, and others, we could conduct a benchmarking experiment to compare methods to perform $I$ by repeating the following three steps:\n",
    "\n",
    "  1. Simulate some data suitable for performing $I$.\n",
    "  \n",
    "  2. Analyze the data with a method designed to perform $I$.\n",
    "  \n",
    "  3. Score how well the method performed $I$ (e.g., by comparing the methods' estimates against the ground-truth provided by the simulation).\n",
    "\n",
    "DSC can handle more complex settings than this, but this basic structure suffices to explain the key concepts. We call this basic structure the \"simulate-analyze-score\" design pattern."
   ]
  },
  {
   "cell_type": "markdown",
   "metadata": {},
   "source": [
    "### DSC modules, groups, and pipelines\n",
    "\n",
    "Typically we will want to try different ways of implementating steps 1–3; that is, different ways to simulate the data, different ways to analyze the data, and different ways to score how well a method performed. \n",
    "\n",
    "In DSC, each different way of implementing a step is expressed as a \"module\", and then a \"group of modules\" defines the collection of alternative approaches.\n",
    "\n",
    "In our example, we define:\n",
    "\n",
    "1. A group of `simulate` modules, each of which can perform step 1;\n",
    "\n",
    "2. A group of `analyze` modules, each of which can perform step 2; and \n",
    "\n",
    "3. A group of `score` modules, each of which can perform step 3. \n",
    "\n",
    "Running the benchmark then consists of running sequences of modules—what we call \"pipelines\"—and each pipeline invokes one module from the `simulate` group, followed by a module from the `analyze` group, and then a module from the `score` group.\n",
    "\n",
    "DSC provides a flexible and easy-to-use language to manage and run benchmarks like these, as well as more complex ones. The modular design makes it easy to extend benchmarks (e.g., by defining a new `analyze` module)—hence the \"Dynamic\" in in *Dynamic Statistical Comparisons.* And DSC will efficiently use available computational resources by running modules in parallel when possible; for example, once a `simulate` module has created a dataset, DSC may run multiple `analyze` modules in parallel."
   ]
  },
  {
   "cell_type": "markdown",
   "metadata": {},
   "source": [
    "### Running benchmarks with DSC\n",
    "\n",
    "These are the essential ingredients of a DSC benchmark:\n",
    "\n",
    "1. Create a \"DSC file\" defining the modules, groups and pipelines, and how information flows from one module to another. The DSC file is a text file written in the custom DSC syntax illustrated below (and explained in more detail in [Part II of the Introduction](First_Course_Elaborated.html)). \n",
    "\n",
    "2. Call the `dsc` command-line program. This runs all pipelines defined by the DSC file, and saves the results to files in a structured way that makes them easy to query.\n",
    "\n",
    "3. Query and summarize the results. We provide two querying interfaces. In this tutorial, we will demonstrate the R interface, which provides a convenient way of reading the DSC results into an R data frame. We also provide a command-line tool, `dsc-query`, which is demonstrated in other tutorials."
   ]
  },
  {
   "cell_type": "markdown",
   "metadata": {
    "kernel": "SoS"
   },
   "source": [
    "## Example\n",
    "\n",
    "We now illustrate how DSC can be used to implement a simple benchmark. \n",
    "\n",
    "In this example, we have a very simple task: estimate the mean of a population given a random sample from the population. \n",
    "\n",
    "We will compare two methods for estimating the population mean: the sample mean and the sample median. \n",
    "\n",
    "We will simulate under two different population distributions: a *t* distribution and a normal distribution. \n",
    "\n",
    "And we will compute accuracy using two different metrics: squared error, and absolute error.\n",
    "\n",
    "### The DSC file\n",
    "\n",
    "We implement this DSC in [R](https://cran.r-project.org/). Material used, including the DSC file, \n",
    "can be found in the [DSC vignettes repository](https://github.com/stephenslab/dsc/tree/master/vignettes/one_sample_location). \n",
    "\n",
    "Here, we give only a high-level overview of the DSC file, `first_investigation.dsc`, deferring a more detailed explanation of the syntax to [Part II of the Introduction](First_Course_Elaborated.html). This is the DSC file:"
   ]
  },
  {
   "cell_type": "markdown",
   "metadata": {},
   "source": [
    "```\n",
    "# Simulate samples from the normal distribution with mean 0 and\n",
    "# standard deviation 1.\n",
    "normal: R(x = rnorm(n,mean = mu,sd = 1))\n",
    "  mu: 0\n",
    "  n: 100\n",
    "  $data: x\n",
    "  $true_mean: mu\n",
    "\n",
    "# Simulate samples from the non-centered t-distribution with 3 degrees\n",
    "# of freedom.\n",
    "t: R(x = mu + rt(n,df = 2))\n",
    "  mu: 3\n",
    "  n: 100\n",
    "  $data: x\n",
    "  $true_mean: mu\n",
    "\n",
    "# Estimate the population mean by computing the mean value of the\n",
    "# provided sample.\n",
    "mean: R(y = mean(x))\n",
    "  x: $data\n",
    "  $est_mean: y\n",
    "\n",
    "# Estimate the population mean by computing the median value of the\n",
    "# provided sample.\n",
    "median: R(y = median(x))\n",
    "  x: $data\n",
    "  $est_mean: y  \n",
    "  \n",
    "# Compute the error in the estimated mean by taking the squared\n",
    "# difference between the true mean and the estimated mean.\n",
    "sq_err: R(e = (x - y)^2)\n",
    "  x: $est_mean\n",
    "  y: $true_mean\n",
    "  $error: e\n",
    "\n",
    "# Compute the error in the estimated mean by taking the absolute\n",
    "# difference between the true mean and the estimated mean.\n",
    "abs_err: R(e = abs(x - y))\n",
    "  x: $est_mean\n",
    "  y: $true_mean\n",
    "  $error: e\n",
    "\n",
    "DSC:\n",
    "    define:\n",
    "      simulate: normal, t\n",
    "      analyze: mean, median\n",
    "      score: abs_err, sq_err\n",
    "    run: simulate * analyze * score\n",
    "```\n",
    "\n",
    "This DSC file defines six modules: \n",
    "\n",
    "+ two `simulate` modules  (`normal`, `t`),\n",
    "\n",
    "+ two `analyze` modules (`mean`, `median`), and\n",
    "\n",
    "+ two `score` modules (`sq_err`,`abs_err`). \n",
    "\n",
    "Each module in this example involves only one line of R code (usually the modules will be implemented in many lines of code, in which case the code can live in separate files).\n",
    "\n",
    "The DSC file then defines the module groups (`simulate`,`analyze` and `score`) and the pipelines to run (`simulate * analyze * score` indicates that all combinations of the `simulate`, `analyze` and `score` modules should be run in sequence)."
   ]
  },
  {
   "cell_type": "markdown",
   "metadata": {},
   "source": [
    "### Run DSC "
   ]
  },
  {
   "cell_type": "markdown",
   "metadata": {},
   "source": [
    "To run DSC, we first change directory to the location of the `first_investigation.dsc` file."
   ]
  },
  {
   "cell_type": "code",
   "execution_count": 2,
   "metadata": {
    "kernel": "SoS"
   },
   "outputs": [
    {
     "name": "stdout",
     "output_type": "stream",
     "text": [
      "/Users/pcarbo/git/dsc/vignettes/one_sample_location"
     ]
    }
   ],
   "source": [
    "%cd ~/git/dsc/vignettes/one_sample_location"
   ]
  },
  {
   "cell_type": "markdown",
   "metadata": {},
   "source": [
    "Now we use the `dsc` command-line program to run 10 replicates of this benchmark (each replicate using a different random number seed), with 2 threads:"
   ]
  },
  {
   "cell_type": "code",
   "execution_count": 3,
   "metadata": {
    "kernel": "SoS",
    "output_cache": "[]"
   },
   "outputs": [
    {
     "name": "stdout",
     "output_type": "stream",
     "text": [
      "INFO: DSC script exported to \u001b[32mfirst_investigation.html\u001b[0m\n",
      "INFO: Constructing DSC from \u001b[32mfirst_investigation.dsc\u001b[0m ...\n",
      "INFO: Building execution graph & running DSC ...\n",
      "DSC: 100%|██████████████████████████████████████| 15/15 [00:21<00:00,  1.15s/it]\n",
      "INFO: Building DSC database ...\n",
      "INFO: DSC complete!\n",
      "INFO: Elapsed time \u001b[32m23.562\u001b[0m seconds.\n"
     ]
    }
   ],
   "source": [
    "! dsc first_investigation.dsc --replicate 10 -c 2"
   ]
  },
  {
   "cell_type": "markdown",
   "metadata": {
    "collapsed": true
   },
   "source": [
    "(For first time users of DSC with `R`, a companion `R` package `dscrutils` will be automatically installed at this point.)\n",
    "\n",
    "When run, DSC will create results files in the folder `first_investigation` (this is the default folder name, and can be changed in the DSC file). Below, we will see how to query these results and read them into R.\n",
    "\n",
    "In addition, DSC will create a webpage summarizing the results (in this example, it is `first_investigation.html` in the working directory). This file allows you to conveniently browse the DSC file, executed pipelines, and the corresponding source code."
   ]
  },
  {
   "cell_type": "markdown",
   "metadata": {},
   "source": [
    "### Query and visualize results\n",
    "\n",
    "We can now read the results into R using the `dscquery` function from the `dscrutils` package. Since this example is small, it is convenient to load all the results into an R data frame and explore the data frame in the R environment. In more complex examples, one might want to start by extracting subsets of results; type `help(dscquery)` in R for more information."
   ]
  },
  {
   "cell_type": "code",
   "execution_count": 6,
   "metadata": {
    "kernel": "R",
    "output_cache": "[{\"name\":\"stderr\",\"text\":\"INFO: DSC script exported to \\u001b[32msettings.html\\u001b[0m\\nINFO: Constructing DSC from \\u001b[32msettings.dsc\\u001b[0m ...\\n\\rDSC:   0%|          | 0/11 [00:00<?, ?it/s]\\rDSC:   9%|▉         | 1/11 [00:01<00:18,  1.83s/it]\\rDSC:  27%|██▋       | 3/11 [00:05<00:14,  1.78s/it]\\rDSC:  45%|████▌     | 5/11 [00:05<00:07,  1.26s/it]\\rDSC:  64%|██████▎   | 7/11 [00:08<00:05,  1.37s/it]\\rDSC:  73%|███████▎  | 8/11 [00:08<00:02,  1.01it/s]\\rDSC:  82%|████████▏ | 9/11 [00:08<00:01,  1.39it/s]\\rDSC: 100%|██████████| 11/11 [00:08<00:00,  1.92it/s]\\nINFO: Building output database \\u001b[32mdsc_result.rds\\u001b[0m ...\\nINFO: DSC complete!\\nINFO: Elapsed time \\u001b[32m10.278\\u001b[0m seconds.\\n\",\"output_type\":\"stream\"}]"
   },
   "outputs": [
    {
     "name": "stdout",
     "output_type": "stream",
     "text": [
      "Running shell command:\n",
      "dsc-query first_investigation -o /var/folders/9b/ck4lp8s140lcksryyh4dppdr0000gn/T//RtmpLzk52p/dsc/query.csv -f --target simulate analyze score.error \n",
      "Loading dsc-query output from CSV file.\n",
      "Reading DSC outputs:\n",
      " - score.error: extracted atomic values\n"
     ]
    }
   ],
   "source": [
    "library(dscrutils)\n",
    "dscout <- dscquery(dsc.outdir = \"first_investigation\",\n",
    "                   targets    = c(\"simulate\",\"analyze\",\"score.error\"))"
   ]
  },
  {
   "cell_type": "code",
   "execution_count": 8,
   "metadata": {
    "kernel": "R",
    "output_cache": "[{\"name\":\"stderr\",\"text\":\"INFO: DSC script exported to \\u001b[32msettings.html\\u001b[0m\\nINFO: Constructing DSC from \\u001b[32msettings.dsc\\u001b[0m ...\\n\\rDSC:   0%|          | 0/11 [00:00<?, ?it/s]\\rDSC:   9%|▉         | 1/11 [00:01<00:18,  1.83s/it]\\rDSC:  27%|██▋       | 3/11 [00:05<00:14,  1.78s/it]\\rDSC:  45%|████▌     | 5/11 [00:05<00:07,  1.26s/it]\\rDSC:  64%|██████▎   | 7/11 [00:08<00:05,  1.37s/it]\\rDSC:  73%|███████▎  | 8/11 [00:08<00:02,  1.01it/s]\\rDSC:  82%|████████▏ | 9/11 [00:08<00:01,  1.39it/s]\\rDSC: 100%|██████████| 11/11 [00:08<00:00,  1.92it/s]\\nINFO: Building output database \\u001b[32mdsc_result.rds\\u001b[0m ...\\nINFO: DSC complete!\\nINFO: Elapsed time \\u001b[32m10.278\\u001b[0m seconds.\\n\",\"output_type\":\"stream\"}]",
    "scrolled": false
   },
   "outputs": [
    {
     "data": {
      "text/html": [
       "<table>\n",
       "<thead><tr><th scope=col>DSC</th><th scope=col>simulate</th><th scope=col>simulate.output.file</th><th scope=col>analyze</th><th scope=col>analyze.output.file</th><th scope=col>score</th><th scope=col>score.error</th></tr></thead>\n",
       "<tbody>\n",
       "\t<tr><td>1                   </td><td>normal              </td><td>normal/normal_1     </td><td>mean                </td><td>mean/normal_1_mean_1</td><td>abs_err             </td><td>0.17623             </td></tr>\n",
       "\t<tr><td>2                   </td><td>normal              </td><td>normal/normal_2     </td><td>mean                </td><td>mean/normal_2_mean_1</td><td>abs_err             </td><td>0.19146             </td></tr>\n",
       "\t<tr><td>3                   </td><td>normal              </td><td>normal/normal_3     </td><td>mean                </td><td>mean/normal_3_mean_1</td><td>abs_err             </td><td>0.08066             </td></tr>\n",
       "\t<tr><td>4                   </td><td>normal              </td><td>normal/normal_4     </td><td>mean                </td><td>mean/normal_4_mean_1</td><td>abs_err             </td><td>0.10196             </td></tr>\n",
       "\t<tr><td>5                   </td><td>normal              </td><td>normal/normal_5     </td><td>mean                </td><td>mean/normal_5_mean_1</td><td>abs_err             </td><td>0.04323             </td></tr>\n",
       "\t<tr><td>6                   </td><td>normal              </td><td>normal/normal_6     </td><td>mean                </td><td>mean/normal_6_mean_1</td><td>abs_err             </td><td>0.10035             </td></tr>\n",
       "</tbody>\n",
       "</table>\n"
      ],
      "text/latex": [
       "\\begin{tabular}{r|lllllll}\n",
       " DSC & simulate & simulate.output.file & analyze & analyze.output.file & score & score.error\\\\\n",
       "\\hline\n",
       "\t 1                          & normal                     & normal/normal\\_1          & mean                       & mean/normal\\_1\\_mean\\_1 & abs\\_err                  & 0.17623                   \\\\\n",
       "\t 2                          & normal                     & normal/normal\\_2          & mean                       & mean/normal\\_2\\_mean\\_1 & abs\\_err                  & 0.19146                   \\\\\n",
       "\t 3                          & normal                     & normal/normal\\_3          & mean                       & mean/normal\\_3\\_mean\\_1 & abs\\_err                  & 0.08066                   \\\\\n",
       "\t 4                          & normal                     & normal/normal\\_4          & mean                       & mean/normal\\_4\\_mean\\_1 & abs\\_err                  & 0.10196                   \\\\\n",
       "\t 5                          & normal                     & normal/normal\\_5          & mean                       & mean/normal\\_5\\_mean\\_1 & abs\\_err                  & 0.04323                   \\\\\n",
       "\t 6                          & normal                     & normal/normal\\_6          & mean                       & mean/normal\\_6\\_mean\\_1 & abs\\_err                  & 0.10035                   \\\\\n",
       "\\end{tabular}\n"
      ],
      "text/markdown": [
       "\n",
       "DSC | simulate | simulate.output.file | analyze | analyze.output.file | score | score.error | \n",
       "|---|---|---|---|---|---|\n",
       "| 1                    | normal               | normal/normal_1      | mean                 | mean/normal_1_mean_1 | abs_err              | 0.17623              | \n",
       "| 2                    | normal               | normal/normal_2      | mean                 | mean/normal_2_mean_1 | abs_err              | 0.19146              | \n",
       "| 3                    | normal               | normal/normal_3      | mean                 | mean/normal_3_mean_1 | abs_err              | 0.08066              | \n",
       "| 4                    | normal               | normal/normal_4      | mean                 | mean/normal_4_mean_1 | abs_err              | 0.10196              | \n",
       "| 5                    | normal               | normal/normal_5      | mean                 | mean/normal_5_mean_1 | abs_err              | 0.04323              | \n",
       "| 6                    | normal               | normal/normal_6      | mean                 | mean/normal_6_mean_1 | abs_err              | 0.10035              | \n",
       "\n",
       "\n"
      ],
      "text/plain": [
       "  DSC simulate simulate.output.file analyze analyze.output.file  score  \n",
       "1 1   normal   normal/normal_1      mean    mean/normal_1_mean_1 abs_err\n",
       "2 2   normal   normal/normal_2      mean    mean/normal_2_mean_1 abs_err\n",
       "3 3   normal   normal/normal_3      mean    mean/normal_3_mean_1 abs_err\n",
       "4 4   normal   normal/normal_4      mean    mean/normal_4_mean_1 abs_err\n",
       "5 5   normal   normal/normal_5      mean    mean/normal_5_mean_1 abs_err\n",
       "6 6   normal   normal/normal_6      mean    mean/normal_6_mean_1 abs_err\n",
       "  score.error\n",
       "1 0.17623    \n",
       "2 0.19146    \n",
       "3 0.08066    \n",
       "4 0.10196    \n",
       "5 0.04323    \n",
       "6 0.10035    "
      ]
     },
     "metadata": {},
     "output_type": "display_data"
    }
   ],
   "source": [
    "head(dscout)"
   ]
  },
  {
   "cell_type": "markdown",
   "metadata": {},
   "source": [
    "Once the results are in an R data frame like this, we can easily use standard functions in R to investigate them further.\n",
    "\n",
    "For example, we can easily generate an informative summary of the results using the `aggregate` function, followed by a call to the `order` function to arrange the rows so that it is easier to compare the mean and median estimates:"
   ]
  },
  {
   "cell_type": "code",
   "execution_count": 15,
   "metadata": {
    "kernel": "R"
   },
   "outputs": [
    {
     "data": {
      "text/html": [
       "<table>\n",
       "<thead><tr><th></th><th scope=col>simulate</th><th scope=col>analyze</th><th scope=col>score</th><th scope=col>score.error</th></tr></thead>\n",
       "<tbody>\n",
       "\t<tr><th scope=row>1</th><td>normal </td><td>mean   </td><td>abs_err</td><td>0.09866</td></tr>\n",
       "\t<tr><th scope=row>3</th><td>normal </td><td>median </td><td>abs_err</td><td>0.08295</td></tr>\n",
       "\t<tr><th scope=row>5</th><td>normal </td><td>mean   </td><td>sq_err </td><td>0.01220</td></tr>\n",
       "\t<tr><th scope=row>7</th><td>normal </td><td>median </td><td>sq_err </td><td>0.01262</td></tr>\n",
       "\t<tr><th scope=row>2</th><td>t      </td><td>mean   </td><td>abs_err</td><td>0.14443</td></tr>\n",
       "\t<tr><th scope=row>4</th><td>t      </td><td>median </td><td>abs_err</td><td>0.09216</td></tr>\n",
       "\t<tr><th scope=row>6</th><td>t      </td><td>mean   </td><td>sq_err </td><td>0.03671</td></tr>\n",
       "\t<tr><th scope=row>8</th><td>t      </td><td>median </td><td>sq_err </td><td>0.01276</td></tr>\n",
       "</tbody>\n",
       "</table>\n"
      ],
      "text/latex": [
       "\\begin{tabular}{r|llll}\n",
       "  & simulate & analyze & score & score.error\\\\\n",
       "\\hline\n",
       "\t1 & normal    & mean      & abs\\_err & 0.09866  \\\\\n",
       "\t3 & normal    & median    & abs\\_err & 0.08295  \\\\\n",
       "\t5 & normal    & mean      & sq\\_err  & 0.01220  \\\\\n",
       "\t7 & normal    & median    & sq\\_err  & 0.01262  \\\\\n",
       "\t2 & t         & mean      & abs\\_err & 0.14443  \\\\\n",
       "\t4 & t         & median    & abs\\_err & 0.09216  \\\\\n",
       "\t6 & t         & mean      & sq\\_err  & 0.03671  \\\\\n",
       "\t8 & t         & median    & sq\\_err  & 0.01276  \\\\\n",
       "\\end{tabular}\n"
      ],
      "text/markdown": [
       "\n",
       "| <!--/--> | simulate | analyze | score | score.error | \n",
       "|---|---|---|---|---|---|---|---|\n",
       "| 1 | normal  | mean    | abs_err | 0.09866 | \n",
       "| 3 | normal  | median  | abs_err | 0.08295 | \n",
       "| 5 | normal  | mean    | sq_err  | 0.01220 | \n",
       "| 7 | normal  | median  | sq_err  | 0.01262 | \n",
       "| 2 | t       | mean    | abs_err | 0.14443 | \n",
       "| 4 | t       | median  | abs_err | 0.09216 | \n",
       "| 6 | t       | mean    | sq_err  | 0.03671 | \n",
       "| 8 | t       | median  | sq_err  | 0.01276 | \n",
       "\n",
       "\n"
      ],
      "text/plain": [
       "  simulate analyze score   score.error\n",
       "1 normal   mean    abs_err 0.09866    \n",
       "3 normal   median  abs_err 0.08295    \n",
       "5 normal   mean    sq_err  0.01220    \n",
       "7 normal   median  sq_err  0.01262    \n",
       "2 t        mean    abs_err 0.14443    \n",
       "4 t        median  abs_err 0.09216    \n",
       "6 t        mean    sq_err  0.03671    \n",
       "8 t        median  sq_err  0.01276    "
      ]
     },
     "metadata": {},
     "output_type": "display_data"
    }
   ],
   "source": [
    "dscsummary <- aggregate(score.error ~ simulate + analyze + score,dscout,mean)\n",
    "dscsummary[with(dscsummary,order(simulate,score)),]"
   ]
  },
  {
   "cell_type": "markdown",
   "metadata": {},
   "source": [
    "From this table, we see that the median is a more accurate estimate of the population mean for *t*-distributed data, and it is also a better estimate for normally distributed data judging as measured by the absolute error, but not if we look at the squared differences."
   ]
  },
  {
   "cell_type": "markdown",
   "metadata": {},
   "source": [
    "Next, we use the `ggplot2` package to create a plot summarizing the results with the squared-error metric:"
   ]
  },
  {
   "cell_type": "code",
   "execution_count": 111,
   "metadata": {
    "kernel": "R"
   },
   "outputs": [
    {
     "data": {
      "image/png": "[encoded data removed]",
      "text/plain": [
       "plot without title"
      ]
     },
     "metadata": {},
     "output_type": "display_data"
    }
   ],
   "source": [
    "# Load the ggplot2 package and set up graphics within the Jupyter environment.\n",
    "library(ggplot2)\n",
    "library(repr)\n",
    "options(repr.plot.width = 3.5,repr.plot.height = 2.5)\n",
    "\n",
    "# Select the DSC results with the squared-error metric only.\n",
    "pdat <- subset(dscout,score == \"sq_err\")\n",
    "\n",
    "# Create a combined violin and dotplot summarizing the accuracy of \n",
    "# the two analysis methods (\"mean\" and \"median\")\n",
    "p <- ggplot(pdat,aes(x = analyze,y = score.error,fill = simulate)) + \n",
    "    geom_violin(fill = \"lightskyblue\",color = \"lightskyblue\") +\n",
    "    geom_dotplot(binaxis = \"y\",stackdir = \"center\",binwidth = 0.01,\n",
    "                 dotsize = 0.4,color = \"white\")\n",
    "\n",
    "# Make a few adjustments to the plot to make it more readable.\n",
    "p <- p + scale_fill_manual(values = c(\"navyblue\",\"orangered\")) +\n",
    "    labs(x     = \"analysis method\",\n",
    "         y     = \"squared error\",\n",
    "         title = \"Results from normal & t simulations\") +\n",
    "    theme_minimal() +\n",
    "    theme(panel.grid.major = element_blank(),\n",
    "          panel.grid.minor = element_blank())\n",
    "print(p)"
   ]
  },
  {
   "cell_type": "markdown",
   "metadata": {},
   "source": [
    "Although our first example is very simple, it shows that the results of a DSC experiment can be quickly loaded into R, and they can be explored using standard tools in R and popular R packages such as ggplot2."
   ]
  },
  {
   "cell_type": "markdown",
   "metadata": {},
   "source": [
    "## Next steps\n",
    "\n",
    "To learn more about the syntax of the DSC file so that you can develop your own DSCs, read [Part II of this Introduction to DSC](First_Course_Elaborated.html)."
   ]
  }
 ],
 "metadata": {
  "kernelspec": {
   "display_name": "SoS",
   "language": "sos",
   "name": "sos"
  },
  "language_info": {
   "codemirror_mode": "sos",
   "file_extension": ".sos",
   "mimetype": "text/x-sos",
   "name": "sos",
   "nbconvert_exporter": "sos_notebook.converter.SoS_Exporter",
   "pygments_lexer": "sos"
  },
  "sos": {
   "celltoolbar": true,
   "default_kernel": "SoS",
   "kernels": [
    [
     "SoS",
     "sos",
     "",
     ""
    ],
    [
     "R",
     "ir",
     "R",
     ""
    ],
    [
     "Bash",
     "bash",
     "Bash",
     "#E6EEFF"
    ],
    [
     "Python3",
     "python3",
     "Python3",
     "#FFE771"
    ],
    [
     "julia-0.6",
     "julia-0.6",
     "",
     ""
    ]
   ],
   "panel": {
    "displayed": true,
    "height": 0,
    "style": "side"
   },
   "version": "0.9.12.9"
  }
 },
 "nbformat": 4,
 "nbformat_minor": 1
}
