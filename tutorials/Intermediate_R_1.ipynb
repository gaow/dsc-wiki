{
 "cells": [
  {
   "cell_type": "markdown",
   "metadata": {},
   "source": [
    "# An R example: ashr benchmark"
   ]
  },
  {
   "cell_type": "markdown",
   "metadata": {},
   "source": [
    "This is a more advanced application of DSC with R scripts. We demonstrate in this tutorial features of DSC2 including:\n",
    "\n",
    "*  Inline code as parameters\n",
    "*  `@ALIAS` decorator\n",
    "*  R library installation and version check"
   ]
  },
  {
   "cell_type": "markdown",
   "metadata": {},
   "source": [
    "## DSC Problem\n",
    "The DSC problem is based on the ASH example of DSCR ([R Markdown version](https://github.com/stephens999/dscr/blob/master/vignettes/dsc_shrink.rmd) and [HTML version](dscr_dsc_shrink.html)). Material to run this tutorial can be found in [DSC2 vignettes repo](https://github.com/stephenslab/dsc2/tree/master/vignettes/ash). Description below is copied from the DSCR vignette:\n",
    "\n",
    "> To illustrate we consider the problem of shrinkage, which is tackled by the `ashr` package at [http://www.github.com/stephens999/ashr](http://www.github.com/stephens999/ashr). The input to this DSC is a set of estimates $\\hat\\beta$,  with associated standard errors $s$. These values are estimates of actual (true) values for $\\beta$, so the meta-data in this case are the true values of beta. Methods must take $\\hat\\beta$ and $s$ as input, and provide as output \"shrunk\" estimates for $\\beta$ (so output is a list with one element, called `beta_est`, which is a vector of estimates for beta). The score function then scores methods on their RMSE comparing `beta_est` with beta.\n",
    "\n",
    "> First define a datamaker which simulates true values of $\\beta$ from a user-specified normal mixture, where one of the components is a point mass at 0 of mass $\\pi_0$, which is a user-specified parameter. It then simulates $\\hat\\beta \\sim N(\\beta_j,s_j)$ (where $s_j$ is again user-specified). It returns the true $\\beta$ values and true $\\pi_0$ value as meta-data, and the estimates $\\hat\\beta$ and $s$ as input-data.\n",
    "\n",
    "\n",
    "> Now define a [method wrapper](https://github.com/stephenslab/dsc2/blob/master/vignettes/ash/bin/runash.R) for the `ash` function from the `ashr` package. Notice that this wrapper does not return output in the required format - it simply returns the entire ash output.\n",
    "\n",
    "> Finally add a generic (can be used to deal with both $\\pi$ and $\\beta$) [score function](https://github.com/stephenslab/dsc2/blob/master/vignettes/ash/bin/score.R) to evaluate estimates by `ash`."
   ]
  },
  {
   "cell_type": "markdown",
   "metadata": {},
   "source": [
    "## DSC Specification\n",
    "The problem is fully specified in DSC2 language below, following the structure of the original DSCR implementation:\n",
    "\n",
    "```\n",
    "# module alias and executables\n",
    "simulate: datamaker.R\n",
    "    # module input and variables\n",
    "    seed: R(1:5)\n",
    "    g: raw(ashr::normalmix(c(2/3,1/3),c(0,0),c(1,2))),\n",
    "       raw(ashr::normalmix(rep(1/7,7),c(-1.5,-1,-0.5,0,0.5,1,1.5),rep(0.5,7))),\n",
    "       raw(ashr::normalmix(c(1/4,1/4,1/3,1/6),c(-2,-1,0,1),c(2,1.5,1,1)))\n",
    "    min_pi0: 0\n",
    "    max_pi0: 1\n",
    "    nsamp: 1000\n",
    "    betahatsd: 1\n",
    "    # module decoration\n",
    "    @ALIAS: args = list()\n",
    "    @CONF: queue = midway\n",
    "    # module output\n",
    "    $data: data\n",
    "    $true_beta: raw(data$meta$beta)\n",
    "    $true_pi0: raw(data$meta$pi0)\n",
    "\n",
    "shrink: runash.R\n",
    "    # module input and variables\n",
    "    input: $data\n",
    "    mixcompdist: normal, halfuniform\n",
    "    # module output\n",
    "    $ash_data: ash_data\n",
    "    $beta_est: raw(ashr::get_pm(ash_data))\n",
    "    $pi0_est: raw(ashr::get_pi0(ash_data))\n",
    "\n",
    "score_beta: score.R\n",
    "    # module input and variables\n",
    "    est: $true_beta\n",
    "    truth: $beta_est\n",
    "    # module output aka pipeline variable\n",
    "    $mse_beta: result\n",
    "\n",
    "score_pi0: score.R\n",
    "    # module input and variables\n",
    "    est: $pi0_est\n",
    "    truth: $true_pi0\n",
    "    # module output\n",
    "    $mse_pi: result\n",
    "\n",
    "DSC:\n",
    "    # module ensembles\n",
    "    define:\n",
    "      score: score_beta, score_pi0\n",
    "    # pipelines\n",
    "    run: simulate * shrink * score\n",
    "    # runtime environments\n",
    "    R_libs: ashr@stephens999/ashr (2.0.0+)\n",
    "    exec_path: bin\n",
    "    output: dsc_result\n",
    "    # pipeline variables, will overwrite any module variables of the same name\n",
    "    # it is also place to config the global random number generator\n",
    "```"
   ]
  },
  {
   "cell_type": "markdown",
   "metadata": {},
   "source": [
    "It is suggested that you check out the corresponding R codes for modules [`simulate`](https://github.com/stephenslab/dsc2/blob/master/vignettes/ash/bin/datamaker.R), [`shrink`](https://github.com/stephenslab/dsc2/blob/master/vignettes/ash/bin/runash.R) and the [score function](https://github.com/stephenslab/dsc2/blob/master/vignettes/ash/bin/score.R) to figure out how DSC2 communicates with your R scripts.\n",
    "\n",
    "Here we will walk through all modules to highlight important syntactical elements."
   ]
  },
  {
   "cell_type": "markdown",
   "metadata": {},
   "source": [
    "### Module `simulate`\n",
    "#### Inline code as parameters and output values\n",
    "The parameter `g` has three candidate values, all of which are R codes inside `raw()` function. Contents inside `raw()` will be interpreted as functional code pieces rather than strings. In other words, DSC2 will interpret it as `g <- ashr::normalmix(c(2/3,1/3),c(0,0),c(1,2))` so that `g` will be assigned **at runtime** output of R codes in `raw()` for use with `datamaker.R`. Without `raw`, this line will be interpreted as a string assigned to `g` which apparently is problematic. Similarly, `$true_beta: raw(data$meta$beta)` extracts data at runtime and assign it to output variable."
   ]
  },
  {
   "cell_type": "markdown",
   "metadata": {},
   "source": [
    "#### Decorator `@ALIAS` for R list\n",
    "Inside `datamaker.R` the input for the core function is a single parameter of an R [list](http://www.r-tutor.com/r-introduction/list) containing all parameters specified in this module. The decorator `@ALIAS` uses a special DSC2 operation `List()` to consolidate these parameters into an R list `args` which corresponds to the input parameter in `datamaker.R`."
   ]
  },
  {
   "cell_type": "markdown",
   "metadata": {},
   "source": [
    "### Module `shrink` \n",
    "Here notice the output variable are also provided at runtime via \"raw\" pieces of R codes, which, in this case, is `get_pi0` function from `ashr` package."
   ]
  },
  {
   "cell_type": "markdown",
   "metadata": {},
   "source": [
    "### Module `beta_score` & `pi0_score`\n",
    "These modules uses the same computational routine `score.R` but on different input data. Due to differences in variable names it is best to configure them in separate blocks. However an alternative style that configures them in the same block is:\n",
    "\n",
    "```\n",
    "score_beta, score_pi0: score.R\n",
    "    @score_beta:\n",
    "        est: $true_beta\n",
    "        truth: $beta_est\n",
    "        $mse_beta: result\n",
    "    @score_pi0:\n",
    "        est: $pi0_est\n",
    "        truth: $true_pi0\n",
    "        $mse_pi: result        \n",
    "```\n",
    "\n",
    "Here `@*` are module specific variable decorations that configures input and output such that different modules can be allowed in the same block. \n",
    "\n",
    "Notice that different from the [DSCR ASH example](https://github.com/stephens999/dscr/blob/master/vignettes/dsc_shrink.rmd) the output score is an \"atomic\" value (a float of RMSE). If the outcome object `result` is not such a simple object, for example it returns an R list, then you may want to use the `raw` operator to only keep the information you need so that they'll be readily extractable in the benchmark query process. To do so, e.g., `$mse_pi: raw(score_output$mse)`."
   ]
  },
  {
   "cell_type": "markdown",
   "metadata": {},
   "source": [
    "### `DSC` section\n",
    "As has been discussed in previous tutorials, `DSC::run` defines module ensembles and executes essentially two pipelines (one ending with `score_beta` another with `score_pi0`). The `R_libs` entry specifies the R package required by the DSC. It is formatted as a github package (`repo/pkg`) and the minimal version requirement is `2.0.0`. DSC will check first if the package is available, and install it if necessary. It will then check its version and quit on error if it does not satisfy the requirement. **DSC does not attempt to upgrade/downgrade a package in cases of version mismatch.**"
   ]
  },
  {
   "cell_type": "markdown",
   "metadata": {},
   "source": [
    "## Execution logic\n",
    "This diagram (generated by `dot` command using the execution graph from this DSC) shows the logic of this benchmark:\n",
    "\n",
    "![ash.png](../img/ash.png)"
   ]
  },
  {
   "cell_type": "markdown",
   "metadata": {},
   "source": [
    "## Run DSC"
   ]
  },
  {
   "cell_type": "code",
   "execution_count": 2,
   "metadata": {
    "kernel": "SoS",
    "output_cache": "[{\"name\":\"stderr\",\"text\":\"INFO: Checking R library \\u001b[32mstephens999/ashr\\u001b[0m ...\\nINFO: DSC script exported to \\u001b[32mdsc_result.html\\u001b[0m\\nINFO: Constructing DSC from \\u001b[32msettings.dsc\\u001b[0m ...\\nINFO: Building execution graph ...\\n\\rDSC:   0%|          | 0/5 [00:00<?, ?it/s]\\rDSC:  20%|██        | 1/5 [00:16<01:05, 16.42s/it]\\rRunning shrink: \\rRunning core_shrink_1 (runash): \\rRunning shrink (00:02:00): \\rRunning core_shrink_1 (runash) (00:02:00): \\n\\n\\rDSC:  40%|████      | 2/5 [03:11<03:12, 64.06s/it]\\rRunning pi0_score: \\rRunning beta_score: \\rRunning core_pi0_score_1 (score_pi0): \\rRunning core_beta_score_1 (score_beta): \\rRunning core_beta_score_1 (score_beta) (00:01:00): \\n\\rRunning core_pi0_score_1 (score_pi0) (00:01:00): \\n\\rRunning beta_score (00:01:00): \\n\\rRunning pi0_score (00:01:00): \\n\\rDSC:  60%|██████    | 3/5 [04:12<02:05, 62.97s/it]\\rDSC: 100%|██████████| 5/5 [04:12<00:00, 44.10s/it]\\nINFO: Writing output metadata ...\\nINFO: DSC complete!\\nINFO: Elapsed time \\u001b[32m253.911\\u001b[0m seconds.\\n\",\"output_type\":\"stream\"}]"
   },
   "outputs": [
    {
     "name": "stdout",
     "output_type": "stream",
     "text": [
      "INFO: DSC script exported to \u001b[32mdsc_result.html\u001b[0m\n",
      "INFO: Constructing DSC from \u001b[32msettings.dsc\u001b[0m ...\n",
      "INFO: Building execution graph ...\n",
      "INFO: DSC in progress ...\n",
      "DSC: 100%|████████████████████████████████████████| 5/5 [00:30<00:00,  4.26s/it]\n",
      "INFO: Building DSC database ...\n",
      "INFO: DSC complete!\n",
      "INFO: Elapsed time \u001b[32m38.572\u001b[0m seconds.\n"
     ]
    }
   ],
   "source": [
    "! dsc settings.dsc -c 30"
   ]
  },
  {
   "cell_type": "markdown",
   "metadata": {},
   "source": [
    "## Result extraction\n",
    "\n",
    "***FIXME: Update with dscrutils extraction interface***\n",
    "\n",
    "### Obtain final score for methods comparison\n"
   ]
  },
  {
   "cell_type": "markdown",
   "metadata": {
    "kernel": "sos"
   },
   "source": [
    "We can examine the result in `R`, similar to what we have done in the [Quick Start example](Explore_Output.html):"
   ]
  },
  {
   "cell_type": "code",
   "execution_count": 4,
   "metadata": {
    "kernel": "ir",
    "output_cache": "[]"
   },
   "outputs": [],
   "source": [
    "%use ir\n",
    "options(warn=-1)\n",
    "dat = readRDS('ashr_pi0_1.rds')\n",
    "case1 = unlist(dat$case1_pi0_score_result)\n",
    "case2 = unlist(dat$case2_pi0_score_result)"
   ]
  },
  {
   "cell_type": "code",
   "execution_count": 5,
   "metadata": {
    "kernel": "ir",
    "output_cache": "[]"
   },
   "outputs": [],
   "source": [
    "suppressMessages(library(plotly))\n",
    "p = plot_ly(y = case1, name = 'case 1', type = \"box\") %>%\n",
    "  add_trace(y = case2, name = 'case 2', type = \"box\")  %>% \n",
    "  layout(title = \"MSE for pi_0 estimate\")\n",
    "htmlwidgets::saveWidget(as.widget(p), \"pi0_score.html\")\n",
    "# IRdisplay::display_html(paste(readLines(\"pi0_score.html\"), collapse=\"\\n\"))"
   ]
  },
  {
   "cell_type": "markdown",
   "metadata": {
    "output_cache": "[]"
   },
   "source": [
    "You can view the output [here](pi0_score.html)."
   ]
  },
  {
   "cell_type": "markdown",
   "metadata": {},
   "source": [
    "### Obtain intermediate output\n",
    "You can also extract quantities of interest in any steps in a DSC sequence. For example we want to compare MSE for posterior mean estimate, and at the same time we want to explore the distribution of posterior mean. We first extract both quantities:"
   ]
  },
  {
   "cell_type": "code",
   "execution_count": 6,
   "metadata": {
    "kernel": "sos",
    "output_cache": "[{\"name\":\"stderr\",\"output_type\":\"stream\",\"text\":\"\\rExtracting:   0%|          | 0/5 [00:00<?, ?it/s]\\rExtracting:  20%|██        | 1/5 [00:00<00:00,  9.25it/s]\\rExtracting:  60%|██████    | 3/5 [00:00<00:00, 10.88it/s]\\rExtracting: 100%|██████████| 5/5 [00:00<00:00, 12.50it/s]\\nINFO: Data extracted to \\u001b[32mashr_beta_1.rds\\u001b[0m for DSC result \\u001b[32mbeta_score\\u001b[0m via annotations: \\n\\t\\u001b[32mcase1 = An && ash_n\\n\\tcase2 = An && ash_nu\\u001b[0m\\nINFO: Elapsed time \\u001b[32m1.385\\u001b[0m seconds.\\n\"}]"
   },
   "outputs": [
    {
     "name": "stderr",
     "output_type": "stream",
     "text": [
      "\r",
      "Extracting:   0%|          | 0/5 [00:00<?, ?it/s]\r",
      "Extracting:  20%|██        | 1/5 [00:00<00:00,  4.79it/s]\r",
      "Extracting:  40%|████      | 2/5 [00:00<00:00,  4.18it/s]\r",
      "Extracting:  60%|██████    | 3/5 [00:00<00:00,  4.37it/s]\r",
      "Extracting: 100%|██████████| 5/5 [00:01<00:00,  4.86it/s]\n",
      "INFO: Data extracted to \u001b[32mashr_beta_1.rds\u001b[0m for DSC result \u001b[32mbeta_score\u001b[0m via annotations: \n",
      "\t\u001b[32mcase1 = An && ash_n\n",
      "\tcase2 = An && ash_hu\u001b[0m\n",
      "INFO: Elapsed time \u001b[32m2.013\u001b[0m seconds.\n"
     ]
    }
   ],
   "source": [
    "! dsc -e beta_score:result shrink:beta_est --target beta_score -o ashr_beta_1.rds \\\n",
    "    --tags \"case1 = An && ash_n\" \"case2 = An && ash_hu\" -b dsc_result"
   ]
  },
  {
   "cell_type": "markdown",
   "metadata": {
    "output_cache": "[]"
   },
   "source": [
    "Then we plot them both:"
   ]
  },
  {
   "cell_type": "code",
   "execution_count": 7,
   "metadata": {
    "kernel": "ir",
    "output_cache": "[]"
   },
   "outputs": [],
   "source": [
    "%use ir\n",
    "dat = readRDS('ashr_beta_1.rds')\n",
    "case1 = unlist(dat$case1_beta_score_result)\n",
    "case2 = unlist(dat$case2_beta_score_result)\n",
    "case1_beta = rowMeans(data.frame(dat$case1_shrink_beta_est))\n",
    "case2_beta = rowMeans(data.frame(dat$case2_shrink_beta_est))\n",
    "#\n",
    "suppressMessages(library(plotly))\n",
    "p = plot_ly(y = case1, name = 'case 1', type = \"box\") %>%\n",
    "  add_trace(y = case2, name = 'case 2', type = \"box\")  %>% \n",
    "  layout(title = \"MSE for beta estimate\")\n",
    "htmlwidgets::saveWidget(as.widget(p), \"beta_score.html\")\n",
    "#IRdisplay::display_html(paste(readLines(\"beta_score.html\"), collapse=\"\\n\"))"
   ]
  },
  {
   "cell_type": "markdown",
   "metadata": {
    "output_cache": "[]"
   },
   "source": [
    "You can view the output [here](beta_score.html)."
   ]
  },
  {
   "cell_type": "code",
   "execution_count": 8,
   "metadata": {
    "kernel": "ir",
    "output_cache": "[]"
   },
   "outputs": [],
   "source": [
    "p = plot_ly(x = case1_beta, name = 'case 1', opacity = 0.9, type = \"histogram\") %>%\n",
    "  add_trace(x = case2_beta, name = 'case 2', opacity = 0.9, type = \"histogram\") %>%\n",
    "  layout(title = \"Posterior mean distribution\")\n",
    "htmlwidgets::saveWidget(as.widget(p), \"beta.html\")\n",
    "#IRdisplay::display_html(paste(readLines(\"beta.html\"), collapse=\"\\n\"))"
   ]
  },
  {
   "cell_type": "markdown",
   "metadata": {
    "output_cache": "[]"
   },
   "source": [
    "You can view the output [here](beta.html)."
   ]
  },
  {
   "cell_type": "markdown",
   "metadata": {
    "output_cache": "[]"
   },
   "source": [
    "### Benchmarking runtime\n",
    "You can also benchmark the time it takes to run a computational step. For example:"
   ]
  },
  {
   "cell_type": "code",
   "execution_count": 9,
   "metadata": {
    "kernel": "ir",
    "output_cache": "[]"
   },
   "outputs": [],
   "source": [
    "case1 = unlist(dat$DSC_TIMER$case1_shrink_beta_est)\n",
    "case2 = unlist(dat$DSC_TIMER$case2_shrink_beta_est)\n",
    "#\n",
    "suppressMessages(library(plotly))\n",
    "p = plot_ly(y = case1, name = 'case 1', type = \"box\") %>%\n",
    "  add_trace(y = case2, name = 'case 2', type = \"box\")  %>% \n",
    "  layout(title = \"Time elapsed for posterior mean estimation\")\n",
    "htmlwidgets::saveWidget(as.widget(p), \"beta_time.html\")\n",
    "#IRdisplay::display_html(paste(readLines(\"beta_time.html\"), collapse=\"\\n\"))"
   ]
  },
  {
   "cell_type": "markdown",
   "metadata": {
    "output_cache": "[]"
   },
   "source": [
    "You can view the output [here](beta_time.html)."
   ]
  }
 ],
 "metadata": {
  "kernelspec": {
   "display_name": "SoS",
   "language": "sos",
   "name": "sos"
  },
  "language_info": {
   "codemirror_mode": "sos",
   "file_extension": ".sos",
   "mimetype": "text/x-sos",
   "name": "sos",
   "nbconvert_exporter": "sos_notebook.converter.SoS_Exporter",
   "pygments_lexer": "sos"
  },
  "sos": {
   "celltoolbar": true,
   "default_kernel": "SoS",
   "kernels": [
    [
     "ir",
     "ir",
     "ir",
     ""
    ],
    [
     "SoS",
     "sos",
     "",
     ""
    ],
    [
     "Python3",
     "python3",
     "Python3",
     "#FFE771"
    ],
    [
     "R",
     "ir",
     "R",
     "#DCDCDA"
    ]
   ],
   "panel": {
    "displayed": false,
    "height": 0,
    "style": "side"
   }
  }
 },
 "nbformat": 4,
 "nbformat_minor": 1
}
