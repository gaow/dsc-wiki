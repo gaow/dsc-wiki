{
 "cells": [
  {
   "cell_type": "markdown",
   "metadata": {},
   "source": [
    "# An R example: ashr benchmark"
   ]
  },
  {
   "cell_type": "markdown",
   "metadata": {},
   "source": [
    "This is a more advanced application of DSC with R scripts. We demonstrate in this tutorial features of DSC2 including:\n",
    "\n",
    "*  Inline code as parameters\n",
    "*  `@ALIAS` decorator\n",
    "*  R library installation and version check\n",
    "\n",
    "## DSC Problem\n",
    "The DSC problem is based on the ASH example of DSCR ([R Markdown version](https://github.com/stephens999/dscr/blob/master/vignettes/dsc_shrink.rmd) and [HTML version](dscr_dsc_shrink.html)). Material to run this tutorial can be found in [DSC2 vignettes repo](https://github.com/stephenslab/dsc2/tree/master/vignettes/ash). Description below is copied from the DSCR vignette:\n",
    "\n",
    "> To illustrate we consider the problem of shrinkage, which is tackled by the `ashr` package at [http://www.github.com/stephens999/ashr](http://www.github.com/stephens999/ashr). The input to this DSC is a set of estimates $\\hat\\beta$,  with associated standard errors $s$. These values are estimates of actual (true) values for $\\beta$, so the meta-data in this case are the true values of beta. Methods must take $\\hat\\beta$ and $s$ as input, and provide as output \"shrunk\" estimates for $\\beta$ (so output is a list with one element, called `beta_est`, which is a vector of estimates for beta). The score function then scores methods on their RMSE comparing `beta_est` with beta.\n",
    "\n",
    "> First define a datamaker which simulates true values of $\\beta$ from a user-specified normal mixture, where one of the components is a point mass at 0 of mass $\\pi_0$, which is a user-specified parameter. It then simulates $\\hat\\beta \\sim N(\\beta_j,s_j)$ (where $s_j$ is again user-specified). It returns the true $\\beta$ values and true $\\pi_0$ value as meta-data, and the estimates $\\hat\\beta$ and $s$ as input-data.\n",
    "\n",
    "\n",
    "> Now define a [method wrapper](https://github.com/stephenslab/dsc2/blob/master/vignettes/ash/bin/runash.R) for the `ash` function from the `ashr` package. Notice that this wrapper does not return output in the required format - it simply returns the entire ash output.\n",
    "\n",
    "> Finally add a generic (can be used to deal with both $\\pi$ and $\\beta$) [score function](https://github.com/stephenslab/dsc2/blob/master/vignettes/ash/bin/score.R) to evaluate estimates by `ash`.\n",
    "\n",
    "## DSC Specification\n",
    "The problem is fully specified in DSC2 language below, following the structure of the original DSCR implementation:\n",
    "\n",
    "```\n",
    "# module alias and executables\n",
    "simulate: datamaker.R\n",
    "    # module input and variables\n",
    "    seed: R(1:5)\n",
    "    g: raw(ashr::normalmix(c(2/3,1/3),c(0,0),c(1,2))),\n",
    "       raw(ashr::normalmix(rep(1/7,7),c(-1.5,-1,-0.5,0,0.5,1,1.5),rep(0.5,7))),\n",
    "       raw(ashr::normalmix(c(1/4,1/4,1/3,1/6),c(-2,-1,0,1),c(2,1.5,1,1)))\n",
    "    min_pi0: 0\n",
    "    max_pi0: 1\n",
    "    nsamp: 1000\n",
    "    betahatsd: 1\n",
    "    # module decoration\n",
    "    @ALIAS: args = list()\n",
    "    @CONF: queue = midway\n",
    "    # module output\n",
    "    $data: data\n",
    "    $true_beta: raw(data$meta$beta)\n",
    "    $true_pi0: raw(data$meta$pi0)\n",
    "\n",
    "shrink: runash.R\n",
    "    # module input and variables\n",
    "    input: $data\n",
    "    mixcompdist: normal, halfuniform\n",
    "    # module output\n",
    "    $ash_data: ash_data\n",
    "    $beta_est: raw(ashr::get_pm(ash_data))\n",
    "    $pi0_est: raw(ashr::get_pi0(ash_data))\n",
    "\n",
    "score_beta: score.R\n",
    "    # module input and variables\n",
    "    est: $true_beta\n",
    "    truth: $beta_est\n",
    "    # module output aka pipeline variable\n",
    "    $mse_beta: result\n",
    "\n",
    "score_pi0: score.R\n",
    "    # module input and variables\n",
    "    est: $pi0_est\n",
    "    truth: $true_pi0\n",
    "    # module output\n",
    "    $mse_pi: result\n",
    "\n",
    "DSC:\n",
    "    # module ensembles\n",
    "    define:\n",
    "      score: score_beta, score_pi0\n",
    "    # pipelines\n",
    "    run: simulate * shrink * score\n",
    "    # runtime environments\n",
    "    R_libs: stephens999/ashr (2.0.0+)\n",
    "    exec_path: bin\n",
    "    output: dsc_result\n",
    "    # pipeline variables, will overwrite any module variables of the same name\n",
    "    # it is also place to config the global random number generator\n",
    "```\n",
    "\n",
    "This is a more complicated example. It is suggested that you walk through every DSC block, cross-referencing the corresponding R code for [datamaker](https://github.com/stephenslab/dsc2/blob/master/vignettes/ash/bin/datamaker.R), [method wrapper](https://github.com/stephenslab/dsc2/blob/master/vignettes/ash/bin/runash.R) and [score function](https://github.com/stephenslab/dsc2/blob/master/vignettes/ash/bin/score.R) to figure out how DSC2 communicates with your R program.\n",
    "\n",
    "Next we will walk though each DSC blocks and illustrate some highlights.\n",
    "\n",
    "### Block `simulate`\n",
    "#### Inline R code as parameters\n",
    "The parameter `g` has three candidate values, all of which are R codes within `Asis()` function. Contents inside `Asis()` will be interpreted as functional code pieces rather than strings. In other words, DSC2 will interpret it as `g <- ashr::normalmix(c(2/3,1/3),c(0,0),c(1,2))` so that `g` will be assigned output of R codes in `Asis()` for use with `datamaker.R`. Without `Asis`, this line will be interpreted as a string assigned to `g` which will cause troubles.\n",
    "\n",
    "#### Parameter alias for R list\n",
    "Inside `datamaker.R` the input for the core function is a single parameter of an R [list](http://www.r-tutor.com/r-introduction/list) containing all parameters specified in this block. The `.alias` entry uses a special DSC2 operation `List()` to consolidate these parameters into an R list `args` which corresponds to the input parameter in `datamaker.R`.\n",
    "\n",
    "#### Return alias to extract output\n",
    "The return object is `data` which is consistent with codes in `datamaker.R`. However we want to extract some variables from `data` for use with other steps. This is achieved by return alias which creates variables based on existing values. `R()` operator is used here to extract information from existing objects using R syntax.\n",
    "\n",
    "### Block `shrink` \n",
    "Here notice the return alias `pi0_est` which uses the `get_pi0` function in `R()` operator to extract information from existing output `ash_data`.\n",
    "\n",
    "### Blocks `beta_score` & `pi0_score`\n",
    "These two blocks uses the same computational routine `score.R` but on different input data. Adjustment have to be made via `.alias` to distinguish these blocks for DSC output and to match input variable names for `score.R`. Executable `.alias` renames the computational routines from generic `score.R` to `score_beta` and `score_pi0` respectively. These routine names will become part of column names in the DSC output database and they should be made distinct. Parameter `.alias` converts input variables names to variable names matching what has been coded in `score.R`. It is possible to use these names directly, e.g.,\n",
    "\n",
    "```yaml\n",
    "   beta_score:\n",
    "        ...\n",
    "        params:\n",
    "            truth: $true_beta\n",
    "            est: $beta_est\n",
    "        ...\n",
    "```\n",
    "\n",
    "The DSC will also work. Here for clarity and for demonstration of parameter alias we use informative names as parameter names in DSC, and convert these names to what is required by the R codes via `.alias`.\n",
    "\n",
    "Notice too that different from the [DSCR ASH example](https://github.com/stephens999/dscr/blob/master/vignettes/dsc_shrink.rmd) the output score is a simple value (a float of RMSE). If the outcome of the R code is not a simple object, for example it returns a list variable `score_output`, then you may want to use return alias to extract important information to simple values so that they'll be readily extractable down the line, e.g., `return: score_output, mse = R(score_output$mse)`.\n",
    "\n",
    "### `DSC` section\n",
    "The `DSC::run` executes two sequences which we have discussed in previous tutorials. The `R_libs` entry specifies the R package required by the DSC. It is formatted as a github package (`repo/pkg`) and the minimal version requirement is `2.0.0`. DSC will check first if the package is available, and install it if necessary. It will then check its version and quit on error if it does not satisfy the requirement. DSC does not attempt to change a package for version mismatch.\n",
    "\n",
    "## Execution logic\n",
    "This diagram (generated by `dot` command using the execution graph from this DSC) shows the logic of this benchmark:\n",
    "\n",
    "![ash.png](../img/ash.png)\n",
    "\n",
    "## Run DSC"
   ]
  },
  {
   "cell_type": "code",
   "execution_count": 1,
   "metadata": {
    "kernel": "sos",
    "output_cache": "[{\"name\":\"stderr\",\"text\":\"INFO: Checking R library \\u001b[32mstephens999/ashr\\u001b[0m ...\\nINFO: DSC script exported to \\u001b[32mdsc_result.html\\u001b[0m\\nINFO: Constructing DSC from \\u001b[32msettings.dsc\\u001b[0m ...\\nINFO: Building execution graph ...\\n\\rDSC:   0%|          | 0/5 [00:00<?, ?it/s]\\rDSC:  20%|██        | 1/5 [00:16<01:05, 16.42s/it]\\rRunning shrink: \\rRunning core_shrink_1 (runash): \\rRunning shrink (00:02:00): \\rRunning core_shrink_1 (runash) (00:02:00): \\n\\n\\rDSC:  40%|████      | 2/5 [03:11<03:12, 64.06s/it]\\rRunning pi0_score: \\rRunning beta_score: \\rRunning core_pi0_score_1 (score_pi0): \\rRunning core_beta_score_1 (score_beta): \\rRunning core_beta_score_1 (score_beta) (00:01:00): \\n\\rRunning core_pi0_score_1 (score_pi0) (00:01:00): \\n\\rRunning beta_score (00:01:00): \\n\\rRunning pi0_score (00:01:00): \\n\\rDSC:  60%|██████    | 3/5 [04:12<02:05, 62.97s/it]\\rDSC: 100%|██████████| 5/5 [04:12<00:00, 44.10s/it]\\nINFO: Writing output metadata ...\\nINFO: DSC complete!\\nINFO: Elapsed time \\u001b[32m253.911\\u001b[0m seconds.\\n\",\"output_type\":\"stream\"}]"
   },
   "outputs": [
    {
     "name": "stderr",
     "output_type": "stream",
     "text": [
      "INFO: Checking R library \u001b[32mstephens999/ashr\u001b[0m ...\n",
      "INFO: DSC script exported to \u001b[32mdsc_result.html\u001b[0m\n",
      "INFO: Constructing DSC from \u001b[32msettings.dsc\u001b[0m ...\n",
      "INFO: Building execution graph ...\n",
      "\r",
      "DSC:   0%|          | 0/5 [00:00<?, ?it/s]\r",
      "DSC:  20%|██        | 1/5 [00:16<01:05, 16.42s/it]\r",
      "Running shrink: \r",
      "Running core_shrink_1 (runash): \r",
      "Running shrink (00:02:00): \r",
      "Running core_shrink_1 (runash) (00:02:00): \n",
      "\n",
      "\r",
      "DSC:  40%|████      | 2/5 [03:11<03:12, 64.06s/it]\r",
      "Running pi0_score: \r",
      "Running beta_score: \r",
      "Running core_pi0_score_1 (score_pi0): \r",
      "Running core_beta_score_1 (score_beta): \r",
      "Running core_beta_score_1 (score_beta) (00:01:00): \n",
      "\r",
      "Running core_pi0_score_1 (score_pi0) (00:01:00): \n",
      "\r",
      "Running beta_score (00:01:00): \n",
      "\r",
      "Running pi0_score (00:01:00): \n",
      "\r",
      "DSC:  60%|██████    | 3/5 [04:12<02:05, 62.97s/it]\r",
      "DSC: 100%|██████████| 5/5 [04:12<00:00, 44.10s/it]\n",
      "INFO: Writing output metadata ...\n",
      "INFO: DSC complete!\n",
      "INFO: Elapsed time \u001b[32m253.911\u001b[0m seconds.\n"
     ]
    }
   ],
   "source": [
    "! dsc -x settings.dsc -j 8 --seeds \"R(1:50)\""
   ]
  },
  {
   "cell_type": "markdown",
   "metadata": {},
   "source": [
    "## Result annotation"
   ]
  },
  {
   "cell_type": "markdown",
   "metadata": {
    "collapsed": true
   },
   "source": [
    "The [DSCR ASH example](https://github.com/stephens999/dscr/blob/master/vignettes/dsc_shrink.rmd) adds names to various simulation settings and methods. Here we use DSC annotation file to reproduce the DSCR example. We create a `settings.ann` file as follows:\n",
    "\n",
    "```yaml\n",
    "An:\n",
    "  simulate:\n",
    "    g: Asis(ashr::normalmix(c(2/3,1/3),c(0,0),c(1,2)))\n",
    "\n",
    "Bn:\n",
    "  simulate:\n",
    "    g: Asis(ashr::normalmix(rep(1/7,7),c(-1.5,-1,-0.5,0,0.5,1,1.5),rep(0.5,7)))\n",
    "\n",
    "Cn:\n",
    "  simulate:\n",
    "    g: Asis(ashr::normalmix(c(1/4,1/4,1/3,1/6),c(-2,-1,0,1),c(2,1.5,1,1)))\n",
    "\n",
    "ash_n:\n",
    "  shrink:\n",
    "    mixcompdist: normal\n",
    "\n",
    "ash_hu:\n",
    "  shrink:\n",
    "    mixcompdist: halfuniform \n",
    "    \n",
    "DSC:\n",
    "  configuration: settings.dsc\n",
    "```\n",
    "\n",
    "and we apply this annotation to our benchmark:"
   ]
  },
  {
   "cell_type": "code",
   "execution_count": 2,
   "metadata": {
    "kernel": "sos",
    "output_cache": "[]"
   },
   "outputs": [
    {
     "name": "stderr",
     "output_type": "stream",
     "text": [
      "INFO: Annotation summary for sequence ending with \u001b[32mbeta_score\u001b[0m\n",
      "+--------------+----------------------------------------------------------+\n",
      "|  Tag         |  No. unique obj.                                         |\n",
      "+--------------+----------------------------------------------------------+\n",
      "|  \u001b[32mAn\u001b[0m      |  \u001b[32m100\u001b[0m beta_score & \u001b[32m100\u001b[0m shrink & \u001b[32m50\u001b[0m simulate   |\n",
      "|  \u001b[32mBn\u001b[0m      |  \u001b[32m100\u001b[0m beta_score & \u001b[32m100\u001b[0m shrink & \u001b[32m50\u001b[0m simulate   |\n",
      "|  \u001b[32mCn\u001b[0m      |  \u001b[32m100\u001b[0m beta_score & \u001b[32m100\u001b[0m shrink & \u001b[32m50\u001b[0m simulate   |\n",
      "|  \u001b[32mash_n\u001b[0m   |  \u001b[32m150\u001b[0m beta_score & \u001b[32m150\u001b[0m shrink & \u001b[32m150\u001b[0m simulate  |\n",
      "|  \u001b[32mash_hu\u001b[0m  |  \u001b[32m150\u001b[0m beta_score & \u001b[32m150\u001b[0m shrink & \u001b[32m150\u001b[0m simulate  |\n",
      "+--------------+----------------------------------------------------------+\n",
      "INFO: Annotation summary for sequence ending with \u001b[32mpi0_score\u001b[0m\n",
      "+--------------+---------------------------------------------------------+\n",
      "|  Tag         |  No. unique obj.                                        |\n",
      "+--------------+---------------------------------------------------------+\n",
      "|  \u001b[32mAn\u001b[0m      |  \u001b[32m100\u001b[0m pi0_score & \u001b[32m100\u001b[0m shrink & \u001b[32m50\u001b[0m simulate   |\n",
      "|  \u001b[32mBn\u001b[0m      |  \u001b[32m100\u001b[0m pi0_score & \u001b[32m100\u001b[0m shrink & \u001b[32m50\u001b[0m simulate   |\n",
      "|  \u001b[32mCn\u001b[0m      |  \u001b[32m100\u001b[0m pi0_score & \u001b[32m100\u001b[0m shrink & \u001b[32m50\u001b[0m simulate   |\n",
      "|  \u001b[32mash_n\u001b[0m   |  \u001b[32m150\u001b[0m pi0_score & \u001b[32m150\u001b[0m shrink & \u001b[32m150\u001b[0m simulate  |\n",
      "|  \u001b[32mash_hu\u001b[0m  |  \u001b[32m150\u001b[0m pi0_score & \u001b[32m150\u001b[0m shrink & \u001b[32m150\u001b[0m simulate  |\n",
      "+--------------+---------------------------------------------------------+\n",
      "INFO: Elapsed time \u001b[32m0.149\u001b[0m seconds.\n"
     ]
    }
   ],
   "source": [
    "! dsc -a settings.ann"
   ]
  },
  {
   "cell_type": "markdown",
   "metadata": {},
   "source": [
    "## Result extraction\n",
    "\n",
    "***FIXME: Introduce shinydcs interface for `--extract` when it is ready -- this section should no longer be needed by then.***\n",
    "\n",
    "### Obtain final score for methods comparison\n",
    "\n",
    "Suppose we are interested in performance of methods `ash_n` and `ash_hu` in estimating $\\pi_0$ under simulation setting `An`. We extract the data using tags created, and write to file `ashr_pi0_1.rds`:"
   ]
  },
  {
   "cell_type": "code",
   "execution_count": 3,
   "metadata": {
    "kernel": "sos",
    "output_cache": "[{\"name\":\"stderr\",\"output_type\":\"stream\",\"text\":\"\\rExtracting:   0%|          | 0/3 [00:00<?, ?it/s]\\rExtracting:  33%|███▎      | 1/3 [00:00<00:00,  9.20it/s]\\rExtracting: 100%|██████████| 3/3 [00:00<00:00, 10.81it/s]\\nINFO: Data extracted to \\u001b[32mashr_pi0_1.rds\\u001b[0m for DSC result \\u001b[32mpi0_score\\u001b[0m via annotations: \\n\\t\\u001b[32mcase1 = An && ash_n\\n\\tcase2 = An && ash_nu\\u001b[0m\\nINFO: Elapsed time \\u001b[32m0.802\\u001b[0m seconds.\\n\"}]"
   },
   "outputs": [
    {
     "name": "stderr",
     "output_type": "stream",
     "text": [
      "\r",
      "Extracting:   0%|          | 0/3 [00:00<?, ?it/s]\r",
      "Extracting:  33%|███▎      | 1/3 [00:00<00:00,  4.80it/s]\r",
      "Extracting: 100%|██████████| 3/3 [00:00<00:00,  5.67it/s]\n",
      "INFO: Data extracted to \u001b[32mashr_pi0_1.rds\u001b[0m for DSC result \u001b[32mpi0_score\u001b[0m via annotations: \n",
      "\t\u001b[32mcase1 = An && ash_n\n",
      "\tcase2 = An && ash_hu\u001b[0m\n",
      "INFO: Elapsed time \u001b[32m0.965\u001b[0m seconds.\n"
     ]
    }
   ],
   "source": [
    "! dsc -e pi0_score:result --target pi0_score -o ashr_pi0_1.rds \\\n",
    "    --tags \"case1 = An && ash_n\" \"case2 = An && ash_hu\" -b dsc_result"
   ]
  },
  {
   "cell_type": "markdown",
   "metadata": {
    "kernel": "sos"
   },
   "source": [
    "We can examine the result in `R`, similar to what we have done in the [Quick Start example](Explore_Output.html):"
   ]
  },
  {
   "cell_type": "code",
   "execution_count": 4,
   "metadata": {
    "kernel": "ir",
    "output_cache": "[]"
   },
   "outputs": [],
   "source": [
    "%use ir\n",
    "options(warn=-1)\n",
    "dat = readRDS('ashr_pi0_1.rds')\n",
    "case1 = unlist(dat$case1_pi0_score_result)\n",
    "case2 = unlist(dat$case2_pi0_score_result)"
   ]
  },
  {
   "cell_type": "code",
   "execution_count": 5,
   "metadata": {
    "kernel": "ir",
    "output_cache": "[]"
   },
   "outputs": [],
   "source": [
    "suppressMessages(library(plotly))\n",
    "p = plot_ly(y = case1, name = 'case 1', type = \"box\") %>%\n",
    "  add_trace(y = case2, name = 'case 2', type = \"box\")  %>% \n",
    "  layout(title = \"MSE for pi_0 estimate\")\n",
    "htmlwidgets::saveWidget(as.widget(p), \"pi0_score.html\")\n",
    "# IRdisplay::display_html(paste(readLines(\"pi0_score.html\"), collapse=\"\\n\"))"
   ]
  },
  {
   "cell_type": "markdown",
   "metadata": {
    "output_cache": "[]"
   },
   "source": [
    "You can view the output [here](pi0_score.html)."
   ]
  },
  {
   "cell_type": "markdown",
   "metadata": {},
   "source": [
    "### Obtain intermediate output\n",
    "You can also extract quantities of interest in any steps in a DSC sequence. For example we want to compare MSE for posterior mean estimate, and at the same time we want to explore the distribution of posterior mean. We first extract both quantities:"
   ]
  },
  {
   "cell_type": "code",
   "execution_count": 6,
   "metadata": {
    "kernel": "sos",
    "output_cache": "[{\"name\":\"stderr\",\"output_type\":\"stream\",\"text\":\"\\rExtracting:   0%|          | 0/5 [00:00<?, ?it/s]\\rExtracting:  20%|██        | 1/5 [00:00<00:00,  9.25it/s]\\rExtracting:  60%|██████    | 3/5 [00:00<00:00, 10.88it/s]\\rExtracting: 100%|██████████| 5/5 [00:00<00:00, 12.50it/s]\\nINFO: Data extracted to \\u001b[32mashr_beta_1.rds\\u001b[0m for DSC result \\u001b[32mbeta_score\\u001b[0m via annotations: \\n\\t\\u001b[32mcase1 = An && ash_n\\n\\tcase2 = An && ash_nu\\u001b[0m\\nINFO: Elapsed time \\u001b[32m1.385\\u001b[0m seconds.\\n\"}]"
   },
   "outputs": [
    {
     "name": "stderr",
     "output_type": "stream",
     "text": [
      "\r",
      "Extracting:   0%|          | 0/5 [00:00<?, ?it/s]\r",
      "Extracting:  20%|██        | 1/5 [00:00<00:00,  4.79it/s]\r",
      "Extracting:  40%|████      | 2/5 [00:00<00:00,  4.18it/s]\r",
      "Extracting:  60%|██████    | 3/5 [00:00<00:00,  4.37it/s]\r",
      "Extracting: 100%|██████████| 5/5 [00:01<00:00,  4.86it/s]\n",
      "INFO: Data extracted to \u001b[32mashr_beta_1.rds\u001b[0m for DSC result \u001b[32mbeta_score\u001b[0m via annotations: \n",
      "\t\u001b[32mcase1 = An && ash_n\n",
      "\tcase2 = An && ash_hu\u001b[0m\n",
      "INFO: Elapsed time \u001b[32m2.013\u001b[0m seconds.\n"
     ]
    }
   ],
   "source": [
    "! dsc -e beta_score:result shrink:beta_est --target beta_score -o ashr_beta_1.rds \\\n",
    "    --tags \"case1 = An && ash_n\" \"case2 = An && ash_hu\" -b dsc_result"
   ]
  },
  {
   "cell_type": "markdown",
   "metadata": {
    "output_cache": "[]"
   },
   "source": [
    "Then we plot them both:"
   ]
  },
  {
   "cell_type": "code",
   "execution_count": 7,
   "metadata": {
    "kernel": "ir",
    "output_cache": "[]"
   },
   "outputs": [],
   "source": [
    "%use ir\n",
    "dat = readRDS('ashr_beta_1.rds')\n",
    "case1 = unlist(dat$case1_beta_score_result)\n",
    "case2 = unlist(dat$case2_beta_score_result)\n",
    "case1_beta = rowMeans(data.frame(dat$case1_shrink_beta_est))\n",
    "case2_beta = rowMeans(data.frame(dat$case2_shrink_beta_est))\n",
    "#\n",
    "suppressMessages(library(plotly))\n",
    "p = plot_ly(y = case1, name = 'case 1', type = \"box\") %>%\n",
    "  add_trace(y = case2, name = 'case 2', type = \"box\")  %>% \n",
    "  layout(title = \"MSE for beta estimate\")\n",
    "htmlwidgets::saveWidget(as.widget(p), \"beta_score.html\")\n",
    "#IRdisplay::display_html(paste(readLines(\"beta_score.html\"), collapse=\"\\n\"))"
   ]
  },
  {
   "cell_type": "markdown",
   "metadata": {
    "output_cache": "[]"
   },
   "source": [
    "You can view the output [here](beta_score.html)."
   ]
  },
  {
   "cell_type": "code",
   "execution_count": 8,
   "metadata": {
    "kernel": "ir",
    "output_cache": "[]"
   },
   "outputs": [],
   "source": [
    "p = plot_ly(x = case1_beta, name = 'case 1', opacity = 0.9, type = \"histogram\") %>%\n",
    "  add_trace(x = case2_beta, name = 'case 2', opacity = 0.9, type = \"histogram\") %>%\n",
    "  layout(title = \"Posterior mean distribution\")\n",
    "htmlwidgets::saveWidget(as.widget(p), \"beta.html\")\n",
    "#IRdisplay::display_html(paste(readLines(\"beta.html\"), collapse=\"\\n\"))"
   ]
  },
  {
   "cell_type": "markdown",
   "metadata": {
    "output_cache": "[]"
   },
   "source": [
    "You can view the output [here](beta.html)."
   ]
  },
  {
   "cell_type": "markdown",
   "metadata": {
    "output_cache": "[]"
   },
   "source": [
    "### Benchmarking runtime\n",
    "You can also benchmark the time it takes to run a computational step. For example:"
   ]
  },
  {
   "cell_type": "code",
   "execution_count": 9,
   "metadata": {
    "kernel": "ir",
    "output_cache": "[]"
   },
   "outputs": [],
   "source": [
    "case1 = unlist(dat$DSC_TIMER$case1_shrink_beta_est)\n",
    "case2 = unlist(dat$DSC_TIMER$case2_shrink_beta_est)\n",
    "#\n",
    "suppressMessages(library(plotly))\n",
    "p = plot_ly(y = case1, name = 'case 1', type = \"box\") %>%\n",
    "  add_trace(y = case2, name = 'case 2', type = \"box\")  %>% \n",
    "  layout(title = \"Time elapsed for posterior mean estimation\")\n",
    "htmlwidgets::saveWidget(as.widget(p), \"beta_time.html\")\n",
    "#IRdisplay::display_html(paste(readLines(\"beta_time.html\"), collapse=\"\\n\"))"
   ]
  },
  {
   "cell_type": "markdown",
   "metadata": {
    "output_cache": "[]"
   },
   "source": [
    "You can view the output [here](beta_time.html)."
   ]
  },
  {
   "cell_type": "markdown",
   "metadata": {
    "output_cache": "[]"
   },
   "source": [
    "## Alternative implementation using automatic annotation\n",
    "DSC provides automatic annotation. This feature is particularly useful if your DSC configuration `DSC::run` specifies named sequences. See [this tutorial](Intermediate_R_2.html) for more details."
   ]
  }
 ],
 "metadata": {
  "kernelspec": {
   "display_name": "SoS",
   "language": "sos",
   "name": "sos"
  },
  "language_info": {
   "codemirror_mode": "sos",
   "file_extension": ".sos",
   "mimetype": "text/x-sos",
   "name": "sos",
   "nbconvert_exporter": "sos_notebook.converter.SoS_Exporter",
   "pygments_lexer": "sos"
  },
  "sos": {
   "celltoolbar": true,
   "default_kernel": "SoS",
   "kernels": [
    [
     "ir",
     "ir",
     "ir",
     ""
    ],
    [
     "Python3",
     "python3",
     "Python3",
     "#FFE771"
    ],
    [
     "R",
     "ir",
     "R",
     "#DCDCDA"
    ],
    [
     "SoS",
     "sos",
     "",
     ""
    ]
   ],
   "panel": {
    "displayed": false,
    "height": 0,
    "style": "side"
   }
  }
 },
 "nbformat": 4,
 "nbformat_minor": 1
}
