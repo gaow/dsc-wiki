{
 "cells": [
  {
   "cell_type": "markdown",
   "metadata": {},
   "source": [
    "# Quick start tutorial in Python"
   ]
  },
  {
   "cell_type": "markdown",
   "metadata": {},
   "source": [
    "This tutorials shows re-implementation of the [Quick Start example](tutorials/Quick_Start.html) in Python. Source code to run this example can be found [here](https://github.com/stephenslab/dsc2/tree/master/vignettes/one_sample_location_python).\n",
    "\n",
    "The DSC script mostly the same as the Quick Start example:\n",
    "\n",
    "```\n",
    "rnorm, rt: rnorm.py, rt.py\n",
    "    seed: R(1:10)\n",
    "    n: 1000\n",
    "    true_mean: 0, 1\n",
    "    $x: x\n",
    "    $true_mean: true_mean\n",
    "\n",
    "mean, median: mean.py, median.py\n",
    "    x: $x\n",
    "    $mean: mean\n",
    "\n",
    "mse: MSE.py\n",
    "    mean_est: $mean\n",
    "    true_mean: $true_mean\n",
    "    $mse: mse\n",
    "\n",
    "DSC:\n",
    "    define:\n",
    "      simulate: rnorm, rt\n",
    "      estimate: mean, median\n",
    "    run: simulate * estimate * mse\n",
    "    exec_path: PY/scenarios, PY/methods, PY/scores\n",
    "    output: dsc_result\n",
    "```"
   ]
  },
  {
   "cell_type": "markdown",
   "metadata": {},
   "source": [
    "You may notice the only difference are the executables (and search path) -- now implemented in Python:\n",
    "```python\n",
    "==> ../vignettes/one_sample_location_python/PY/methods/mean.py <==\n",
    "import numpy\n",
    "mean = numpy.mean(x)\n",
    "\n",
    "==> ../vignettes/one_sample_location_python/PY/methods/median.py <==\n",
    "import numpy\n",
    "mean = numpy.median(x)\n",
    "\n",
    "==> ../vignettes/one_sample_location_python/PY/scores/MSE.py <==\n",
    "mse = (mean_est-true_mean)**2\n",
    "\n",
    "==> ../vignettes/one_sample_location_python/PY/scenarios/rnorm.py <==\n",
    "# produces n random numbers from normal with specified mean\n",
    "import numpy\n",
    "numpy.random.seed(seed)\n",
    "x=numpy.random.normal(loc=true_mean, size=n)\n",
    "\n",
    "==> ../vignettes/one_sample_location_python/PY/scenarios/rt.py <==\n",
    "# produces n random numbers from t with df=2 and  with specified mean\n",
    "import numpy\n",
    "numpy.random.seed(seed)\n",
    "x=true_mean+numpy.random.standard_t(df=2,size=n)\n",
    "```\n",
    "To run the DSC,"
   ]
  },
  {
   "cell_type": "code",
   "execution_count": 1,
   "metadata": {
    "kernel": "SoS"
   },
   "outputs": [
    {
     "name": "stdout",
     "output_type": "stream",
     "text": [
      "/home/gaow/GIT/dsc2/vignettes/one_sample_location_python"
     ]
    }
   ],
   "source": [
    "%cd ~/GIT/dsc2/vignettes/one_sample_location_python"
   ]
  },
  {
   "cell_type": "code",
   "execution_count": 2,
   "metadata": {
    "kernel": "SoS"
   },
   "outputs": [
    {
     "name": "stdout",
     "output_type": "stream",
     "text": [
      "INFO: DSC script exported to \u001b[32mdsc_result.html\u001b[0m\n",
      "INFO: Constructing DSC from \u001b[32msettings.dsc\u001b[0m ...\n",
      "INFO: Building execution graph & running DSC ...\n",
      "DSC: 100%|██████████████████████████████████████| 11/11 [00:28<00:00,  2.06s/it]\n",
      "INFO: Building DSC database ...\n",
      "INFO: DSC complete!\n",
      "INFO: Elapsed time \u001b[32m32.118\u001b[0m seconds.\n"
     ]
    }
   ],
   "source": [
    "! dsc settings.dsc -c 30"
   ]
  },
  {
   "cell_type": "markdown",
   "metadata": {},
   "source": [
    "Notice that time consumed for this Python version is longer than example that contains pure R module (the Quick Start example). This is because unlike in R where results are saved to language specific format, ie, [RDS format](https://stat.ethz.ch/R-manual/R-devel/library/base/html/readRDS.html), results here are saved to / loaded from a more universial format, ie. [HDF5 format](https://support.hdfgroup.org/HDF5/). Overhead of running Python scripts is therefore also bigger because of having to load HDF5 and type conversion related libraries including `scipy` and `pandas`."
   ]
  }
 ],
 "metadata": {
  "kernelspec": {
   "display_name": "SoS",
   "language": "sos",
   "name": "sos"
  },
  "language_info": {
   "codemirror_mode": "sos",
   "file_extension": ".sos",
   "mimetype": "text/x-sos",
   "name": "sos",
   "nbconvert_exporter": "sos_notebook.converter.SoS_Exporter",
   "pygments_lexer": "sos"
  },
  "sos": {
   "default_kernel": "SoS",
   "kernels": [
    [
     "SoS",
     "sos",
     "",
     ""
    ],
    [
     "Python3",
     "python3",
     "Python3",
     "#FFE771"
    ],
    [
     "R",
     "ir",
     "R",
     "#DCDCDA"
    ]
   ],
   "panel": {
    "displayed": true,
    "height": 0,
    "style": "side"
   }
  }
 },
 "nbformat": 4,
 "nbformat_minor": 2
}
