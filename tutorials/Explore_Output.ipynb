{
 "cells": [
  {
   "cell_type": "markdown",
   "metadata": {},
   "source": [
    "# Explore DSC output"
   ]
  },
  {
   "cell_type": "markdown",
   "metadata": {},
   "source": [
    "This tutorial is a continuation of the [Quick Start](Quick_Start.html). As a reminder here is the DSC script we've executed:\n",
    "\n",
    "```yaml\n",
    "  simulate:\n",
    "      exec: rnorm.R, rt.R\n",
    "      seed: R(1:10)\n",
    "      params:\n",
    "          n: 1000\n",
    "          true_mean: 0, 1\n",
    "      return: x, true_mean\n",
    "\n",
    "  estimate:\n",
    "      exec: mean.R, median.R\n",
    "      params:\n",
    "          x: $x\n",
    "      return: mean\n",
    "\n",
    "  mse:\n",
    "      exec: MSE.R\n",
    "      params:\n",
    "          mean_est: $mean\n",
    "          true_mean: $true_mean\n",
    "      return: mse\n",
    "\n",
    "  DSC:\n",
    "      run: simulate *\n",
    "           estimate *\n",
    "           mse\n",
    "      exec_path: R/scenarios, R/methods, R/scores\n",
    "      output: dsc_result\n",
    "```"
   ]
  },
  {
   "cell_type": "markdown",
   "metadata": {},
   "source": [
    "To explore the result from this benchmark, we first **annotate** the benchmark with customized *tags*, then we **extract** results for these tags of interest, and finally load it to external anlaysis tools (eg. `R`) to interpret the results."
   ]
  },
  {
   "cell_type": "markdown",
   "metadata": {},
   "source": [
    "## DSC annotation"
   ]
  },
  {
   "cell_type": "markdown",
   "metadata": {},
   "source": [
    "Suppose we are interested in comparing `mean` method vs. `median` method for data generated under *t* distribution with mean equals zero. We thus create two tags, `mean_t` and `median_t` and save them in a text file called `settings.ann`:\n",
    "\n",
    "```yaml\n",
    "mean_t:\n",
    "    simulate: \n",
    "        exec: rt.R\n",
    "        true_mean: 0\n",
    "    estimate:\n",
    "        exec: mean.R\n",
    "\n",
    "median_t:\n",
    "    simulate: \n",
    "        exec: rt.R\n",
    "        true_mean: 0\n",
    "    estimate:\n",
    "        exec: median.R\n",
    "\n",
    "DSC:\n",
    "    configuration: settings.dsc\n",
    "```"
   ]
  },
  {
   "cell_type": "markdown",
   "metadata": {},
   "source": [
    "We then apply the annotation with the `dsc` command:"
   ]
  },
  {
   "cell_type": "code",
   "execution_count": 1,
   "metadata": {
    "collapsed": false,
    "kernel": "ir"
   },
   "outputs": [
    {
     "name": "stderr",
     "output_type": "stream",
     "text": [
      "INFO: \n",
      "+----------------+--------------------------------------------------+\n",
      "|  Tag           |  No. unique obj.                                 |\n",
      "+----------------+--------------------------------------------------+\n",
      "|  \u001b[32mmean_t\u001b[0m    |  \u001b[32m10\u001b[0m estimate & \u001b[32m10\u001b[0m mse & \u001b[32m10\u001b[0m simulate  |\n",
      "|  \u001b[32mmedian_t\u001b[0m  |  \u001b[32m10\u001b[0m estimate & \u001b[32m10\u001b[0m mse & \u001b[32m10\u001b[0m simulate  |\n",
      "+----------------+--------------------------------------------------+\n",
      "INFO: Elapsed time \u001b[32m0.053\u001b[0m seconds.\n"
     ]
    }
   ],
   "source": [
    "! dsc -a settings.ann"
   ]
  },
  {
   "cell_type": "markdown",
   "metadata": {},
   "source": [
    "Now the annotation has been applied. A summary of the annotation executed is also displayed on the terminal."
   ]
  },
  {
   "cell_type": "markdown",
   "metadata": {},
   "source": [
    "## DSC data extraction\n",
    "The ultimate result of the DSC benchmark is the `mse` variable and we want to compare the performance of the two scenarios that we have just tagged using the `mse` variable. We will extract these tags to a separate data file using the `dsc` command:"
   ]
  },
  {
   "cell_type": "code",
   "execution_count": 2,
   "metadata": {
    "collapsed": false,
    "kernel": "sos",
    "output_cache": "[{\"name\":\"stderr\",\"text\":\"\\rExtracting:   0%|          | 0/3 [00:00<?, ?it/s]\\rExtracting:  33%|███▎      | 1/3 [00:00<00:00,  9.21it/s]\\rExtracting: 100%|██████████| 3/3 [00:00<00:00, 10.93it/s]\\nINFO: Data extracted to \\u001b[32mdsc_result.mse.rds\\u001b[0m for all annotations for DSC result \\u001b[32mmse\\u001b[0m.\\nINFO: Elapsed time \\u001b[32m0.594\\u001b[0m seconds.\\n\",\"output_type\":\"stream\"}]"
   },
   "outputs": [
    {
     "name": "stderr",
     "output_type": "stream",
     "text": [
      "\r",
      "Extracting:   0%|          | 0/3 [00:00<?, ?it/s]\r",
      "Extracting:  33%|███▎      | 1/3 [00:00<00:00,  9.21it/s]\r",
      "Extracting: 100%|██████████| 3/3 [00:00<00:00, 10.93it/s]\n",
      "INFO: Data extracted to \u001b[32mdsc_result.mse.rds\u001b[0m for all annotations for DSC result \u001b[32mmse\u001b[0m.\n",
      "INFO: Elapsed time \u001b[32m0.594\u001b[0m seconds.\n"
     ]
    }
   ],
   "source": [
    "! dsc -e mse:mse -b dsc_result"
   ]
  },
  {
   "cell_type": "markdown",
   "metadata": {},
   "source": [
    "The resulting `dsc_result.mse.rds` file contains the information of interest, which we are going to examine next."
   ]
  },
  {
   "cell_type": "markdown",
   "metadata": {},
   "source": [
    "## Analyzing DSC results\n",
    "We load `dsc_result.mse.rds` to `R` and generate plots to compare the two scenarios we are interested in:"
   ]
  },
  {
   "cell_type": "code",
   "execution_count": 3,
   "metadata": {
    "collapsed": false,
    "kernel": "ir"
   },
   "outputs": [
    {
     "data": {
      "text/html": [
       "<dl>\n",
       "\t<dt>$mean_t_mse_mse</dt>\n",
       "\t\t<dd><ol>\n",
       "\t<li>0.00199846387851795</li>\n",
       "\t<li>0.000375966958457247</li>\n",
       "\t<li>0.0253637489566151</li>\n",
       "\t<li>0.0480915157268725</li>\n",
       "\t<li>4.68434752387211e-05</li>\n",
       "\t<li>0.000667209929174959</li>\n",
       "\t<li>0.0207598925139324</li>\n",
       "\t<li>0.0149624750787922</li>\n",
       "\t<li>0.000222295205586497</li>\n",
       "\t<li>0.00487296421360862</li>\n",
       "</ol>\n",
       "</dd>\n",
       "\t<dt>$median_t_mse_mse</dt>\n",
       "\t\t<dd><ol>\n",
       "\t<li>0.00159731146402349</li>\n",
       "\t<li>0.00198952016908845</li>\n",
       "\t<li>0.0104148812308528</li>\n",
       "\t<li>0.00403952323919894</li>\n",
       "\t<li>0.00118967181916342</li>\n",
       "\t<li>0.000354714586543617</li>\n",
       "\t<li>0.001267905058322</li>\n",
       "\t<li>4.00338221002128e-06</li>\n",
       "\t<li>2.88309606529807e-05</li>\n",
       "\t<li>0.00046901832920954</li>\n",
       "</ol>\n",
       "</dd>\n",
       "</dl>\n"
      ],
      "text/latex": [
       "\\begin{description}\n",
       "\\item[\\$mean\\_t\\_mse\\_mse] \\begin{enumerate}\n",
       "\\item 0.00199846387851795\n",
       "\\item 0.000375966958457247\n",
       "\\item 0.0253637489566151\n",
       "\\item 0.0480915157268725\n",
       "\\item 4.68434752387211e-05\n",
       "\\item 0.000667209929174959\n",
       "\\item 0.0207598925139324\n",
       "\\item 0.0149624750787922\n",
       "\\item 0.000222295205586497\n",
       "\\item 0.00487296421360862\n",
       "\\end{enumerate}\n",
       "\n",
       "\\item[\\$median\\_t\\_mse\\_mse] \\begin{enumerate}\n",
       "\\item 0.00159731146402349\n",
       "\\item 0.00198952016908845\n",
       "\\item 0.0104148812308528\n",
       "\\item 0.00403952323919894\n",
       "\\item 0.00118967181916342\n",
       "\\item 0.000354714586543617\n",
       "\\item 0.001267905058322\n",
       "\\item 4.00338221002128e-06\n",
       "\\item 2.88309606529807e-05\n",
       "\\item 0.00046901832920954\n",
       "\\end{enumerate}\n",
       "\n",
       "\\end{description}\n"
      ],
      "text/markdown": [
       "$mean_t_mse_mse\n",
       ":   1. 0.00199846387851795\n",
       "2. 0.000375966958457247\n",
       "3. 0.0253637489566151\n",
       "4. 0.0480915157268725\n",
       "5. 4.68434752387211e-05\n",
       "6. 0.000667209929174959\n",
       "7. 0.0207598925139324\n",
       "8. 0.0149624750787922\n",
       "9. 0.000222295205586497\n",
       "10. 0.00487296421360862\n",
       "\n",
       "\n",
       "\n",
       "$median_t_mse_mse\n",
       ":   1. 0.00159731146402349\n",
       "2. 0.00198952016908845\n",
       "3. 0.0104148812308528\n",
       "4. 0.00403952323919894\n",
       "5. 0.00118967181916342\n",
       "6. 0.000354714586543617\n",
       "7. 0.001267905058322\n",
       "8. 4.00338221002128e-06\n",
       "9. 2.88309606529807e-05\n",
       "10. 0.00046901832920954\n",
       "\n",
       "\n",
       "\n",
       "\n",
       "\n"
      ],
      "text/plain": [
       "$mean_t_mse_mse\n",
       "$mean_t_mse_mse[[1]]\n",
       "[1] 0.001998464\n",
       "\n",
       "$mean_t_mse_mse[[2]]\n",
       "[1] 0.000375967\n",
       "\n",
       "$mean_t_mse_mse[[3]]\n",
       "[1] 0.02536375\n",
       "\n",
       "$mean_t_mse_mse[[4]]\n",
       "[1] 0.04809152\n",
       "\n",
       "$mean_t_mse_mse[[5]]\n",
       "[1] 4.684348e-05\n",
       "\n",
       "$mean_t_mse_mse[[6]]\n",
       "[1] 0.0006672099\n",
       "\n",
       "$mean_t_mse_mse[[7]]\n",
       "[1] 0.02075989\n",
       "\n",
       "$mean_t_mse_mse[[8]]\n",
       "[1] 0.01496248\n",
       "\n",
       "$mean_t_mse_mse[[9]]\n",
       "[1] 0.0002222952\n",
       "\n",
       "$mean_t_mse_mse[[10]]\n",
       "[1] 0.004872964\n",
       "\n",
       "\n",
       "$median_t_mse_mse\n",
       "$median_t_mse_mse[[1]]\n",
       "[1] 0.001597311\n",
       "\n",
       "$median_t_mse_mse[[2]]\n",
       "[1] 0.00198952\n",
       "\n",
       "$median_t_mse_mse[[3]]\n",
       "[1] 0.01041488\n",
       "\n",
       "$median_t_mse_mse[[4]]\n",
       "[1] 0.004039523\n",
       "\n",
       "$median_t_mse_mse[[5]]\n",
       "[1] 0.001189672\n",
       "\n",
       "$median_t_mse_mse[[6]]\n",
       "[1] 0.0003547146\n",
       "\n",
       "$median_t_mse_mse[[7]]\n",
       "[1] 0.001267905\n",
       "\n",
       "$median_t_mse_mse[[8]]\n",
       "[1] 4.003382e-06\n",
       "\n",
       "$median_t_mse_mse[[9]]\n",
       "[1] 2.883096e-05\n",
       "\n",
       "$median_t_mse_mse[[10]]\n",
       "[1] 0.0004690183\n",
       "\n"
      ]
     },
     "metadata": {},
     "output_type": "display_data"
    }
   ],
   "source": [
    "%use ir\n",
    "dat = readRDS('dsc_result.mse.rds')\n",
    "dat"
   ]
  },
  {
   "cell_type": "code",
   "execution_count": 4,
   "metadata": {
    "collapsed": false,
    "kernel": "ir"
   },
   "outputs": [
    {
     "data": {
      "text/html": [
       "0.0117361375936796"
      ],
      "text/latex": [
       "0.0117361375936796"
      ],
      "text/markdown": [
       "0.0117361375936796"
      ],
      "text/plain": [
       "[1] 0.01173614"
      ]
     },
     "metadata": {},
     "output_type": "display_data"
    }
   ],
   "source": [
    "dat$mean_t = unlist(dat$mean_t_mse_mse)\n",
    "mean(dat$mean_t)"
   ]
  },
  {
   "cell_type": "code",
   "execution_count": 5,
   "metadata": {
    "collapsed": false,
    "kernel": "ir"
   },
   "outputs": [
    {
     "data": {
      "text/html": [
       "0.00213553802392653"
      ],
      "text/latex": [
       "0.00213553802392653"
      ],
      "text/markdown": [
       "0.00213553802392653"
      ],
      "text/plain": [
       "[1] 0.002135538"
      ]
     },
     "metadata": {},
     "output_type": "display_data"
    }
   ],
   "source": [
    "dat$median_t = unlist(dat$median_t_mse_mse)\n",
    "mean(dat$median_t)"
   ]
  },
  {
   "cell_type": "markdown",
   "metadata": {},
   "source": [
    "We see the mean MSE is smaller for median based method. Now we graphically examine the results:"
   ]
  },
  {
   "cell_type": "code",
   "execution_count": 6,
   "metadata": {
    "collapsed": false,
    "kernel": "ir"
   },
   "outputs": [
    {
     "data": {
      "text/html": [
       "<table>\n",
       "<thead><tr><th scope=col>MSE</th><th scope=col>Method</th></tr></thead>\n",
       "<tbody>\n",
       "\t<tr><td>1.998464e-03</td><td>mean        </td></tr>\n",
       "\t<tr><td>3.759670e-04</td><td>mean        </td></tr>\n",
       "\t<tr><td>2.536375e-02</td><td>mean        </td></tr>\n",
       "\t<tr><td>4.809152e-02</td><td>mean        </td></tr>\n",
       "\t<tr><td>4.684348e-05</td><td>mean        </td></tr>\n",
       "\t<tr><td>6.672099e-04</td><td>mean        </td></tr>\n",
       "\t<tr><td>2.075989e-02</td><td>mean        </td></tr>\n",
       "\t<tr><td>1.496248e-02</td><td>mean        </td></tr>\n",
       "\t<tr><td>2.222952e-04</td><td>mean        </td></tr>\n",
       "\t<tr><td>4.872964e-03</td><td>mean        </td></tr>\n",
       "\t<tr><td>1.597311e-03</td><td>median      </td></tr>\n",
       "\t<tr><td>1.989520e-03</td><td>median      </td></tr>\n",
       "\t<tr><td>1.041488e-02</td><td>median      </td></tr>\n",
       "\t<tr><td>4.039523e-03</td><td>median      </td></tr>\n",
       "\t<tr><td>1.189672e-03</td><td>median      </td></tr>\n",
       "\t<tr><td>3.547146e-04</td><td>median      </td></tr>\n",
       "\t<tr><td>1.267905e-03</td><td>median      </td></tr>\n",
       "\t<tr><td>4.003382e-06</td><td>median      </td></tr>\n",
       "\t<tr><td>2.883096e-05</td><td>median      </td></tr>\n",
       "\t<tr><td>4.690183e-04</td><td>median      </td></tr>\n",
       "</tbody>\n",
       "</table>\n"
      ],
      "text/latex": [
       "\\begin{tabular}{r|ll}\n",
       " MSE & Method\\\\\n",
       "\\hline\n",
       "\t 1.998464e-03 & mean        \\\\\n",
       "\t 3.759670e-04 & mean        \\\\\n",
       "\t 2.536375e-02 & mean        \\\\\n",
       "\t 4.809152e-02 & mean        \\\\\n",
       "\t 4.684348e-05 & mean        \\\\\n",
       "\t 6.672099e-04 & mean        \\\\\n",
       "\t 2.075989e-02 & mean        \\\\\n",
       "\t 1.496248e-02 & mean        \\\\\n",
       "\t 2.222952e-04 & mean        \\\\\n",
       "\t 4.872964e-03 & mean        \\\\\n",
       "\t 1.597311e-03 & median      \\\\\n",
       "\t 1.989520e-03 & median      \\\\\n",
       "\t 1.041488e-02 & median      \\\\\n",
       "\t 4.039523e-03 & median      \\\\\n",
       "\t 1.189672e-03 & median      \\\\\n",
       "\t 3.547146e-04 & median      \\\\\n",
       "\t 1.267905e-03 & median      \\\\\n",
       "\t 4.003382e-06 & median      \\\\\n",
       "\t 2.883096e-05 & median      \\\\\n",
       "\t 4.690183e-04 & median      \\\\\n",
       "\\end{tabular}\n"
      ],
      "text/markdown": [
       "\n",
       "MSE | Method | \n",
       "|---|---|---|---|---|---|---|---|---|---|---|---|---|---|---|---|---|---|---|---|\n",
       "| 1.998464e-03 | mean         | \n",
       "| 3.759670e-04 | mean         | \n",
       "| 2.536375e-02 | mean         | \n",
       "| 4.809152e-02 | mean         | \n",
       "| 4.684348e-05 | mean         | \n",
       "| 6.672099e-04 | mean         | \n",
       "| 2.075989e-02 | mean         | \n",
       "| 1.496248e-02 | mean         | \n",
       "| 2.222952e-04 | mean         | \n",
       "| 4.872964e-03 | mean         | \n",
       "| 1.597311e-03 | median       | \n",
       "| 1.989520e-03 | median       | \n",
       "| 1.041488e-02 | median       | \n",
       "| 4.039523e-03 | median       | \n",
       "| 1.189672e-03 | median       | \n",
       "| 3.547146e-04 | median       | \n",
       "| 1.267905e-03 | median       | \n",
       "| 4.003382e-06 | median       | \n",
       "| 2.883096e-05 | median       | \n",
       "| 4.690183e-04 | median       | \n",
       "\n",
       "\n"
      ],
      "text/plain": [
       "   MSE          Method\n",
       "1  1.998464e-03 mean  \n",
       "2  3.759670e-04 mean  \n",
       "3  2.536375e-02 mean  \n",
       "4  4.809152e-02 mean  \n",
       "5  4.684348e-05 mean  \n",
       "6  6.672099e-04 mean  \n",
       "7  2.075989e-02 mean  \n",
       "8  1.496248e-02 mean  \n",
       "9  2.222952e-04 mean  \n",
       "10 4.872964e-03 mean  \n",
       "11 1.597311e-03 median\n",
       "12 1.989520e-03 median\n",
       "13 1.041488e-02 median\n",
       "14 4.039523e-03 median\n",
       "15 1.189672e-03 median\n",
       "16 3.547146e-04 median\n",
       "17 1.267905e-03 median\n",
       "18 4.003382e-06 median\n",
       "19 2.883096e-05 median\n",
       "20 4.690183e-04 median"
      ]
     },
     "metadata": {},
     "output_type": "display_data"
    }
   ],
   "source": [
    "dat = cbind(c(dat$mean_t, dat$median_t), c(rep('mean', length(dat$mean_t)), rep('median', length(dat$median_t))))\n",
    "colnames(dat) = c('MSE', 'Method')\n",
    "dat = data.frame(dat)\n",
    "dat$MSE <- as.numeric(as.character(dat$MSE))\n",
    "dat"
   ]
  },
  {
   "cell_type": "code",
   "execution_count": 7,
   "metadata": {
    "collapsed": false,
    "kernel": "ir",
    "output_cache": "[{\"name\":\"stderr\",\"text\":\"`stat_bindot()` using `bins = 30`. Pick better value with `binwidth`.\\n\",\"output_type\":\"stream\"},{\"metadata\":{},\"output_type\":\"display_data\",\"data\":{}},{\"metadata\":{},\"output_type\":\"display_data\",\"data\":{\"text/plain\":\"plot without title\",\"image/png\":\"iVBORw0KGgoAAAANSUhEUgAAA0gAAANICAMAAADKOT/pAAAAD1BMVEUAAAAzMzNNTU3r6+v/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\\nRU5ErkJggg==\"}}]",
    "scrolled": true
   },
   "outputs": [
    {
     "name": "stderr",
     "output_type": "stream",
     "text": [
      "`stat_bindot()` using `bins = 30`. Pick better value with `binwidth`.\n"
     ]
    },
    {
     "data": {},
     "metadata": {},
     "output_type": "display_data"
    },
    {
     "data": {
      "image/png": "[encoded data removed]",
      "text/plain": [
       "plot without title"
      ]
     },
     "metadata": {},
     "output_type": "display_data"
    }
   ],
   "source": [
    "library(ggplot2)\n",
    "p <- ggplot(data.frame(dat), aes(x=Method, y=MSE)) + \n",
    "    geom_violin() +\n",
    "    geom_dotplot(binaxis='y', stackdir='center', dotsize = .5)\n",
    "p"
   ]
  },
  {
   "cell_type": "markdown",
   "metadata": {
    "output_cache": "[]"
   },
   "source": [
    "## Automatic annotation\n",
    "For this very simple application, particularly when the value of `true_mean` does not matter for location parameter estimate, one should take advantage of automatic annotation DSC provides to create a tag for every executable. To activate automatic annotation, simply create an empty annotation file with only the DSC configuration file name specified:\n",
    "\n",
    "```\n",
    "DSC:\n",
    "    configuration: settings.dsc\n",
    "```\n",
    "and execute it:"
   ]
  },
  {
   "cell_type": "code",
   "execution_count": 1,
   "metadata": {
    "collapsed": false,
    "kernel": "sos",
    "output_cache": "[]"
   },
   "outputs": [
    {
     "name": "stderr",
     "output_type": "stream",
     "text": [
      "INFO: Annotation summary for sequence ending with \u001b[32mmse\u001b[0m\n",
      "+--------------+--------------------------------------------------+\n",
      "|  Tag         |  No. unique obj.                                 |\n",
      "+--------------+--------------------------------------------------+\n",
      "|  \u001b[32mrnorm\u001b[0m   |  \u001b[32m20\u001b[0m estimate & \u001b[32m20\u001b[0m mse & \u001b[32m10\u001b[0m simulate  |\n",
      "|  \u001b[32mrt\u001b[0m      |  \u001b[32m20\u001b[0m estimate & \u001b[32m20\u001b[0m mse & \u001b[32m10\u001b[0m simulate  |\n",
      "|  \u001b[32mmean\u001b[0m    |  \u001b[32m20\u001b[0m estimate & \u001b[32m20\u001b[0m mse & \u001b[32m20\u001b[0m simulate  |\n",
      "|  \u001b[32mmedian\u001b[0m  |  \u001b[32m20\u001b[0m estimate & \u001b[32m20\u001b[0m mse & \u001b[32m20\u001b[0m simulate  |\n",
      "|  \u001b[32mMSE\u001b[0m     |  \u001b[32m40\u001b[0m estimate & \u001b[32m40\u001b[0m mse & \u001b[32m20\u001b[0m simulate  |\n",
      "+--------------+--------------------------------------------------+\n",
      "INFO: Elapsed time \u001b[32m0.076\u001b[0m seconds.\n"
     ]
    }
   ],
   "source": [
    "! dsc -a settings_auto.ann"
   ]
  },
  {
   "cell_type": "markdown",
   "metadata": {
    "output_cache": "[]"
   },
   "source": [
    "In order to extract results for, for example samples from $t$ distribution using method `mean`, one can overlay the tags `rt` and `mean` to extract the MSE on this sequence. Multiple tag combinations is also allowed. Here we extract 4 cases:\n",
    "* Case 1: simulated from `rt` and analyzed by `mean`\n",
    "* Case 2: simulated from `rnorm` and analyzed by `mean`\n",
    "* Case 3: simulated from `rt` and analyzed by `median`\n",
    "* Case 4: simulated from `rnorm` and analyzed by `median`"
   ]
  },
  {
   "cell_type": "code",
   "execution_count": 2,
   "metadata": {
    "collapsed": false,
    "kernel": "sos",
    "output_cache": "[]"
   },
   "outputs": [
    {
     "name": "stderr",
     "output_type": "stream",
     "text": [
      "\r",
      "Extracting:   0%|          | 0/5 [00:00<?, ?it/s]\r",
      "Extracting:  20%|██        | 1/5 [00:00<00:00,  9.37it/s]\r",
      "Extracting:  60%|██████    | 3/5 [00:00<00:00, 11.07it/s]\r",
      "Extracting: 100%|██████████| 5/5 [00:00<00:00, 12.72it/s]\n",
      "INFO: Data extracted to \u001b[32mdsc_result.mse.rds\u001b[0m for DSC result \u001b[32mmse\u001b[0m via annotations: \n",
      "\t\u001b[32mcase1 = rt&&mean\n",
      "\tcase2 = rnorm&&mean\n",
      "\tcase3 = rt&&median\n",
      "\tcase4 = rnorm&&median\u001b[0m\n",
      "INFO: Elapsed time \u001b[32m0.656\u001b[0m seconds.\n"
     ]
    }
   ],
   "source": [
    "! dsc -e mse:mse -b dsc_result --tags \\\n",
    "    \"case1 = rt&&mean\" \"case2 = rnorm&&mean\" \\\n",
    "    \"case3 = rt&&median\" \"case4 = rnorm&&median\""
   ]
  },
  {
   "cell_type": "markdown",
   "metadata": {},
   "source": [
    "The `mean_t` and `median_t` tags in the previous section is equivalent to `case1` and `case3` in this automatic annotation."
   ]
  }
 ],
 "metadata": {
  "kernelspec": {
   "display_name": "SoS",
   "language": "sos",
   "name": "sos"
  },
  "language_info": {
   "codemirror_mode": "sos",
   "file_extension": ".sos",
   "mimetype": "text/x-sos",
   "name": "sos",
   "nbconvert_exporter": "sos.jupyter.converter.SoS_Exporter",
   "pygments_lexer": "sos"
  },
  "sos": {
   "celltoolbar": true,
   "kernels": [
    [
     "sos",
     "SoS",
     ""
    ],
    [
     "python3",
     "Python3",
     "#EAFAF1"
    ],
    [
     "ir",
     "ir",
     ""
    ]
   ],
   "panel": {
    "displayed": true,
    "height": 0,
    "style": "side"
   }
  }
 },
 "nbformat": 4,
 "nbformat_minor": 0
}
