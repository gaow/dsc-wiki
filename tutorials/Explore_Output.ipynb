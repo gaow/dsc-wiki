{
 "cells": [
  {
   "cell_type": "markdown",
   "metadata": {},
   "source": [
    "# Explore DSC output"
   ]
  },
  {
   "cell_type": "markdown",
   "metadata": {},
   "source": [
    "**FIXME: temporarily broken due to unresolved `seed` problem.**\n",
    "\n",
    "This tutorial is a continuation of the [5 Minutes Quick Start](5_Minutes.html). As a reminder here is the DSC script we've executed:\n",
    "\n",
    "```\n",
    "normal: normal.R\n",
    "  n: 100\n",
    "  $data: x\n",
    "  $true_mean: 0\n",
    "\n",
    "t: t.R\n",
    "  n: 100\n",
    "  df: 2\n",
    "  $data: x\n",
    "  $true_mean: 3\n",
    "\n",
    "mean: mean.R\n",
    "  x: $data\n",
    "  $est_mean: y\n",
    "\n",
    "median: median.R\n",
    "  x: $data\n",
    "  $est_mean: y\n",
    "\n",
    "sq_err: sq.R\n",
    "  a: $est_mean\n",
    "  b: $true_mean\n",
    "  $error: e\n",
    "\n",
    "abs_err: abs.R\n",
    "  a: $est_mean\n",
    "  b: $true_mean\n",
    "  $error: e \n",
    "\n",
    "DSC:\n",
    "    define:\n",
    "      simulate: normal, t\n",
    "      analyze: mean, median\n",
    "      score: abs_err, sq_err\n",
    "    run: simulate * analyze * score\n",
    "    exec_path: R\n",
    "    output: dsc_result\n",
    "```"
   ]
  },
  {
   "cell_type": "markdown",
   "metadata": {},
   "source": [
    "## `dscrutils` and result query"
   ]
  },
  {
   "cell_type": "markdown",
   "metadata": {
    "output_cache": "[]"
   },
   "source": [
    "Here we demonstrate extracting DSC benchmark metric `mse` for all scenarios, and evaluate 4 cases:\n",
    "\n",
    "* Case 1: simulated from `rt` and analyzed by `mean`\n",
    "* Case 2: simulated from `rnorm` and analyzed by `mean`\n",
    "* Case 3: simulated from `rt` and analyzed by `median`\n",
    "* Case 4: simulated from `rnorm` and analyzed by `median`\n",
    "\n",
    "We use the R function `dscquery` provided by `dscrutils` package to extract data. This packages should have been installed as a result of running the DSC benchmark in the [previous tutorial](5_Minutes.html). Since this example is small enough, we will demonstrate loading all results to R and explore from there."
   ]
  },
  {
   "cell_type": "code",
   "execution_count": 1,
   "metadata": {
    "kernel": "SoS"
   },
   "outputs": [
    {
     "name": "stdout",
     "output_type": "stream",
     "text": [
      "/home/gaow/Documents/GIT/software/dsc2/vignettes/one_sample_location"
     ]
    }
   ],
   "source": [
    "%cd ~/GIT/dsc2/vignettes/one_sample_location"
   ]
  },
  {
   "cell_type": "code",
   "execution_count": 2,
   "metadata": {
    "kernel": "R"
   },
   "outputs": [
    {
     "name": "stdout",
     "output_type": "stream",
     "text": [
      "Running shell command:\n",
      "dsc-query dsc_result -o /tmp/Rtmp9l35Pv/dsc/query.csv --target simulate.n simulate.seed simulate.true_mean estimate mse.mse \n",
      "Loading dsc-query output from CSV file.\n",
      "Reading DSC outputs:\n",
      " - mse.mse: extracted atomic values\n"
     ]
    }
   ],
   "source": [
    "dsc_dir = \"dsc_result\"\n",
    "dat = dscrutils::dscquery(dsc_dir,\n",
    "                          targets = c(paste(\"simulate\",c(\"n\",\"seed\"),sep=\".\"),\n",
    "                                      \"analyze\", \"score.error\"))"
   ]
  },
  {
   "cell_type": "code",
   "execution_count": 3,
   "metadata": {
    "kernel": "R"
   },
   "outputs": [
    {
     "data": {
      "text/html": [
       "<table>\n",
       "<thead><tr><th scope=col>simulate</th><th scope=col>simulate_n</th><th scope=col>simulate_seed</th><th scope=col>simulate_true_mean</th><th scope=col>estimate</th><th scope=col>estimate.output</th><th scope=col>mse.mse</th></tr></thead>\n",
       "<tbody>\n",
       "\t<tr><td>t                 </td><td>1000              </td><td>1                 </td><td>0                 </td><td>median            </td><td>normal_1_mean_1   </td><td>1.356792e-04      </td></tr>\n",
       "\t<tr><td>t                 </td><td>1000              </td><td>2                 </td><td>0                 </td><td>median            </td><td>normal_2_mean_1   </td><td>3.843843e-03      </td></tr>\n",
       "\t<tr><td>t                 </td><td>1000              </td><td>3                 </td><td>0                 </td><td>median            </td><td>normal_3_mean_1   </td><td>4.091567e-05      </td></tr>\n",
       "\t<tr><td>t                 </td><td>1000              </td><td>4                 </td><td>0                 </td><td>median            </td><td>normal_4_mean_1   </td><td>1.185285e-03      </td></tr>\n",
       "\t<tr><td>t                 </td><td>1000              </td><td>5                 </td><td>0                 </td><td>median            </td><td>normal_5_mean_1   </td><td>3.027412e-04      </td></tr>\n",
       "\t<tr><td>t                 </td><td>1000              </td><td>1                 </td><td>1                 </td><td>median            </td><td>normal_6_mean_1   </td><td>1.356792e-04      </td></tr>\n",
       "\t<tr><td>t                 </td><td>1000              </td><td>2                 </td><td>1                 </td><td>median            </td><td>normal_7_mean_1   </td><td>3.843843e-03      </td></tr>\n",
       "\t<tr><td>t                 </td><td>1000              </td><td>3                 </td><td>1                 </td><td>median            </td><td>normal_8_mean_1   </td><td>4.091567e-05      </td></tr>\n",
       "\t<tr><td>t                 </td><td>1000              </td><td>4                 </td><td>1                 </td><td>median            </td><td>normal_9_mean_1   </td><td>1.185285e-03      </td></tr>\n",
       "\t<tr><td>t                 </td><td>1000              </td><td>5                 </td><td>1                 </td><td>median            </td><td>normal_10_mean_1  </td><td>3.027412e-04      </td></tr>\n",
       "\t<tr><td>t                 </td><td>1000              </td><td>1                 </td><td>0                 </td><td>mean              </td><td>normal_1_median_1 </td><td>1.247801e-03      </td></tr>\n",
       "\t<tr><td>t                 </td><td>1000              </td><td>2                 </td><td>0                 </td><td>mean              </td><td>normal_2_median_1 </td><td>2.513560e-03      </td></tr>\n",
       "\t<tr><td>t                 </td><td>1000              </td><td>3                 </td><td>0                 </td><td>mean              </td><td>normal_3_median_1 </td><td>1.045750e-03      </td></tr>\n",
       "\t<tr><td>t                 </td><td>1000              </td><td>4                 </td><td>0                 </td><td>mean              </td><td>normal_4_median_1 </td><td>1.583502e-03      </td></tr>\n",
       "\t<tr><td>t                 </td><td>1000              </td><td>5                 </td><td>0                 </td><td>mean              </td><td>normal_5_median_1 </td><td>4.975045e-04      </td></tr>\n",
       "\t<tr><td>t                 </td><td>1000              </td><td>1                 </td><td>1                 </td><td>mean              </td><td>normal_6_median_1 </td><td>1.247801e-03      </td></tr>\n",
       "\t<tr><td>t                 </td><td>1000              </td><td>2                 </td><td>1                 </td><td>mean              </td><td>normal_7_median_1 </td><td>2.513560e-03      </td></tr>\n",
       "\t<tr><td>t                 </td><td>1000              </td><td>3                 </td><td>1                 </td><td>mean              </td><td>normal_8_median_1 </td><td>1.045750e-03      </td></tr>\n",
       "\t<tr><td>t                 </td><td>1000              </td><td>4                 </td><td>1                 </td><td>mean              </td><td>normal_9_median_1 </td><td>1.583502e-03      </td></tr>\n",
       "\t<tr><td>t                 </td><td>1000              </td><td>5                 </td><td>1                 </td><td>mean              </td><td>normal_10_median_1</td><td>4.975045e-04      </td></tr>\n",
       "\t<tr><td>normal            </td><td>1000              </td><td>1                 </td><td>0                 </td><td>median            </td><td>t_1_mean_1        </td><td>3.759670e-04      </td></tr>\n",
       "\t<tr><td>normal            </td><td>1000              </td><td>2                 </td><td>0                 </td><td>median            </td><td>t_2_mean_1        </td><td>2.536375e-02      </td></tr>\n",
       "\t<tr><td>normal            </td><td>1000              </td><td>3                 </td><td>0                 </td><td>median            </td><td>t_3_mean_1        </td><td>4.809152e-02      </td></tr>\n",
       "\t<tr><td>normal            </td><td>1000              </td><td>4                 </td><td>0                 </td><td>median            </td><td>t_4_mean_1        </td><td>4.684348e-05      </td></tr>\n",
       "\t<tr><td>normal            </td><td>1000              </td><td>5                 </td><td>0                 </td><td>median            </td><td>t_5_mean_1        </td><td>6.672099e-04      </td></tr>\n",
       "\t<tr><td>normal            </td><td>1000              </td><td>1                 </td><td>1                 </td><td>median            </td><td>t_6_mean_1        </td><td>3.759670e-04      </td></tr>\n",
       "\t<tr><td>normal            </td><td>1000              </td><td>2                 </td><td>1                 </td><td>median            </td><td>t_7_mean_1        </td><td>2.536375e-02      </td></tr>\n",
       "\t<tr><td>normal            </td><td>1000              </td><td>3                 </td><td>1                 </td><td>median            </td><td>t_8_mean_1        </td><td>4.809152e-02      </td></tr>\n",
       "\t<tr><td>normal            </td><td>1000              </td><td>4                 </td><td>1                 </td><td>median            </td><td>t_9_mean_1        </td><td>4.684348e-05      </td></tr>\n",
       "\t<tr><td>normal            </td><td>1000              </td><td>5                 </td><td>1                 </td><td>median            </td><td>t_10_mean_1       </td><td>6.672099e-04      </td></tr>\n",
       "\t<tr><td>normal            </td><td>1000              </td><td>1                 </td><td>0                 </td><td>mean              </td><td>t_1_median_1      </td><td>1.989520e-03      </td></tr>\n",
       "\t<tr><td>normal            </td><td>1000              </td><td>2                 </td><td>0                 </td><td>mean              </td><td>t_2_median_1      </td><td>1.041488e-02      </td></tr>\n",
       "\t<tr><td>normal            </td><td>1000              </td><td>3                 </td><td>0                 </td><td>mean              </td><td>t_3_median_1      </td><td>4.039523e-03      </td></tr>\n",
       "\t<tr><td>normal            </td><td>1000              </td><td>4                 </td><td>0                 </td><td>mean              </td><td>t_4_median_1      </td><td>1.189672e-03      </td></tr>\n",
       "\t<tr><td>normal            </td><td>1000              </td><td>5                 </td><td>0                 </td><td>mean              </td><td>t_5_median_1      </td><td>3.547146e-04      </td></tr>\n",
       "\t<tr><td>normal            </td><td>1000              </td><td>1                 </td><td>1                 </td><td>mean              </td><td>t_6_median_1      </td><td>1.989520e-03      </td></tr>\n",
       "\t<tr><td>normal            </td><td>1000              </td><td>2                 </td><td>1                 </td><td>mean              </td><td>t_7_median_1      </td><td>1.041488e-02      </td></tr>\n",
       "\t<tr><td>normal            </td><td>1000              </td><td>3                 </td><td>1                 </td><td>mean              </td><td>t_8_median_1      </td><td>4.039523e-03      </td></tr>\n",
       "\t<tr><td>normal            </td><td>1000              </td><td>4                 </td><td>1                 </td><td>mean              </td><td>t_9_median_1      </td><td>1.189672e-03      </td></tr>\n",
       "\t<tr><td>normal            </td><td>1000              </td><td>5                 </td><td>1                 </td><td>mean              </td><td>t_10_median_1     </td><td>3.547146e-04      </td></tr>\n",
       "</tbody>\n",
       "</table>\n"
      ],
      "text/latex": [
       "\\begin{tabular}{r|lllllll}\n",
       " simulate & simulate\\_n & simulate\\_seed & simulate\\_true\\_mean & estimate & estimate.output & mse.mse\\\\\n",
       "\\hline\n",
       "\t t                        & 1000                     & 1                        & 0                        & median                   & normal\\_1\\_mean\\_1    & 1.356792e-04            \\\\\n",
       "\t t                        & 1000                     & 2                        & 0                        & median                   & normal\\_2\\_mean\\_1    & 3.843843e-03            \\\\\n",
       "\t t                        & 1000                     & 3                        & 0                        & median                   & normal\\_3\\_mean\\_1    & 4.091567e-05            \\\\\n",
       "\t t                        & 1000                     & 4                        & 0                        & median                   & normal\\_4\\_mean\\_1    & 1.185285e-03            \\\\\n",
       "\t t                        & 1000                     & 5                        & 0                        & median                   & normal\\_5\\_mean\\_1    & 3.027412e-04            \\\\\n",
       "\t t                        & 1000                     & 1                        & 1                        & median                   & normal\\_6\\_mean\\_1    & 1.356792e-04            \\\\\n",
       "\t t                        & 1000                     & 2                        & 1                        & median                   & normal\\_7\\_mean\\_1    & 3.843843e-03            \\\\\n",
       "\t t                        & 1000                     & 3                        & 1                        & median                   & normal\\_8\\_mean\\_1    & 4.091567e-05            \\\\\n",
       "\t t                        & 1000                     & 4                        & 1                        & median                   & normal\\_9\\_mean\\_1    & 1.185285e-03            \\\\\n",
       "\t t                        & 1000                     & 5                        & 1                        & median                   & normal\\_10\\_mean\\_1   & 3.027412e-04            \\\\\n",
       "\t t                        & 1000                     & 1                        & 0                        & mean                     & normal\\_1\\_median\\_1  & 1.247801e-03            \\\\\n",
       "\t t                        & 1000                     & 2                        & 0                        & mean                     & normal\\_2\\_median\\_1  & 2.513560e-03            \\\\\n",
       "\t t                        & 1000                     & 3                        & 0                        & mean                     & normal\\_3\\_median\\_1  & 1.045750e-03            \\\\\n",
       "\t t                        & 1000                     & 4                        & 0                        & mean                     & normal\\_4\\_median\\_1  & 1.583502e-03            \\\\\n",
       "\t t                        & 1000                     & 5                        & 0                        & mean                     & normal\\_5\\_median\\_1  & 4.975045e-04            \\\\\n",
       "\t t                        & 1000                     & 1                        & 1                        & mean                     & normal\\_6\\_median\\_1  & 1.247801e-03            \\\\\n",
       "\t t                        & 1000                     & 2                        & 1                        & mean                     & normal\\_7\\_median\\_1  & 2.513560e-03            \\\\\n",
       "\t t                        & 1000                     & 3                        & 1                        & mean                     & normal\\_8\\_median\\_1  & 1.045750e-03            \\\\\n",
       "\t t                        & 1000                     & 4                        & 1                        & mean                     & normal\\_9\\_median\\_1  & 1.583502e-03            \\\\\n",
       "\t t                        & 1000                     & 5                        & 1                        & mean                     & normal\\_10\\_median\\_1 & 4.975045e-04            \\\\\n",
       "\t normal                   & 1000                     & 1                        & 0                        & median                   & t\\_1\\_mean\\_1         & 3.759670e-04            \\\\\n",
       "\t normal                   & 1000                     & 2                        & 0                        & median                   & t\\_2\\_mean\\_1         & 2.536375e-02            \\\\\n",
       "\t normal                   & 1000                     & 3                        & 0                        & median                   & t\\_3\\_mean\\_1         & 4.809152e-02            \\\\\n",
       "\t normal                   & 1000                     & 4                        & 0                        & median                   & t\\_4\\_mean\\_1         & 4.684348e-05            \\\\\n",
       "\t normal                   & 1000                     & 5                        & 0                        & median                   & t\\_5\\_mean\\_1         & 6.672099e-04            \\\\\n",
       "\t normal                   & 1000                     & 1                        & 1                        & median                   & t\\_6\\_mean\\_1         & 3.759670e-04            \\\\\n",
       "\t normal                   & 1000                     & 2                        & 1                        & median                   & t\\_7\\_mean\\_1         & 2.536375e-02            \\\\\n",
       "\t normal                   & 1000                     & 3                        & 1                        & median                   & t\\_8\\_mean\\_1         & 4.809152e-02            \\\\\n",
       "\t normal                   & 1000                     & 4                        & 1                        & median                   & t\\_9\\_mean\\_1         & 4.684348e-05            \\\\\n",
       "\t normal                   & 1000                     & 5                        & 1                        & median                   & t\\_10\\_mean\\_1        & 6.672099e-04            \\\\\n",
       "\t normal                   & 1000                     & 1                        & 0                        & mean                     & t\\_1\\_median\\_1       & 1.989520e-03            \\\\\n",
       "\t normal                   & 1000                     & 2                        & 0                        & mean                     & t\\_2\\_median\\_1       & 1.041488e-02            \\\\\n",
       "\t normal                   & 1000                     & 3                        & 0                        & mean                     & t\\_3\\_median\\_1       & 4.039523e-03            \\\\\n",
       "\t normal                   & 1000                     & 4                        & 0                        & mean                     & t\\_4\\_median\\_1       & 1.189672e-03            \\\\\n",
       "\t normal                   & 1000                     & 5                        & 0                        & mean                     & t\\_5\\_median\\_1       & 3.547146e-04            \\\\\n",
       "\t normal                   & 1000                     & 1                        & 1                        & mean                     & t\\_6\\_median\\_1       & 1.989520e-03            \\\\\n",
       "\t normal                   & 1000                     & 2                        & 1                        & mean                     & t\\_7\\_median\\_1       & 1.041488e-02            \\\\\n",
       "\t normal                   & 1000                     & 3                        & 1                        & mean                     & t\\_8\\_median\\_1       & 4.039523e-03            \\\\\n",
       "\t normal                   & 1000                     & 4                        & 1                        & mean                     & t\\_9\\_median\\_1       & 1.189672e-03            \\\\\n",
       "\t normal                   & 1000                     & 5                        & 1                        & mean                     & t\\_10\\_median\\_1      & 3.547146e-04            \\\\\n",
       "\\end{tabular}\n"
      ],
      "text/markdown": [
       "\n",
       "simulate | simulate_n | simulate_seed | simulate_true_mean | estimate | estimate.output | mse.mse | \n",
       "|---|---|---|---|---|---|---|---|---|---|---|---|---|---|---|---|---|---|---|---|---|---|---|---|---|---|---|---|---|---|---|---|---|---|---|---|---|---|---|---|\n",
       "| t                  | 1000               | 1                  | 0                  | median             | normal_1_mean_1    | 1.356792e-04       | \n",
       "| t                  | 1000               | 2                  | 0                  | median             | normal_2_mean_1    | 3.843843e-03       | \n",
       "| t                  | 1000               | 3                  | 0                  | median             | normal_3_mean_1    | 4.091567e-05       | \n",
       "| t                  | 1000               | 4                  | 0                  | median             | normal_4_mean_1    | 1.185285e-03       | \n",
       "| t                  | 1000               | 5                  | 0                  | median             | normal_5_mean_1    | 3.027412e-04       | \n",
       "| t                  | 1000               | 1                  | 1                  | median             | normal_6_mean_1    | 1.356792e-04       | \n",
       "| t                  | 1000               | 2                  | 1                  | median             | normal_7_mean_1    | 3.843843e-03       | \n",
       "| t                  | 1000               | 3                  | 1                  | median             | normal_8_mean_1    | 4.091567e-05       | \n",
       "| t                  | 1000               | 4                  | 1                  | median             | normal_9_mean_1    | 1.185285e-03       | \n",
       "| t                  | 1000               | 5                  | 1                  | median             | normal_10_mean_1   | 3.027412e-04       | \n",
       "| t                  | 1000               | 1                  | 0                  | mean               | normal_1_median_1  | 1.247801e-03       | \n",
       "| t                  | 1000               | 2                  | 0                  | mean               | normal_2_median_1  | 2.513560e-03       | \n",
       "| t                  | 1000               | 3                  | 0                  | mean               | normal_3_median_1  | 1.045750e-03       | \n",
       "| t                  | 1000               | 4                  | 0                  | mean               | normal_4_median_1  | 1.583502e-03       | \n",
       "| t                  | 1000               | 5                  | 0                  | mean               | normal_5_median_1  | 4.975045e-04       | \n",
       "| t                  | 1000               | 1                  | 1                  | mean               | normal_6_median_1  | 1.247801e-03       | \n",
       "| t                  | 1000               | 2                  | 1                  | mean               | normal_7_median_1  | 2.513560e-03       | \n",
       "| t                  | 1000               | 3                  | 1                  | mean               | normal_8_median_1  | 1.045750e-03       | \n",
       "| t                  | 1000               | 4                  | 1                  | mean               | normal_9_median_1  | 1.583502e-03       | \n",
       "| t                  | 1000               | 5                  | 1                  | mean               | normal_10_median_1 | 4.975045e-04       | \n",
       "| normal             | 1000               | 1                  | 0                  | median             | t_1_mean_1         | 3.759670e-04       | \n",
       "| normal             | 1000               | 2                  | 0                  | median             | t_2_mean_1         | 2.536375e-02       | \n",
       "| normal             | 1000               | 3                  | 0                  | median             | t_3_mean_1         | 4.809152e-02       | \n",
       "| normal             | 1000               | 4                  | 0                  | median             | t_4_mean_1         | 4.684348e-05       | \n",
       "| normal             | 1000               | 5                  | 0                  | median             | t_5_mean_1         | 6.672099e-04       | \n",
       "| normal             | 1000               | 1                  | 1                  | median             | t_6_mean_1         | 3.759670e-04       | \n",
       "| normal             | 1000               | 2                  | 1                  | median             | t_7_mean_1         | 2.536375e-02       | \n",
       "| normal             | 1000               | 3                  | 1                  | median             | t_8_mean_1         | 4.809152e-02       | \n",
       "| normal             | 1000               | 4                  | 1                  | median             | t_9_mean_1         | 4.684348e-05       | \n",
       "| normal             | 1000               | 5                  | 1                  | median             | t_10_mean_1        | 6.672099e-04       | \n",
       "| normal             | 1000               | 1                  | 0                  | mean               | t_1_median_1       | 1.989520e-03       | \n",
       "| normal             | 1000               | 2                  | 0                  | mean               | t_2_median_1       | 1.041488e-02       | \n",
       "| normal             | 1000               | 3                  | 0                  | mean               | t_3_median_1       | 4.039523e-03       | \n",
       "| normal             | 1000               | 4                  | 0                  | mean               | t_4_median_1       | 1.189672e-03       | \n",
       "| normal             | 1000               | 5                  | 0                  | mean               | t_5_median_1       | 3.547146e-04       | \n",
       "| normal             | 1000               | 1                  | 1                  | mean               | t_6_median_1       | 1.989520e-03       | \n",
       "| normal             | 1000               | 2                  | 1                  | mean               | t_7_median_1       | 1.041488e-02       | \n",
       "| normal             | 1000               | 3                  | 1                  | mean               | t_8_median_1       | 4.039523e-03       | \n",
       "| normal             | 1000               | 4                  | 1                  | mean               | t_9_median_1       | 1.189672e-03       | \n",
       "| normal             | 1000               | 5                  | 1                  | mean               | t_10_median_1      | 3.547146e-04       | \n",
       "\n",
       "\n"
      ],
      "text/plain": [
       "   simulate simulate_n simulate_seed simulate_true_mean estimate\n",
       "1  t        1000       1             0                  median  \n",
       "2  t        1000       2             0                  median  \n",
       "3  t        1000       3             0                  median  \n",
       "4  t        1000       4             0                  median  \n",
       "5  t        1000       5             0                  median  \n",
       "6  t        1000       1             1                  median  \n",
       "7  t        1000       2             1                  median  \n",
       "8  t        1000       3             1                  median  \n",
       "9  t        1000       4             1                  median  \n",
       "10 t        1000       5             1                  median  \n",
       "11 t        1000       1             0                  mean    \n",
       "12 t        1000       2             0                  mean    \n",
       "13 t        1000       3             0                  mean    \n",
       "14 t        1000       4             0                  mean    \n",
       "15 t        1000       5             0                  mean    \n",
       "16 t        1000       1             1                  mean    \n",
       "17 t        1000       2             1                  mean    \n",
       "18 t        1000       3             1                  mean    \n",
       "19 t        1000       4             1                  mean    \n",
       "20 t        1000       5             1                  mean    \n",
       "21 normal   1000       1             0                  median  \n",
       "22 normal   1000       2             0                  median  \n",
       "23 normal   1000       3             0                  median  \n",
       "24 normal   1000       4             0                  median  \n",
       "25 normal   1000       5             0                  median  \n",
       "26 normal   1000       1             1                  median  \n",
       "27 normal   1000       2             1                  median  \n",
       "28 normal   1000       3             1                  median  \n",
       "29 normal   1000       4             1                  median  \n",
       "30 normal   1000       5             1                  median  \n",
       "31 normal   1000       1             0                  mean    \n",
       "32 normal   1000       2             0                  mean    \n",
       "33 normal   1000       3             0                  mean    \n",
       "34 normal   1000       4             0                  mean    \n",
       "35 normal   1000       5             0                  mean    \n",
       "36 normal   1000       1             1                  mean    \n",
       "37 normal   1000       2             1                  mean    \n",
       "38 normal   1000       3             1                  mean    \n",
       "39 normal   1000       4             1                  mean    \n",
       "40 normal   1000       5             1                  mean    \n",
       "   estimate.output    mse.mse     \n",
       "1  normal_1_mean_1    1.356792e-04\n",
       "2  normal_2_mean_1    3.843843e-03\n",
       "3  normal_3_mean_1    4.091567e-05\n",
       "4  normal_4_mean_1    1.185285e-03\n",
       "5  normal_5_mean_1    3.027412e-04\n",
       "6  normal_6_mean_1    1.356792e-04\n",
       "7  normal_7_mean_1    3.843843e-03\n",
       "8  normal_8_mean_1    4.091567e-05\n",
       "9  normal_9_mean_1    1.185285e-03\n",
       "10 normal_10_mean_1   3.027412e-04\n",
       "11 normal_1_median_1  1.247801e-03\n",
       "12 normal_2_median_1  2.513560e-03\n",
       "13 normal_3_median_1  1.045750e-03\n",
       "14 normal_4_median_1  1.583502e-03\n",
       "15 normal_5_median_1  4.975045e-04\n",
       "16 normal_6_median_1  1.247801e-03\n",
       "17 normal_7_median_1  2.513560e-03\n",
       "18 normal_8_median_1  1.045750e-03\n",
       "19 normal_9_median_1  1.583502e-03\n",
       "20 normal_10_median_1 4.975045e-04\n",
       "21 t_1_mean_1         3.759670e-04\n",
       "22 t_2_mean_1         2.536375e-02\n",
       "23 t_3_mean_1         4.809152e-02\n",
       "24 t_4_mean_1         4.684348e-05\n",
       "25 t_5_mean_1         6.672099e-04\n",
       "26 t_6_mean_1         3.759670e-04\n",
       "27 t_7_mean_1         2.536375e-02\n",
       "28 t_8_mean_1         4.809152e-02\n",
       "29 t_9_mean_1         4.684348e-05\n",
       "30 t_10_mean_1        6.672099e-04\n",
       "31 t_1_median_1       1.989520e-03\n",
       "32 t_2_median_1       1.041488e-02\n",
       "33 t_3_median_1       4.039523e-03\n",
       "34 t_4_median_1       1.189672e-03\n",
       "35 t_5_median_1       3.547146e-04\n",
       "36 t_6_median_1       1.989520e-03\n",
       "37 t_7_median_1       1.041488e-02\n",
       "38 t_8_median_1       4.039523e-03\n",
       "39 t_9_median_1       1.189672e-03\n",
       "40 t_10_median_1      3.547146e-04"
      ]
     },
     "metadata": {},
     "output_type": "display_data"
    }
   ],
   "source": [
    "dat"
   ]
  },
  {
   "cell_type": "markdown",
   "metadata": {},
   "source": [
    "## Analyzing DSC results\n",
    "Let's focus on comparing results of Case 1 vs Case 3. "
   ]
  },
  {
   "cell_type": "code",
   "execution_count": 4,
   "metadata": {
    "kernel": "R"
   },
   "outputs": [
    {
     "data": {
      "text/html": [
       "<table>\n",
       "<thead><tr><th scope=col>estimate</th><th scope=col>mse.mse</th></tr></thead>\n",
       "<tbody>\n",
       "\t<tr><td>median      </td><td>1.356792e-04</td></tr>\n",
       "\t<tr><td>median      </td><td>3.843843e-03</td></tr>\n",
       "\t<tr><td>median      </td><td>4.091567e-05</td></tr>\n",
       "\t<tr><td>median      </td><td>1.185285e-03</td></tr>\n",
       "\t<tr><td>median      </td><td>3.027412e-04</td></tr>\n",
       "\t<tr><td>median      </td><td>1.356792e-04</td></tr>\n",
       "\t<tr><td>median      </td><td>3.843843e-03</td></tr>\n",
       "\t<tr><td>median      </td><td>4.091567e-05</td></tr>\n",
       "\t<tr><td>median      </td><td>1.185285e-03</td></tr>\n",
       "\t<tr><td>median      </td><td>3.027412e-04</td></tr>\n",
       "\t<tr><td>mean        </td><td>1.247801e-03</td></tr>\n",
       "\t<tr><td>mean        </td><td>2.513560e-03</td></tr>\n",
       "\t<tr><td>mean        </td><td>1.045750e-03</td></tr>\n",
       "\t<tr><td>mean        </td><td>1.583502e-03</td></tr>\n",
       "\t<tr><td>mean        </td><td>4.975045e-04</td></tr>\n",
       "\t<tr><td>mean        </td><td>1.247801e-03</td></tr>\n",
       "\t<tr><td>mean        </td><td>2.513560e-03</td></tr>\n",
       "\t<tr><td>mean        </td><td>1.045750e-03</td></tr>\n",
       "\t<tr><td>mean        </td><td>1.583502e-03</td></tr>\n",
       "\t<tr><td>mean        </td><td>4.975045e-04</td></tr>\n",
       "</tbody>\n",
       "</table>\n"
      ],
      "text/latex": [
       "\\begin{tabular}{r|ll}\n",
       " estimate & mse.mse\\\\\n",
       "\\hline\n",
       "\t median       & 1.356792e-04\\\\\n",
       "\t median       & 3.843843e-03\\\\\n",
       "\t median       & 4.091567e-05\\\\\n",
       "\t median       & 1.185285e-03\\\\\n",
       "\t median       & 3.027412e-04\\\\\n",
       "\t median       & 1.356792e-04\\\\\n",
       "\t median       & 3.843843e-03\\\\\n",
       "\t median       & 4.091567e-05\\\\\n",
       "\t median       & 1.185285e-03\\\\\n",
       "\t median       & 3.027412e-04\\\\\n",
       "\t mean         & 1.247801e-03\\\\\n",
       "\t mean         & 2.513560e-03\\\\\n",
       "\t mean         & 1.045750e-03\\\\\n",
       "\t mean         & 1.583502e-03\\\\\n",
       "\t mean         & 4.975045e-04\\\\\n",
       "\t mean         & 1.247801e-03\\\\\n",
       "\t mean         & 2.513560e-03\\\\\n",
       "\t mean         & 1.045750e-03\\\\\n",
       "\t mean         & 1.583502e-03\\\\\n",
       "\t mean         & 4.975045e-04\\\\\n",
       "\\end{tabular}\n"
      ],
      "text/markdown": [
       "\n",
       "estimate | mse.mse | \n",
       "|---|---|---|---|---|---|---|---|---|---|---|---|---|---|---|---|---|---|---|---|\n",
       "| median       | 1.356792e-04 | \n",
       "| median       | 3.843843e-03 | \n",
       "| median       | 4.091567e-05 | \n",
       "| median       | 1.185285e-03 | \n",
       "| median       | 3.027412e-04 | \n",
       "| median       | 1.356792e-04 | \n",
       "| median       | 3.843843e-03 | \n",
       "| median       | 4.091567e-05 | \n",
       "| median       | 1.185285e-03 | \n",
       "| median       | 3.027412e-04 | \n",
       "| mean         | 1.247801e-03 | \n",
       "| mean         | 2.513560e-03 | \n",
       "| mean         | 1.045750e-03 | \n",
       "| mean         | 1.583502e-03 | \n",
       "| mean         | 4.975045e-04 | \n",
       "| mean         | 1.247801e-03 | \n",
       "| mean         | 2.513560e-03 | \n",
       "| mean         | 1.045750e-03 | \n",
       "| mean         | 1.583502e-03 | \n",
       "| mean         | 4.975045e-04 | \n",
       "\n",
       "\n"
      ],
      "text/plain": [
       "   estimate mse.mse     \n",
       "1  median   1.356792e-04\n",
       "2  median   3.843843e-03\n",
       "3  median   4.091567e-05\n",
       "4  median   1.185285e-03\n",
       "5  median   3.027412e-04\n",
       "6  median   1.356792e-04\n",
       "7  median   3.843843e-03\n",
       "8  median   4.091567e-05\n",
       "9  median   1.185285e-03\n",
       "10 median   3.027412e-04\n",
       "11 mean     1.247801e-03\n",
       "12 mean     2.513560e-03\n",
       "13 mean     1.045750e-03\n",
       "14 mean     1.583502e-03\n",
       "15 mean     4.975045e-04\n",
       "16 mean     1.247801e-03\n",
       "17 mean     2.513560e-03\n",
       "18 mean     1.045750e-03\n",
       "19 mean     1.583502e-03\n",
       "20 mean     4.975045e-04"
      ]
     },
     "metadata": {},
     "output_type": "display_data"
    }
   ],
   "source": [
    "dat1 = subset(dat, simulate == \"t\")[,c('estimate','mse.mse')]\n",
    "dat1"
   ]
  },
  {
   "cell_type": "markdown",
   "metadata": {},
   "source": [
    "We can compare the mean MSE in these scenarios:"
   ]
  },
  {
   "cell_type": "code",
   "execution_count": 5,
   "metadata": {
    "kernel": "R"
   },
   "outputs": [
    {
     "data": {
      "text/html": [
       "0.00137762352626341"
      ],
      "text/latex": [
       "0.00137762352626341"
      ],
      "text/markdown": [
       "0.00137762352626341"
      ],
      "text/plain": [
       "[1] 0.001377624"
      ]
     },
     "metadata": {},
     "output_type": "display_data"
    }
   ],
   "source": [
    "mean(subset(dat1, estimate =='mean')$mse.mse)"
   ]
  },
  {
   "cell_type": "code",
   "execution_count": 6,
   "metadata": {
    "kernel": "R"
   },
   "outputs": [
    {
     "data": {
      "text/html": [
       "0.00110169281587435"
      ],
      "text/latex": [
       "0.00110169281587435"
      ],
      "text/markdown": [
       "0.00110169281587435"
      ],
      "text/plain": [
       "[1] 0.001101693"
      ]
     },
     "metadata": {},
     "output_type": "display_data"
    }
   ],
   "source": [
    "mean(subset(dat1, estimate =='median')$mse.mse)"
   ]
  },
  {
   "cell_type": "markdown",
   "metadata": {},
   "source": [
    "Now we can plot the results:"
   ]
  },
  {
   "cell_type": "code",
   "execution_count": 7,
   "metadata": {
    "kernel": "R",
    "output_cache": "[{\"name\":\"stderr\",\"text\":\"`stat_bindot()` using `bins = 30`. Pick better value with `binwidth`.\\n\",\"output_type\":\"stream\"},{\"metadata\":{},\"output_type\":\"display_data\",\"data\":{}},{\"metadata\":{},\"output_type\":\"display_data\",\"data\":{\"text/plain\":\"plot without title\",\"image/png\":\"iVBORw0KGgoAAAANSUhEUgAAA0gAAANICAMAAADKOT/pAAAAD1BMVEUAAAAzMzNNTU3r6+v/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\\nRU5ErkJggg==\"}}]",
    "scrolled": false
   },
   "outputs": [
    {
     "name": "stderr",
     "output_type": "stream",
     "text": [
      "`stat_bindot()` using `bins = 30`. Pick better value with `binwidth`.\n"
     ]
    },
    {
     "data": {},
     "metadata": {},
     "output_type": "display_data"
    },
    {
     "data": {
      "image/png": "[encoded data removed]",
      "text/plain": [
       "plot without title"
      ]
     },
     "metadata": {},
     "output_type": "display_data"
    }
   ],
   "source": [
    "library(ggplot2)\n",
    "p <- ggplot(data.frame(dat1), aes(x=estimate, y=mse.mse)) + \n",
    "    geom_violin() +\n",
    "    geom_dotplot(binaxis='y', stackdir='center', dotsize = .5)\n",
    "p"
   ]
  }
 ],
 "metadata": {
  "kernelspec": {
   "display_name": "SoS",
   "language": "sos",
   "name": "sos"
  },
  "language_info": {
   "codemirror_mode": "sos",
   "file_extension": ".sos",
   "mimetype": "text/x-sos",
   "name": "sos",
   "nbconvert_exporter": "sos_notebook.converter.SoS_Exporter",
   "pygments_lexer": "sos"
  },
  "sos": {
   "celltoolbar": true,
   "default_kernel": "SoS",
   "kernels": [
    [
     "R",
     "ir",
     "R",
     "#DCDCDA"
    ],
    [
     "SoS",
     "sos",
     "",
     ""
    ],
    [
     "Python3",
     "python3",
     "Python3",
     "#FFE771"
    ]
   ],
   "panel": {
    "displayed": true,
    "height": 0,
    "style": "side"
   }
  }
 },
 "nbformat": 4,
 "nbformat_minor": 1
}
