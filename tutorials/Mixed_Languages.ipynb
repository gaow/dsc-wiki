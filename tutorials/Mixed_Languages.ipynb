{
 "cells": [
  {
   "cell_type": "markdown",
   "metadata": {},
   "source": [
    "# Working in Python"
   ]
  },
  {
   "cell_type": "markdown",
   "metadata": {},
   "source": [
    "## DSC implementation in Python\n",
    "DSC2 can plug and run both R and Python codes. It also supports interaction between the two languages. Here we show a re-implementation of the [Quick Start example](tutorials/Quick_Start.html) in Python. Resource to run this example can be found [here](https://github.com/stephenslab/dsc2/tree/master/vignettes/one_sample_location_python).\n",
    "\n",
    "The DSC script is almost identical to the Quick Start example:\n",
    "```yaml\n",
    "simulate:\n",
    "    exec: rnorm.py, rt.py\n",
    "    seed: R(1:10)\n",
    "    params:\n",
    "        n: 1000\n",
    "        true_mean: 0, 1\n",
    "    return: x, true_mean\n",
    "\n",
    "estimate:\n",
    "    exec: mean.py, median.py\n",
    "    params:\n",
    "        x: $x\n",
    "    return: mean\n",
    "\n",
    "mse:\n",
    "    exec: MSE.py\n",
    "    params:\n",
    "        mean_est: $mean\n",
    "        true_mean: $true_mean\n",
    "    return: mse\n",
    "\n",
    "DSC:\n",
    "    run: simulate *\n",
    "         estimate *\n",
    "         mse\n",
    "    exec_path: PY/scenarios, PY/methods, PY/scores\n",
    "    output: dsc_result\n",
    "```\n",
    "You may notice the only difference are the executables (and search path): the are now written in Python. \n",
    "```python\n",
    "==> ../vignettes/one_sample_location_python/PY/methods/mean.py <==\n",
    "import numpy\n",
    "mean = numpy.mean(x)\n",
    "\n",
    "==> ../vignettes/one_sample_location_python/PY/methods/median.py <==\n",
    "import numpy\n",
    "mean = numpy.median(x)\n",
    "\n",
    "==> ../vignettes/one_sample_location_python/PY/scores/MSE.py <==\n",
    "mse = (mean_est-true_mean)**2\n",
    "\n",
    "==> ../vignettes/one_sample_location_python/PY/scenarios/rnorm.py <==\n",
    "# produces n random numbers from normal with specified mean\n",
    "import numpy\n",
    "x=numpy.random.normal(loc=true_mean, size=n)\n",
    "\n",
    "==> ../vignettes/one_sample_location_python/PY/scenarios/rt.py <==\n",
    "# produces n random numbers from t with df=2 and  with specified mean\n",
    "import numpy\n",
    "x=true_mean+numpy.random.standard_t(df=2,size=n)\n",
    "```\n",
    "To run the DSC,"
   ]
  },
  {
   "cell_type": "code",
   "execution_count": 1,
   "metadata": {
    "kernel": "sos",
    "output_cache": "[]"
   },
   "outputs": [
    {
     "name": "stderr",
     "output_type": "stream",
     "text": [
      "INFO: DSC script exported to \u001b[32msettings.html\u001b[0m\n",
      "INFO: Constructing DSC from \u001b[32msettings.dsc\u001b[0m ...\n",
      "\r",
      "DSC:   0%|          | 0/11 [00:00<?, ?it/s]\r",
      "DSC:   9%|▉         | 1/11 [00:10<01:48, 10.87s/it]\r",
      "DSC:  18%|█▊        | 2/11 [00:11<01:09,  7.67s/it]\r",
      "DSC:  27%|██▋       | 3/11 [00:29<01:27, 10.93s/it]\r",
      "DSC:  36%|███▋      | 4/11 [00:29<00:53,  7.68s/it]\r",
      "DSC:  45%|████▌     | 5/11 [00:29<00:32,  5.44s/it]\r",
      "DSC:  64%|██████▎   | 7/11 [00:48<00:26,  6.63s/it]\r",
      "DSC:  73%|███████▎  | 8/11 [00:49<00:14,  4.76s/it]\r",
      "DSC:  82%|████████▏ | 9/11 [00:49<00:06,  3.36s/it]\r",
      "DSC:  91%|█████████ | 10/11 [00:49<00:02,  2.38s/it]\r",
      "DSC: 100%|██████████| 11/11 [00:49<00:00,  1.70s/it]\n",
      "INFO: Building output database \u001b[32mdsc_result.rds\u001b[0m ...\n",
      "INFO: DSC complete!\n",
      "INFO: Elapsed time \u001b[32m51.680\u001b[0m seconds.\n"
     ]
    }
   ],
   "source": [
    "! dsc -x settings.dsc -j 8"
   ]
  },
  {
   "cell_type": "markdown",
   "metadata": {},
   "source": [
    "Notice that time consumed for Python version is much longer than the Quick Start example. This is result of a compromise to R users. We anticipate the majority of DSC2 users program in R, and as a result we adopt RDS file as the standard format to cache output data. In order for Python to communicate with R, we have implemented interface for Python to read and write RDS files. The interface is less efficient than R's native RDS support, thus increasing the execution time.\n",
    "\n",
    "## Mixing Python and R codes\n",
    "The example below shows mix-match style Python and R routines in the same DSC script:\n",
    "```yaml\n",
    "simulate:\n",
    "    exec: rnorm.py, rt.R\n",
    "    seed: R(1:10)\n",
    "    params:\n",
    "        n: 1000\n",
    "        true_mean: 0, 1\n",
    "    return: x, true_mean\n",
    "\n",
    "estimate:\n",
    "    exec: mean.R, median.py\n",
    "    params:\n",
    "        x: $x\n",
    "    return: mean\n",
    "\n",
    "mse:\n",
    "    exec: MSE.py\n",
    "    params:\n",
    "        mean_est: $mean\n",
    "        true_mean: $true_mean\n",
    "    return: mse\n",
    "\n",
    "DSC:\n",
    "    run: simulate *\n",
    "         estimate *\n",
    "         mse\n",
    "    exec_path: PY/scenarios, PY/methods, PY/scores,\n",
    "               R/scenarios, R/methods\n",
    "    output: dsc_result\n",
    "```\n",
    "To execute:"
   ]
  },
  {
   "cell_type": "code",
   "execution_count": 2,
   "metadata": {
    "kernel": "sos",
    "output_cache": "[{\"name\":\"stderr\",\"output_type\":\"stream\",\"text\":\"INFO: Checking R library \\u001b[32mpsych\\u001b[0m ...\\nINFO: DSC script exported to \\u001b[32msettings_mix.html\\u001b[0m\\nINFO: Constructing DSC from \\u001b[32msettings_mix.dsc\\u001b[0m ...\\n\\rDSC:   0%|          | 0/4 [00:00<?, ?it/s]\\n\\rsimulate:1+estimate:1+mse:1:   0%|          | 0/3 [00:00<?, ?it/s]\\u001b[A\\n\\rsimulate:1+estimate:1+mse:1:  33%|███▎      | 1/3 [00:05<00:11,  5.75s/it]\\u001b[A\\n\\rsimulate:1+estimate:1+mse:1:  67%|██████▋   | 2/3 [00:06<00:04,  4.39s/it]\\u001b[A\\n\\rsimulate:1+estimate:1+mse:1: 100%|██████████| 3/3 [00:13<00:00,  4.97s/it]\\u001b[A\\n\\u001b[A\\rDSC:  25%|██▌       | 1/4 [00:13<00:40, 13.46s/it]\\n\\rsimulate:1+estimate:2+mse:1:   0%|          | 0/3 [00:00<?, ?it/s]\\u001b[A\\n\\rsimulate:1+estimate:2+mse:1:  33%|███▎      | 1/3 [00:05<00:11,  5.64s/it]\\u001b[A\\n\\rsimulate:1+estimate:2+mse:1:  67%|██████▋   | 2/3 [00:11<00:05,  5.61s/it]\\u001b[A\\n\\rsimulate:1+estimate:2+mse:1: 100%|██████████| 3/3 [00:16<00:00,  5.52s/it]\\u001b[A\\n\\u001b[A\\rDSC:  50%|█████     | 2/4 [00:30<00:28, 14.42s/it]\\n\\rsimulate:2+estimate:1+mse:1:   0%|          | 0/3 [00:00<?, ?it/s]\\u001b[A\\n\\rsimulate:2+estimate:1+mse:1:  33%|███▎      | 1/3 [00:01<00:02,  1.01s/it]\\u001b[A\\n\\rsimulate:2+estimate:1+mse:1:  67%|██████▋   | 2/3 [00:02<00:01,  1.01s/it]\\u001b[A\\n\\rsimulate:2+estimate:1+mse:1: 100%|██████████| 3/3 [00:07<00:00,  2.33s/it]\\u001b[A\\n\\u001b[A\\rDSC:  75%|███████▌  | 3/4 [00:37<00:12, 12.35s/it]\\n\\rsimulate:2+estimate:2+mse:1:   0%|          | 0/3 [00:00<?, ?it/s]\\u001b[A\\n\\rsimulate:2+estimate:2+mse:1:  33%|███▎      | 1/3 [00:01<00:02,  1.01s/it]\\u001b[A\\n\\rsimulate:2+estimate:2+mse:1:  67%|██████▋   | 2/3 [00:06<00:02,  2.31s/it]\\u001b[A\\n\\rsimulate:2+estimate:2+mse:1: 100%|██████████| 3/3 [00:11<00:00,  3.21s/it]\\u001b[A\\n\\u001b[A\\rDSC: 100%|██████████| 4/4 [00:49<00:00, 12.17s/it]\\nINFO: Building output database \\u001b[32mdsc_result.rds\\u001b[0m ...\\nINFO: DSC complete!\\nINFO: Elapsed time \\u001b[32m50.566\\u001b[0m seconds.\\n\"}]"
   },
   "outputs": [
    {
     "name": "stderr",
     "output_type": "stream",
     "text": [
      "INFO: Checking R library \u001b[32mpsych\u001b[0m ...\n",
      "INFO: DSC script exported to \u001b[32msettings_mix.html\u001b[0m\n",
      "INFO: Constructing DSC from \u001b[32msettings_mix.dsc\u001b[0m ...\n",
      "\r",
      "DSC:   0%|          | 0/11 [00:00<?, ?it/s]\r",
      "DSC:   9%|▉         | 1/11 [00:02<00:23,  2.31s/it]\r",
      "DSC:  18%|█▊        | 2/11 [00:05<00:24,  2.72s/it]\r",
      "DSC:  27%|██▋       | 3/11 [00:15<00:37,  4.68s/it]\r",
      "DSC:  36%|███▋      | 4/11 [00:19<00:30,  4.42s/it]\r",
      "DSC:  45%|████▌     | 5/11 [00:19<00:19,  3.31s/it]\r",
      "DSC:  55%|█████▍    | 6/11 [00:22<00:16,  3.28s/it]\r",
      "DSC:  64%|██████▎   | 7/11 [00:26<00:12,  3.23s/it]\r",
      "DSC:  73%|███████▎  | 8/11 [00:32<00:12,  4.31s/it]\r",
      "DSC:  82%|████████▏ | 9/11 [00:33<00:06,  3.14s/it]\r",
      "DSC:  91%|█████████ | 10/11 [00:33<00:02,  2.26s/it]\r",
      "DSC: 100%|██████████| 11/11 [00:33<00:00,  1.61s/it]\n",
      "INFO: Building output database \u001b[32mdsc_result.rds\u001b[0m ...\n",
      "INFO: DSC complete!\n",
      "INFO: Elapsed time \u001b[32m35.833\u001b[0m seconds.\n"
     ]
    }
   ],
   "source": [
    "! dsc -x settings_mix.dsc -j 8"
   ]
  }
 ],
 "metadata": {
  "kernelspec": {
   "display_name": "SoS",
   "language": "sos",
   "name": "sos"
  },
  "language_info": {
   "codemirror_mode": "sos",
   "file_extension": ".sos",
   "mimetype": "text/x-sos",
   "name": "sos",
   "nbconvert_exporter": "sos.jupyter.converter.SoS_Exporter",
   "pygments_lexer": "sos"
  },
  "sos": {
   "celltoolbar": true,
   "default_kernel": "SoS",
   "kernels": [
    [
     "Python3",
     "python3",
     "Python3",
     "#FFE771"
    ],
    [
     "R",
     "ir",
     "R",
     "#DCDCDA"
    ],
    [
     "SoS",
     "sos",
     "",
     ""
    ]
   ],
   "panel": {
    "displayed": true,
    "height": 0,
    "style": "side"
   }
  }
 },
 "nbformat": 4,
 "nbformat_minor": 1
}
