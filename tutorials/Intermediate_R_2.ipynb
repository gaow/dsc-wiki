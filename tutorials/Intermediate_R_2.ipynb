{
 "cells": [
  {
   "cell_type": "markdown",
   "metadata": {},
   "source": [
    "# Reproducing `simulator` package Quick Start"
   ]
  },
  {
   "cell_type": "markdown",
   "metadata": {},
   "source": [
    "This tutorial reimplements the execution part of [Getting Started with Simulator](http://faculty.bscb.cornell.edu/~bien/simulator_vignettes/getting-started.html) example. We demonstrate in this tutorial how compound module executables are specified with scripts and inline executables.\n",
    "\n",
    "Material to run this tutorial can be found in [DSC2 vignettes repo](https://github.com/stephenslab/dsc2/tree/master/vignettes/simulator_example). It also contains the code to reproduce the original `simulator` simulation."
   ]
  },
  {
   "cell_type": "markdown",
   "metadata": {},
   "source": [
    "## DSC Specification\n",
    "The problem is fully specified in DSC2 syntax below:\n",
    "\n",
    "```\n",
    "simulate: model.R + R(m = simulate(n, prob))\n",
    "  seed: R(1:10)\n",
    "  n: 50\n",
    "  prob: R(seq(0,1,length=6))\n",
    "  $model: m\n",
    "\n",
    "my_method, their_method: (my.R, their.R) + R(fit = method($(model)$x)$fit)\n",
    "  $fit: fit\n",
    "\n",
    "abs, mse: (herloss.R, hisloss.R) + R(score = metric($(model)$mu, $(fit)))\n",
    "  $score: score\n",
    "\n",
    "DSC:\n",
    "  define:\n",
    "    method: my_method, their_method\n",
    "    score: abs, mse\n",
    "  run: simulate * method * score\n",
    "  output: simulator_results\n",
    "  exec_path: R\n",
    "```"
   ]
  },
  {
   "cell_type": "markdown",
   "metadata": {},
   "source": [
    "## Run DSC"
   ]
  },
  {
   "cell_type": "code",
   "execution_count": 1,
   "metadata": {
    "kernel": "SoS"
   },
   "outputs": [
    {
     "name": "stdout",
     "output_type": "stream",
     "text": [
      "/home/gaow/GIT/dsc2/vignettes/simulator_example"
     ]
    }
   ],
   "source": [
    "%cd ~/GIT/dsc2/vignettes/simulator_example"
   ]
  },
  {
   "cell_type": "code",
   "execution_count": 2,
   "metadata": {
    "kernel": "SoS",
    "output_cache": "[{\"name\":\"stderr\",\"text\":\"INFO: Checking R library \\u001b[32mstephens999/ashr\\u001b[0m ...\\nINFO: DSC script exported to \\u001b[32mdsc_result.html\\u001b[0m\\nINFO: Constructing DSC from \\u001b[32msettings.dsc\\u001b[0m ...\\nINFO: Building execution graph ...\\n\\rDSC:   0%|          | 0/5 [00:00<?, ?it/s]\\rDSC:  20%|██        | 1/5 [00:16<01:05, 16.42s/it]\\rRunning shrink: \\rRunning core_shrink_1 (runash): \\rRunning shrink (00:02:00): \\rRunning core_shrink_1 (runash) (00:02:00): \\n\\n\\rDSC:  40%|████      | 2/5 [03:11<03:12, 64.06s/it]\\rRunning pi0_score: \\rRunning beta_score: \\rRunning core_pi0_score_1 (score_pi0): \\rRunning core_beta_score_1 (score_beta): \\rRunning core_beta_score_1 (score_beta) (00:01:00): \\n\\rRunning core_pi0_score_1 (score_pi0) (00:01:00): \\n\\rRunning beta_score (00:01:00): \\n\\rRunning pi0_score (00:01:00): \\n\\rDSC:  60%|██████    | 3/5 [04:12<02:05, 62.97s/it]\\rDSC: 100%|██████████| 5/5 [04:12<00:00, 44.10s/it]\\nINFO: Writing output metadata ...\\nINFO: DSC complete!\\nINFO: Elapsed time \\u001b[32m253.911\\u001b[0m seconds.\\n\",\"output_type\":\"stream\"}]"
   },
   "outputs": [
    {
     "name": "stdout",
     "output_type": "stream",
     "text": [
      "\u001b[1;32mINFO: Checking R library dscrutils@stephenslab/dsc2/dscrutils ...\u001b[0m\n",
      "INFO: DSC script exported to \u001b[32msimulator_results.html\u001b[0m\n",
      "INFO: Constructing DSC from \u001b[32mmain.dsc\u001b[0m ...\n",
      "INFO: Building execution graph & running DSC ...\n",
      "DSC: 100%|████████████████████████████████████████| 8/8 [01:02<00:00,  8.24s/it]\n",
      "INFO: Building DSC database ...\n",
      "INFO: DSC complete!\n",
      "INFO: Elapsed time \u001b[32m67.413\u001b[0m seconds.\n"
     ]
    }
   ],
   "source": [
    "! dsc main.dsc"
   ]
  },
  {
   "cell_type": "markdown",
   "metadata": {},
   "source": [
    "You may notice that for this trivial benchmark, the execution is a lot slower compared to the original implementation. This is a limitation of DSC2 when running lite jobs -- having to build and execute DAG, checking file signatures and monitoring runtime environment results in substential overhead. For real-world benchmarking when execution time is much longer, this overhead is perhaps tolerable because it is relatively insignificant under such scenario. Also notice that under `simulator_results` there are 420 intermediate output `*.rds` files generated, compared to only 31 `*.Rdata` itermediate files generated when you run the `simulator` version of the example. This is because the demonstrated DSC2 implementation is a lot more modular. You can compare the data generating code in [DSC2](https://github.com/stephenslab/dsc2/blob/master/vignettes/simulator_example/R/model.R) vs in [`simulator`](https://github.com/stephenslab/dsc2/blob/master/vignettes/simulator_example/sims/model_functions.R) to tell the more modular setup we have adopted here -- although it is entirely possible to develop a different style of DSC that reproduces exactly the `simulator` example's output (yet stored in `rds` rather than `Rdata` format). "
   ]
  }
 ],
 "metadata": {
  "kernelspec": {
   "display_name": "SoS",
   "language": "sos",
   "name": "sos"
  },
  "language_info": {
   "codemirror_mode": "sos",
   "file_extension": ".sos",
   "mimetype": "text/x-sos",
   "name": "sos",
   "nbconvert_exporter": "sos_notebook.converter.SoS_Exporter",
   "pygments_lexer": "sos"
  },
  "sos": {
   "celltoolbar": true,
   "default_kernel": "R",
   "kernels": [
    [
     "ir",
     "ir",
     "ir",
     ""
    ],
    [
     "SoS",
     "sos",
     "",
     ""
    ],
    [
     "Python3",
     "python3",
     "Python3",
     "#FFE771"
    ],
    [
     "R",
     "ir",
     "R",
     "#DCDCDA"
    ]
   ],
   "panel": {
    "displayed": false,
    "height": 0,
    "style": "side"
   }
  }
 },
 "nbformat": 4,
 "nbformat_minor": 2
}
