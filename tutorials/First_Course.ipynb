{
 "cells": [
  {
   "cell_type": "markdown",
   "metadata": {},
   "source": [
    "# Introduction to DSC (Part I)"
   ]
  },
  {
   "cell_type": "markdown",
   "metadata": {},
   "source": [
    "DSC (Dynamic Statistical Comparisons) provides a framework for managing computational benchmarking\n",
    "experiments that compare several competing statistical methods\n",
    "for a task across datasets or simulation scenarios. \n",
    "DSC helps execute such comparisons in an organized and reproducible\n",
    "way, and provides convenient ways to query the results.\n",
    "DSC is designed to help make these comparisons\n",
    "\"dynamic\" -- that is, easy to extend by adding new methods or simulation scenarios. Hence the name: \"Dynamic Statistical Comparisons\".\n",
    "\n",
    "DSC is particularly well suited to experiments run using the R or Python environments, and also provides some support for experiments that mix these two environments."
   ]
  },
  {
   "cell_type": "markdown",
   "metadata": {},
   "source": [
    "## Overview\n",
    "\n",
    "Suppose we want to compare several methods for a particular inference task, $I$ say. For example, $I$ could be \"predict the missing entries in a matrix with missing entries\", \"estimate a covariance matrix from a sample\", or \"estimate a regression function relating outcome $Y$ to covariates (features) $X$\".\n",
    "\n",
    "To compare methods to perform $I$ we could conduct a benchmarking experiment, by repeating the following three steps:\n",
    "\n",
    "  1. Simulate some data suitable for performing $I$.\n",
    "  2. Analyze the data with a method designed to perform $I$.\n",
    "  3. Score how well the method performed $I$ (e.g. by comparison with the simulation ground truth).\n",
    "\n",
    "DSC can handle more complex\n",
    "settings than this, but this basic structure suffices to explain the key concepts. We will call this the `simulate`-`analyze`-`score` structure."
   ]
  },
  {
   "cell_type": "markdown",
   "metadata": {},
   "source": [
    "### Modules, groups, and pipelines\n",
    "\n",
    "Typically we will want to consider multiple ways\n",
    "to perform each of the steps 1-3: multiple ways to simulate data, multiple ways to analyze the data, and multiple ways to score\n",
    "how well a method performed. \n",
    "In DSC this is accomplished by defining groups of\n",
    "\"modules\" that can accomplish each step. For example, we would define a group of `simulate` modules, each of which can perform step 1; a group of\n",
    "`analyze` modules, each of which can perform step 2; and a group of `score` modules, each of which can perform step 3. Running the benchmark then consists of running lots of \"pipelines\"\n",
    "-- sequences of modules -- each of which involves running one module from the `simulate` group, followed by one module from the `analyze` group, followed by one module from the `score` group. \n",
    "\n",
    "DSC helps manage and run benchmarks like these, as well as more complex ones. The modular design \n",
    "makes it easy to extend\n",
    "benchmarks (e.g. adding a new method simply by defining a new `analyze` module). And DSC helps with parallelization: for example, once a `simulate` module has created a dataset, DSC can apply multiple `analyze` modules in parallel on a suitable compute cluster. \n"
   ]
  },
  {
   "cell_type": "markdown",
   "metadata": {},
   "source": [
    "### Running benchmarks with DSC\n",
    "\n",
    "To run a benchmark using DSC the user must:\n",
    "\n",
    "1. Create a \"DSC file\" which specifies all the necessary modules, groups, and pipelines, and how information flows from module to module. The DSC file is a text file written using a custom-built syntax illustrated below (and explained in more detail in [Part II of the Introduction](First_Course_Elaborated.html)). \n",
    "\n",
    "2. Run the DSC using the `dsc` command line program. This runs all pipelines specified by the DSC file, and saves results to files in a structured way that makes them easy to query.\n",
    "\n",
    "3. Query and summarize the results. The simplest way to do this is using the R package `dscrutils`, which provides a convenient way to read results from the DSC into an R dataframe, as illustrated below."
   ]
  },
  {
   "cell_type": "markdown",
   "metadata": {
    "kernel": "SoS"
   },
   "source": [
    "## Example\n",
    "\n",
    "We now illustrate DSC using a simple example benchmark. \n",
    "\n",
    "Our example benchmark compares methods\n",
    "for a very simple task: estimating the mean of a population given a random sample from the population. We will compare two methods for estimating the population mean: the sample mean and the sample median. We will simulate under two different population distributions: a *t* distribution and a normal distribution. And we will compute accuracy using two different metrics: squared error, and absolute error. \n",
    "\n",
    "### The DSC file\n",
    "\n",
    "We implement this DSC in [R](https://cran.r-project.org/). Material used, including the DSC file, \n",
    "can be found in the [DSC2 vignettes repo](https://github.com/stephenslab/dsc2/tree/master/vignettes/one_sample_location). We defer a detailed explanation of the syntax of the DSC file to Part II. For now we just show it with minimal explanation:"
   ]
  },
  {
   "cell_type": "markdown",
   "metadata": {},
   "source": [
    "```\n",
    "normal: normal.R\n",
    "  n: 100\n",
    "  $data: x\n",
    "  $true_mean: 0\n",
    "\n",
    "t: t.R\n",
    "  n: 100\n",
    "  df: 2\n",
    "  $data: x\n",
    "  $true_mean: 3\n",
    "\n",
    "mean: mean.R\n",
    "  x: $data\n",
    "  $est_mean: y\n",
    "\n",
    "median: median.R\n",
    "  x: $data\n",
    "  $est_mean: y\n",
    "\n",
    "sq_err: sq.R\n",
    "  a: $est_mean\n",
    "  b: $true_mean\n",
    "  $error: e\n",
    " \n",
    "abs_err: abs.R\n",
    "  a: $est_mean\n",
    "  b: $true_mean\n",
    "  $error: e \n",
    "  \n",
    "DSC:\n",
    "    define:\n",
    "      simulate: normal, t\n",
    "      analyze: mean, median\n",
    "      score: abs_err, sq_err\n",
    "    run: simulate * analyze * score\n",
    "    exec_path: R\n",
    "    output: dsc_result\n",
    "```\n",
    "\n",
    "This DSC file defines six modules: two `simulate` modules  (`normal`, `t`), two `analyze` modules (`mean`, `median`), and two `score` modules (`sq_err`,`abs_err`). It then defines module groups (`simulate`,`analyze` and `score`), and the pipelines to run.\n",
    "\n",
    "The modules all involve very simple `R` scripts in the `R/` subdirectory:\n",
    "\n",
    "```r\n",
    "==> normal.R <==\n",
    "x = rnorm(n,0,1)\n",
    "\n",
    "==> t.R <==\n",
    "x = 3+rt(n,df)\n",
    "\n",
    "==> mean.R <==\n",
    "y = mean(x)\n",
    "\n",
    "==> median.R <==\n",
    "y = median(x)\n",
    "\n",
    "==> sq.R <==\n",
    "e = (a-b)^2\n",
    "\n",
    "==> abs.R <==\n",
    "e = abs(a-b)  \n",
    "```"
   ]
  },
  {
   "cell_type": "markdown",
   "metadata": {},
   "source": [
    "### Run DSC "
   ]
  },
  {
   "cell_type": "code",
   "execution_count": 1,
   "metadata": {
    "kernel": "SoS"
   },
   "outputs": [
    {
     "name": "stdout",
     "output_type": "stream",
     "text": [
      "/home/gaow/GIT/dsc2/vignettes/one_sample_location"
     ]
    }
   ],
   "source": [
    "%cd ~/GIT/dsc2/vignettes/one_sample_location"
   ]
  },
  {
   "cell_type": "markdown",
   "metadata": {},
   "source": [
    "We run 10 replicates of this benchmark (each replicate using a different random number seed), using 8 CPU threads:"
   ]
  },
  {
   "cell_type": "code",
   "execution_count": 2,
   "metadata": {
    "kernel": "SoS",
    "output_cache": "[]"
   },
   "outputs": [
    {
     "name": "stdout",
     "output_type": "stream",
     "text": [
      "\u001b[1;32mINFO: Checking R library dscrutils@stephenslab/dsc2/dscrutils ...\u001b[0m\n",
      "INFO: DSC script exported to \u001b[32mdsc_result.html\u001b[0m\n",
      "INFO: Constructing DSC from \u001b[32msettings.dsc\u001b[0m ...\n",
      "INFO: Building execution graph & running DSC ...\n",
      "DSC: 100%|██████████████████████████████████████| 15/15 [00:17<00:00,  1.15s/it]\n",
      "INFO: Building DSC database ...\n",
      "INFO: DSC complete!\n",
      "INFO: Elapsed time \u001b[32m21.323\u001b[0m seconds.\n"
     ]
    }
   ],
   "source": [
    "! dsc settings.dsc --replicate 10 -c 8"
   ]
  },
  {
   "cell_type": "markdown",
   "metadata": {
    "collapsed": true
   },
   "source": [
    "(For first time users of DSC with `R`, a companion `R` package `dscrutils` will be automatically installed at this point.)\n",
    "\n",
    "When run, DSC will create results files in the folder `dsc_result/` (as specified in the DSC file). We will see how to query these results and read them into `R` below.\n",
    "\n",
    "In addition, DSC will create an html file [`dsc_result.html`](dsc_result.html) in the working directory. This file allows you to conveniently view the DSC file, executed pipelines and their source code.\n",
    "\n",
    " "
   ]
  },
  {
   "cell_type": "markdown",
   "metadata": {},
   "source": [
    "### Query and visualize results\n",
    "\n",
    "We use the R function `dscquery` in the `dscrutils` package to extract results. Since this example is small it is simple to load all results into an R dataframe and explore from there. In more complex examples one might want to start by extracting subsets of results; see `?dscquery` for more information."
   ]
  },
  {
   "cell_type": "code",
   "execution_count": 1,
   "metadata": {
    "kernel": "ir",
    "output_cache": "[{\"name\":\"stderr\",\"text\":\"INFO: DSC script exported to \\u001b[32msettings.html\\u001b[0m\\nINFO: Constructing DSC from \\u001b[32msettings.dsc\\u001b[0m ...\\n\\rDSC:   0%|          | 0/11 [00:00<?, ?it/s]\\rDSC:   9%|▉         | 1/11 [00:01<00:18,  1.83s/it]\\rDSC:  27%|██▋       | 3/11 [00:05<00:14,  1.78s/it]\\rDSC:  45%|████▌     | 5/11 [00:05<00:07,  1.26s/it]\\rDSC:  64%|██████▎   | 7/11 [00:08<00:05,  1.37s/it]\\rDSC:  73%|███████▎  | 8/11 [00:08<00:02,  1.01it/s]\\rDSC:  82%|████████▏ | 9/11 [00:08<00:01,  1.39it/s]\\rDSC: 100%|██████████| 11/11 [00:08<00:00,  1.92it/s]\\nINFO: Building output database \\u001b[32mdsc_result.rds\\u001b[0m ...\\nINFO: DSC complete!\\nINFO: Elapsed time \\u001b[32m10.278\\u001b[0m seconds.\\n\",\"output_type\":\"stream\"}]"
   },
   "outputs": [
    {
     "name": "stderr",
     "output_type": "stream",
     "text": [
      "Failed to switch to language \"ir\": No subkernel named ir is found. Please make sure that you have the kernel installed (listed in the output of \"jupyter kernelspec list\" and usable in jupyter by itself), install appropriate language module (e.g. \"pip install sos-r\"), restart jupyter notebook and try again.\n"
     ]
    }
   ],
   "source": [
    "dsc_dir = \"dsc_result\"\n",
    "res = dscrutils::dscquery(dsc_dir, targets=\"simulate analyze score.error\")"
   ]
  },
  {
   "cell_type": "code",
   "execution_count": 4,
   "metadata": {
    "kernel": "ir",
    "output_cache": "[{\"name\":\"stderr\",\"text\":\"INFO: DSC script exported to \\u001b[32msettings.html\\u001b[0m\\nINFO: Constructing DSC from \\u001b[32msettings.dsc\\u001b[0m ...\\n\\rDSC:   0%|          | 0/11 [00:00<?, ?it/s]\\rDSC:   9%|▉         | 1/11 [00:01<00:18,  1.83s/it]\\rDSC:  27%|██▋       | 3/11 [00:05<00:14,  1.78s/it]\\rDSC:  45%|████▌     | 5/11 [00:05<00:07,  1.26s/it]\\rDSC:  64%|██████▎   | 7/11 [00:08<00:05,  1.37s/it]\\rDSC:  73%|███████▎  | 8/11 [00:08<00:02,  1.01it/s]\\rDSC:  82%|████████▏ | 9/11 [00:08<00:01,  1.39it/s]\\rDSC: 100%|██████████| 11/11 [00:08<00:00,  1.92it/s]\\nINFO: Building output database \\u001b[32mdsc_result.rds\\u001b[0m ...\\nINFO: DSC complete!\\nINFO: Elapsed time \\u001b[32m10.278\\u001b[0m seconds.\\n\",\"output_type\":\"stream\"}]",
    "scrolled": false
   },
   "outputs": [
    {
     "data": {
      "text/html": [
       "<table>\n",
       "<thead><tr><th scope=col>simulate</th><th scope=col>simulate.output.file</th><th scope=col>analyze</th><th scope=col>analyze.output.file</th><th scope=col>score</th><th scope=col>score.error</th></tr></thead>\n",
       "<tbody>\n",
       "\t<tr><td>normal         </td><td>normal_1       </td><td>mean           </td><td>normal_1_mean_1</td><td>abs_err        </td><td>0.008612093    </td></tr>\n",
       "\t<tr><td>normal         </td><td>normal_2       </td><td>mean           </td><td>normal_2_mean_1</td><td>abs_err        </td><td>0.135861196    </td></tr>\n",
       "\t<tr><td>normal         </td><td>normal_3       </td><td>mean           </td><td>normal_3_mean_1</td><td>abs_err        </td><td>0.090451192    </td></tr>\n",
       "\t<tr><td>normal         </td><td>normal_4       </td><td>mean           </td><td>normal_4_mean_1</td><td>abs_err        </td><td>0.015155347    </td></tr>\n",
       "\t<tr><td>normal         </td><td>normal_5       </td><td>mean           </td><td>normal_5_mean_1</td><td>abs_err        </td><td>0.010584144    </td></tr>\n",
       "\t<tr><td>normal         </td><td>normal_6       </td><td>mean           </td><td>normal_6_mean_1</td><td>abs_err        </td><td>0.060150705    </td></tr>\n",
       "</tbody>\n",
       "</table>\n"
      ],
      "text/latex": [
       "\\begin{tabular}{r|llllll}\n",
       " simulate & simulate.output.file & analyze & analyze.output.file & score & score.error\\\\\n",
       "\\hline\n",
       "\t normal                & normal\\_1            & mean                  & normal\\_1\\_mean\\_1 & abs\\_err             & 0.008612093          \\\\\n",
       "\t normal                & normal\\_2            & mean                  & normal\\_2\\_mean\\_1 & abs\\_err             & 0.135861196          \\\\\n",
       "\t normal                & normal\\_3            & mean                  & normal\\_3\\_mean\\_1 & abs\\_err             & 0.090451192          \\\\\n",
       "\t normal                & normal\\_4            & mean                  & normal\\_4\\_mean\\_1 & abs\\_err             & 0.015155347          \\\\\n",
       "\t normal                & normal\\_5            & mean                  & normal\\_5\\_mean\\_1 & abs\\_err             & 0.010584144          \\\\\n",
       "\t normal                & normal\\_6            & mean                  & normal\\_6\\_mean\\_1 & abs\\_err             & 0.060150705          \\\\\n",
       "\\end{tabular}\n"
      ],
      "text/markdown": [
       "\n",
       "simulate | simulate.output.file | analyze | analyze.output.file | score | score.error | \n",
       "|---|---|---|---|---|---|\n",
       "| normal          | normal_1        | mean            | normal_1_mean_1 | abs_err         | 0.008612093     | \n",
       "| normal          | normal_2        | mean            | normal_2_mean_1 | abs_err         | 0.135861196     | \n",
       "| normal          | normal_3        | mean            | normal_3_mean_1 | abs_err         | 0.090451192     | \n",
       "| normal          | normal_4        | mean            | normal_4_mean_1 | abs_err         | 0.015155347     | \n",
       "| normal          | normal_5        | mean            | normal_5_mean_1 | abs_err         | 0.010584144     | \n",
       "| normal          | normal_6        | mean            | normal_6_mean_1 | abs_err         | 0.060150705     | \n",
       "\n",
       "\n"
      ],
      "text/plain": [
       "  simulate simulate.output.file analyze analyze.output.file score   score.error\n",
       "1 normal   normal_1             mean    normal_1_mean_1     abs_err 0.008612093\n",
       "2 normal   normal_2             mean    normal_2_mean_1     abs_err 0.135861196\n",
       "3 normal   normal_3             mean    normal_3_mean_1     abs_err 0.090451192\n",
       "4 normal   normal_4             mean    normal_4_mean_1     abs_err 0.015155347\n",
       "5 normal   normal_5             mean    normal_5_mean_1     abs_err 0.010584144\n",
       "6 normal   normal_6             mean    normal_6_mean_1     abs_err 0.060150705"
      ]
     },
     "metadata": {},
     "output_type": "display_data"
    }
   ],
   "source": [
    "head(res)"
   ]
  },
  {
   "cell_type": "markdown",
   "metadata": {},
   "source": [
    "Once the results are in a dataframe in R like this we can easily use standard R functions to investigate them further.\n",
    "\n",
    "For example, we can summarize results using the `aggregate` function:"
   ]
  },
  {
   "cell_type": "code",
   "execution_count": 5,
   "metadata": {
    "kernel": "ir"
   },
   "outputs": [
    {
     "data": {
      "text/html": [
       "<table>\n",
       "<thead><tr><th scope=col>analyze</th><th scope=col>simulate</th><th scope=col>score</th><th scope=col>score.error</th></tr></thead>\n",
       "<tbody>\n",
       "\t<tr><td>mean       </td><td>normal     </td><td>abs_err    </td><td>0.060839483</td></tr>\n",
       "\t<tr><td>median     </td><td>normal     </td><td>abs_err    </td><td>0.082331086</td></tr>\n",
       "\t<tr><td>mean       </td><td>t          </td><td>abs_err    </td><td>0.171557059</td></tr>\n",
       "\t<tr><td>median     </td><td>t          </td><td>abs_err    </td><td>0.097701046</td></tr>\n",
       "\t<tr><td>mean       </td><td>normal     </td><td>sq_err     </td><td>0.005586145</td></tr>\n",
       "\t<tr><td>median     </td><td>normal     </td><td>sq_err     </td><td>0.011788340</td></tr>\n",
       "\t<tr><td>mean       </td><td>t          </td><td>sq_err     </td><td>0.050010866</td></tr>\n",
       "\t<tr><td>median     </td><td>t          </td><td>sq_err     </td><td>0.014035104</td></tr>\n",
       "</tbody>\n",
       "</table>\n"
      ],
      "text/latex": [
       "\\begin{tabular}{r|llll}\n",
       " analyze & simulate & score & score.error\\\\\n",
       "\\hline\n",
       "\t mean        & normal      & abs\\_err   & 0.060839483\\\\\n",
       "\t median      & normal      & abs\\_err   & 0.082331086\\\\\n",
       "\t mean        & t           & abs\\_err   & 0.171557059\\\\\n",
       "\t median      & t           & abs\\_err   & 0.097701046\\\\\n",
       "\t mean        & normal      & sq\\_err    & 0.005586145\\\\\n",
       "\t median      & normal      & sq\\_err    & 0.011788340\\\\\n",
       "\t mean        & t           & sq\\_err    & 0.050010866\\\\\n",
       "\t median      & t           & sq\\_err    & 0.014035104\\\\\n",
       "\\end{tabular}\n"
      ],
      "text/markdown": [
       "\n",
       "analyze | simulate | score | score.error | \n",
       "|---|---|---|---|---|---|---|---|\n",
       "| mean        | normal      | abs_err     | 0.060839483 | \n",
       "| median      | normal      | abs_err     | 0.082331086 | \n",
       "| mean        | t           | abs_err     | 0.171557059 | \n",
       "| median      | t           | abs_err     | 0.097701046 | \n",
       "| mean        | normal      | sq_err      | 0.005586145 | \n",
       "| median      | normal      | sq_err      | 0.011788340 | \n",
       "| mean        | t           | sq_err      | 0.050010866 | \n",
       "| median      | t           | sq_err      | 0.014035104 | \n",
       "\n",
       "\n"
      ],
      "text/plain": [
       "  analyze simulate score   score.error\n",
       "1 mean    normal   abs_err 0.060839483\n",
       "2 median  normal   abs_err 0.082331086\n",
       "3 mean    t        abs_err 0.171557059\n",
       "4 median  t        abs_err 0.097701046\n",
       "5 mean    normal   sq_err  0.005586145\n",
       "6 median  normal   sq_err  0.011788340\n",
       "7 mean    t        sq_err  0.050010866\n",
       "8 median  t        sq_err  0.014035104"
      ]
     },
     "metadata": {},
     "output_type": "display_data"
    }
   ],
   "source": [
    "aggregate(score.error ~ analyze + simulate + score, res, mean)"
   ]
  },
  {
   "cell_type": "markdown",
   "metadata": {},
   "source": [
    "Here we summarize results of the *t* simulation, under the squared error metric:"
   ]
  },
  {
   "cell_type": "code",
   "execution_count": 6,
   "metadata": {
    "kernel": "ir"
   },
   "outputs": [
    {
     "name": "stderr",
     "output_type": "stream",
     "text": [
      "`stat_bindot()` using `bins = 30`. Pick better value with `binwidth`.\n"
     ]
    },
    {
     "data": {},
     "metadata": {},
     "output_type": "display_data"
    },
    {
     "data": {
      "image/png": "[encoded data removed]",
      "text/plain": [
       "plot without title"
      ]
     },
     "metadata": {},
     "output_type": "display_data"
    }
   ],
   "source": [
    "library(ggplot2)\n",
    "p <- ggplot(data.frame(subset(res, simulate==\"t\" & score=='sq_err')[,c('analyze','score.error')]), \n",
    "            aes(x=analyze, y=score.error)) + \n",
    "    geom_violin() +\n",
    "    geom_dotplot(binaxis='y', stackdir='center', dotsize = .5)\n",
    "p"
   ]
  }
 ],
 "metadata": {
  "kernelspec": {
   "display_name": "SoS",
   "language": "sos",
   "name": "sos"
  },
  "language_info": {
   "codemirror_mode": "sos",
   "file_extension": ".sos",
   "mimetype": "text/x-sos",
   "name": "sos",
   "nbconvert_exporter": "sos_notebook.converter.SoS_Exporter",
   "pygments_lexer": "sos"
  },
  "sos": {
   "celltoolbar": true,
   "default_kernel": "SoS",
   "kernels": [
    [
     "SoS",
     "sos",
     "",
     ""
    ],
    [
     "ir",
     "ir",
     "",
     ""
    ]
   ],
   "panel": {
    "displayed": true,
    "height": 0,
    "style": "side"
   },
   "version": "0.9.12.9"
  }
 },
 "nbformat": 4,
 "nbformat_minor": 1
}
