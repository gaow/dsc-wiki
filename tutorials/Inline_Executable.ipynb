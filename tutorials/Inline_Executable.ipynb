{
 "cells": [
  {
   "cell_type": "markdown",
   "metadata": {},
   "source": [
    "# DSC in 5 Minutes with inline executables"
   ]
  },
  {
   "cell_type": "markdown",
   "metadata": {},
   "source": [
    "In this tutorial we provide a \"one-liner\" implementation of the [5 Minutes](5_Minutes) tutorial using inline executables -- that is, instead of specifying scripts for module executables we use merely language operators to pass codes to DSC."
   ]
  },
  {
   "cell_type": "markdown",
   "metadata": {},
   "source": [
    "## DSC Specification\n",
    "```\n",
    "#!/usr/bin/env dsc\n",
    "\n",
    "normal: R(x = rnorm(n,0,1))\n",
    "  n: 100\n",
    "  $data: x\n",
    "  $true_mean: 0\n",
    "\n",
    "t: R(x = 3+rt(n,df))\n",
    "  n: 100\n",
    "  df: 2\n",
    "  $data: x\n",
    "  $true_mean: 3\n",
    "\n",
    "mean: R(y = mean($(data))) \n",
    "  $est_mean: y\n",
    "\n",
    "median: R(y = median($(data)))\n",
    "  $est_mean: y\n",
    "\n",
    "sq_err: R(e = ($(est_mean) - $(true_mean))^2)\n",
    "  $error: e\n",
    " \n",
    "abs_err: R(e = abs($(est_mean) - $(true_mean)))\n",
    "  $error: e \n",
    "  \n",
    "DSC:\n",
    "    define:\n",
    "      simulate: normal, t\n",
    "      analyze: mean, median\n",
    "      score: abs_err, sq_err\n",
    "    run: simulate * analyze * score\n",
    "    output: dsc_result\n",
    "```\n",
    "\n",
    "Notice the use of `$()` in inline module executables. It specifies the required pipeline variables. Therefore for modules `mean`, `median` and `sq_err` and `abs_err` only module output needs to be specified -- module input are defined already in this inline module executable style."
   ]
  },
  {
   "cell_type": "code",
   "execution_count": 1,
   "metadata": {
    "kernel": "SoS"
   },
   "outputs": [
    {
     "name": "stdout",
     "output_type": "stream",
     "text": [
      "/home/gaow/Documents/GIT/software/dsc2/vignettes/one_sample_location"
     ]
    }
   ],
   "source": [
    "%cd ~/GIT/dsc2/vignettes/one_sample_location"
   ]
  },
  {
   "cell_type": "markdown",
   "metadata": {},
   "source": [
    "## Run DSC\n",
    "To execute the DSC on a computer using 30 CPU threads,"
   ]
  },
  {
   "cell_type": "code",
   "execution_count": 2,
   "metadata": {
    "kernel": "SoS",
    "output_cache": "[]"
   },
   "outputs": [
    {
     "name": "stdout",
     "output_type": "stream",
     "text": [
      "\u001b[1;32mINFO: Checking R library dscrutils@stephenslab/dsc2/dscrutils ...\u001b[0m\n",
      "INFO: DSC script exported to \u001b[32mdsc_result.html\u001b[0m\n",
      "INFO: Constructing DSC from \u001b[32msettings_inline.dsc\u001b[0m ...\n",
      "INFO: Building execution graph & running DSC ...\n",
      "DSC: 100%|██████████████████████████████████████| 15/15 [00:02<00:00,  3.70it/s]\n",
      "INFO: Building DSC database ...\n",
      "INFO: DSC complete!\n",
      "INFO: Elapsed time \u001b[32m4.700\u001b[0m seconds.\n"
     ]
    }
   ],
   "source": [
    "! dsc settings_inline.dsc -c 30"
   ]
  },
  {
   "cell_type": "markdown",
   "metadata": {},
   "source": [
    "The outcome should be exact the same as the [5 Minutes](5_Minutes.html) tutorial. But for this simple case the benchmark is more self-contained and the DSC configuration more concise."
   ]
  }
 ],
 "metadata": {
  "kernelspec": {
   "display_name": "SoS",
   "language": "sos",
   "name": "sos"
  },
  "language_info": {
   "codemirror_mode": "sos",
   "file_extension": ".sos",
   "mimetype": "text/x-sos",
   "name": "sos",
   "nbconvert_exporter": "sos_notebook.converter.SoS_Exporter",
   "pygments_lexer": "sos"
  },
  "sos": {
   "celltoolbar": true,
   "default_kernel": "SoS",
   "kernels": [
    [
     "SoS",
     "sos",
     "",
     ""
    ],
    [
     "Python3",
     "python3",
     "Python3",
     "#FFE771"
    ],
    [
     "R",
     "ir",
     "R",
     "#DCDCDA"
    ]
   ],
   "panel": {
    "displayed": true,
    "height": 0,
    "style": "side"
   }
  }
 },
 "nbformat": 4,
 "nbformat_minor": 1
}
