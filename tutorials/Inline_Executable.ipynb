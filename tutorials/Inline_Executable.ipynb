{
 "cells": [
  {
   "cell_type": "markdown",
   "metadata": {},
   "source": [
    "# Quick start tutorial using inline executables"
   ]
  },
  {
   "cell_type": "markdown",
   "metadata": {},
   "source": [
    "In this tutorial we provide a \"one-liner\" implementation of the [Quick Start](Quick_Start.html) tutorial using inline executables -- that is, instead of specifying scripts for module executables we use merely language operators to pass codes to DSC."
   ]
  },
  {
   "cell_type": "markdown",
   "metadata": {},
   "source": [
    "## DSC Specification\n",
    "```\n",
    "normal, t: R(set.seed(seed); x=rnorm(n,mean=true_mean)), \n",
    "            R(set.seed(seed); x=true_mean+rt(n,df=2))\n",
    "    seed: R(1:5)\n",
    "    n: 1000\n",
    "    true_mean: 0, 1\n",
    "    $x: x\n",
    "    $true_mean: true_mean\n",
    "\n",
    "mean, median: R(mean = mean($(x))), R(mean = median($(x))) \n",
    "    $mean: mean\n",
    "\n",
    "mse: R(mse = ($(mean)-$(true_mean))^2)\n",
    "    $mse: mse\n",
    "\n",
    "DSC:\n",
    "    define:\n",
    "      simulate: normal, t\n",
    "      estimate: mean, median\n",
    "    run: simulate * estimate * mse\n",
    "    output: dsc_result\n",
    "```\n",
    "\n",
    "Notice the use of `$()` in inline module executables. It specifies the required pipeline variables. Therefore for modules `mean`, `median` and `mse` only module output needs to be specified -- module input are defined already in this inline module executable style."
   ]
  },
  {
   "cell_type": "code",
   "execution_count": 1,
   "metadata": {
    "kernel": "SoS"
   },
   "outputs": [
    {
     "name": "stdout",
     "output_type": "stream",
     "text": [
      "/home/gaow/GIT/dsc2/vignettes/one_sample_location"
     ]
    }
   ],
   "source": [
    "%cd ~/GIT/dsc2/vignettes/one_sample_location"
   ]
  },
  {
   "cell_type": "markdown",
   "metadata": {},
   "source": [
    "## Run DSC\n",
    "To execute the DSC on a computer using 30 CPU threads,"
   ]
  },
  {
   "cell_type": "code",
   "execution_count": 2,
   "metadata": {
    "kernel": "SoS",
    "output_cache": "[]"
   },
   "outputs": [
    {
     "name": "stdout",
     "output_type": "stream",
     "text": [
      "\u001b[1;32mINFO: Checking R library dscrutils@stephenslab/dsc2/dscrutils ...\u001b[0m\n",
      "INFO: DSC script exported to \u001b[32mdsc_result.html\u001b[0m\n",
      "INFO: Constructing DSC from \u001b[32msettings_inline.dsc\u001b[0m ...\n",
      "INFO: Building execution graph & running DSC ...\n",
      "DSC: 100%|██████████████████████████████████████| 11/11 [00:07<00:00,  1.36it/s]\n",
      "INFO: Building DSC database ...\n",
      "INFO: DSC complete!\n",
      "INFO: Elapsed time \u001b[32m11.585\u001b[0m seconds.\n"
     ]
    }
   ],
   "source": [
    "! dsc settings_inline.dsc -c 30"
   ]
  },
  {
   "cell_type": "markdown",
   "metadata": {},
   "source": [
    "The outcome should be exact the same as the [Quick Start](Quick_Start.html) tutorial. But for this simple case the benchmark is more self-contained and the DSC configuration more concise."
   ]
  }
 ],
 "metadata": {
  "kernelspec": {
   "display_name": "SoS",
   "language": "sos",
   "name": "sos"
  },
  "language_info": {
   "codemirror_mode": "sos",
   "file_extension": ".sos",
   "mimetype": "text/x-sos",
   "name": "sos",
   "nbconvert_exporter": "sos_notebook.converter.SoS_Exporter",
   "pygments_lexer": "sos"
  },
  "sos": {
   "celltoolbar": true,
   "default_kernel": "SoS",
   "kernels": [
    [
     "SoS",
     "sos",
     "",
     ""
    ],
    [
     "Python3",
     "python3",
     "Python3",
     "#FFE771"
    ],
    [
     "R",
     "ir",
     "R",
     "#DCDCDA"
    ]
   ],
   "panel": {
    "displayed": true,
    "height": 0,
    "style": "side"
   }
  }
 },
 "nbformat": 4,
 "nbformat_minor": 1
}
