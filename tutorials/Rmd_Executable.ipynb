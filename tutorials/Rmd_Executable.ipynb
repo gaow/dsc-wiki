{
 "cells": [
  {
   "cell_type": "markdown",
   "metadata": {},
   "source": [
    "# Convert existing Rmarkdown file to DSC executables"
   ]
  },
  {
   "cell_type": "markdown",
   "metadata": {},
   "source": [
    "This tutorial demonstrates a convenient way to construct DSC based on Rmarkdown files being used in Rstudio interactive sessions. Material used can be found in [DSC2 vignettes repository](https://github.com/stephenslab/dsc2/tree/master/vignettes/mash)."
   ]
  },
  {
   "cell_type": "markdown",
   "metadata": {},
   "source": [
    "Caution that running DSC with source code provided from Rmarkdown files is meant ease DSC development, but is more error prone because users may make more variable or code chunk matching mistakes between DSC interface and the Rmarkdown file. This feature is intended to prototype a benchmark. Users are not recommanded to use Rmd files in the finalized benchmark."
   ]
  },
  {
   "cell_type": "markdown",
   "metadata": {},
   "source": [
    "The Rmarkdown file is part of the [`mashr` package intro vigenette](https://stephenslab.github.io/mashr/docs/intro_mash.html). Here we run in DSC the steps of simulating data, compute covariance matrices (prior), and fit the `mash` model. The DSC file is specified as:\n",
    "\n",
    "```\n",
    "#!/usr/bin/env dsc\n",
    "\n",
    "simulate: R(library(mashr)) + simulate_*@intro_mash.Rmd\n",
    "  n_effects: 500\n",
    "  n_cond: 5\n",
    "  $data: data\n",
    "\n",
    "get_cov: R(library(mashr)) + cov*@intro_mash.Rmd\n",
    "  data: $data\n",
    "  $U_c: U.c \n",
    "\n",
    "fit: R(library(mashr)) + fit*@intro_mash.Rmd\n",
    "  U_c: $U_c\n",
    "  data: $data\n",
    "  $m_c: m.c\n",
    "  @ALIAS: U.c = U_c\n",
    " \n",
    "DSC:\n",
    "  run: simulate * get_cov * fit\n",
    "  R_libs: mashr@stephenslab/mashr (0.2.5+)\n",
    "  output: mash_result\n",
    "```\n",
    "\n",
    "Take `simulate_*@intro_mash.Rmd` for example: it means the module executable comes from code chunks matching `simulate_*` pattern in file `intro_mash.Rmd`. The code chunk matching pattern follows from [UNIX wildcard](http://www.robelle.com/smugbook/wildcard.html) convention. When only the Rmarkdown filename (the part after `@`) is specified, all code chunks in the Rmarkdown file will be loaded.\n",
    "\n",
    "The extracted code along with this DSC script can be found in DSC code browswer [`mash_result.html`](mash_result.html). To run the DSC:"
   ]
  },
  {
   "cell_type": "code",
   "execution_count": 1,
   "metadata": {
    "kernel": "SoS"
   },
   "outputs": [
    {
     "name": "stdout",
     "output_type": "stream",
     "text": [
      "/home/gaow/GIT/dsc2/vignettes/mash"
     ]
    }
   ],
   "source": [
    "%cd ~/GIT/dsc2/vignettes/mash"
   ]
  },
  {
   "cell_type": "code",
   "execution_count": 2,
   "metadata": {
    "kernel": "SoS"
   },
   "outputs": [
    {
     "name": "stdout",
     "output_type": "stream",
     "text": [
      "\u001b[95mWARNING\u001b[0m: \u001b[95mSource code of \u001b[0m\u001b[32msimulate\u001b[0m\u001b[95m is loaded from \u001b[0m\u001b[32mintro_mash.Rmd\u001b[0m\u001b[95m. This is only recommended for prototyping.\u001b[0m\n",
      "\u001b[95mWARNING\u001b[0m: \u001b[95mSource code of \u001b[0m\u001b[32mget_cov\u001b[0m\u001b[95m is loaded from \u001b[0m\u001b[32mintro_mash.Rmd\u001b[0m\u001b[95m. This is only recommended for prototyping.\u001b[0m\n",
      "\u001b[95mWARNING\u001b[0m: \u001b[95mSource code of \u001b[0m\u001b[32mfit\u001b[0m\u001b[95m is loaded from \u001b[0m\u001b[32mintro_mash.Rmd\u001b[0m\u001b[95m. This is only recommended for prototyping.\u001b[0m\n",
      "\u001b[1;32mINFO: Checking R library mashr@stephenslab/mashr ...\u001b[0m\n",
      "\u001b[1;32mINFO: Checking R library dscrutils@stephenslab/dsc2/dscrutils ...\u001b[0m\n",
      "INFO: DSC script exported to \u001b[32mmash_result.html\u001b[0m\n",
      "INFO: Constructing DSC from \u001b[32m./settings.dsc\u001b[0m ...\n",
      "INFO: Building execution graph & running DSC ...\n",
      "DSC: 100%|████████████████████████████████████████| 4/4 [00:08<00:00,  1.92s/it]\n",
      "INFO: Building DSC database ...\n",
      "INFO: DSC complete!\n",
      "INFO: Elapsed time \u001b[32m13.973\u001b[0m seconds.\n"
     ]
    }
   ],
   "source": [
    "! ./settings.dsc"
   ]
  },
  {
   "cell_type": "markdown",
   "metadata": {},
   "source": [
    "Note that warning messages are displayed when module executables are loaded from Rmarkdown files, to remind users to finalize the DSC with formal scripts rather than some dynamic document."
   ]
  }
 ],
 "metadata": {
  "kernelspec": {
   "display_name": "SoS",
   "language": "sos",
   "name": "sos"
  },
  "language_info": {
   "codemirror_mode": "sos",
   "file_extension": ".sos",
   "mimetype": "text/x-sos",
   "name": "sos",
   "nbconvert_exporter": "sos_notebook.converter.SoS_Exporter",
   "pygments_lexer": "sos"
  },
  "sos": {
   "default_kernel": "SoS",
   "kernels": [
    [
     "SoS",
     "sos",
     "",
     ""
    ],
    [
     "ir",
     "ir",
     "",
     ""
    ],
    [
     "python3",
     "python3",
     "",
     ""
    ]
   ],
   "panel": {
    "displayed": true,
    "height": 0,
    "style": "side"
   }
  }
 },
 "nbformat": 4,
 "nbformat_minor": 2
}
