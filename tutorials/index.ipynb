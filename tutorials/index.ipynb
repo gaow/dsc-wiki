{
 "cells": [
  {
   "cell_type": "markdown",
   "metadata": {},
   "source": [
    "## Basics\n",
    "[A First Course on DSC](tutorials/First_Course.html)<br>\n",
    "&nbsp; &nbsp; Your very first toy DSC project"
   ]
  },
  {
   "cell_type": "markdown",
   "metadata": {},
   "source": [
    "[Basic DSC syntax illustrated](tutorials/First_Course_Elaborated.html)<br>\n",
    "&nbsp; &nbsp; Elaborating syntax involved in the First Course"
   ]
  },
  {
   "cell_type": "markdown",
   "metadata": {},
   "source": [
    "[Explore DSC output](tutorials/Explore_Output.html)<br>\n",
    "&nbsp; &nbsp; Extract DSC output and visualize results"
   ]
  },
  {
   "cell_type": "markdown",
   "metadata": {},
   "source": [
    "## Mini courses\n",
    "[Update Existing DSC](tutorials/Expand_Existing_DSC.html)<br>\n",
    "&nbsp; &nbsp; How to extend a DSC benchmark"
   ]
  },
  {
   "cell_type": "markdown",
   "metadata": {},
   "source": [
    "[Multiple DSC Pipelines](tutorials/Multiple_Pipelines.html)<br>\n",
    "&nbsp; &nbsp; Comparisons of multiple procedures in one DSC"
   ]
  },
  {
   "cell_type": "markdown",
   "metadata": {},
   "source": [
    "[Python-based DSC](tutorials/5_Minutes_Python.html)<br>\n",
    "&nbsp; &nbsp; Re-implementation of 5 Minutes example using Python"
   ]
  },
  {
   "cell_type": "markdown",
   "metadata": {},
   "source": [
    "[Mixing lanugages: R and Python](tutorials/5_Minutes_RPY.html)<br>\n",
    "&nbsp; &nbsp; Work with Python and R scripts in one DSC <br>"
   ]
  },
  {
   "cell_type": "markdown",
   "metadata": {},
   "source": [
    "[Inline executables](tutorials/Inline_Executable.html)<br>\n",
    "&nbsp; &nbsp; \"One-liner\" style to specify simple module scripts"
   ]
  },
  {
   "cell_type": "markdown",
   "metadata": {},
   "source": [
    "[Rmarkdown executables](tutorials/Rmd_Executable.html)<br>\n",
    "&nbsp; &nbsp; Load module scripts from `Rmarkdown` chunks <br>"
   ]
  },
  {
   "cell_type": "markdown",
   "metadata": {
    "collapsed": true
   },
   "source": [
    "## Tips & Tricks\n",
    "[Debug tips](tutorials/Debug_Tips.html)<br>\n",
    "&nbsp; &nbsp; Debugging in DSC environment\n",
    "    "
   ]
  },
  {
   "cell_type": "markdown",
   "metadata": {},
   "source": [
    "## Intermediate examples\n",
    "[An R example: `ashr` benchmark](tutorials/Intermediate_R_1.html)<br>\n",
    "&nbsp; &nbsp; An illustration of inline codes, variable alias, R library installation and query demos"
   ]
  },
  {
   "cell_type": "markdown",
   "metadata": {},
   "source": [
    "[Reimplementation of \"quick start\" example from `simulator` R package](tutorials/Intermediate_R_2.html)<br>\n",
    "&nbsp; &nbsp; A more modular implementation illustrating compound and inline module executables"
   ]
  },
  {
   "cell_type": "markdown",
   "metadata": {},
   "source": [
    "## Advanced examples\n",
    "* List of [DSC2 benchmarks](examples.html)"
   ]
  }
 ],
 "metadata": {
  "anaconda-cloud": {},
  "kernelspec": {
   "display_name": "SoS",
   "language": "sos",
   "name": "sos"
  },
  "language_info": {
   "codemirror_mode": "sos",
   "file_extension": ".sos",
   "mimetype": "text/x-sos",
   "name": "sos",
   "nbconvert_exporter": "sos_notebook.converter.SoS_Exporter",
   "pygments_lexer": "sos"
  },
  "sos": {
   "celltoolbar": true,
   "default_kernel": "SoS",
   "kernels": [
    [
     "SoS",
     "sos",
     "",
     ""
    ],
    [
     "ir",
     "ir",
     "",
     ""
    ],
    [
     "python3",
     "python3",
     "",
     ""
    ]
   ],
   "panel": {
    "displayed": true,
    "height": 0,
    "style": "side"
   }
  },
  "toc": {
   "colors": {
    "hover_highlight": "#DAA520",
    "running_highlight": "#FF0000",
    "selected_highlight": "#FFD700"
   },
   "moveMenuLeft": true,
   "nav_menu": {
    "height": "45px",
    "width": "254px"
   },
   "navigate_menu": true,
   "number_sections": true,
   "sideBar": true,
   "threshold": 4,
   "toc_cell": false,
   "toc_section_display": "block",
   "toc_window_display": false
  }
 },
 "nbformat": 4,
 "nbformat_minor": 2
}
