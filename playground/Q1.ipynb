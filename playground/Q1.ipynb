{
 "cells": [
  {
   "cell_type": "markdown",
   "metadata": {
    "kernel": "SoS",
    "scrolled": true,
    "tags": [
     "None"
    ]
   },
   "source": [
    "# DSC summary & query\n",
    "Queries performed for:\n",
    "\n",
    "* targets: `['normal.n', 'mean', 'mse.score']`\n",
    "* conditions: `['normal.true_mean = 1']`"
   ]
  },
  {
   "cell_type": "code",
   "execution_count": 1,
   "metadata": {
    "kernel": "SoS",
    "scrolled": true,
    "tags": [
     "None"
    ]
   },
   "outputs": [],
   "source": [
    "import pandas as pd\n",
    "xls = pd.ExcelFile('Q1.xlsx')\n",
    "info = [xls.parse(x) for x in xls.sheet_names]"
   ]
  },
  {
   "cell_type": "markdown",
   "metadata": {
    "kernel": "SoS",
    "scrolled": true,
    "tags": [
     "None"
    ]
   },
   "source": [
    "## Merged"
   ]
  },
  {
   "cell_type": "markdown",
   "metadata": {
    "kernel": "SoS",
    "scrolled": true,
    "tags": [
     "hide_output"
    ]
   },
   "source": [
    "```sql\n",
    "SELECT normal.n AS normal_n, mean.FILE AS mean_FILE, mse.FILE AS mse_FILE_score FROM mse INNER JOIN mean ON mse.parent = mean.ID INNER JOIN normal ON mean.parent = normal.ID WHERE ((normal.true_mean = 1))\n",
    "```"
   ]
  },
  {
   "cell_type": "code",
   "execution_count": 2,
   "metadata": {
    "kernel": "SoS",
    "scrolled": true,
    "tags": [
     "report_output"
    ]
   },
   "outputs": [
    {
     "data": {
      "text/html": [
       "<div class=\"sos_hint\">> info[0]: DataFrame of shape (5, 3)</div>"
      ],
      "text/plain": [
       ">>> info[0]:\n"
      ]
     },
     "metadata": {},
     "output_type": "display_data"
    },
    {
     "data": {
      "text/html": [
       "\n",
       "    <div class='dataframe_container' style=\"max-height:400px\">\n",
       "    <input type=\"text\" class='dataframe_input' id=\"search_1\" onkeyup=\"filterDataFrame('1')\" placeholder=\"Search for names..\">\n",
       "    <table border=\"1\" id=\"dataframe_1\" class=\"sos_dataframe dataframe\">\n",
       "  <thead>\n",
       "    <tr style=\"text-align: right;\">\n",
       "      <th> &nbsp; <i class=\"fa fa-sort\" style=\"color:lightgray\" onclick=\"sortDataFrame('1', 0, 'numeric')\"></th>\n",
       "      <th>normal_n &nbsp; <i class=\"fa fa-sort\" style=\"color:lightgray\" onclick=\"sortDataFrame('1', 1, 'numeric')\"></th>\n",
       "      <th>mean_FILE &nbsp; <i class=\"fa fa-sort\" style=\"color:lightgray\" onclick=\"sortDataFrame('1', 2, 'alphabetic')\"></th>\n",
       "      <th>mse_score &nbsp; <i class=\"fa fa-sort\" style=\"color:lightgray\" onclick=\"sortDataFrame('1', 3, 'alphabetic')\"></th>\n",
       "    </tr>\n",
       "  </thead>\n",
       "  <tbody>\n",
       "    <tr>\n",
       "      <th>0</th>\n",
       "      <td>1000</td>\n",
       "      <td>normal_2_mean_1</td>\n",
       "      <td>dsc_result/normal_2_mean_1_mse_1</td>\n",
       "    </tr>\n",
       "    <tr>\n",
       "      <th>1</th>\n",
       "      <td>1000</td>\n",
       "      <td>normal_4_mean_1</td>\n",
       "      <td>dsc_result/normal_4_mean_1_mse_1</td>\n",
       "    </tr>\n",
       "    <tr>\n",
       "      <th>2</th>\n",
       "      <td>1000</td>\n",
       "      <td>normal_6_mean_1</td>\n",
       "      <td>dsc_result/normal_6_mean_1_mse_1</td>\n",
       "    </tr>\n",
       "    <tr>\n",
       "      <th>3</th>\n",
       "      <td>1000</td>\n",
       "      <td>normal_8_mean_1</td>\n",
       "      <td>dsc_result/normal_8_mean_1_mse_1</td>\n",
       "    </tr>\n",
       "    <tr>\n",
       "      <th>4</th>\n",
       "      <td>1000</td>\n",
       "      <td>normal_10_mean_1</td>\n",
       "      <td>dsc_result/normal_10_mean_1_mse_1</td>\n",
       "    </tr>\n",
       "  </tbody>\n",
       "</table></div>"
      ]
     },
     "metadata": {},
     "output_type": "display_data"
    }
   ],
   "source": [
    "%preview -n info[0] --limit -1"
   ]
  }
 ],
 "metadata": {
  "kernelspec": {
   "display_name": "SoS",
   "language": "sos",
   "name": "sos"
  },
  "language_info": {
   "codemirror_mode": "sos",
   "file_extension": ".sos",
   "mimetype": "text/x-sos",
   "name": "sos",
   "nbconvert_exporter": "sos_notebook.converter.SoS_Exporter",
   "pygments_lexer": "sos"
  },
  "sos": {
   "default_kernel": "SoS",
   "kernels": [
    [
     "SoS",
     "sos",
     "",
     ""
    ],
    [
     "Python3",
     "python3",
     "Python3",
     "#FFE771"
    ],
    [
     "R",
     "ir",
     "R",
     "#DCDCDA"
    ]
   ],
   "panel": {
    "displayed": true,
    "height": 0,
    "style": "side"
   }
  }
 },
 "nbformat": 4,
 "nbformat_minor": 2
}
