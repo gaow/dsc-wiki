{
 "cells": [
  {
   "cell_type": "markdown",
   "metadata": {
    "kernel": "SoS",
    "scrolled": true,
    "tags": [
     "None"
    ]
   },
   "source": [
    "# DSC summary & query\n",
    "Queries performed for:\n",
    "\n",
    "* targets: `['simulate.n', 'method', 'mse.score']`\n",
    "* conditions: `['simulate.true_mean = 1']`"
   ]
  },
  {
   "cell_type": "code",
   "execution_count": 1,
   "metadata": {
    "kernel": "SoS",
    "scrolled": true,
    "tags": [
     "None"
    ]
   },
   "outputs": [],
   "source": [
    "import pandas as pd\n",
    "xls = pd.ExcelFile('Q2.xlsx')\n",
    "info = [xls.parse(x) for x in xls.sheet_names]"
   ]
  },
  {
   "cell_type": "markdown",
   "metadata": {
    "kernel": "SoS",
    "scrolled": true,
    "tags": [
     "None"
    ]
   },
   "source": [
    "## Merged"
   ]
  },
  {
   "cell_type": "code",
   "execution_count": 2,
   "metadata": {
    "kernel": "SoS",
    "scrolled": true,
    "tags": [
     "report_output"
    ]
   },
   "outputs": [
    {
     "data": {
      "text/html": [
       "<div class=\"sos_hint\">> info[0]: DataFrame of shape (20, 5)</div>"
      ],
      "text/plain": [
       ">>> info[0]:\n"
      ]
     },
     "metadata": {},
     "output_type": "display_data"
    },
    {
     "data": {
      "text/html": [
       "\n",
       "    <div class='dataframe_container' style=\"max-height:400px\">\n",
       "    <input type=\"text\" class='dataframe_input' id=\"search_1\" onkeyup=\"filterDataFrame('1')\" placeholder=\"Search for names..\">\n",
       "    <table border=\"1\" id=\"dataframe_1\" class=\"sos_dataframe dataframe\">\n",
       "  <thead>\n",
       "    <tr style=\"text-align: right;\">\n",
       "      <th> &nbsp; <i class=\"fa fa-sort\" style=\"color:lightgray\" onclick=\"sortDataFrame('1', 0, 'numeric')\"></th>\n",
       "      <th>simulate &nbsp; <i class=\"fa fa-sort\" style=\"color:lightgray\" onclick=\"sortDataFrame('1', 1, 'alphabetic')\"></th>\n",
       "      <th>simulate_n &nbsp; <i class=\"fa fa-sort\" style=\"color:lightgray\" onclick=\"sortDataFrame('1', 2, 'numeric')\"></th>\n",
       "      <th>method &nbsp; <i class=\"fa fa-sort\" style=\"color:lightgray\" onclick=\"sortDataFrame('1', 3, 'alphabetic')\"></th>\n",
       "      <th>method_FILE &nbsp; <i class=\"fa fa-sort\" style=\"color:lightgray\" onclick=\"sortDataFrame('1', 4, 'alphabetic')\"></th>\n",
       "      <th>mse_score &nbsp; <i class=\"fa fa-sort\" style=\"color:lightgray\" onclick=\"sortDataFrame('1', 5, 'alphabetic')\"></th>\n",
       "    </tr>\n",
       "  </thead>\n",
       "  <tbody>\n",
       "    <tr>\n",
       "      <th>0</th>\n",
       "      <td>t</td>\n",
       "      <td>1000</td>\n",
       "      <td>median</td>\n",
       "      <td>normal_2_mean_1</td>\n",
       "      <td>dsc_result/normal_2_mean_1_mse_1</td>\n",
       "    </tr>\n",
       "    <tr>\n",
       "      <th>1</th>\n",
       "      <td>t</td>\n",
       "      <td>1000</td>\n",
       "      <td>median</td>\n",
       "      <td>normal_4_mean_1</td>\n",
       "      <td>dsc_result/normal_4_mean_1_mse_1</td>\n",
       "    </tr>\n",
       "    <tr>\n",
       "      <th>2</th>\n",
       "      <td>t</td>\n",
       "      <td>1000</td>\n",
       "      <td>median</td>\n",
       "      <td>normal_6_mean_1</td>\n",
       "      <td>dsc_result/normal_6_mean_1_mse_1</td>\n",
       "    </tr>\n",
       "    <tr>\n",
       "      <th>3</th>\n",
       "      <td>t</td>\n",
       "      <td>1000</td>\n",
       "      <td>median</td>\n",
       "      <td>normal_8_mean_1</td>\n",
       "      <td>dsc_result/normal_8_mean_1_mse_1</td>\n",
       "    </tr>\n",
       "    <tr>\n",
       "      <th>4</th>\n",
       "      <td>t</td>\n",
       "      <td>1000</td>\n",
       "      <td>median</td>\n",
       "      <td>normal_10_mean_1</td>\n",
       "      <td>dsc_result/normal_10_mean_1_mse_1</td>\n",
       "    </tr>\n",
       "    <tr>\n",
       "      <th>5</th>\n",
       "      <td>t</td>\n",
       "      <td>1000</td>\n",
       "      <td>mean</td>\n",
       "      <td>normal_2_median_1</td>\n",
       "      <td>dsc_result/normal_2_median_1_mse_1</td>\n",
       "    </tr>\n",
       "    <tr>\n",
       "      <th>6</th>\n",
       "      <td>t</td>\n",
       "      <td>1000</td>\n",
       "      <td>mean</td>\n",
       "      <td>normal_4_median_1</td>\n",
       "      <td>dsc_result/normal_4_median_1_mse_1</td>\n",
       "    </tr>\n",
       "    <tr>\n",
       "      <th>7</th>\n",
       "      <td>t</td>\n",
       "      <td>1000</td>\n",
       "      <td>mean</td>\n",
       "      <td>normal_6_median_1</td>\n",
       "      <td>dsc_result/normal_6_median_1_mse_1</td>\n",
       "    </tr>\n",
       "    <tr>\n",
       "      <th>8</th>\n",
       "      <td>t</td>\n",
       "      <td>1000</td>\n",
       "      <td>mean</td>\n",
       "      <td>normal_8_median_1</td>\n",
       "      <td>dsc_result/normal_8_median_1_mse_1</td>\n",
       "    </tr>\n",
       "    <tr>\n",
       "      <th>9</th>\n",
       "      <td>t</td>\n",
       "      <td>1000</td>\n",
       "      <td>mean</td>\n",
       "      <td>normal_10_median_1</td>\n",
       "      <td>dsc_result/normal_10_median_1_mse_1</td>\n",
       "    </tr>\n",
       "    <tr>\n",
       "      <th>10</th>\n",
       "      <td>normal</td>\n",
       "      <td>1000</td>\n",
       "      <td>median</td>\n",
       "      <td>t_2_mean_1</td>\n",
       "      <td>dsc_result/t_2_mean_1_mse_1</td>\n",
       "    </tr>\n",
       "    <tr>\n",
       "      <th>11</th>\n",
       "      <td>normal</td>\n",
       "      <td>1000</td>\n",
       "      <td>median</td>\n",
       "      <td>t_4_mean_1</td>\n",
       "      <td>dsc_result/t_4_mean_1_mse_1</td>\n",
       "    </tr>\n",
       "    <tr>\n",
       "      <th>12</th>\n",
       "      <td>normal</td>\n",
       "      <td>1000</td>\n",
       "      <td>median</td>\n",
       "      <td>t_6_mean_1</td>\n",
       "      <td>dsc_result/t_6_mean_1_mse_1</td>\n",
       "    </tr>\n",
       "    <tr>\n",
       "      <th>13</th>\n",
       "      <td>normal</td>\n",
       "      <td>1000</td>\n",
       "      <td>median</td>\n",
       "      <td>t_8_mean_1</td>\n",
       "      <td>dsc_result/t_8_mean_1_mse_1</td>\n",
       "    </tr>\n",
       "    <tr>\n",
       "      <th>14</th>\n",
       "      <td>normal</td>\n",
       "      <td>1000</td>\n",
       "      <td>median</td>\n",
       "      <td>t_10_mean_1</td>\n",
       "      <td>dsc_result/t_10_mean_1_mse_1</td>\n",
       "    </tr>\n",
       "    <tr>\n",
       "      <th>15</th>\n",
       "      <td>normal</td>\n",
       "      <td>1000</td>\n",
       "      <td>mean</td>\n",
       "      <td>t_2_median_1</td>\n",
       "      <td>dsc_result/t_2_median_1_mse_1</td>\n",
       "    </tr>\n",
       "    <tr>\n",
       "      <th>16</th>\n",
       "      <td>normal</td>\n",
       "      <td>1000</td>\n",
       "      <td>mean</td>\n",
       "      <td>t_4_median_1</td>\n",
       "      <td>dsc_result/t_4_median_1_mse_1</td>\n",
       "    </tr>\n",
       "    <tr>\n",
       "      <th>17</th>\n",
       "      <td>normal</td>\n",
       "      <td>1000</td>\n",
       "      <td>mean</td>\n",
       "      <td>t_6_median_1</td>\n",
       "      <td>dsc_result/t_6_median_1_mse_1</td>\n",
       "    </tr>\n",
       "    <tr>\n",
       "      <th>18</th>\n",
       "      <td>normal</td>\n",
       "      <td>1000</td>\n",
       "      <td>mean</td>\n",
       "      <td>t_8_median_1</td>\n",
       "      <td>dsc_result/t_8_median_1_mse_1</td>\n",
       "    </tr>\n",
       "    <tr>\n",
       "      <th>19</th>\n",
       "      <td>normal</td>\n",
       "      <td>1000</td>\n",
       "      <td>mean</td>\n",
       "      <td>t_10_median_1</td>\n",
       "      <td>dsc_result/t_10_median_1_mse_1</td>\n",
       "    </tr>\n",
       "  </tbody>\n",
       "</table></div>"
      ]
     },
     "metadata": {},
     "output_type": "display_data"
    }
   ],
   "source": [
    "%preview -n info[0] --limit -1"
   ]
  },
  {
   "cell_type": "markdown",
   "metadata": {
    "kernel": "SoS",
    "scrolled": true,
    "tags": [
     "None"
    ]
   },
   "source": [
    "## Pipeline 1"
   ]
  },
  {
   "cell_type": "markdown",
   "metadata": {
    "kernel": "SoS",
    "scrolled": true,
    "tags": [
     "hide_output"
    ]
   },
   "source": [
    "```sql\n",
    "SELECT normal.n AS normal_n, mean.FILE AS mean_FILE, mse.FILE AS mse_FILE_score FROM mse INNER JOIN mean ON mse.parent = mean.ID INNER JOIN normal ON mean.parent = normal.ID WHERE ((normal.true_mean = 1))\n",
    "```"
   ]
  },
  {
   "cell_type": "code",
   "execution_count": 3,
   "metadata": {
    "kernel": "SoS",
    "scrolled": true,
    "tags": [
     "report_output"
    ]
   },
   "outputs": [
    {
     "data": {
      "text/html": [
       "<div class=\"sos_hint\">> info[1]: DataFrame of shape (5, 3)</div>"
      ],
      "text/plain": [
       ">>> info[1]:\n"
      ]
     },
     "metadata": {},
     "output_type": "display_data"
    },
    {
     "data": {
      "text/html": [
       "\n",
       "    <div class='dataframe_container' style=\"max-height:400px\">\n",
       "    <input type=\"text\" class='dataframe_input' id=\"search_2\" onkeyup=\"filterDataFrame('2')\" placeholder=\"Search for names..\">\n",
       "    <table border=\"1\" id=\"dataframe_2\" class=\"sos_dataframe dataframe\">\n",
       "  <thead>\n",
       "    <tr style=\"text-align: right;\">\n",
       "      <th> &nbsp; <i class=\"fa fa-sort\" style=\"color:lightgray\" onclick=\"sortDataFrame('2', 0, 'numeric')\"></th>\n",
       "      <th>normal_n &nbsp; <i class=\"fa fa-sort\" style=\"color:lightgray\" onclick=\"sortDataFrame('2', 1, 'numeric')\"></th>\n",
       "      <th>mean_FILE &nbsp; <i class=\"fa fa-sort\" style=\"color:lightgray\" onclick=\"sortDataFrame('2', 2, 'alphabetic')\"></th>\n",
       "      <th>mse_score &nbsp; <i class=\"fa fa-sort\" style=\"color:lightgray\" onclick=\"sortDataFrame('2', 3, 'alphabetic')\"></th>\n",
       "    </tr>\n",
       "  </thead>\n",
       "  <tbody>\n",
       "    <tr>\n",
       "      <th>0</th>\n",
       "      <td>1000</td>\n",
       "      <td>normal_2_mean_1</td>\n",
       "      <td>dsc_result/normal_2_mean_1_mse_1</td>\n",
       "    </tr>\n",
       "    <tr>\n",
       "      <th>1</th>\n",
       "      <td>1000</td>\n",
       "      <td>normal_4_mean_1</td>\n",
       "      <td>dsc_result/normal_4_mean_1_mse_1</td>\n",
       "    </tr>\n",
       "    <tr>\n",
       "      <th>2</th>\n",
       "      <td>1000</td>\n",
       "      <td>normal_6_mean_1</td>\n",
       "      <td>dsc_result/normal_6_mean_1_mse_1</td>\n",
       "    </tr>\n",
       "    <tr>\n",
       "      <th>3</th>\n",
       "      <td>1000</td>\n",
       "      <td>normal_8_mean_1</td>\n",
       "      <td>dsc_result/normal_8_mean_1_mse_1</td>\n",
       "    </tr>\n",
       "    <tr>\n",
       "      <th>4</th>\n",
       "      <td>1000</td>\n",
       "      <td>normal_10_mean_1</td>\n",
       "      <td>dsc_result/normal_10_mean_1_mse_1</td>\n",
       "    </tr>\n",
       "  </tbody>\n",
       "</table></div>"
      ]
     },
     "metadata": {},
     "output_type": "display_data"
    }
   ],
   "source": [
    "%preview -n info[1] --limit -1"
   ]
  },
  {
   "cell_type": "markdown",
   "metadata": {
    "kernel": "SoS",
    "scrolled": true,
    "tags": [
     "None"
    ]
   },
   "source": [
    "## Pipeline 2"
   ]
  },
  {
   "cell_type": "markdown",
   "metadata": {
    "kernel": "SoS",
    "scrolled": true,
    "tags": [
     "hide_output"
    ]
   },
   "source": [
    "```sql\n",
    "SELECT normal.n AS normal_n, median.FILE AS median_FILE, mse.FILE AS mse_FILE_score FROM mse INNER JOIN median ON mse.parent = median.ID INNER JOIN normal ON median.parent = normal.ID WHERE ((normal.true_mean = 1))\n",
    "```"
   ]
  },
  {
   "cell_type": "code",
   "execution_count": 4,
   "metadata": {
    "kernel": "SoS",
    "scrolled": true,
    "tags": [
     "report_output"
    ]
   },
   "outputs": [
    {
     "data": {
      "text/html": [
       "<div class=\"sos_hint\">> info[2]: DataFrame of shape (5, 3)</div>"
      ],
      "text/plain": [
       ">>> info[2]:\n"
      ]
     },
     "metadata": {},
     "output_type": "display_data"
    },
    {
     "data": {
      "text/html": [
       "\n",
       "    <div class='dataframe_container' style=\"max-height:400px\">\n",
       "    <input type=\"text\" class='dataframe_input' id=\"search_3\" onkeyup=\"filterDataFrame('3')\" placeholder=\"Search for names..\">\n",
       "    <table border=\"1\" id=\"dataframe_3\" class=\"sos_dataframe dataframe\">\n",
       "  <thead>\n",
       "    <tr style=\"text-align: right;\">\n",
       "      <th> &nbsp; <i class=\"fa fa-sort\" style=\"color:lightgray\" onclick=\"sortDataFrame('3', 0, 'numeric')\"></th>\n",
       "      <th>normal_n &nbsp; <i class=\"fa fa-sort\" style=\"color:lightgray\" onclick=\"sortDataFrame('3', 1, 'numeric')\"></th>\n",
       "      <th>median_FILE &nbsp; <i class=\"fa fa-sort\" style=\"color:lightgray\" onclick=\"sortDataFrame('3', 2, 'alphabetic')\"></th>\n",
       "      <th>mse_score &nbsp; <i class=\"fa fa-sort\" style=\"color:lightgray\" onclick=\"sortDataFrame('3', 3, 'alphabetic')\"></th>\n",
       "    </tr>\n",
       "  </thead>\n",
       "  <tbody>\n",
       "    <tr>\n",
       "      <th>0</th>\n",
       "      <td>1000</td>\n",
       "      <td>normal_2_median_1</td>\n",
       "      <td>dsc_result/normal_2_median_1_mse_1</td>\n",
       "    </tr>\n",
       "    <tr>\n",
       "      <th>1</th>\n",
       "      <td>1000</td>\n",
       "      <td>normal_4_median_1</td>\n",
       "      <td>dsc_result/normal_4_median_1_mse_1</td>\n",
       "    </tr>\n",
       "    <tr>\n",
       "      <th>2</th>\n",
       "      <td>1000</td>\n",
       "      <td>normal_6_median_1</td>\n",
       "      <td>dsc_result/normal_6_median_1_mse_1</td>\n",
       "    </tr>\n",
       "    <tr>\n",
       "      <th>3</th>\n",
       "      <td>1000</td>\n",
       "      <td>normal_8_median_1</td>\n",
       "      <td>dsc_result/normal_8_median_1_mse_1</td>\n",
       "    </tr>\n",
       "    <tr>\n",
       "      <th>4</th>\n",
       "      <td>1000</td>\n",
       "      <td>normal_10_median_1</td>\n",
       "      <td>dsc_result/normal_10_median_1_mse_1</td>\n",
       "    </tr>\n",
       "  </tbody>\n",
       "</table></div>"
      ]
     },
     "metadata": {},
     "output_type": "display_data"
    }
   ],
   "source": [
    "%preview -n info[2] --limit -1"
   ]
  },
  {
   "cell_type": "markdown",
   "metadata": {
    "kernel": "SoS",
    "scrolled": true,
    "tags": [
     "None"
    ]
   },
   "source": [
    "## Pipeline 3"
   ]
  },
  {
   "cell_type": "markdown",
   "metadata": {
    "kernel": "SoS",
    "scrolled": true,
    "tags": [
     "hide_output"
    ]
   },
   "source": [
    "```sql\n",
    "SELECT t.n AS t_n, mean.FILE AS mean_FILE, mse.FILE AS mse_FILE_score FROM mse INNER JOIN mean ON mse.parent = mean.ID INNER JOIN t ON mean.parent = t.ID WHERE ((t.true_mean = 1))\n",
    "```"
   ]
  },
  {
   "cell_type": "code",
   "execution_count": 5,
   "metadata": {
    "kernel": "SoS",
    "scrolled": true,
    "tags": [
     "report_output"
    ]
   },
   "outputs": [
    {
     "data": {
      "text/html": [
       "<div class=\"sos_hint\">> info[3]: DataFrame of shape (5, 3)</div>"
      ],
      "text/plain": [
       ">>> info[3]:\n"
      ]
     },
     "metadata": {},
     "output_type": "display_data"
    },
    {
     "data": {
      "text/html": [
       "\n",
       "    <div class='dataframe_container' style=\"max-height:400px\">\n",
       "    <input type=\"text\" class='dataframe_input' id=\"search_4\" onkeyup=\"filterDataFrame('4')\" placeholder=\"Search for names..\">\n",
       "    <table border=\"1\" id=\"dataframe_4\" class=\"sos_dataframe dataframe\">\n",
       "  <thead>\n",
       "    <tr style=\"text-align: right;\">\n",
       "      <th> &nbsp; <i class=\"fa fa-sort\" style=\"color:lightgray\" onclick=\"sortDataFrame('4', 0, 'numeric')\"></th>\n",
       "      <th>t_n &nbsp; <i class=\"fa fa-sort\" style=\"color:lightgray\" onclick=\"sortDataFrame('4', 1, 'numeric')\"></th>\n",
       "      <th>mean_FILE &nbsp; <i class=\"fa fa-sort\" style=\"color:lightgray\" onclick=\"sortDataFrame('4', 2, 'alphabetic')\"></th>\n",
       "      <th>mse_score &nbsp; <i class=\"fa fa-sort\" style=\"color:lightgray\" onclick=\"sortDataFrame('4', 3, 'alphabetic')\"></th>\n",
       "    </tr>\n",
       "  </thead>\n",
       "  <tbody>\n",
       "    <tr>\n",
       "      <th>0</th>\n",
       "      <td>1000</td>\n",
       "      <td>t_2_mean_1</td>\n",
       "      <td>dsc_result/t_2_mean_1_mse_1</td>\n",
       "    </tr>\n",
       "    <tr>\n",
       "      <th>1</th>\n",
       "      <td>1000</td>\n",
       "      <td>t_4_mean_1</td>\n",
       "      <td>dsc_result/t_4_mean_1_mse_1</td>\n",
       "    </tr>\n",
       "    <tr>\n",
       "      <th>2</th>\n",
       "      <td>1000</td>\n",
       "      <td>t_6_mean_1</td>\n",
       "      <td>dsc_result/t_6_mean_1_mse_1</td>\n",
       "    </tr>\n",
       "    <tr>\n",
       "      <th>3</th>\n",
       "      <td>1000</td>\n",
       "      <td>t_8_mean_1</td>\n",
       "      <td>dsc_result/t_8_mean_1_mse_1</td>\n",
       "    </tr>\n",
       "    <tr>\n",
       "      <th>4</th>\n",
       "      <td>1000</td>\n",
       "      <td>t_10_mean_1</td>\n",
       "      <td>dsc_result/t_10_mean_1_mse_1</td>\n",
       "    </tr>\n",
       "  </tbody>\n",
       "</table></div>"
      ]
     },
     "metadata": {},
     "output_type": "display_data"
    }
   ],
   "source": [
    "%preview -n info[3] --limit -1"
   ]
  },
  {
   "cell_type": "markdown",
   "metadata": {
    "kernel": "SoS",
    "scrolled": true,
    "tags": [
     "None"
    ]
   },
   "source": [
    "## Pipeline 4"
   ]
  },
  {
   "cell_type": "markdown",
   "metadata": {
    "kernel": "SoS",
    "scrolled": true,
    "tags": [
     "hide_output"
    ]
   },
   "source": [
    "```sql\n",
    "SELECT t.n AS t_n, median.FILE AS median_FILE, mse.FILE AS mse_FILE_score FROM mse INNER JOIN median ON mse.parent = median.ID INNER JOIN t ON median.parent = t.ID WHERE ((t.true_mean = 1))\n",
    "```"
   ]
  },
  {
   "cell_type": "code",
   "execution_count": 6,
   "metadata": {
    "kernel": "SoS",
    "scrolled": true,
    "tags": [
     "report_output"
    ]
   },
   "outputs": [
    {
     "data": {
      "text/html": [
       "<div class=\"sos_hint\">> info[4]: DataFrame of shape (5, 3)</div>"
      ],
      "text/plain": [
       ">>> info[4]:\n"
      ]
     },
     "metadata": {},
     "output_type": "display_data"
    },
    {
     "data": {
      "text/html": [
       "\n",
       "    <div class='dataframe_container' style=\"max-height:400px\">\n",
       "    <input type=\"text\" class='dataframe_input' id=\"search_5\" onkeyup=\"filterDataFrame('5')\" placeholder=\"Search for names..\">\n",
       "    <table border=\"1\" id=\"dataframe_5\" class=\"sos_dataframe dataframe\">\n",
       "  <thead>\n",
       "    <tr style=\"text-align: right;\">\n",
       "      <th> &nbsp; <i class=\"fa fa-sort\" style=\"color:lightgray\" onclick=\"sortDataFrame('5', 0, 'numeric')\"></th>\n",
       "      <th>t_n &nbsp; <i class=\"fa fa-sort\" style=\"color:lightgray\" onclick=\"sortDataFrame('5', 1, 'numeric')\"></th>\n",
       "      <th>median_FILE &nbsp; <i class=\"fa fa-sort\" style=\"color:lightgray\" onclick=\"sortDataFrame('5', 2, 'alphabetic')\"></th>\n",
       "      <th>mse_score &nbsp; <i class=\"fa fa-sort\" style=\"color:lightgray\" onclick=\"sortDataFrame('5', 3, 'alphabetic')\"></th>\n",
       "    </tr>\n",
       "  </thead>\n",
       "  <tbody>\n",
       "    <tr>\n",
       "      <th>0</th>\n",
       "      <td>1000</td>\n",
       "      <td>t_2_median_1</td>\n",
       "      <td>dsc_result/t_2_median_1_mse_1</td>\n",
       "    </tr>\n",
       "    <tr>\n",
       "      <th>1</th>\n",
       "      <td>1000</td>\n",
       "      <td>t_4_median_1</td>\n",
       "      <td>dsc_result/t_4_median_1_mse_1</td>\n",
       "    </tr>\n",
       "    <tr>\n",
       "      <th>2</th>\n",
       "      <td>1000</td>\n",
       "      <td>t_6_median_1</td>\n",
       "      <td>dsc_result/t_6_median_1_mse_1</td>\n",
       "    </tr>\n",
       "    <tr>\n",
       "      <th>3</th>\n",
       "      <td>1000</td>\n",
       "      <td>t_8_median_1</td>\n",
       "      <td>dsc_result/t_8_median_1_mse_1</td>\n",
       "    </tr>\n",
       "    <tr>\n",
       "      <th>4</th>\n",
       "      <td>1000</td>\n",
       "      <td>t_10_median_1</td>\n",
       "      <td>dsc_result/t_10_median_1_mse_1</td>\n",
       "    </tr>\n",
       "  </tbody>\n",
       "</table></div>"
      ]
     },
     "metadata": {},
     "output_type": "display_data"
    }
   ],
   "source": [
    "%preview -n info[4] --limit -1"
   ]
  }
 ],
 "metadata": {
  "kernelspec": {
   "display_name": "SoS",
   "language": "sos",
   "name": "sos"
  },
  "language_info": {
   "codemirror_mode": "sos",
   "file_extension": ".sos",
   "mimetype": "text/x-sos",
   "name": "sos",
   "nbconvert_exporter": "sos_notebook.converter.SoS_Exporter",
   "pygments_lexer": "sos"
  },
  "sos": {
   "default_kernel": "SoS",
   "kernels": [
    [
     "SoS",
     "sos",
     "",
     ""
    ],
    [
     "Python3",
     "python3",
     "Python3",
     "#FFE771"
    ],
    [
     "R",
     "ir",
     "R",
     "#DCDCDA"
    ]
   ],
   "panel": {
    "displayed": true,
    "height": 0,
    "style": "side"
   }
  }
 },
 "nbformat": 4,
 "nbformat_minor": 2
}
