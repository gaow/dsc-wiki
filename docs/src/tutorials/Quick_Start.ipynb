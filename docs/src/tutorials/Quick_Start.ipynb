{
 "cells": [
  {
   "cell_type": "markdown",
   "metadata": {},
   "source": [
    "# Quick start tutorial"
   ]
  },
  {
   "cell_type": "markdown",
   "metadata": {},
   "source": [
    "In this tutorial we will use DSC to compare methods implemented in [R](https://cran.r-project.org/) for location parameter estimations, based on this [DSCR example](https://github.com/stephens999/dscr/blob/master/vignettes/one_sample_location.rmd). Material used in this document can be found in [DSC2 vignettes repo](https://github.com/stephenslab/dsc2/tree/master/vignettes/one_sample_location).\n"
   ]
  },
  {
   "cell_type": "markdown",
   "metadata": {},
   "source": [
    "## DSC Specification\n",
    "The DSC problem is to assess location parameter estimation methods via simulation studies. We will simulate data under normal distribution and *t* distribution with 2 degrees of freedom; then estimate the location parameter using mean and median, and finally compare the performance of estimators by computing the difference between the estimate and the underlying parameter. The problem is fully specified in DSC2 language below:\n",
    "\n",
    "```yaml\n",
    "  simulate:\n",
    "      exec: rnorm.R, rt.R\n",
    "      seed: R(1:10)\n",
    "      params:\n",
    "          n: 1000\n",
    "          true_mean: 0, 1\n",
    "      return: x, true_mean\n",
    "  \n",
    "  estimate:\n",
    "      exec: mean.R, median.R\n",
    "      params:\n",
    "          x: $x\n",
    "      return: mean\n",
    "  \n",
    "  mse:\n",
    "      exec: MSE.R\n",
    "      params:\n",
    "          mean_est: $mean\n",
    "          true_mean: $true_mean\n",
    "      return: mse\n",
    "  \n",
    "  DSC:\n",
    "      run: simulate *\n",
    "           estimate *\n",
    "           mse\n",
    "      exec_path: R/scenarios, R/methods, R/scores\n",
    "      output: dsc_result\n",
    "```\n",
    "\n",
    "All computational routines in this DSC are R scripts (each with one line of code!), located in directories as specified in the `DSC::exec_path` entry of the configuration file. Contents of these R scripts are:\n",
    "\n",
    "```r\n",
    "  ==> ../vignettes/one_sample_location/R/methods/mean.R <==\n",
    "  mean = mean(x)\n",
    "  \n",
    "  ==> ../vignettes/one_sample_location/R/methods/median.R <==\n",
    "  mean = median(x)\n",
    "  \n",
    "  ==> ../vignettes/one_sample_location/R/scores/MSE.R <==\n",
    "  mse = (mean_est-true_mean)^2\n",
    "  \n",
    "  ==> ../vignettes/one_sample_location/R/scenarios/rt.R <==\n",
    "  # produces n random numbers from t with df=2 and  with specified mean\n",
    "  x=true_mean+rt(n,df=2)\n",
    "  \n",
    "  ==> ../vignettes/one_sample_location/R/scenarios/rnorm.R <==\n",
    "  # produces n random numbers from normal with specified mean\n",
    "  x=rnorm(n,mean=true_mean)\n",
    "  \n",
    "```\n",
    "\n",
    "It is important to ensure the parameter names and return variable names match between R script and DSC files. For example the `simulate` block involves computational routines `rnorm.R` and `rt.R`, both take parameters `n` and `true_mean` and generate a new variable `x` as return value (the other return variable `true_mean` already exists as an input parameter). The R script, `rnorm.R`, is ` x = rnorm(n, mean = true_mean)`, which uses the input parameters `n` and `true_mean` on the right hand side to produce `x` on the left hand side, as the return value of the `simulate` block. The same holds for `rt.R` which is `x = true_mean + rt(n, df = 2)`.\n",
    "\n",
    "The `DSC::run` entry reflects a typical DSC setup where `simulate` creates *scenarios* under various settings, `estimate` applies various *methods* to analyze data and `mse` is a *score* that measures the performance of different methods. They are connected by `*` to allow for all possible combinations of computational steps from these 3 blocks."
   ]
  },
  {
   "cell_type": "markdown",
   "metadata": {},
   "source": [
    "## Run DSC\n",
    "To execute the DSC on a computer using 8 CPU threads,\n"
   ]
  },
  {
   "cell_type": "code",
   "execution_count": 1,
   "metadata": {
    "collapsed": false
   },
   "outputs": [
    {
     "name": "stderr",
     "output_type": "stream",
     "text": [
      "INFO: DSC script exported to \u001b[32msettings.html\u001b[0m\n",
      "INFO: Constructing DSC from \u001b[32msettings.dsc\u001b[0m ...\n",
      "\r",
      "DSC:   0.0% [>                                                    ]  in 00:00:00\r",
      "simulate:1+estimate:1+mse:1:   0.0% [>                            ]  in 00:00:00\r",
      "simulate:1+estimate:1+mse:1:  66.7% [==============>       ] 2 1.0/s in 00:00:00\r",
      "simulate:1+estimate:1+mse:1: 100.0% [=====================>] 3 1.0/s in 00:00:00\r",
      "simulate:1+estimate:1+mse:1: 100% [========================] 3 1.0/s in 00:00:02\n",
      "\r",
      "DSC:  25.0% [===========>                                  ] 1 0.3/s in 00:00:08\r",
      "simulate:1+estimate:2+mse:1:   0.0% [>                            ]  in 00:00:00\r",
      "simulate:1+estimate:2+mse:1:  33.3% [=======>              ] 1 1.0/s in 00:00:02\r",
      "simulate:1+estimate:2+mse:1:  66.7% [==============>       ] 2 1.0/s in 00:00:01\r",
      "simulate:1+estimate:2+mse:1: 100.0% [=====================>] 3 1.0/s in 00:00:00\r",
      "simulate:1+estimate:2+mse:1: 100% [========================] 3 1.0/s in 00:00:03\n",
      "\r",
      "DSC:  50.0% [======================>                       ] 2 0.3/s in 00:00:06\r",
      "simulate:2+estimate:1+mse:1:   0.0% [>                            ]  in 00:00:00\r",
      "simulate:2+estimate:1+mse:1:  33.3% [=======>              ] 1 1.0/s in 00:00:02\r",
      "simulate:2+estimate:1+mse:1:  66.7% [==============>       ] 2 1.0/s in 00:00:01\r",
      "simulate:2+estimate:1+mse:1: 100.0% [=====================>] 3 1.0/s in 00:00:00\r",
      "simulate:2+estimate:1+mse:1: 100% [========================] 3 1.0/s in 00:00:03\n",
      "\r",
      "DSC:  75.0% [=================================>            ] 3 0.3/s in 00:00:03\r",
      "simulate:2+estimate:2+mse:1:   0.0% [>                            ]  in 00:00:00\r",
      "simulate:2+estimate:2+mse:1:  66.7% [==============>       ] 2 1.0/s in 00:00:00\r",
      "simulate:2+estimate:2+mse:1: 100.0% [=====================>] 3 1.0/s in 00:00:00\r",
      "simulate:2+estimate:2+mse:1: 100% [========================] 3 1.0/s in 00:00:02\n",
      "\r",
      "DSC: 100.0% [=============================================>] 4 0.3/s in 00:00:00\r",
      "DSC: 100% [================================================] 4 0.3/s in 00:00:12\n",
      "INFO: Building output database \u001b[32mdsc_result.rds\u001b[0m ...\n",
      "INFO: DSC complete!\n",
      "INFO: Elapsed time \u001b[32m13.047\u001b[0m seconds.\n"
     ]
    }
   ],
   "source": [
    "! dsc settings.dsc -j8"
   ]
  },
  {
   "cell_type": "markdown",
   "metadata": {
    "collapsed": true
   },
   "source": [
    "In this example the results will be stored in `dsc_result.rds`. These files contain the same information only differing in format. We will discuss the output in detail in [a separate tutorial](). \n"
   ]
  },
  {
   "cell_type": "markdown",
   "metadata": {},
   "source": [
    "## Re-run DSC\n",
    "DSC keeps track of commands that has been executed before so that if you re-run the same DSC command it will skip computational steps if there is no change in DSC configuration file. For example if you rerun this command it will end quickly:"
   ]
  },
  {
   "cell_type": "code",
   "execution_count": 2,
   "metadata": {
    "collapsed": false
   },
   "outputs": [
    {
     "name": "stderr",
     "output_type": "stream",
     "text": [
      "INFO: DSC script exported to \u001b[32msettings.html\u001b[0m\n",
      "INFO: Constructing DSC from \u001b[32msettings.dsc\u001b[0m ...\n",
      "\r",
      "DSC:   0.0% [>                                                    ]  in 00:00:00\r",
      "simulate:1+estimate:1+mse:1:   0.0% [>                            ]  in 00:00:00\r",
      "simulate:1+estimate:1+mse:1: 100.0% [=====================>] 3 9.3/s in 00:00:00\r",
      "simulate:1+estimate:1+mse:1: 100% [========================] 3 9.2/s in 00:00:00\n",
      "\r",
      "simulate:1+estimate:2+mse:1:   0.0% [>                            ]  in 00:00:00\r",
      "simulate:1+estimate:2+mse:1: 100.0% [=====================>] 3 9.2/s in 00:00:00\r",
      "simulate:1+estimate:2+mse:1: 100% [========================] 3 9.2/s in 00:00:00\n",
      "\r",
      "simulate:2+estimate:1+mse:1:   0.0% [>                            ]  in 00:00:00\r",
      "simulate:2+estimate:1+mse:1: 100.0% [=====================>] 3 9.2/s in 00:00:00\r",
      "simulate:2+estimate:1+mse:1: 100% [========================] 3 9.2/s in 00:00:00\n",
      "\r",
      "DSC:  75.0% [=================================>            ] 3 2.6/s in 00:00:00\r",
      "simulate:2+estimate:2+mse:1:   0.0% [>                            ]  in 00:00:00\r",
      "simulate:2+estimate:2+mse:1: 100.0% [=====================>] 3 9.0/s in 00:00:00\r",
      "simulate:2+estimate:2+mse:1: 100% [========================] 3 9.0/s in 00:00:00\n",
      "\r",
      "DSC: 100.0% [=============================================>] 4 2.6/s in 00:00:00\r",
      "DSC: 100% [================================================] 4 2.6/s in 00:00:01\n",
      "INFO: Building output database \u001b[32mdsc_result.rds\u001b[0m ...\n",
      "INFO: DSC complete!\n",
      "INFO: Elapsed time \u001b[32m2.184\u001b[0m seconds.\n"
     ]
    }
   ],
   "source": [
    "! dsc settings.dsc -j8"
   ]
  },
  {
   "cell_type": "markdown",
   "metadata": {},
   "source": [
    "Notice the last line of output records elapsed time of 2.18 seconds, compared to 13.05 seconds in the first run. If you want to ignore existing cache you can use the `-f` flag to force DSC start afresh:\n"
   ]
  },
  {
   "cell_type": "code",
   "execution_count": 3,
   "metadata": {
    "collapsed": false
   },
   "outputs": [
    {
     "name": "stderr",
     "output_type": "stream",
     "text": [
      "INFO: DSC script exported to \u001b[32msettings.html\u001b[0m\n",
      "INFO: Constructing DSC from \u001b[32msettings.dsc\u001b[0m ...\n",
      "\r",
      "DSC:   0.0% [>                                                    ]  in 00:00:00\r",
      "simulate:1+estimate:1+mse:1:   0.0% [>                            ]  in 00:00:00\r",
      "simulate:1+estimate:1+mse:1:  66.7% [==============>       ] 2 1.0/s in 00:00:00\r",
      "simulate:1+estimate:1+mse:1: 100.0% [=====================>] 3 1.1/s in 00:00:00\r",
      "simulate:1+estimate:1+mse:1: 100% [========================] 3 1.1/s in 00:00:02\n",
      "\r",
      "DSC:  25.0% [===========>                                  ] 1 0.3/s in 00:00:08\r",
      "simulate:1+estimate:2+mse:1:   0.0% [>                            ]  in 00:00:00\r",
      "simulate:1+estimate:2+mse:1:  66.7% [==============>       ] 2 1.1/s in 00:00:00\r",
      "simulate:1+estimate:2+mse:1: 100.0% [=====================>] 3 1.1/s in 00:00:00\r",
      "simulate:1+estimate:2+mse:1: 100% [========================] 3 1.1/s in 00:00:02\n",
      "\r",
      "DSC:  50.0% [======================>                       ] 2 0.3/s in 00:00:05\r",
      "simulate:2+estimate:1+mse:1:   0.0% [>                            ]  in 00:00:00\r",
      "simulate:2+estimate:1+mse:1:  66.7% [==============>       ] 2 1.1/s in 00:00:00\r",
      "simulate:2+estimate:1+mse:1: 100.0% [=====================>] 3 1.1/s in 00:00:00\r",
      "simulate:2+estimate:1+mse:1: 100% [========================] 3 1.1/s in 00:00:02\n",
      "\r",
      "DSC:  75.0% [=================================>            ] 3 0.4/s in 00:00:02\r",
      "simulate:2+estimate:2+mse:1:   0.0% [>                            ]  in 00:00:00\r",
      "simulate:2+estimate:2+mse:1:  66.7% [==============>       ] 2 1.0/s in 00:00:00\r",
      "simulate:2+estimate:2+mse:1: 100.0% [=====================>] 3 1.1/s in 00:00:00\r",
      "simulate:2+estimate:2+mse:1: 100% [========================] 3 1.1/s in 00:00:02\n",
      "\r",
      "DSC: 100.0% [=============================================>] 4 0.3/s in 00:00:00\r",
      "DSC: 100% [================================================] 4 0.3/s in 00:00:11\n",
      "INFO: Building output database \u001b[32mdsc_result.rds\u001b[0m ...\n",
      "INFO: DSC complete!\n",
      "INFO: Elapsed time \u001b[32m12.250\u001b[0m seconds.\n"
     ]
    }
   ],
   "source": [
    "! dsc settings.dsc -j8 -f"
   ]
  },
  {
   "cell_type": "markdown",
   "metadata": {
    "collapsed": true
   },
   "source": [
    "Results of this DSC is stored in the folder `dsc_result`. It contains numerous intermediate or final data from all steps involved in the DSC procedure. Please continue on the [next tutorial](Explore_Output.html) to extract and analyze the benchmark results."
   ]
  }
 ],
 "metadata": {
  "kernelspec": {
   "display_name": "SoS",
   "language": "sos",
   "name": "sos"
  },
  "language_info": {
   "codemirror_mode": "sos",
   "file_extension": ".sos",
   "mimetype": "text/x-sos",
   "name": "sos",
   "nbconvert_exporter": "sos.jupyter.converter.SoS_Exporter",
   "pygments_lexer": "sos"
  }
 },
 "nbformat": 4,
 "nbformat_minor": 0
}
