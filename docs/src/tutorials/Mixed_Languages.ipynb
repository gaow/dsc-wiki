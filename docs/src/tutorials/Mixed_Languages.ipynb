{
 "cells": [
  {
   "cell_type": "markdown",
   "metadata": {},
   "source": [
    "# Working in Python"
   ]
  },
  {
   "cell_type": "markdown",
   "metadata": {},
   "source": [
    "## DSC implementation in Python\n",
    "DSC2 can plug and run both R and Python codes. It also supports interaction between the two languages. Here we show a re-implementation of the [Quick Start example](quick_start.html) in Python. Resource to run this example can be found [here](https://github.com/stephenslab/dsc2/tree/master/vignettes/one_sample_location_python).\n",
    "\n",
    "The DSC script is almost identical to the Quick Start example:\n",
    "```yaml\n",
    "simulate:\n",
    "    exec: rnorm.py, rt.py\n",
    "    seed: R(1:10)\n",
    "    params:\n",
    "        n: 1000\n",
    "        true_mean: 0, 1\n",
    "    return: x, true_mean\n",
    "\n",
    "estimate:\n",
    "    exec: mean.py, median.py\n",
    "    params:\n",
    "        x: $x\n",
    "    return: mean\n",
    "\n",
    "mse:\n",
    "    exec: MSE.py\n",
    "    params:\n",
    "        mean_est: $mean\n",
    "        true_mean: $true_mean\n",
    "    return: mse\n",
    "\n",
    "DSC:\n",
    "    run: simulate *\n",
    "         estimate *\n",
    "         mse\n",
    "    exec_path: PY/scenarios, PY/methods, PY/scores\n",
    "    output: dsc_result\n",
    "```\n",
    "You may notice the only difference are the executables (and search path): the are now written in Python. \n",
    "```python\n",
    "==> ../vignettes/one_sample_location_python/PY/methods/mean.py <==\n",
    "import numpy\n",
    "mean = numpy.mean(x)\n",
    "\n",
    "==> ../vignettes/one_sample_location_python/PY/methods/median.py <==\n",
    "import numpy\n",
    "mean = numpy.median(x)\n",
    "\n",
    "==> ../vignettes/one_sample_location_python/PY/scores/MSE.py <==\n",
    "mse = (mean_est-true_mean)**2\n",
    "\n",
    "==> ../vignettes/one_sample_location_python/PY/scenarios/rnorm.py <==\n",
    "# produces n random numbers from normal with specified mean\n",
    "import numpy\n",
    "x=numpy.random.normal(loc=true_mean, size=n)\n",
    "\n",
    "==> ../vignettes/one_sample_location_python/PY/scenarios/rt.py <==\n",
    "# produces n random numbers from t with df=2 and  with specified mean\n",
    "import numpy\n",
    "x=true_mean+numpy.random.standard_t(df=2,size=n)\n",
    "```\n",
    "To run the DSC,"
   ]
  },
  {
   "cell_type": "code",
   "execution_count": 1,
   "metadata": {
    "collapsed": false
   },
   "outputs": [
    {
     "name": "stderr",
     "output_type": "stream",
     "text": [
      "INFO: DSC script exported to \u001b[32msettings.html\u001b[0m\n",
      "INFO: Constructing DSC from \u001b[32msettings.dsc\u001b[0m ...\n",
      "\r",
      "DSC:   0%|          | 0/4 [00:00<?, ?it/s]\n",
      "\r",
      "simulate:1+estimate:1+mse:1:   0%|          | 0/3 [00:00<?, ?it/s]\u001b[A\n",
      "\r",
      "simulate:1+estimate:1+mse:1:  33%|███▎      | 1/3 [00:06<00:12,  6.03s/it]\u001b[A\n",
      "\r",
      "simulate:1+estimate:1+mse:1:  67%|██████▋   | 2/3 [00:11<00:05,  5.97s/it]\u001b[A\n",
      "\r",
      "simulate:1+estimate:1+mse:1: 100%|██████████| 3/3 [00:18<00:00,  6.08s/it]\u001b[A\n",
      "\u001b[A\r",
      "DSC:  25%|██▌       | 1/4 [00:18<00:54, 18.29s/it]\n",
      "\r",
      "simulate:1+estimate:2+mse:1:   0%|          | 0/3 [00:00<?, ?it/s]\u001b[A\n",
      "\r",
      "simulate:1+estimate:2+mse:1:  33%|███▎      | 1/3 [00:06<00:12,  6.23s/it]\u001b[A\n",
      "\r",
      "simulate:1+estimate:2+mse:1:  67%|██████▋   | 2/3 [00:11<00:06,  6.05s/it]\u001b[A\n",
      "\r",
      "simulate:1+estimate:2+mse:1: 100%|██████████| 3/3 [00:17<00:00,  5.95s/it]\u001b[A\n",
      "\u001b[A\r",
      "DSC:  50%|█████     | 2/4 [00:35<00:36, 18.10s/it]\n",
      "\r",
      "simulate:2+estimate:1+mse:1:   0%|          | 0/3 [00:00<?, ?it/s]\u001b[A\n",
      "\r",
      "simulate:2+estimate:1+mse:1:  33%|███▎      | 1/3 [00:05<00:11,  5.83s/it]\u001b[A\n",
      "\r",
      "simulate:2+estimate:1+mse:1:  67%|██████▋   | 2/3 [00:11<00:05,  5.80s/it]\u001b[A\n",
      "\r",
      "simulate:2+estimate:1+mse:1: 100%|██████████| 3/3 [00:16<00:00,  5.69s/it]\u001b[A\n",
      "\u001b[A\r",
      "DSC:  75%|███████▌  | 3/4 [00:53<00:17, 17.79s/it]\n",
      "\r",
      "simulate:2+estimate:2+mse:1:   0%|          | 0/3 [00:00<?, ?it/s]\u001b[A\n",
      "\r",
      "simulate:2+estimate:2+mse:1:  33%|███▎      | 1/3 [00:05<00:10,  5.43s/it]\u001b[A\n",
      "\r",
      "simulate:2+estimate:2+mse:1:  67%|██████▋   | 2/3 [00:10<00:05,  5.46s/it]\u001b[A\n",
      "\r",
      "simulate:2+estimate:2+mse:1: 100%|██████████| 3/3 [00:16<00:00,  5.45s/it]\u001b[A\n",
      "\u001b[A\r",
      "DSC: 100%|██████████| 4/4 [01:09<00:00, 17.39s/it]\n",
      "INFO: Building output database \u001b[32mdsc_result.rds\u001b[0m ...\n",
      "INFO: DSC complete!\n",
      "INFO: Elapsed time \u001b[32m70.446\u001b[0m seconds.\n"
     ]
    }
   ],
   "source": [
    "! dsc -x settings.dsc -j8"
   ]
  },
  {
   "cell_type": "markdown",
   "metadata": {},
   "source": [
    "Notice that time consumed for Python version is much longer than the Quick Start example. This is result of a compromise to R users. We anticipate the majority of DSC2 users program in R, and as a result we adopt RDS file as the standard format to cache output data. In order for Python to communicate with R, we have implemented interface for Python to read and write RDS files. The interface is less efficient than R's native RDS support, thus increasing the execution time.\n",
    "\n",
    "## Mixing Python and R codes\n",
    "The example below shows mix-match style Python and R routines in the same DSC script:\n",
    "```yaml\n",
    "simulate:\n",
    "    exec: rnorm.py, rt.R\n",
    "    seed: R(1:10)\n",
    "    params:\n",
    "        n: 1000\n",
    "        true_mean: 0, 1\n",
    "    return: x, true_mean\n",
    "\n",
    "estimate:\n",
    "    exec: mean.R, median.py\n",
    "    params:\n",
    "        x: $x\n",
    "    return: mean\n",
    "\n",
    "mse:\n",
    "    exec: MSE.py\n",
    "    params:\n",
    "        mean_est: $mean\n",
    "        true_mean: $true_mean\n",
    "    return: mse\n",
    "\n",
    "DSC:\n",
    "    run: simulate *\n",
    "         estimate *\n",
    "         mse\n",
    "    exec_path: PY/scenarios, PY/methods, PY/scores,\n",
    "               R/scenarios, R/methods\n",
    "    output: dsc_result\n",
    "```\n",
    "To execute:"
   ]
  },
  {
   "cell_type": "code",
   "execution_count": 2,
   "metadata": {
    "collapsed": false,
    "kernel": "sos"
   },
   "outputs": [
    {
     "name": "stderr",
     "output_type": "stream",
     "text": [
      "INFO: Checking R library \u001b[32mpsych\u001b[0m ...\n",
      "INFO: DSC script exported to \u001b[32msettings_mix.html\u001b[0m\n",
      "INFO: Constructing DSC from \u001b[32msettings_mix.dsc\u001b[0m ...\n",
      "\r",
      "DSC:   0%|          | 0/4 [00:00<?, ?it/s]\n",
      "\r",
      "simulate:1+estimate:1+mse:1:   0%|          | 0/3 [00:00<?, ?it/s]\u001b[A\n",
      "\r",
      "simulate:1+estimate:1+mse:1:  33%|███▎      | 1/3 [00:05<00:11,  5.75s/it]\u001b[A\n",
      "\r",
      "simulate:1+estimate:1+mse:1:  67%|██████▋   | 2/3 [00:06<00:04,  4.39s/it]\u001b[A\n",
      "\r",
      "simulate:1+estimate:1+mse:1: 100%|██████████| 3/3 [00:13<00:00,  4.97s/it]\u001b[A\n",
      "\u001b[A\r",
      "DSC:  25%|██▌       | 1/4 [00:13<00:40, 13.46s/it]\n",
      "\r",
      "simulate:1+estimate:2+mse:1:   0%|          | 0/3 [00:00<?, ?it/s]\u001b[A\n",
      "\r",
      "simulate:1+estimate:2+mse:1:  33%|███▎      | 1/3 [00:05<00:11,  5.64s/it]\u001b[A\n",
      "\r",
      "simulate:1+estimate:2+mse:1:  67%|██████▋   | 2/3 [00:11<00:05,  5.61s/it]\u001b[A\n",
      "\r",
      "simulate:1+estimate:2+mse:1: 100%|██████████| 3/3 [00:16<00:00,  5.52s/it]\u001b[A\n",
      "\u001b[A\r",
      "DSC:  50%|█████     | 2/4 [00:30<00:28, 14.42s/it]\n",
      "\r",
      "simulate:2+estimate:1+mse:1:   0%|          | 0/3 [00:00<?, ?it/s]\u001b[A\n",
      "\r",
      "simulate:2+estimate:1+mse:1:  33%|███▎      | 1/3 [00:01<00:02,  1.01s/it]\u001b[A\n",
      "\r",
      "simulate:2+estimate:1+mse:1:  67%|██████▋   | 2/3 [00:02<00:01,  1.01s/it]\u001b[A\n",
      "\r",
      "simulate:2+estimate:1+mse:1: 100%|██████████| 3/3 [00:07<00:00,  2.33s/it]\u001b[A\n",
      "\u001b[A\r",
      "DSC:  75%|███████▌  | 3/4 [00:37<00:12, 12.35s/it]\n",
      "\r",
      "simulate:2+estimate:2+mse:1:   0%|          | 0/3 [00:00<?, ?it/s]\u001b[A\n",
      "\r",
      "simulate:2+estimate:2+mse:1:  33%|███▎      | 1/3 [00:01<00:02,  1.01s/it]\u001b[A\n",
      "\r",
      "simulate:2+estimate:2+mse:1:  67%|██████▋   | 2/3 [00:06<00:02,  2.31s/it]\u001b[A\n",
      "\r",
      "simulate:2+estimate:2+mse:1: 100%|██████████| 3/3 [00:11<00:00,  3.21s/it]\u001b[A\n",
      "\u001b[A\r",
      "DSC: 100%|██████████| 4/4 [00:49<00:00, 12.17s/it]\n",
      "INFO: Building output database \u001b[32mdsc_result.rds\u001b[0m ...\n",
      "INFO: DSC complete!\n",
      "INFO: Elapsed time \u001b[32m50.566\u001b[0m seconds.\n"
     ]
    }
   ],
   "source": [
    "! dsc -x settings_mix.dsc -j8"
   ]
  }
 ],
 "metadata": {
  "kernelspec": {
   "display_name": "SoS",
   "language": "sos",
   "name": "sos"
  },
  "language_info": {
   "codemirror_mode": "sos",
   "file_extension": ".sos",
   "mimetype": "text/x-sos",
   "name": "sos",
   "nbconvert_exporter": "sos.jupyter.converter.SoS_Exporter",
   "pygments_lexer": "sos"
  },
  "sos": {
   "kernels": [
    [
     "sos",
     "SoS",
     ""
    ],
    [
     "python3",
     "Python3",
     "#EAFAF1"
    ],
    [
     "ir",
     "ir",
     ""
    ]
   ]
  }
 },
 "nbformat": 4,
 "nbformat_minor": 0
}
