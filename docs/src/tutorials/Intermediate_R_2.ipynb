{
 "cells": [
  {
   "cell_type": "markdown",
   "metadata": {},
   "source": [
    "# Same example, different style: ashr benchmark"
   ]
  },
  {
   "cell_type": "markdown",
   "metadata": {
    "output_cache": "[]"
   },
   "source": [
    "This is another implementation of the [ashr benchmark](Intermediate_R_1.html). In the previous implementation, we had to prepare a separate annotation file to tag simulation scenarios and analysis methods. This reproduces the approach in [ashr DSCR example](https://github.com/stephens999/dscr/blob/master/vignettes/dsc_shrink.rmd) (that steps are tagged separatedly) but it has obvious draw-backs under DSC2 design:\n",
    "* It requires a separate annotation file\n",
    "* It requires using overlapping tags (`--tags An && ash_n`) to extract results.\n",
    "\n",
    "In this tutorial we demonstrate another style of `ashr` benchmark execution: the configuration is not very much different, yet we use named run sequences and automatic annotation in DSC2."
   ]
  },
  {
   "cell_type": "markdown",
   "metadata": {
    "output_cache": "[]"
   },
   "source": [
    "## DSC2 Specification\n",
    "```\n",
    "simulate:\n",
    "    exec: datamaker.R\n",
    "    .alias: An, Bn, Cn\n",
    "    seed: R(1:5)\n",
    "    params:\n",
    "        min_pi0: 0\n",
    "        max_pi0: 1\n",
    "        nsamp: 1000\n",
    "        betahatsd: 1\n",
    "        exec[1]:\n",
    "          g: Asis(ashr::normalmix(c(2/3,1/3),c(0,0),c(1,2))),\n",
    "        exec[2]:\n",
    "          g: Asis(ashr::normalmix(rep(1/7,7),\n",
    "          c(-1.5,-1,-0.5,0,0.5,1,1.5),rep(0.5,7))),\n",
    "        exec[3]:\n",
    "          g: Asis(ashr::normalmix(c(1/4,1/4,1/3,1/6),\n",
    "          c(-2,-1,0,1),c(2,1.5,1,1)))\n",
    "        .alias: args = List()\n",
    "    return: data, true_beta = R(data$meta$beta), \n",
    "            true_pi0 = R(data$meta$pi0)\n",
    "\n",
    "shrink:\n",
    "    exec: runash.R\n",
    "    .alias: ash_n, ash_hu\n",
    "    params:\n",
    "        input: $data\n",
    "        exec[1]:\n",
    "          mixcompdist: normal\n",
    "        exec[2]:\n",
    "          mixcompdist: halfuniform\n",
    "    return: ash_data, beta_est = R(ashr::get_pm(ash_data)),\n",
    "            pi0_est = R(ashr::get_pi0(ash_data))\n",
    "\n",
    "beta_score:\n",
    "    exec: score.R\n",
    "    .alias: score_beta\n",
    "    params:\n",
    "        beta_true: $true_beta\n",
    "        beta_est: $beta_est\n",
    "        .alias: est = beta_est, truth = beta_true\n",
    "    return: result\n",
    "\n",
    "pi0_score(beta_score):\n",
    "    .alias: score_pi0\n",
    "    params:\n",
    "        pi0_est: $pi0_est\n",
    "        pi0: $true_pi0\n",
    "        .alias: est = pi0_est, truth = pi0\n",
    "\n",
    "DSC:\n",
    "    run:\n",
    "      An_ash_n: simulate[1] * shrink[1] * (beta_score, pi0_score)\n",
    "      An_ash_hu: simulate[1] * shrink[2] * (beta_score, pi0_score)\n",
    "      Bn_ash_n: simulate[2] * shrink[1] * (beta_score, pi0_score)\n",
    "      Bn_ash_hu: simulate[2] * shrink[2] * (beta_score, pi0_score)\n",
    "      Cn_ash_n: simulate[3] * shrink[1] * (beta_score, pi0_score)\n",
    "      Cn_ash_hu: simulate[3] * shrink[2] * (beta_score, pi0_score)\n",
    "    R_libs: stephens999/ashr (2.0.0+)\n",
    "    exec_path: bin\n",
    "    output: dsc_result_auto\n",
    "```"
   ]
  },
  {
   "cell_type": "markdown",
   "metadata": {
    "output_cache": "[]"
   },
   "source": [
    "Compared to the previous example, notice that \n",
    "1. Computational routine `datamaker.R` in `simulate` block is splitted into 3 routines, via `.alias` that renames them to distinguish from each other, and each takes a different `g` value. This essentially makes it 3 different methods.\n",
    "2. Similiarly in `shrink` there are two methods now.\n",
    "3. In `DSC::run`, instead of one sequence there are now multiple sub-sequences each with a name. Combined they are equivalent to the one sequence setup `simulate * shrink * (beta_score, pi0_score)`."
   ]
  },
  {
   "cell_type": "markdown",
   "metadata": {},
   "source": [
    "## DSC annotation\n",
    "The DSC annotation is now very simple:\n",
    "```\n",
    "DSC:\n",
    "  configuration: settings_autotag.dsc\n",
    "```\n",
    "It only has one required section `DSC` where it specifies the configuration file name. When there is no other tags in an annotation file, DSC will attempt to automatically annotate the DSC based on how the benchmark is executed, ie, the `DSC::run` logic."
   ]
  },
  {
   "cell_type": "markdown",
   "metadata": {
    "output_cache": "[]"
   },
   "source": [
    "## Reproducing [previous](Intermediate_R_1.html) results using simpler commands"
   ]
  },
  {
   "cell_type": "code",
   "execution_count": 1,
   "metadata": {
    "collapsed": false,
    "kernel": "sos",
    "output_cache": "[{\"name\":\"stderr\",\"output_type\":\"stream\",\"text\":\"INFO: Checking R library \\u001b[32mstephens999/ashr\\u001b[0m ...\\nINFO: DSC script exported to \\u001b[32mdsc_result_auto.html\\u001b[0m\\nINFO: Constructing DSC from \\u001b[32msettings_autotag.dsc\\u001b[0m ...\\nINFO: Building execution graph ...\\n\\rDSC:   0%|          | 0/22 [00:00<?, ?it/s]\\rDSC:   5%|▍         | 1/22 [00:14<05:13, 14.92s/it]\\rDSC:   9%|▉         | 2/22 [00:15<03:29, 10.47s/it]\\rRunning shrink: \\rRunning shrink: \\rRunning shrink: \\rRunning shrink: \\rRunning shrink: \\rRunning shrink: \\rRunning core_shrink_2 (ash_hu): \\rRunning core_shrink_1 (ash_n): \\rRunning core_shrink_2 (ash_hu): \\rRunning core_shrink_1 (ash_n): \\rRunning core_shrink_1 (ash_n): \\rRunning core_shrink_2 (ash_hu): \\rRunning shrink (00:02:00): \\rRunning shrink (00:02:00): \\rRunning shrink (00:02:00): \\rRunning shrink (00:02:00): \\rRunning shrink (00:02:00): \\rRunning shrink (00:02:00): \\rRunning core_shrink_2 (ash_hu) (00:02:00): \\rRunning core_shrink_1 (ash_n) (00:02:00): \\rRunning core_shrink_2 (ash_hu) (00:02:00): \\rRunning core_shrink_1 (ash_n) (00:02:00): \\rRunning core_shrink_1 (ash_n) (00:02:00): \\rRunning core_shrink_2 (ash_hu) (00:02:00): \\n\\n\\rDSC:  18%|█▊        | 4/22 [02:40<08:45, 29.18s/it]\\n\\n\\rDSC:  23%|██▎       | 5/22 [02:43<05:59, 21.18s/it]\\n\\n\\rDSC:  27%|██▋       | 6/22 [02:44<04:04, 15.29s/it]\\rRunning shrink (00:03:00): \\rRunning shrink (00:03:00): \\rRunning shrink (00:03:00): \\rRunning core_shrink_2 (ash_hu) (00:03:00): \\rRunning core_shrink_2 (ash_hu) (00:03:00): \\rRunning core_shrink_2 (ash_hu) (00:03:00): \\rDSC:  32%|███▏      | 7/22 [03:25<05:42, 22.85s/it]\\rDSC:  36%|███▋      | 8/22 [03:25<03:44, 16.03s/it]\\rDSC:  41%|████      | 9/22 [03:27<02:33, 11.83s/it]\\rDSC:  50%|█████     | 11/22 [03:28<01:33,  8.47s/it]\\rDSC:  55%|█████▍    | 12/22 [03:46<01:53, 11.35s/it]\\n\\n\\rDSC:  59%|█████▉    | 13/22 [03:48<01:17,  8.61s/it]\\n\\n\\rDSC:  64%|██████▎   | 14/22 [03:50<00:51,  6.46s/it]\\n\\n\\rDSC:  68%|██████▊   | 15/22 [03:50<00:32,  4.59s/it]\\rDSC:  73%|███████▎  | 16/22 [04:18<01:09, 11.66s/it]\\rDSC:  77%|███████▋  | 17/22 [04:18<00:41,  8.22s/it]\\rDSC:  82%|████████▏ | 18/22 [04:19<00:23,  5.97s/it]\\rDSC: 100%|██████████| 22/22 [04:19<00:00,  4.19s/it]\\nINFO: Writing output metadata ...\\nINFO: DSC complete!\\nINFO: Annotation summary for sequence ending with \\u001b[32mbeta_score\\u001b[0m\\n+-----------------+-------------------------------------------------------+\\n|  Tag            |  No. unique obj.                                      |\\n+-----------------+-------------------------------------------------------+\\n|  \\u001b[32mAn_ash_n\\u001b[0m   |  \\u001b[32m50\\u001b[0m beta_score & \\u001b[32m50\\u001b[0m shrink & \\u001b[32m50\\u001b[0m simulate  |\\n|  \\u001b[32mAn_ash_hu\\u001b[0m  |  \\u001b[32m50\\u001b[0m beta_score & \\u001b[32m50\\u001b[0m shrink & \\u001b[32m50\\u001b[0m simulate  |\\n|  \\u001b[32mBn_ash_n\\u001b[0m   |  \\u001b[32m50\\u001b[0m beta_score & \\u001b[32m50\\u001b[0m shrink & \\u001b[32m50\\u001b[0m simulate  |\\n|  \\u001b[32mBn_ash_hu\\u001b[0m  |  \\u001b[32m50\\u001b[0m beta_score & \\u001b[32m50\\u001b[0m shrink & \\u001b[32m50\\u001b[0m simulate  |\\n|  \\u001b[32mCn_ash_n\\u001b[0m   |  \\u001b[32m50\\u001b[0m beta_score & \\u001b[32m50\\u001b[0m shrink & \\u001b[32m50\\u001b[0m simulate  |\\n|  \\u001b[32mCn_ash_hu\\u001b[0m  |  \\u001b[32m50\\u001b[0m beta_score & \\u001b[32m50\\u001b[0m shrink & \\u001b[32m50\\u001b[0m simulate  |\\n+-----------------+-------------------------------------------------------+\\nINFO: Annotation summary for sequence ending with \\u001b[32mpi0_score\\u001b[0m\\n+-----------------+------------------------------------------------------+\\n|  Tag            |  No. unique obj.                                     |\\n+-----------------+------------------------------------------------------+\\n|  \\u001b[32mAn_ash_n\\u001b[0m   |  \\u001b[32m50\\u001b[0m pi0_score & \\u001b[32m50\\u001b[0m shrink & \\u001b[32m50\\u001b[0m simulate  |\\n|  \\u001b[32mAn_ash_hu\\u001b[0m  |  \\u001b[32m50\\u001b[0m pi0_score & \\u001b[32m50\\u001b[0m shrink & \\u001b[32m50\\u001b[0m simulate  |\\n|  \\u001b[32mBn_ash_n\\u001b[0m   |  \\u001b[32m50\\u001b[0m pi0_score & \\u001b[32m50\\u001b[0m shrink & \\u001b[32m50\\u001b[0m simulate  |\\n|  \\u001b[32mBn_ash_hu\\u001b[0m  |  \\u001b[32m50\\u001b[0m pi0_score & \\u001b[32m50\\u001b[0m shrink & \\u001b[32m50\\u001b[0m simulate  |\\n|  \\u001b[32mCn_ash_n\\u001b[0m   |  \\u001b[32m50\\u001b[0m pi0_score & \\u001b[32m50\\u001b[0m shrink & \\u001b[32m50\\u001b[0m simulate  |\\n|  \\u001b[32mCn_ash_hu\\u001b[0m  |  \\u001b[32m50\\u001b[0m pi0_score & \\u001b[32m50\\u001b[0m shrink & \\u001b[32m50\\u001b[0m simulate  |\\n+-----------------+------------------------------------------------------+\\nINFO: Elapsed time \\u001b[32m262.334\\u001b[0m seconds.\\n\"}]"
   },
   "outputs": [
    {
     "name": "stderr",
     "output_type": "stream",
     "text": [
      "INFO: Checking R library \u001b[32mstephens999/ashr\u001b[0m ...\n",
      "INFO: DSC script exported to \u001b[32mdsc_result_auto.html\u001b[0m\n",
      "INFO: Constructing DSC from \u001b[32msettings_autotag.dsc\u001b[0m ...\n",
      "INFO: Building execution graph ...\n",
      "\r",
      "DSC:   0%|          | 0/22 [00:00<?, ?it/s]\r",
      "DSC:   5%|▍         | 1/22 [00:14<05:13, 14.92s/it]\r",
      "DSC:   9%|▉         | 2/22 [00:15<03:29, 10.47s/it]\r",
      "Running shrink: \r",
      "Running shrink: \r",
      "Running shrink: \r",
      "Running shrink: \r",
      "Running shrink: \r",
      "Running shrink: \r",
      "Running core_shrink_2 (ash_hu): \r",
      "Running core_shrink_1 (ash_n): \r",
      "Running core_shrink_2 (ash_hu): \r",
      "Running core_shrink_1 (ash_n): \r",
      "Running core_shrink_1 (ash_n): \r",
      "Running core_shrink_2 (ash_hu): \r",
      "Running shrink (00:02:00): \r",
      "Running shrink (00:02:00): \r",
      "Running shrink (00:02:00): \r",
      "Running shrink (00:02:00): \r",
      "Running shrink (00:02:00): \r",
      "Running shrink (00:02:00): \r",
      "Running core_shrink_2 (ash_hu) (00:02:00): \r",
      "Running core_shrink_1 (ash_n) (00:02:00): \r",
      "Running core_shrink_2 (ash_hu) (00:02:00): \r",
      "Running core_shrink_1 (ash_n) (00:02:00): \r",
      "Running core_shrink_1 (ash_n) (00:02:00): \r",
      "Running core_shrink_2 (ash_hu) (00:02:00): \n",
      "\n",
      "\r",
      "DSC:  18%|█▊        | 4/22 [02:40<08:45, 29.18s/it]\n",
      "\n",
      "\r",
      "DSC:  23%|██▎       | 5/22 [02:43<05:59, 21.18s/it]\n",
      "\n",
      "\r",
      "DSC:  27%|██▋       | 6/22 [02:44<04:04, 15.29s/it]\r",
      "Running shrink (00:03:00): \r",
      "Running shrink (00:03:00): \r",
      "Running shrink (00:03:00): \r",
      "Running core_shrink_2 (ash_hu) (00:03:00): \r",
      "Running core_shrink_2 (ash_hu) (00:03:00): \r",
      "Running core_shrink_2 (ash_hu) (00:03:00): \r",
      "DSC:  32%|███▏      | 7/22 [03:25<05:42, 22.85s/it]\r",
      "DSC:  36%|███▋      | 8/22 [03:25<03:44, 16.03s/it]\r",
      "DSC:  41%|████      | 9/22 [03:27<02:33, 11.83s/it]\r",
      "DSC:  50%|█████     | 11/22 [03:28<01:33,  8.47s/it]\r",
      "DSC:  55%|█████▍    | 12/22 [03:46<01:53, 11.35s/it]\n",
      "\n",
      "\r",
      "DSC:  59%|█████▉    | 13/22 [03:48<01:17,  8.61s/it]\n",
      "\n",
      "\r",
      "DSC:  64%|██████▎   | 14/22 [03:50<00:51,  6.46s/it]\n",
      "\n",
      "\r",
      "DSC:  68%|██████▊   | 15/22 [03:50<00:32,  4.59s/it]\r",
      "DSC:  73%|███████▎  | 16/22 [04:18<01:09, 11.66s/it]\r",
      "DSC:  77%|███████▋  | 17/22 [04:18<00:41,  8.22s/it]\r",
      "DSC:  82%|████████▏ | 18/22 [04:19<00:23,  5.97s/it]\r",
      "DSC: 100%|██████████| 22/22 [04:19<00:00,  4.19s/it]\n",
      "INFO: Writing output metadata ...\n",
      "INFO: DSC complete!\n",
      "INFO: Annotation summary for sequence ending with \u001b[32mbeta_score\u001b[0m\n",
      "+-----------------+-------------------------------------------------------+\n",
      "|  Tag            |  No. unique obj.                                      |\n",
      "+-----------------+-------------------------------------------------------+\n",
      "|  \u001b[32mAn_ash_n\u001b[0m   |  \u001b[32m50\u001b[0m beta_score & \u001b[32m50\u001b[0m shrink & \u001b[32m50\u001b[0m simulate  |\n",
      "|  \u001b[32mAn_ash_hu\u001b[0m  |  \u001b[32m50\u001b[0m beta_score & \u001b[32m50\u001b[0m shrink & \u001b[32m50\u001b[0m simulate  |\n",
      "|  \u001b[32mBn_ash_n\u001b[0m   |  \u001b[32m50\u001b[0m beta_score & \u001b[32m50\u001b[0m shrink & \u001b[32m50\u001b[0m simulate  |\n",
      "|  \u001b[32mBn_ash_hu\u001b[0m  |  \u001b[32m50\u001b[0m beta_score & \u001b[32m50\u001b[0m shrink & \u001b[32m50\u001b[0m simulate  |\n",
      "|  \u001b[32mCn_ash_n\u001b[0m   |  \u001b[32m50\u001b[0m beta_score & \u001b[32m50\u001b[0m shrink & \u001b[32m50\u001b[0m simulate  |\n",
      "|  \u001b[32mCn_ash_hu\u001b[0m  |  \u001b[32m50\u001b[0m beta_score & \u001b[32m50\u001b[0m shrink & \u001b[32m50\u001b[0m simulate  |\n",
      "+-----------------+-------------------------------------------------------+\n",
      "INFO: Annotation summary for sequence ending with \u001b[32mpi0_score\u001b[0m\n",
      "+-----------------+------------------------------------------------------+\n",
      "|  Tag            |  No. unique obj.                                     |\n",
      "+-----------------+------------------------------------------------------+\n",
      "|  \u001b[32mAn_ash_n\u001b[0m   |  \u001b[32m50\u001b[0m pi0_score & \u001b[32m50\u001b[0m shrink & \u001b[32m50\u001b[0m simulate  |\n",
      "|  \u001b[32mAn_ash_hu\u001b[0m  |  \u001b[32m50\u001b[0m pi0_score & \u001b[32m50\u001b[0m shrink & \u001b[32m50\u001b[0m simulate  |\n",
      "|  \u001b[32mBn_ash_n\u001b[0m   |  \u001b[32m50\u001b[0m pi0_score & \u001b[32m50\u001b[0m shrink & \u001b[32m50\u001b[0m simulate  |\n",
      "|  \u001b[32mBn_ash_hu\u001b[0m  |  \u001b[32m50\u001b[0m pi0_score & \u001b[32m50\u001b[0m shrink & \u001b[32m50\u001b[0m simulate  |\n",
      "|  \u001b[32mCn_ash_n\u001b[0m   |  \u001b[32m50\u001b[0m pi0_score & \u001b[32m50\u001b[0m shrink & \u001b[32m50\u001b[0m simulate  |\n",
      "|  \u001b[32mCn_ash_hu\u001b[0m  |  \u001b[32m50\u001b[0m pi0_score & \u001b[32m50\u001b[0m shrink & \u001b[32m50\u001b[0m simulate  |\n",
      "+-----------------+------------------------------------------------------+\n",
      "INFO: Elapsed time \u001b[32m262.334\u001b[0m seconds.\n"
     ]
    }
   ],
   "source": [
    "! dsc -x settings_autotag.dsc -j 8 --seeds \"R(1:50)\" -a settings_autotag.ann"
   ]
  },
  {
   "cell_type": "markdown",
   "metadata": {
    "output_cache": "[]"
   },
   "source": [
    "Here we execute and annotate the benchmark using one command. From the annotation summary table we see that tags created corresponds to the DSC sequences specified in `DSC::run` of DSC configuration file. Each sequence is annotated with 50 results in each block, corresponding to our seed setting `--seeds \"R(1:50)\"`."
   ]
  },
  {
   "cell_type": "markdown",
   "metadata": {
    "output_cache": "[]"
   },
   "source": [
    "## Reproducing results exploration"
   ]
  },
  {
   "cell_type": "code",
   "execution_count": 2,
   "metadata": {
    "collapsed": false,
    "kernel": "sos",
    "output_cache": "[]"
   },
   "outputs": [
    {
     "name": "stderr",
     "output_type": "stream",
     "text": [
      "Extracting: 100%|██████████| 3/3 [00:00<00:00,  5.62it/s]\n",
      "INFO: Data extracted to \u001b[32mashr_pi0_2.rds\u001b[0m for DSC result \u001b[32mpi0_score\u001b[0m via annotations: \n",
      "\t\u001b[32mcase1 = An_ash_n\n",
      "\tcase2 = An_ash_hu\u001b[0m\n",
      "INFO: Elapsed time \u001b[32m0.948\u001b[0m seconds.\n",
      "Extracting: 100%|██████████| 5/5 [00:00<00:00, 12.16it/s]\n",
      "INFO: Data extracted to \u001b[32mashr_beta_2.rds\u001b[0m for DSC result \u001b[32mbeta_score\u001b[0m via annotations: \n",
      "\t\u001b[32mcase1 = An_ash_n\n",
      "\tcase2 = An_ash_hu\u001b[0m\n",
      "INFO: Elapsed time \u001b[32m1.292\u001b[0m seconds.\n"
     ]
    }
   ],
   "source": [
    "! dsc -e pi0_score:result --target pi0_score -o ashr_pi0_2.rds \\\n",
    "    --tags \"case1 = An_ash_n\" \"case2 = An_ash_hu\" -b dsc_result_auto\n",
    "! dsc -e beta_score:result shrink:beta_est --target beta_score -o ashr_beta_2.rds \\\n",
    "    --tags \"case1 = An_ash_n\" \"case2 = An_ash_hu\" -b dsc_result_auto"
   ]
  },
  {
   "cell_type": "markdown",
   "metadata": {
    "output_cache": "[]"
   },
   "source": [
    "and the plots:"
   ]
  },
  {
   "cell_type": "code",
   "execution_count": 4,
   "metadata": {
    "collapsed": true,
    "kernel": "ir",
    "output_cache": "[]"
   },
   "outputs": [],
   "source": [
    "%use ir\n",
    "options(warn=-1)\n",
    "dat = readRDS('ashr_pi0_2.rds')\n",
    "case1 = unlist(dat$case1_pi0_score_result)\n",
    "case2 = unlist(dat$case2_pi0_score_result)\n",
    "suppressMessages(library(plotly))\n",
    "p = plot_ly(y = case1, name = 'case 1', type = \"box\") %>%\n",
    "  add_trace(y = case2, name = 'case 2', type = \"box\")  %>% \n",
    "  layout(title = \"MSE for pi_0 estimate\")\n",
    "htmlwidgets::saveWidget(as.widget(p), \"pi0_score_2.html\")\n",
    "#\n",
    "dat = readRDS('ashr_beta_2.rds')\n",
    "case1 = unlist(dat$case1_beta_score_result)\n",
    "case2 = unlist(dat$case2_beta_score_result)\n",
    "case1_beta = rowMeans(data.frame(dat$case1_shrink_beta_est))\n",
    "case2_beta = rowMeans(data.frame(dat$case2_shrink_beta_est))\n",
    "#\n",
    "p = plot_ly(y = case1, name = 'case 1', type = \"box\") %>%\n",
    "  add_trace(y = case2, name = 'case 2', type = \"box\")  %>% \n",
    "  layout(title = \"MSE for beta estimate\")\n",
    "htmlwidgets::saveWidget(as.widget(p), \"beta_score_2.html\")\n",
    "#\n",
    "p = plot_ly(x = case1_beta, name = 'case 1', opacity = 0.9, type = \"histogram\") %>%\n",
    "  add_trace(x = case2_beta, name = 'case 2', opacity = 0.9, type = \"histogram\") %>%\n",
    "  layout(title = \"Posterior mean distribution\")\n",
    "htmlwidgets::saveWidget(as.widget(p), \"beta_2.html\")\n",
    "#\n",
    "case1 = unlist(dat$DSC_TIMER$case1_shrink_beta_est)\n",
    "case2 = unlist(dat$DSC_TIMER$case2_shrink_beta_est)\n",
    "#\n",
    "p = plot_ly(y = case1, name = 'case 1', type = \"box\") %>%\n",
    "  add_trace(y = case2, name = 'case 2', type = \"box\")  %>% \n",
    "  layout(title = \"Time elapsed for posterior mean estimation\")\n",
    "htmlwidgets::saveWidget(as.widget(p), \"beta_time_2.html\")"
   ]
  },
  {
   "cell_type": "markdown",
   "metadata": {
    "output_cache": "[]"
   },
   "source": [
    "The results are:\n",
    "* [MSE for $\\pi_0$ estimate](pi0_score_2.html)\n",
    "* [MSE for $\\beta$ estimate](beta_score_2.html)\n",
    "* [Posterior mean distribution](beta_2.html)\n",
    "* [Time elapsed for posterior mean estimation](beta_time_2.html)"
   ]
  }
 ],
 "metadata": {
  "kernelspec": {
   "display_name": "SoS",
   "language": "sos",
   "name": "sos"
  },
  "language_info": {
   "codemirror_mode": "sos",
   "file_extension": ".sos",
   "mimetype": "text/x-sos",
   "name": "sos",
   "nbconvert_exporter": "sos.jupyter.converter.SoS_Exporter",
   "pygments_lexer": "sos"
  },
  "sos": {
   "celltoolbar": true,
   "kernels": [
    [
     "sos",
     "SoS",
     ""
    ],
    [
     "python3",
     "Python3",
     "#EAFAF1"
    ],
    [
     "ir",
     "ir",
     ""
    ]
   ],
   "panel": {
    "displayed": true,
    "height": 0,
    "style": "side"
   }
  }
 },
 "nbformat": 4,
 "nbformat_minor": 2
}
