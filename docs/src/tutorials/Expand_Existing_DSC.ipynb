{
 "cells": [
  {
   "cell_type": "markdown",
   "metadata": {},
   "source": [
    "# Update existing DSC"
   ]
  },
  {
   "cell_type": "markdown",
   "metadata": {},
   "source": [
    "The [Quick Start](quick_start.html) example contains 3 DSC blocks, `simulate`, `estimate` and `mse`. Suppose we now have a new computational routine for location estimate via the *Winsorized* mean. The routine is implemented as `winsor.R`:\n",
    "\n",
    "```r\n",
    "  mean = psych::winsor.mean(x, trim = trim, na.rm = TRUE)\n",
    "```\n",
    "\n",
    "There are two ways to incorporate this new computational routine into DSC: either by adding it to the existing `estimate` block, or by adding a new block. For `winsor.R` there is an additional parameter `trim` which does not exist in `estimate`. We will show here two flavors to update, both involving minimal changes to the DSC file and result in the same outcome. In practice one should always try to adopt a flavor that is most logically clear and succinct.\n",
    "\n",
    "## Add Steps to Existing Block\n",
    "We change the `estimate` block to the following:\n",
    "\n",
    "```yaml\n",
    "  estimate:\n",
    "      exec: mean.R, median.R, winsor.R\n",
    "      params:\n",
    "          x: $x\n",
    "          exec[3]:\n",
    "              trim: 0.1, 0.2\n",
    "      return: mean\n",
    "\n",
    "```\n",
    "\n",
    "where we appended the new executable `winsor.R` to the `exec` entry, along with an executable specific parameter specification in the `params` section to assign two possible values to `trim` which essentially provides two versions of Winsorization for comparison.\n",
    "\n",
    "To run the new DSC,"
   ]
  },
  {
   "cell_type": "code",
   "execution_count": 1,
   "metadata": {
    "collapsed": false
   },
   "outputs": [
    {
     "name": "stderr",
     "output_type": "stream",
     "text": [
      "INFO: Checking R library \u001b[32mpsych\u001b[0m ...\n",
      "INFO: DSC script exported to \u001b[32msettings_add_method_v1.html\u001b[0m\n",
      "INFO: Constructing DSC from \u001b[32msettings_add_method_v1.dsc\u001b[0m ...\n",
      "\r",
      "DSC:   0%|          | 0/6 [00:00<?, ?it/s]\n",
      "\r",
      "simulate:1+estimate:1+mse:1:   0%|          | 0/3 [00:00<?, ?it/s]\u001b[A\n",
      "\r",
      "simulate:1+estimate:1+mse:1:  33%|███▎      | 1/3 [00:01<00:02,  1.01s/it]\u001b[A\n",
      "\r",
      "simulate:1+estimate:1+mse:1:  67%|██████▋   | 2/3 [00:02<00:01,  1.01s/it]\u001b[A\n",
      "\r",
      "simulate:1+estimate:1+mse:1: 100%|██████████| 3/3 [00:03<00:00,  1.01s/it]\u001b[A\n",
      "\u001b[A\r",
      "DSC:  17%|█▋        | 1/6 [00:03<00:16,  3.22s/it]\n",
      "\r",
      "simulate:1+estimate:2+mse:1:   0%|          | 0/3 [00:00<?, ?it/s]\u001b[A\n",
      "\r",
      "simulate:1+estimate:2+mse:1:  33%|███▎      | 1/3 [00:01<00:02,  1.01s/it]\u001b[A\n",
      "\r",
      "simulate:1+estimate:2+mse:1:  67%|██████▋   | 2/3 [00:02<00:01,  1.01s/it]\u001b[A\n",
      "\r",
      "simulate:1+estimate:2+mse:1: 100%|██████████| 3/3 [00:03<00:00,  1.01s/it]\u001b[A\n",
      "\u001b[A\r",
      "DSC:  33%|███▎      | 2/6 [00:06<00:12,  3.22s/it]\n",
      "\r",
      "simulate:1+estimate:3+mse:1:   0%|          | 0/3 [00:00<?, ?it/s]\u001b[A\n",
      "\r",
      "simulate:1+estimate:3+mse:1:  33%|███▎      | 1/3 [00:01<00:02,  1.01s/it]\u001b[A\n",
      "\r",
      "simulate:1+estimate:3+mse:1:  67%|██████▋   | 2/3 [00:03<00:01,  1.34s/it]\u001b[A\n",
      "\r",
      "simulate:1+estimate:3+mse:1: 100%|██████████| 3/3 [00:05<00:00,  1.57s/it]\u001b[A\n",
      "\u001b[A\r",
      "DSC:  50%|█████     | 3/6 [00:11<00:11,  3.88s/it]\n",
      "\r",
      "simulate:2+estimate:1+mse:1:   0%|          | 0/3 [00:00<?, ?it/s]\u001b[A\n",
      "\r",
      "simulate:2+estimate:1+mse:1:  33%|███▎      | 1/3 [00:01<00:02,  1.11s/it]\u001b[A\n",
      "\r",
      "simulate:2+estimate:1+mse:1:  67%|██████▋   | 2/3 [00:02<00:01,  1.08s/it]\u001b[A\n",
      "\r",
      "simulate:2+estimate:1+mse:1: 100%|██████████| 3/3 [00:03<00:00,  1.06s/it]\u001b[A\n",
      "\u001b[A\r",
      "DSC:  67%|██████▋   | 4/6 [00:15<00:07,  3.71s/it]\n",
      "\r",
      "simulate:2+estimate:2+mse:1:   0%|          | 0/3 [00:00<?, ?it/s]\u001b[A\n",
      "\r",
      "simulate:2+estimate:2+mse:1:  33%|███▎      | 1/3 [00:01<00:02,  1.11s/it]\u001b[A\n",
      "\r",
      "simulate:2+estimate:2+mse:1:  67%|██████▋   | 2/3 [00:02<00:01,  1.11s/it]\u001b[A\n",
      "\r",
      "simulate:2+estimate:2+mse:1: 100%|██████████| 3/3 [00:03<00:00,  1.11s/it]\u001b[A\n",
      "\u001b[A\r",
      "DSC:  83%|████████▎ | 5/6 [00:18<00:03,  3.65s/it]\n",
      "\r",
      "simulate:2+estimate:3+mse:1:   0%|          | 0/3 [00:00<?, ?it/s]\u001b[A\n",
      "\r",
      "simulate:2+estimate:3+mse:1:  33%|███▎      | 1/3 [00:01<00:02,  1.11s/it]\u001b[A\n",
      "\r",
      "simulate:2+estimate:3+mse:1:  67%|██████▋   | 2/3 [00:03<00:01,  1.38s/it]\u001b[A\n",
      "\r",
      "simulate:2+estimate:3+mse:1: 100%|██████████| 3/3 [00:05<00:00,  1.57s/it]\u001b[A\n",
      "\u001b[A\r",
      "DSC: 100%|██████████| 6/6 [00:24<00:00,  4.16s/it]\n",
      "INFO: Building output database \u001b[32mdsc_result.rds\u001b[0m ...\n",
      "INFO: DSC complete!\n",
      "INFO: Elapsed time \u001b[32m25.387\u001b[0m seconds.\n"
     ]
    }
   ],
   "source": [
    "! dsc -x settings_add_method_v1.dsc -j8"
   ]
  },
  {
   "cell_type": "markdown",
   "metadata": {},
   "source": [
    "Notice that compared to using `-f` flag the computation time above is shorter. This is because after running the Quick Start tutorial DSC2 has cached steps in that DSC script along with their outcome; thus here only newly added steps are executed. \n",
    "\n",
    "## Add a New Block\n",
    "Here we show an alternative flavor to update the existing DSC file: we keep the `estimate` block as is but add a new block `estimate_winsor`, and modify the **run** sequence in the DSC section to include this new block:\n",
    "\n",
    "```yaml\n",
    "  estimate:\n",
    "      exec: mean.R, median.R\n",
    "      params:\n",
    "          x: $x\n",
    "      return: mean\n",
    "\n",
    "  estimate_winsor:\n",
    "      exec: winsor.R\n",
    "      params:\n",
    "          x: $x\n",
    "          trim: 0.1, 0.2\n",
    "      return: mean\n",
    "\n",
    "  ...\n",
    "  DSC:\n",
    "      run: simulate *\n",
    "           (estimate, estimate_winsor) *\n",
    "           mse\n",
    "\n",
    "  ...\n",
    "```\n",
    "\n",
    "In the **run** sequence, the previous `estimate` and the new `estimate_winsor` blocks will be executed in parallel to each other, both taking input from `simulate` block and generating output for `mse` block.\n",
    "\n",
    "To run this version,"
   ]
  },
  {
   "cell_type": "code",
   "execution_count": 2,
   "metadata": {
    "collapsed": false,
    "kernel": "sos"
   },
   "outputs": [
    {
     "name": "stderr",
     "output_type": "stream",
     "text": [
      "INFO: DSC script exported to \u001b[32msettings_add_method_v2.html\u001b[0m\n",
      "INFO: Constructing DSC from \u001b[32msettings_add_method_v2.dsc\u001b[0m ...\n",
      "\r",
      "DSC:   0%|          | 0/6 [00:00<?, ?it/s]\n",
      "\r",
      "simulate:1+estimate:1+mse:1:   0%|          | 0/3 [00:00<?, ?it/s]\u001b[A\n",
      "\r",
      "simulate:1+estimate:1+mse:1:  33%|███▎      | 1/3 [00:01<00:02,  1.01s/it]\u001b[A\n",
      "\r",
      "simulate:1+estimate:1+mse:1:  67%|██████▋   | 2/3 [00:02<00:01,  1.04s/it]\u001b[A\n",
      "\r",
      "simulate:1+estimate:1+mse:1: 100%|██████████| 3/3 [00:03<00:00,  1.03s/it]\u001b[A\n",
      "\u001b[A\r",
      "DSC:  17%|█▋        | 1/6 [00:03<00:16,  3.33s/it]\n",
      "\r",
      "simulate:1+estimate:2+mse:1:   0%|          | 0/3 [00:00<?, ?it/s]\u001b[A\n",
      "\r",
      "simulate:1+estimate:2+mse:1:  33%|███▎      | 1/3 [00:01<00:02,  1.01s/it]\u001b[A\n",
      "\r",
      "simulate:1+estimate:2+mse:1:  67%|██████▋   | 2/3 [00:02<00:01,  1.01s/it]\u001b[A\n",
      "\r",
      "simulate:1+estimate:2+mse:1: 100%|██████████| 3/3 [00:03<00:00,  1.01s/it]\u001b[A\n",
      "\u001b[A\r",
      "DSC:  33%|███▎      | 2/6 [00:06<00:13,  3.29s/it]\n",
      "\r",
      "simulate:2+estimate:1+mse:1:   0%|          | 0/3 [00:00<?, ?it/s]\u001b[A\n",
      "\r",
      "simulate:2+estimate:1+mse:1:  33%|███▎      | 1/3 [00:01<00:02,  1.11s/it]\u001b[A\n",
      "\r",
      "simulate:2+estimate:1+mse:1:  67%|██████▋   | 2/3 [00:02<00:01,  1.08s/it]\u001b[A\n",
      "\r",
      "simulate:2+estimate:1+mse:1: 100%|██████████| 3/3 [00:03<00:00,  1.09s/it]\u001b[A\n",
      "\u001b[A\r",
      "DSC:  50%|█████     | 3/6 [00:09<00:09,  3.33s/it]\n",
      "\r",
      "simulate:2+estimate:2+mse:1:   0%|          | 0/3 [00:00<?, ?it/s]\u001b[A\n",
      "\r",
      "simulate:2+estimate:2+mse:1:  33%|███▎      | 1/3 [00:01<00:02,  1.01s/it]\u001b[A\n",
      "\r",
      "simulate:2+estimate:2+mse:1:  67%|██████▋   | 2/3 [00:02<00:01,  1.01s/it]\u001b[A\n",
      "\r",
      "simulate:2+estimate:2+mse:1: 100%|██████████| 3/3 [00:03<00:00,  1.01s/it]\u001b[A\n",
      "\u001b[A\r",
      "DSC:  67%|██████▋   | 4/6 [00:13<00:06,  3.30s/it]\n",
      "\r",
      "simulate:1+estimate_winsor:1+mse_1:1:   0%|          | 0/3 [00:00<?, ?it/s]\u001b[A\n",
      "\r",
      "simulate:1+estimate_winsor:1+mse_1:1:  33%|███▎      | 1/3 [00:01<00:02,  1.01s/it]\u001b[A\n",
      "\r",
      "simulate:1+estimate_winsor:1+mse_1:1:  67%|██████▋   | 2/3 [00:03<00:01,  1.40s/it]\u001b[A\n",
      "\r",
      "simulate:1+estimate_winsor:1+mse_1:1: 100%|██████████| 3/3 [00:05<00:00,  1.52s/it]\u001b[A\n",
      "\u001b[A\r",
      "DSC:  83%|████████▎ | 5/6 [00:18<00:03,  3.91s/it]\n",
      "\r",
      "simulate:2+estimate_winsor:1+mse_1:1:   0%|          | 0/3 [00:00<?, ?it/s]\u001b[A\n",
      "\r",
      "simulate:2+estimate_winsor:1+mse_1:1:  33%|███▎      | 1/3 [00:01<00:02,  1.01s/it]\u001b[A\n",
      "\r",
      "simulate:2+estimate_winsor:1+mse_1:1:  67%|██████▋   | 2/3 [00:03<00:01,  1.37s/it]\u001b[A\n",
      "\r",
      "simulate:2+estimate_winsor:1+mse_1:1: 100%|██████████| 3/3 [00:05<00:00,  1.53s/it]\u001b[A\n",
      "\u001b[A\r",
      "DSC: 100%|██████████| 6/6 [00:23<00:00,  4.34s/it]\n",
      "INFO: Building output database \u001b[32mdsc_result.rds\u001b[0m ...\n",
      "INFO: DSC complete!\n",
      "INFO: Elapsed time \u001b[32m25.272\u001b[0m seconds.\n"
     ]
    }
   ],
   "source": [
    "! dsc -x settings_add_method_v2.dsc -j8"
   ]
  },
  {
   "cell_type": "markdown",
   "metadata": {},
   "source": [
    "The result is identical to that from previous section.\n"
   ]
  }
 ],
 "metadata": {
  "kernelspec": {
   "display_name": "SoS",
   "language": "sos",
   "name": "sos"
  },
  "language_info": {
   "codemirror_mode": "sos",
   "file_extension": ".sos",
   "mimetype": "text/x-sos",
   "name": "sos",
   "nbconvert_exporter": "sos.jupyter.converter.SoS_Exporter",
   "pygments_lexer": "sos"
  },
  "sos": {
   "kernels": [
    [
     "sos",
     "SoS",
     ""
    ],
    [
     "python3",
     "Python3",
     "#EAFAF1"
    ],
    [
     "ir",
     "ir",
     ""
    ]
   ]
  }
 },
 "nbformat": 4,
 "nbformat_minor": 0
}
