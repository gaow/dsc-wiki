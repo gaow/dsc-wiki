{
 "cells": [
  {
   "cell_type": "markdown",
   "metadata": {},
   "source": [
    "# Update existing DSC"
   ]
  },
  {
   "cell_type": "markdown",
   "metadata": {},
   "source": [
    "The [Quick Start](quick_start.html) example contains 3 DSC blocks, `simulate`, `estimate` and `mse`. Suppose we now have a new computational routine for location estimate via the *Winsorized* mean. The routine is implemented as `winsor.R`:\n",
    "\n",
    "```r\n",
    "  mean = psych::winsor.mean(x, trim = trim, na.rm = TRUE)\n",
    "```\n",
    "\n",
    "There are two ways to incorporate this new computational routine into DSC: either by adding it to the existing `estimate` block, or by adding a new block. For `winsor.R` there is an additional parameter `trim` which does not exist in `estimate`. We will show here two flavors to update, both involving minimal changes to the DSC file and result in the same outcome. In practice one should always try to adopt a flavor that is most logically clear and succinct.\n",
    "\n",
    "## Add Steps to Existing Block\n",
    "We change the `estimate` block to the following:\n",
    "\n",
    "```yaml\n",
    "  estimate:\n",
    "      exec: mean.R, median.R, winsor.R\n",
    "      params:\n",
    "          x: $x\n",
    "          exec[3]:\n",
    "              trim: 0.1, 0.2\n",
    "      return: mean\n",
    "\n",
    "```\n",
    "\n",
    "where we appended the new executable `winsor.R` to the `exec` entry, along with an executable specific parameter specification in the `params` section to assign two possible values to `trim` which essentially provides two versions of Winsorization for comparison.\n",
    "\n",
    "To run the new DSC,"
   ]
  },
  {
   "cell_type": "code",
   "execution_count": 1,
   "metadata": {
    "collapsed": false
   },
   "outputs": [
    {
     "name": "stderr",
     "output_type": "stream",
     "text": [
      "INFO: Checking R library \u001b[32mpsych\u001b[0m ...\n",
      "INFO: DSC script exported to \u001b[32msettings_add_method_v1.html\u001b[0m\n",
      "INFO: Constructing DSC from \u001b[32msettings_add_method_v1.dsc\u001b[0m ...\n",
      "\r",
      "DSC:   0.0% [>                                                    ]  in 00:00:00\r",
      "simulate:1+estimate:1+mse:1:   0.0% [>                            ]  in 00:00:00\r",
      "simulate:1+estimate:1+mse:1:  33.3% [=======>              ] 1 1.0/s in 00:00:02\r",
      "simulate:1+estimate:1+mse:1:  66.7% [==============>       ] 2 1.0/s in 00:00:01\r",
      "simulate:1+estimate:1+mse:1: 100.0% [=====================>] 3 1.0/s in 00:00:00\r",
      "simulate:1+estimate:1+mse:1: 100% [========================] 3 1.0/s in 00:00:03\n",
      "\r",
      "DSC:  16.7% [=======>                                      ] 1 0.3/s in 00:00:16\r",
      "simulate:1+estimate:2+mse:1:   0.0% [>                            ]  in 00:00:00\r",
      "simulate:1+estimate:2+mse:1:  33.3% [=======>              ] 1 0.9/s in 00:00:02\r",
      "simulate:1+estimate:2+mse:1:  66.7% [==============>       ] 2 0.9/s in 00:00:01\r",
      "simulate:1+estimate:2+mse:1: 100.0% [=====================>] 3 1.0/s in 00:00:00\r",
      "simulate:1+estimate:2+mse:1: 100% [========================] 3 1.0/s in 00:00:03\n",
      "\r",
      "DSC:  33.3% [===============>                              ] 2 0.3/s in 00:00:12\r",
      "simulate:1+estimate:3+mse:1:   0.0% [>                            ]  in 00:00:00\r",
      "simulate:1+estimate:3+mse:1:  66.7% [==============>       ] 2 0.8/s in 00:00:01\r",
      "simulate:1+estimate:3+mse:1: 100.0% [=====================>] 3 0.7/s in 00:00:00\r",
      "simulate:1+estimate:3+mse:1: 100% [========================] 3 0.7/s in 00:00:04\n",
      "\r",
      "DSC:  50.0% [======================>                       ] 3 0.3/s in 00:00:10\r",
      "simulate:2+estimate:1+mse:1:   0.0% [>                            ]  in 00:00:00\r",
      "simulate:2+estimate:1+mse:1:  66.7% [==============>       ] 2 1.1/s in 00:00:00\r",
      "simulate:2+estimate:1+mse:1: 100.0% [=====================>] 3 1.1/s in 00:00:00\r",
      "simulate:2+estimate:1+mse:1: 100% [========================] 3 1.1/s in 00:00:02\n",
      "\r",
      "DSC:  66.7% [==============================>               ] 4 0.3/s in 00:00:06\r",
      "simulate:2+estimate:2+mse:1:   0.0% [>                            ]  in 00:00:00\r",
      "simulate:2+estimate:2+mse:1:  33.3% [=======>              ] 1 1.0/s in 00:00:02\r",
      "simulate:2+estimate:2+mse:1: 100.0% [=====================>] 3 1.1/s in 00:00:00\r",
      "simulate:2+estimate:2+mse:1: 100% [========================] 3 1.1/s in 00:00:02\n",
      "\r",
      "DSC:  83.3% [=====================================>        ] 5 0.3/s in 00:00:03\r",
      "simulate:2+estimate:3+mse:1:   0.0% [>                            ]  in 00:00:00\r",
      "simulate:2+estimate:3+mse:1:  66.7% [==============>       ] 2 0.8/s in 00:00:01\r",
      "simulate:2+estimate:3+mse:1: 100.0% [=====================>] 3 0.7/s in 00:00:00\r",
      "simulate:2+estimate:3+mse:1: 100% [========================] 3 0.7/s in 00:00:04\n",
      "\r",
      "DSC: 100.0% [=============================================>] 6 0.3/s in 00:00:00\r",
      "DSC: 100% [================================================] 6 0.3/s in 00:00:20\n",
      "INFO: Building output database \u001b[32mdsc_result.rds\u001b[0m ...\n",
      "INFO: DSC complete!\n",
      "INFO: Elapsed time \u001b[32m21.980\u001b[0m seconds.\n"
     ]
    }
   ],
   "source": [
    "! dsc settings_add_method_v1.dsc -j8"
   ]
  },
  {
   "cell_type": "markdown",
   "metadata": {},
   "source": [
    "Notice that compared to using `-f` flag the computation time above is shorter. This is because after running the Quick Start tutorial DSC2 has cached steps in that DSC script along with their outcome; thus here only newly added steps are executed. \n",
    "\n",
    "## Add a New Block\n",
    "Here we show an alternative flavor to update the existing DSC file: we keep the `estimate` block as is but add a new block `estimate_winsor`, and modify the **run** sequence in the DSC section to include this new block:\n",
    "\n",
    "```yaml\n",
    "  estimate:\n",
    "      exec: mean.R, median.R\n",
    "      params:\n",
    "          x: $x\n",
    "      return: mean\n",
    "\n",
    "  estimate_winsor:\n",
    "      exec: winsor.R\n",
    "      params:\n",
    "          x: $x\n",
    "          trim: 0.1, 0.2\n",
    "      return: mean\n",
    "\n",
    "  ...\n",
    "  DSC:\n",
    "      run: simulate *\n",
    "           (estimate, estimate_winsor) *\n",
    "           mse\n",
    "\n",
    "  ...\n",
    "```\n",
    "\n",
    "In the **run** sequence, the previous `estimate` and the new `estimate_winsor` blocks will be executed in parallel to each other, both taking input from `simulate` block and generating output for `mse` block.\n",
    "\n",
    "To run this version,"
   ]
  },
  {
   "cell_type": "code",
   "execution_count": 3,
   "metadata": {
    "collapsed": false
   },
   "outputs": [
    {
     "name": "stderr",
     "output_type": "stream",
     "text": [
      "INFO: DSC script exported to \u001b[32msettings_add_method_v2.html\u001b[0m\n",
      "INFO: Constructing DSC from \u001b[32msettings_add_method_v2.dsc\u001b[0m ...\n",
      "\r",
      "DSC:   0.0% [>                                                    ]  in 00:00:00\r",
      "simulate:1+estimate:1+mse:1:   0.0% [>                            ]  in 00:00:00\r",
      "simulate:1+estimate:1+mse:1:  66.7% [==============>       ] 2 1.0/s in 00:00:00\r",
      "simulate:1+estimate:1+mse:1: 100.0% [=====================>] 3 1.0/s in 00:00:00\r",
      "simulate:1+estimate:1+mse:1: 100% [========================] 3 1.0/s in 00:00:02\n",
      "\r",
      "DSC:  16.7% [=======>                                      ] 1 0.3/s in 00:00:15\r",
      "simulate:1+estimate:2+mse:1:   0.0% [>                            ]  in 00:00:00\r",
      "simulate:1+estimate:2+mse:1:  33.3% [=======>              ] 1 0.9/s in 00:00:02\r",
      "simulate:1+estimate:2+mse:1:  66.7% [==============>       ] 2 0.9/s in 00:00:01\r",
      "simulate:1+estimate:2+mse:1: 100.0% [=====================>] 3 1.0/s in 00:00:00\r",
      "simulate:1+estimate:2+mse:1: 100% [========================] 3 1.0/s in 00:00:03\n",
      "\r",
      "DSC:  33.3% [===============>                              ] 2 0.3/s in 00:00:12\r",
      "simulate:2+estimate:1+mse:1:   0.0% [>                            ]  in 00:00:00\r",
      "simulate:2+estimate:1+mse:1:  66.7% [==============>       ] 2 1.0/s in 00:00:00\r",
      "simulate:2+estimate:1+mse:1: 100.0% [=====================>] 3 1.0/s in 00:00:00\r",
      "simulate:2+estimate:1+mse:1: 100% [========================] 3 1.0/s in 00:00:02\n",
      "\r",
      "DSC:  50.0% [======================>                       ] 3 0.3/s in 00:00:09\r",
      "simulate:2+estimate:2+mse:1:   0.0% [>                            ]  in 00:00:00\r",
      "simulate:2+estimate:2+mse:1:  33.3% [=======>              ] 1 1.0/s in 00:00:02\r",
      "simulate:2+estimate:2+mse:1:  66.7% [==============>       ] 2 0.9/s in 00:00:01\r",
      "simulate:2+estimate:2+mse:1: 100.0% [=====================>] 3 1.0/s in 00:00:00\r",
      "simulate:2+estimate:2+mse:1: 100% [========================] 3 1.0/s in 00:00:03\n",
      "\r",
      "DSC:  66.7% [==============================>               ] 4 0.3/s in 00:00:06\r",
      "simulate:1+estimate_winsor:1+mse_1:1:   0.0% [>                   ]  in 00:00:00\r",
      "simulate:1+estimate_winsor:1+mse_1:1:  33.3% [====>        ] 1 1.0/s in 00:00:02\r",
      "simulate:1+estimate_winsor:1+mse_1:1:  66.7% [========>    ] 2 0.7/s in 00:00:01\r",
      "simulate:1+estimate_winsor:1+mse_1:1: 100.0% [============>] 3 0.6/s in 00:00:00\r",
      "simulate:1+estimate_winsor:1+mse_1:1: 100% [===============] 3 0.6/s in 00:00:04\n",
      "\r",
      "DSC:  83.3% [=====================================>        ] 5 0.3/s in 00:00:03\r",
      "simulate:2+estimate_winsor:1+mse_1:1:   0.0% [>                   ]  in 00:00:00\r",
      "simulate:2+estimate_winsor:1+mse_1:1:  66.7% [========>    ] 2 0.8/s in 00:00:01\r",
      "simulate:2+estimate_winsor:1+mse_1:1: 100.0% [============>] 3 0.7/s in 00:00:00\r",
      "simulate:2+estimate_winsor:1+mse_1:1: 100% [===============] 3 0.7/s in 00:00:04\n",
      "\r",
      "DSC: 100.0% [=============================================>] 6 0.3/s in 00:00:00\r",
      "DSC: 100% [================================================] 6 0.3/s in 00:00:21\n",
      "INFO: Building output database \u001b[32mdsc_result.rds\u001b[0m ...\n",
      "INFO: DSC complete!\n",
      "INFO: Elapsed time \u001b[32m22.946\u001b[0m seconds.\n"
     ]
    }
   ],
   "source": [
    "! dsc settings_add_method_v2.dsc -j8 "
   ]
  },
  {
   "cell_type": "markdown",
   "metadata": {},
   "source": [
    "The result is identical to that from previous section.\n"
   ]
  }
 ],
 "metadata": {
  "kernelspec": {
   "display_name": "SoS",
   "language": "sos",
   "name": "sos"
  },
  "language_info": {
   "codemirror_mode": "sos",
   "file_extension": ".sos",
   "mimetype": "text/x-sos",
   "name": "sos",
   "nbconvert_exporter": "sos.jupyter.converter.SoS_Exporter",
   "pygments_lexer": "sos"
  }
 },
 "nbformat": 4,
 "nbformat_minor": 0
}
