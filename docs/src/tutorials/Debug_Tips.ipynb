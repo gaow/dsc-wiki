{
 "cells": [
  {
   "cell_type": "markdown",
   "metadata": {},
   "source": [
    "# Debugging in DSC2"
   ]
  },
  {
   "cell_type": "markdown",
   "metadata": {},
   "source": [
    "## Intermediate scripts\n",
    "Under the hood, DSC2 generates R, Python or Shell scripts based on computational routines provided in `exec` entries and executes these scripts to complete the computational tasks. When there is an error from provided computational routine the DSC procedure will fail. However the automatically generated script will be saved to disk and DSC2 will point you to the script in question so that you can debug interactively. For example, we break the R script below by executing an undefined function `undefined_foo_showoff`: \n",
    "\n",
    "```r\n",
    "undefined_foo_showoff()\n",
    "score = function(est, truth){\n",
    "  return(sqrt(mean((est-truth)^2)))\n",
    "}\n",
    "result = score(est, truth)\n",
    "```\n",
    "And the DSC run fails as expected:\n",
    "```\n",
    "INFO: Constructing DSC from settings.dsc ...\n",
    "INFO: DSC exported to settings.html\n",
    "simulate:1+shrink:1+beta_score:1:   0.0% [>      ]  in 00:00:00\n",
    "\n",
    "Error: could not find function \"undefined_foo_showoff\"\n",
    "Execution halted\n",
    "ERROR: Failed to process statement \"sos_run('simulate_1+shrink_1+beta_score_1')\": Failed to execute process\n",
    "\"R(r'''## BEGIN code auto-gener...1.0\\n\\n''')\\n\"\n",
    "Failed to execute script. The script is saved to /home/gaow/GIT/software/dsc2/vignettes/ash/.sos/beta_score_1_0.R. Please use command \"Rscript --default-packages=datasets,methods,utils,stats,grDevices,graphics  /home/gaow/GIT/software/dsc2/vignettes/ash/.sos/beta_score_1_0.R\" under /home/gaow/GIT/software/dsc2/vignettes/ash to test it.\n",
    "```\n",
    "In the error message you see that the problematic script is saved to `.sos/beta_score_1_0.R`. You can run this script to debug without having to worry about the input / output because DSC automatically completed it. Then you can apply the fix to your original script and re-run the benchmark.\n",
    "\n",
    "## Log files\n",
    "The run-time information are kept in greater detail in `*.log` file. For the example above you should see `settings.log` generated for the DSC run. You can look into the log file for more run-time information and perform diagnostics."
   ]
  }
 ],
 "metadata": {
  "kernelspec": {
   "display_name": "SoS",
   "language": "sos",
   "name": "sos"
  },
  "language_info": {
   "codemirror_mode": "sos",
   "file_extension": ".sos",
   "mimetype": "text/x-sos",
   "name": "sos",
   "nbconvert_exporter": "sos.jupyter.converter.SoS_Exporter",
   "pygments_lexer": "sos"
  },
  "sos": {
   "kernels": [
    [
     "sos",
     "SoS",
     ""
    ]
   ]
  }
 },
 "nbformat": 4,
 "nbformat_minor": 0
}
