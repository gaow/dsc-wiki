{
 "cells": [
  {
   "cell_type": "markdown",
   "metadata": {},
   "source": [
    "# Multiple DSC sequences"
   ]
  },
  {
   "cell_type": "markdown",
   "metadata": {},
   "source": [
    "This is an enhanced version of [the Quick Start tutorial](quick_start.html) to demonstrate the use of multiple sequences in DSC. Material used in this document can be found in [DSC2 vignettes repo](https://github.com/stephenslab/dsc2/tree/master/vignettes/one_sample_location_winsor).\n"
   ]
  },
  {
   "cell_type": "markdown",
   "metadata": {},
   "source": [
    "## DSC Specification and Execution\n",
    "The DSC problem is similar to what we have previously worked on, i.e. comparison of location parameter estimation methods. This time we simulate data under *t* distribution (df = 2) and Cauchy distribution. Then before estimating location parameter using mean or median method, there is an **optional** `transform` step where we provide two methods for *Winsorization*. This results in two possible DSC sequences:\n",
    "\n",
    "*  simulate -> estimate -> score\n",
    "*  simulate -> transform -> estimate -> score\n",
    "\n",
    "The DSC problem is fully specified as:\n",
    "\n",
    "```yaml\n",
    "  simulate:\n",
    "      exec: rt.R, rcauchy.R\n",
    "      seed: R(1:5)\n",
    "      params:\n",
    "          n: 1000\n",
    "          true_loc: 0, 1\n",
    "      return: x, true_loc\n",
    "\n",
    "  transform:\n",
    "      exec: winsor1.R, winsor2.R\n",
    "      params:\n",
    "          x: $x\n",
    "          exec[1]:\n",
    "              fraction: 0.05\n",
    "          exec[2]:\n",
    "              multiple: 3\n",
    "      return: x\n",
    "\n",
    "  estimate:\n",
    "      exec: mean.R, median.R\n",
    "      params:\n",
    "          x: $x\n",
    "      return: loc\n",
    "\n",
    "  mse:\n",
    "      exec: MSE.R\n",
    "      params:\n",
    "          mean_est: $loc\n",
    "          true_mean: $true_loc\n",
    "      return: mse\n",
    "\n",
    "  DSC:\n",
    "      run: simulate *\n",
    "           (transform * estimate, estimate) *\n",
    "           mse\n",
    "      exec_path: R\n",
    "      output: dsc_result\n",
    "```\n",
    "\n",
    "where Winsorization routines in `transform` block are:\n",
    "\n",
    "```r\n",
    "  ==> ../vignettes/one_sample_location_winsor/R/winsor1.R <==\n",
    "  ##  replace the extreme values with limits\n",
    "  winsor1 <- function (x, fraction=.05)\n",
    "  {\n",
    "     if(length(fraction) != 1 || fraction < 0 ||\n",
    "           fraction > 0.5) {\n",
    "        stop(\"bad value for 'fraction'\")\n",
    "     }\n",
    "     lim <- quantile(x, probs=c(fraction, 1-fraction))\n",
    "     x[ x < lim[1] ] <- lim[1]\n",
    "     x[ x > lim[2] ] <- lim[2]\n",
    "     return(x)\n",
    "  }\n",
    "  x = winsor1(x, fraction)\n",
    "\n",
    "  ==> ../vignettes/one_sample_location_winsor/R/winsor2.R <==\n",
    "  ## move the datapoints that are x times the absolute deviations from mean\n",
    "  winsor2 <- function (x, multiple=3)\n",
    "  {\n",
    "     if(length(multiple) != 1 || multiple <= 0) {\n",
    "        stop(\"bad value for 'multiple'\")\n",
    "     }\n",
    "     med <- median(x)\n",
    "     y <- x - med\n",
    "     sc <- mad(y, center=0) * multiple\n",
    "     y[ y > sc ] <- sc\n",
    "     y[ y < -sc ] <- -sc\n",
    "     return(y + med)\n",
    "  }\n",
    "  x = winsor2(x, multiple)\n",
    "\n",
    "```\n",
    "\n",
    "To execute the DSC on a computer using 8 CPU threads,\n"
   ]
  },
  {
   "cell_type": "code",
   "execution_count": 1,
   "metadata": {
    "collapsed": false,
    "kernel": "sos",
    "output_cache": "[{\"text\":\"INFO: DSC script exported to \\u001b[32msettings.html\\u001b[0m\\nINFO: Constructing DSC from \\u001b[32msettings.dsc\\u001b[0m ...\\n\\rDSC:   0%|          | 0/12 [00:00<?, ?it/s]\\n\\rsimulate:1+transform:1+estimate:1+mse:1:   0%|          | 0/4 [00:00<?, ?it/s]\\u001b[A\\n\\rsimulate:1+transform:1+estimate:1+mse:1:  25%|██▌       | 1/4 [00:00<00:02,  1.41it/s]\\u001b[A\\n\\rsimulate:1+transform:1+estimate:1+mse:1:  50%|█████     | 2/4 [00:01<00:01,  1.41it/s]\\u001b[A\\n\\rsimulate:1+transform:1+estimate:1+mse:1:  75%|███████▌  | 3/4 [00:02<00:00,  1.41it/s]\\u001b[A\\n\\rsimulate:1+transform:1+estimate:1+mse:1: 100%|██████████| 4/4 [00:02<00:00,  1.41it/s]\\u001b[A\\n\\u001b[A\\rDSC:   8%|▊         | 1/12 [00:03<00:33,  3.01s/it]\\n\\rsimulate:1+transform:1+estimate:2+mse:1:   0%|          | 0/4 [00:00<?, ?it/s]\\u001b[A\\n\\rsimulate:1+transform:1+estimate:2+mse:1:  25%|██▌       | 1/4 [00:00<00:02,  1.41it/s]\\u001b[A\\n\\rsimulate:1+transform:1+estimate:2+mse:1:  50%|█████     | 2/4 [00:01<00:01,  1.47it/s]\\u001b[A\\n\\rsimulate:1+transform:1+estimate:2+mse:1:  75%|███████▌  | 3/4 [00:02<00:00,  1.45it/s]\\u001b[A\\n\\rsimulate:1+transform:1+estimate:2+mse:1: 100%|██████████| 4/4 [00:02<00:00,  1.43it/s]\\u001b[A\\n\\u001b[A\\rDSC:  17%|█▋        | 2/12 [00:05<00:29,  2.99s/it]\\n\\rsimulate:1+transform:2+estimate:1+mse:1:   0%|          | 0/4 [00:00<?, ?it/s]\\u001b[A\\n\\rsimulate:1+transform:2+estimate:1+mse:1:  25%|██▌       | 1/4 [00:00<00:02,  1.41it/s]\\u001b[A\\n\\rsimulate:1+transform:2+estimate:1+mse:1:  50%|█████     | 2/4 [00:01<00:01,  1.41it/s]\\u001b[A\\n\\rsimulate:1+transform:2+estimate:1+mse:1:  75%|███████▌  | 3/4 [00:02<00:00,  1.41it/s]\\u001b[A\\n\\rsimulate:1+transform:2+estimate:1+mse:1: 100%|██████████| 4/4 [00:02<00:00,  1.47it/s]\\u001b[A\\n\\u001b[A\\rDSC:  25%|██▌       | 3/12 [00:08<00:26,  2.96s/it]\\n\\rsimulate:1+transform:2+estimate:2+mse:1:   0%|          | 0/4 [00:00<?, ?it/s]\\u001b[A\\n\\rsimulate:1+transform:2+estimate:2+mse:1:  25%|██▌       | 1/4 [00:00<00:02,  1.41it/s]\\u001b[A\\n\\rsimulate:1+transform:2+estimate:2+mse:1:  50%|█████     | 2/4 [00:01<00:01,  1.41it/s]\\u001b[A\\n\\rsimulate:1+transform:2+estimate:2+mse:1:  75%|███████▌  | 3/4 [00:02<00:00,  1.48it/s]\\u001b[A\\n\\rsimulate:1+transform:2+estimate:2+mse:1: 100%|██████████| 4/4 [00:02<00:00,  1.46it/s]\\u001b[A\\n\\u001b[A\\rDSC:  33%|███▎      | 4/12 [00:11<00:23,  2.95s/it]\\n\\rsimulate:2+transform:1+estimate:1+mse:1:   0%|          | 0/4 [00:00<?, ?it/s]\\u001b[A\\n\\rsimulate:2+transform:1+estimate:1+mse:1:  25%|██▌       | 1/4 [00:00<00:02,  1.41it/s]\\u001b[A\\n\\rsimulate:2+transform:1+estimate:1+mse:1:  50%|█████     | 2/4 [00:01<00:01,  1.41it/s]\\u001b[A\\n\\rsimulate:2+transform:1+estimate:1+mse:1:  75%|███████▌  | 3/4 [00:02<00:00,  1.41it/s]\\u001b[A\\n\\rsimulate:2+transform:1+estimate:1+mse:1: 100%|██████████| 4/4 [00:02<00:00,  1.48it/s]\\u001b[A\\n\\u001b[A\\rDSC:  42%|████▏     | 5/12 [00:14<00:20,  2.94s/it]\\n\\rsimulate:2+transform:1+estimate:2+mse:1:   0%|          | 0/4 [00:00<?, ?it/s]\\u001b[A\\n\\rsimulate:2+transform:1+estimate:2+mse:1:  25%|██▌       | 1/4 [00:00<00:02,  1.41it/s]\\u001b[A\\n\\rsimulate:2+transform:1+estimate:2+mse:1:  50%|█████     | 2/4 [00:01<00:01,  1.41it/s]\\u001b[A\\n\\rsimulate:2+transform:1+estimate:2+mse:1:  75%|███████▌  | 3/4 [00:02<00:00,  1.41it/s]\\u001b[A\\n\\rsimulate:2+transform:1+estimate:2+mse:1: 100%|██████████| 4/4 [00:02<00:00,  1.41it/s]\\u001b[A\\n\\u001b[A\\rDSC:  50%|█████     | 6/12 [00:17<00:17,  2.96s/it]\\n\\rsimulate:2+transform:2+estimate:1+mse:1:   0%|          | 0/4 [00:00<?, ?it/s]\\u001b[A\\n\\rsimulate:2+transform:2+estimate:1+mse:1:  25%|██▌       | 1/4 [00:00<00:02,  1.41it/s]\\u001b[A\\n\\rsimulate:2+transform:2+estimate:1+mse:1:  50%|█████     | 2/4 [00:01<00:01,  1.41it/s]\\u001b[A\\n\\rsimulate:2+transform:2+estimate:1+mse:1:  75%|███████▌  | 3/4 [00:02<00:00,  1.41it/s]\\u001b[A\\n\\rsimulate:2+transform:2+estimate:1+mse:1: 100%|██████████| 4/4 [00:02<00:00,  1.41it/s]\\u001b[A\\n\\u001b[A\\rDSC:  58%|█████▊    | 7/12 [00:20<00:14,  2.98s/it]\\n\\rsimulate:2+transform:2+estimate:2+mse:1:   0%|          | 0/4 [00:00<?, ?it/s]\\u001b[A\\n\\rsimulate:2+transform:2+estimate:2+mse:1:  25%|██▌       | 1/4 [00:00<00:02,  1.24it/s]\\u001b[A\\n\\rsimulate:2+transform:2+estimate:2+mse:1:  50%|█████     | 2/4 [00:01<00:01,  1.29it/s]\\u001b[A\\n\\rsimulate:2+transform:2+estimate:2+mse:1:  75%|███████▌  | 3/4 [00:02<00:00,  1.32it/s]\\u001b[A\\n\\rsimulate:2+transform:2+estimate:2+mse:1: 100%|██████████| 4/4 [00:03<00:00,  1.25it/s]\\u001b[A\\n\\u001b[A\\rDSC:  67%|██████▋   | 8/12 [00:24<00:12,  3.08s/it]\\n\\rsimulate:1+estimate_1:1+mse:1:   0%|          | 0/3 [00:00<?, ?it/s]\\u001b[A\\n\\rsimulate:1+estimate_1:1+mse:1:  33%|███▎      | 1/3 [00:00<00:01,  1.41it/s]\\u001b[A\\n\\rsimulate:1+estimate_1:1+mse:1:  67%|██████▋   | 2/3 [00:01<00:00,  1.35it/s]\\u001b[A\\n\\rsimulate:1+estimate_1:1+mse:1: 100%|██████████| 3/3 [00:02<00:00,  1.37it/s]\\u001b[A\\n\\u001b[A\\rDSC:  75%|███████▌  | 9/12 [00:26<00:08,  2.88s/it]\\n\\rsimulate:1+estimate_1:2+mse:1:   0%|          | 0/3 [00:00<?, ?it/s]\\u001b[A\\n\\rsimulate:1+estimate_1:2+mse:1:  33%|███▎      | 1/3 [00:00<00:01,  1.64it/s]\\u001b[A\\n\\rsimulate:1+estimate_1:2+mse:1:  67%|██████▋   | 2/3 [00:01<00:00,  1.57it/s]\\u001b[A\\n\\rsimulate:1+estimate_1:2+mse:1: 100%|██████████| 3/3 [00:02<00:00,  1.52it/s]\\u001b[A\\n\\u001b[A\\rDSC:  83%|████████▎ | 10/12 [00:28<00:05,  2.68s/it]\\n\\rsimulate:2+estimate_1:1+mse:1:   0%|          | 0/3 [00:00<?, ?it/s]\\u001b[A\\n\\rsimulate:2+estimate_1:1+mse:1:  33%|███▎      | 1/3 [00:00<00:01,  1.64it/s]\\u001b[A\\n\\rsimulate:2+estimate_1:1+mse:1:  67%|██████▋   | 2/3 [00:01<00:00,  1.57it/s]\\u001b[A\\n\\rsimulate:2+estimate_1:1+mse:1: 100%|██████████| 3/3 [00:02<00:00,  1.52it/s]\\u001b[A\\n\\u001b[A\\rDSC:  92%|█████████▏| 11/12 [00:30<00:02,  2.55s/it]\\n\\rsimulate:2+estimate_1:2+mse:1:   0%|          | 0/3 [00:00<?, ?it/s]\\u001b[A\\n\\rsimulate:2+estimate_1:2+mse:1:  33%|███▎      | 1/3 [00:00<00:01,  1.22it/s]\\u001b[A\\n\\rsimulate:2+estimate_1:2+mse:1:  67%|██████▋   | 2/3 [00:01<00:00,  1.27it/s]\\u001b[A\\n\\rsimulate:2+estimate_1:2+mse:1: 100%|██████████| 3/3 [00:02<00:00,  1.31it/s]\\u001b[A\\n\\u001b[A\\rDSC: 100%|██████████| 12/12 [00:33<00:00,  2.51s/it]\\nINFO: Building output database \\u001b[32mdsc_result.rds\\u001b[0m ...\\nINFO: DSC complete!\\nINFO: Elapsed time \\u001b[32m35.680\\u001b[0m seconds.\\n\",\"name\":\"stderr\",\"output_type\":\"stream\"}]"
   },
   "outputs": [
    {
     "name": "stderr",
     "output_type": "stream",
     "text": [
      "INFO: DSC script exported to \u001b[32msettings.html\u001b[0m\n",
      "INFO: Constructing DSC from \u001b[32msettings.dsc\u001b[0m ...\n",
      "\r",
      "DSC:   0%|          | 0/10 [00:00<?, ?it/s]\r",
      "DSC:  10%|█         | 1/10 [00:01<00:09,  1.01s/it]\r",
      "DSC:  20%|██        | 2/10 [00:01<00:05,  1.35it/s]\r",
      "DSC:  30%|███       | 3/10 [00:01<00:04,  1.43it/s]\r",
      "DSC:  40%|████      | 4/10 [00:02<00:04,  1.22it/s]\r",
      "DSC:  60%|██████    | 6/10 [00:04<00:03,  1.18it/s]\r",
      "DSC: 100%|██████████| 10/10 [00:04<00:00,  1.66it/s]\n",
      "INFO: Building output database \u001b[32mdsc_result.rds\u001b[0m ...\n",
      "INFO: DSC complete!\n",
      "INFO: Elapsed time \u001b[32m6.681\u001b[0m seconds.\n"
     ]
    }
   ],
   "source": [
    "! dsc -x settings.dsc -j8"
   ]
  },
  {
   "cell_type": "markdown",
   "metadata": {},
   "source": [
    "*FIXME* annotation and link to shinydsc for result exploration"
   ]
  }
 ],
 "metadata": {
  "kernelspec": {
   "display_name": "SoS",
   "language": "sos",
   "name": "sos"
  },
  "language_info": {
   "codemirror_mode": "sos",
   "file_extension": ".sos",
   "mimetype": "text/x-sos",
   "name": "sos",
   "nbconvert_exporter": "sos.jupyter.converter.SoS_Exporter",
   "pygments_lexer": "sos"
  },
  "sos": {
   "celltoolbar": true,
   "kernels": [
    [
     "sos",
     "SoS",
     ""
    ],
    [
     "python3",
     "Python3",
     "#EAFAF1"
    ],
    [
     "ir",
     "ir",
     ""
    ]
   ],
   "panel": {
    "displayed": true,
    "height": 0,
    "style": "side"
   }
  }
 },
 "nbformat": 4,
 "nbformat_minor": 0
}
