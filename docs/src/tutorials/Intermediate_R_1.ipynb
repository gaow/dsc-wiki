{
 "cells": [
  {
   "cell_type": "markdown",
   "metadata": {},
   "source": [
    "# An R example: ashr benchmark"
   ]
  },
  {
   "cell_type": "markdown",
   "metadata": {},
   "source": [
    "This is a more advanced application of DSC with R codes. We demonstrate in this tutorial features of DSC2 including:\n",
    "\n",
    "*  Inline code as input parameters\n",
    "*  Alias: for executables, parameters and return values\n",
    "*  R library installation and version check\n",
    "\n",
    "## DSC Problem\n",
    "The DSC problem is based on the [ASH example](https://github.com/stephens999/dscr/blob/master/vignettes/dsc_shrink.rmd) of DSCR. Material to run this tutorial can be found in [DSC2 vignettes repo](https://github.com/stephenslab/dsc2/tree/master/vignettes/ash). Description below is copied from the DSCR vignette:\n",
    "\n",
    "> To illustrate we consider the problem of shrinkage, which is tackled by the `ashr` package at [http://www.github.com/stephens999/ashr](http://www.github.com/stephens999/ashr). The input to this DSC is a set of estimates $\\hat\\beta$,  with associated standard errors $s$. These values are estimates of actual (true) values for $\\beta$, so the meta-data in this case are the true values of beta. Methods must take $\\hat\\beta$ and $s$ as input, and provide as output \"shrunk\" estimates for $\\beta$ (so output is a list with one element, called `beta_est`, which is a vector of estimates for beta). The score function then scores methods on their RMSE comparing `beta_est` with beta.\n",
    "\n",
    "> First define a datamaker which simulates true values of $\\beta$ from a user-specified normal mixture, where one of the components is a point mass at 0 of mass $\\pi_0$, which is a user-specified parameter. It then simulates $\\hat\\beta \\sim N(\\beta_j,s_j)$ (where $s_j$ is again user-specified). It returns the true $\\beta$ values and true $\\pi_0$ value as meta-data, and the estimates $\\hat\\beta$ and $s$ as input-data.\n",
    "\n",
    "\n",
    "> Now define a [method wrapper](https://github.com/stephenslab/dsc2/blob/master/vignettes/ash/bin/runash.R) for the `ash` function from the `ashr` package. Notice that this wrapper does not return output in the required format - it simply returns the entire ash output.\n",
    "\n",
    "> Finally add a generic (can be used to deal with both $\\pi$ and $\\beta$) [score function](https://github.com/stephenslab/dsc2/blob/master/vignettes/ash/bin/score.R) to evaluate estimates by `ash`.\n",
    "\n",
    "## DSC Specification\n",
    "The problem is fully specified in DSC2 language below:\n",
    "\n",
    "```yaml\n",
    "  simulate:\n",
    "      exec: datamaker.R\n",
    "      seed: R(1:5)\n",
    "      params:\n",
    "          g: Asis(ashr::normalmix(c(2/3,1/3),c(0,0),c(1,2))),\n",
    "             Asis(ashr::normalmix(rep(1/7,7),c(-1.5,-1,-0.5,0,0.5,1,1.5),rep(0.5,7))),\n",
    "             Asis(ashr::normalmix(c(1/4,1/4,1/3,1/6),c(-2,-1,0,1),c(2,1.5,1,1)))\n",
    "          min_pi0: 0\n",
    "          max_pi0: 1\n",
    "          nsamp: 1000\n",
    "          betahatsd: 1\n",
    "          .alias: args = Pack()\n",
    "      return: data, true_beta = R(data$meta$beta), true_pi0 = R(data$meta$pi0)\n",
    "  \n",
    "  shrink:\n",
    "      exec: runash.R\n",
    "      params:\n",
    "          input: $data\n",
    "          mixcompdist: normal, halfuniform\n",
    "      return: ash_data, beta_est = R(ash_data$PosteriorMean),\n",
    "              pi0_est = R(ashr::get_pi0(ash_data))\n",
    "  \n",
    "  beta_score:\n",
    "      exec: score.R\n",
    "      .alias: score_beta\n",
    "      params:\n",
    "          beta_true: $true_beta\n",
    "          beta_est: $beta_est\n",
    "          .alias: est = beta_est, truth = beta_true\n",
    "      return: result\n",
    "  \n",
    "  pi0_score:\n",
    "      exec: score.R\n",
    "      .alias: score_pi0\n",
    "      params:\n",
    "          pi0_est: $pi0_est\n",
    "          pi0: $true_pi0\n",
    "          .alias: est = pi0_est, truth = pi0\n",
    "      return: result\n",
    "  \n",
    "  DSC:\n",
    "      run: simulate *\n",
    "           shrink *\n",
    "           (beta_score, pi0_score)\n",
    "      R_libs: stephens999/ashr (1.0.0+)\n",
    "      exec_path: bin\n",
    "      output: dsc_result\n",
    "```\n",
    "\n",
    "This is a more complicated example. It is suggested that you walk through every DSC block, cross-referencing the corresponding R code for [datamaker](https://github.com/stephenslab/dsc2/blob/master/vignettes/ash/bin/datamaker.R), [method wrapper](https://github.com/stephenslab/dsc2/blob/master/vignettes/ash/bin/runash.R) and [score function](https://github.com/stephenslab/dsc2/blob/master/vignettes/ash/bin/score.R) to figure out how DSC2 communicates with your R program.\n",
    "\n",
    "### `simulate`\n",
    "#### Inline R code as parameters\n",
    "The parameter `g` has three candidate values, all of which are R codes within `Asis()` function. Contents inside `Asis()` will be interpreted as functional code pieces rather than strings. In other words, DSC2 will interpret it as `g <- ashr::normalmix(c(2/3,1/3),c(0,0),c(1,2))` so that `g` will be assigned output of R codes in `Asis()` for use with `datamaker.R`.\n",
    "\n",
    "Inline code as parameters can make DSC script more succinct. Otherwise in this example, we will have to replace `g` with 3 other parameters for `normalmix` function, use `R(rep(1/7,7))` to deal with complex parameter assignment, and specify `.logic` to properly combine these parameters, for example:\n",
    "\n",
    "```yaml\n",
    "        params:\n",
    "            g1: (2/3, 1/3), R(rep(1/7,7)), (1/4,1/4,1/3,1/6)\n",
    "            g2: (0, 0), (-1.5,-1,-0.5,0,0.5,1,1.5), (-2,-1,0,1)\n",
    "            g3:  (1, 2), rep(0.5,7), (2,1.5,1,1)\n",
    "            min_pi0: 0\n",
    "            max_pi0: 1\n",
    "            nsamp: 1000\n",
    "            betahatsd: 1\n",
    "            .logic: (g1 + g2 + g3) * min_pi0 * max_pi0 * nsamp * betahatsd\n",
    "```\n",
    "\n",
    "#### Parameter alias for R list\n",
    "Inside `datamaker.R` the input for the core function is a single parameter of an R [list](http://www.r-tutor.com/r-introduction/list) containing all parameters specified in this block. The `.alias` entry uses a special DSC2 operation `Pack()` to consolidate these parameters into an R list `args` which corresponds to the input parameter in `datamaker.R`.\n",
    "\n",
    "#### Return alias to extract output\n",
    "The return object is `data` which is consistent with codes in `datamaker.R`. However we want to extract some variables from `data` for use with other steps. This is achieved by return alias which creates variables based on existing values. `R()` operator is used here to extract information from existing objects using R syntax.\n",
    "\n",
    "### `shrink` \n",
    "Here notice the return alias `pi0_est` which uses the `get_pi0` function in `R()` operator to extract information from existing output `ash_data`.\n",
    "\n",
    "### `beta_score` & `pi0_score`\n",
    "These two blocks uses the same computational routine `score.R` but on different input data. Adjustment have to be made via `.alias` to distinguish these blocks for DSC output and to match input variable names for `score.R`. Executable `.alias` renames the computational routines from generic `score.R` to `score_beta` and `score_pi0` respectively. These routine names will become part of column names in the DSC output database and they should be made distinct. Parameter `.alias` converts input variables names to variable names matching what has been coded in `score.R`. It is possible to use these names directly, e.g.,\n",
    "\n",
    "```yaml\n",
    "   beta_score:\n",
    "        ...\n",
    "        params:\n",
    "            trueth: $true_beta\n",
    "            est: $beta_est\n",
    "        ...\n",
    "```\n",
    "\n",
    "The DSC will work, but the problem is that in the output database, columns will be named after `truth` and `est`, which is less informative than `beta_true` and `beta_est`. For clarity we use informative names as parameter names in DSC, and use alias to convert these names to what is required by the R codes.\n",
    "\n",
    "Notice too that different from the [DSCR ASH example](https://github.com/stephens999/dscr/blob/master/vignettes/dsc_shrink.rmd) the output score is a simple value (a float of RMSE). Therefore the `result` variable returned can be directly imported to DSC output database. If the outcome of the R code is not a simple object, for example it returns a list variable `score_output`, then you may want to use return alias to extract important information to simple values so that they'll be available from output database, e.g., `return: score_output, mse = R(score_output$mse)`.\n",
    "\n",
    "### `DSC` section\n",
    "The `DSC::run` executes two sequences which we have discussed in previous tutorials. The `R_libs` entry specifies the R package required by the DSC. It is formatted as a github package (`repo/pkg`) and the minimal version requirement is `1.0.0`. DSC will check first if the package is available, and install it if necessary. It will then check its version and quit on error if it does not satisfy the requirement. DSC does not attempt to change a package for version mismatch.\n",
    "\n",
    "## Run DSC"
   ]
  },
  {
   "cell_type": "code",
   "execution_count": 1,
   "metadata": {
    "collapsed": false
   },
   "outputs": [
    {
     "name": "stderr",
     "output_type": "stream",
     "text": [
      "INFO: Checking R library \u001b[32mstephens999/ashr\u001b[0m ...\n",
      "INFO: DSC script exported to \u001b[32msettings.html\u001b[0m\n",
      "INFO: Constructing DSC from \u001b[32msettings.dsc\u001b[0m ...\n",
      "\r",
      "DSC:   0.0% [>                                                    ]  in 00:00:00\r",
      "simulate:1+shrink:1+beta_score:1:   0.0% [>                       ]  in 00:00:00\r",
      "simulate:1+shrink:1+beta_score:1:  33.3% [=====>           ] 1 0.5/s in 00:00:03\r",
      "simulate:1+shrink:1+beta_score:1:  66.7% [==========>      ] 2 0.2/s in 00:00:05\r",
      "simulate:1+shrink:1+beta_score:1: 100.0% [================>] 3 0.2/s in 00:00:00\r",
      "simulate:1+shrink:1+beta_score:1: 100% [===================] 3 0.2/s in 00:00:14\n",
      "\r",
      "DSC:  50.0% [======================>                       ] 1 0.1/s in 00:00:14\r",
      "simulate:1+shrink:1+pi0_score:1:   0.0% [>                        ]  in 00:00:00\r",
      "simulate:1+shrink:1+pi0_score:1:  33.3% [=====>            ] 1 0.6/s in 00:00:03\r",
      "simulate:1+shrink:1+pi0_score:1:  66.7% [===========>      ] 2 0.2/s in 00:00:05\r",
      "simulate:1+shrink:1+pi0_score:1: 100.0% [=================>] 3 0.2/s in 00:00:00\r",
      "simulate:1+shrink:1+pi0_score:1: 100% [====================] 3 0.2/s in 00:00:13\n",
      "\r",
      "DSC: 100.0% [=============================================>] 2 0.1/s in 00:00:00\r",
      "DSC: 100% [================================================] 2 0.1/s in 00:00:28\n",
      "INFO: Building output database \u001b[32mdsc_result.rds\u001b[0m ...\n",
      "INFO: DSC complete!\n",
      "INFO: Elapsed time \u001b[32m29.480\u001b[0m seconds.\n"
     ]
    }
   ],
   "source": [
    "! dsc settings.dsc -j8"
   ]
  },
  {
   "cell_type": "markdown",
   "metadata": {},
   "source": [
    "## Result annotation"
   ]
  },
  {
   "cell_type": "markdown",
   "metadata": {
    "collapsed": true
   },
   "source": [
    "The [DSCR ASH example](https://github.com/stephens999/dscr/blob/master/vignettes/dsc_shrink.rmd) adds names to various simulation settings and methods. Here we use DSC annotation file to reproduce the DSCR example. We create a `settings.ann` file as follows:\n",
    "\n",
    "```yaml\n",
    "An:\n",
    "  simulate:\n",
    "    g: Asis(ashr::normalmix(c(2/3,1/3),c(0,0),c(1,2)))\n",
    "\n",
    "Bn:\n",
    "  simulate:\n",
    "    g: Asis(ashr::normalmix(rep(1/7,7),c(-1.5,-1,-0.5,0,0.5,1,1.5),rep(0.5,7)))\n",
    "\n",
    "Cn:\n",
    "  simulate:\n",
    "    g: Asis(ashr::normalmix(c(1/4,1/4,1/3,1/6),c(-2,-1,0,1),c(2,1.5,1,1)))\n",
    "\n",
    "ash_n:\n",
    "  shrink:\n",
    "    mixcompdist: normal\n",
    "\n",
    "ash_nu:\n",
    "  shrink:\n",
    "    mixcompdist: halfuniform \n",
    "```\n",
    "\n",
    "and we apply this annotation to two type of scores separately:"
   ]
  },
  {
   "cell_type": "code",
   "execution_count": 21,
   "metadata": {
    "collapsed": false,
    "kernel": "sos"
   },
   "outputs": [
    {
     "name": "stderr",
     "output_type": "stream",
     "text": [
      "INFO: DSC result \u001b[32mpi0_score\u001b[0m has been annotated.\n",
      "\tTag \u001b[32mCn\u001b[0m created via:\n",
      "\t[datamaker.R] (g == 'ashr::normalmix(c(1/4,1/4,1/3,1/6),c(-2,-1,0,1),c(2,1.5,1,1))')\n",
      "\n",
      "\tTag \u001b[32mAn\u001b[0m created via:\n",
      "\t[datamaker.R] (g == 'ashr::normalmix(c(2/3,1/3),c(0,0),c(1,2))')\n",
      "\n",
      "\tTag \u001b[32mBn\u001b[0m created via:\n",
      "\t[datamaker.R] (g == 'ashr::normalmix(rep(1/7,7),c(-1.5,-1,-0.5,0,0.5,1,1.5),rep(0.5,7))')\n",
      "\n",
      "\tTag \u001b[32mash_n\u001b[0m created via:\n",
      "\t[runash.R] (mixcompdist == \"'normal'\")\n",
      "\n",
      "\tTag \u001b[32mash_nu\u001b[0m created via:\n",
      "\t[runash.R] (mixcompdist == \"'halfuniform'\")\n",
      "INFO: Elapsed time \u001b[32m0.044\u001b[0m seconds.\n"
     ]
    }
   ],
   "source": [
    "! dsc settings.dsc --annotation settings.ann --annotate_to pi0_score"
   ]
  },
  {
   "cell_type": "code",
   "execution_count": 22,
   "metadata": {
    "collapsed": false,
    "kernel": "sos"
   },
   "outputs": [
    {
     "name": "stderr",
     "output_type": "stream",
     "text": [
      "INFO: DSC result \u001b[32mbeta_score\u001b[0m has been annotated.\n",
      "\tTag \u001b[32mash_n\u001b[0m created via:\n",
      "\t[runash.R] (mixcompdist == \"'normal'\")\n",
      "\n",
      "\tTag \u001b[32mAn\u001b[0m created via:\n",
      "\t[datamaker.R] (g == 'ashr::normalmix(c(2/3,1/3),c(0,0),c(1,2))')\n",
      "\n",
      "\tTag \u001b[32mash_nu\u001b[0m created via:\n",
      "\t[runash.R] (mixcompdist == \"'halfuniform'\")\n",
      "\n",
      "\tTag \u001b[32mCn\u001b[0m created via:\n",
      "\t[datamaker.R] (g == 'ashr::normalmix(c(1/4,1/4,1/3,1/6),c(-2,-1,0,1),c(2,1.5,1,1))')\n",
      "\n",
      "\tTag \u001b[32mBn\u001b[0m created via:\n",
      "\t[datamaker.R] (g == 'ashr::normalmix(rep(1/7,7),c(-1.5,-1,-0.5,0,0.5,1,1.5),rep(0.5,7))')\n",
      "INFO: Elapsed time \u001b[32m0.045\u001b[0m seconds.\n"
     ]
    }
   ],
   "source": [
    "! dsc settings.dsc --annotation settings.ann --annotate_to beta_score"
   ]
  },
  {
   "cell_type": "markdown",
   "metadata": {},
   "source": [
    "## Result extraction\n",
    "Suppose we are interested in performance of tag `ash_n` and `ash_nu` in estimating $pi_0$ under simulation setting `An`. We extract the data to file `ashr_pi0_1.rds`:"
   ]
  },
  {
   "cell_type": "code",
   "execution_count": 7,
   "metadata": {
    "collapsed": false,
    "kernel": "sos"
   },
   "outputs": [
    {
     "name": "stderr",
     "output_type": "stream",
     "text": [
      "INFO: \u001b[32mresult\u001b[0m data saved to \u001b[32mashr_pi0_1.rds\u001b[0m for annotations An && ash_n, An && ash_nu from DSC block \u001b[32mpi0_score\u001b[0m.\n",
      "INFO: Elapsed time \u001b[32m0.019\u001b[0m seconds.\n"
     ]
    }
   ],
   "source": [
    "! dsc settings.dsc --extract result --extract_from pi0_score --extract_to ashr_pi0_1.rds --tags \"An && ash_n\" \"An && ash_nu\""
   ]
  },
  {
   "cell_type": "markdown",
   "metadata": {
    "kernel": "sos"
   },
   "source": [
    "We can examine the result in `R`, similar to what we have done in the [Quick Start exampe](Explore_Output.html):"
   ]
  },
  {
   "cell_type": "code",
   "execution_count": 12,
   "metadata": {
    "collapsed": false,
    "kernel": "ir"
   },
   "outputs": [
    {
     "data": {
      "text/html": [
       "0.117954348895535"
      ],
      "text/latex": [
       "0.117954348895535"
      ],
      "text/markdown": [
       "0.117954348895535"
      ],
      "text/plain": [
       "[1] 0.1179543"
      ]
     },
     "metadata": {},
     "output_type": "display_data"
    },
    {
     "data": {
      "text/html": [
       "0.17035703182274"
      ],
      "text/latex": [
       "0.17035703182274"
      ],
      "text/markdown": [
       "0.17035703182274"
      ],
      "text/plain": [
       "[1] 0.170357"
      ]
     },
     "metadata": {},
     "output_type": "display_data"
    },
    {
     "name": "stderr",
     "output_type": "stream",
     "text": [
      "`stat_bindot()` using `bins = 30`. Pick better value with `binwidth`.\n"
     ]
    },
    {
     "data": {},
     "metadata": {},
     "output_type": "display_data"
    },
    {
     "data": {
      "image/png": "[encoded data removed]",
      "text/plain": [
       "plot without title"
      ]
     },
     "metadata": {},
     "output_type": "display_data"
    }
   ],
   "source": [
    "%use ir\n",
    "dat = readRDS('ashr_pi0_1.rds')\n",
    "mean(dat$An_ash_n)\n",
    "mean(dat$An_ash_nu)\n",
    "dat = cbind(c(dat$An_ash_n, dat$An_ash_nu), c(rep('ash_n', length(dat$An_ash_n)), \n",
    "                                             rep('ash_nu', length(dat$An_ash_nu))))\n",
    "colnames(dat) = c('MSE', 'Method')\n",
    "dat = data.frame(dat)\n",
    "dat$MSE <- as.numeric(as.character(dat$MSE))\n",
    "library(ggplot2)\n",
    "p <- ggplot(data.frame(dat), aes(x=Method, y=MSE)) + \n",
    "    geom_violin() +\n",
    "    geom_dotplot(binaxis='y', stackdir='center', dotsize = .5)\n",
    "p"
   ]
  }
 ],
 "metadata": {
  "kernelspec": {
   "display_name": "SoS",
   "language": "sos",
   "name": "sos"
  },
  "language_info": {
   "codemirror_mode": "sos",
   "file_extension": ".sos",
   "mimetype": "text/x-sos",
   "name": "sos",
   "nbconvert_exporter": "sos.jupyter.converter.SoS_Exporter",
   "pygments_lexer": "sos"
  }
 },
 "nbformat": 4,
 "nbformat_minor": 0
}
