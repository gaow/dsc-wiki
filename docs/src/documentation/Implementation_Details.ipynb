{
 "cells": [
  {
   "cell_type": "markdown",
   "metadata": {
    "kernel": "sos"
   },
   "source": [
    "# Implementation details"
   ]
  },
  {
   "cell_type": "markdown",
   "metadata": {},
   "source": [
    "DSC2 is implemented in Python 3. It relies on a number of libraries:\n",
    "\n",
    "*  [`sos`](https://github.com/vatlab/SOS) library supports the execution of steps in DSC, which implements job dependency management via [networkx](https://networkx.github.io/) and controls parallelization via [rq](http://python-rq.org). Development of DSC is contributed directly to `sos` whenever approperate.\n",
    "*  [`sympy`](http://www.sympy.org/en/index.html) is used to interpret logic behind DSC sequences and parameter assignment (if `.logic` options are available).\n",
    "*  [`ryp2`](http://rpy2.bitbucket.org/) controls interactions between DSC2 plugins written in R or Python.\n",
    "*  [`pandas`](http://pandas.pydata.org/) is used to ensure proper conversion between R and Python data frames. It is also used to manipulate output data.\n",
    "*  The DSC2 script follows from a customized [YAML](http://www.yaml.org/) format. `pyyaml` is used for initial processing (although we may drop it in the future due to lack of flexibility to load DSC2 script safely).\n",
    "\n",
    "Data flow between computational routines via [RDS files](http://www.inside-r.org/r-doc/base/saverds), if those routines are implemented as R or Python plugins (as opposed to command line programs). Saving and loading RDS files can be costly in both execution time and disk space; you may notice that it seems to take DSC2 relatively long time to complete a job compared to a straightforward R implementation. On the other hand, archiving outcome of computational routines in the form of RDS files makes it possible to re-use existing results, thus beneficial in the long run, particularly for projects where computational steps are not trivial and there is a need to actively add new computational routines to existing DSC framework."
   ]
  }
 ],
 "metadata": {
  "kernelspec": {
   "display_name": "SoS",
   "language": "sos",
   "name": "sos"
  },
  "language_info": {
   "codemirror_mode": "sos",
   "file_extension": ".sos",
   "mimetype": "text/x-sos",
   "name": "sos",
   "nbconvert_exporter": "sos.jupyter.converter.SoS_Exporter",
   "pygments_lexer": "sos"
  }
 },
 "nbformat": 4,
 "nbformat_minor": 0
}
