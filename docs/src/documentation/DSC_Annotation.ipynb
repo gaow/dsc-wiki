{
 "cells": [
  {
   "cell_type": "markdown",
   "metadata": {},
   "source": [
    "# Syntax: DSC annotation"
   ]
  },
  {
   "cell_type": "markdown",
   "metadata": {},
   "source": [
    "DSC annotation is a file that tags the DSC procedure with meaningful identifiers so that one can easily extract results for given computational step under given condition, from numerous combinations of computational setups. Readers may notice that in our introduction to [DSC configuration](DSC_Configuration.html) we have not discussed how output from DSC is handled or interpreted. In fact DSC2 will generate intermediate output for each unique parameter combination of every computational step, along with a lookup data base that stores connection between these steps. However it is rather difficult, though still possible, to interact directly with these output. With **DSC annotation** file we can keep track of combinations we are interested in and can easily extract data for these combinations one at a time as it is desired."
   ]
  },
  {
   "cell_type": "markdown",
   "metadata": {},
   "source": [
    "Here is an example annotation section:\n",
    "\n",
    "```yaml\n",
    "mean_t:\n",
    "    simulate: \n",
    "        exec: rt.R\n",
    "        params:\n",
    "          true_mean: 0\n",
    "    estimate:\n",
    "        exec: mean.R\n",
    "```"
   ]
  },
  {
   "cell_type": "markdown",
   "metadata": {},
   "source": [
    "In this example we add a tag called `mean_t` to part of a DSC sequence where data is simulated under *t* distribution with location parameter zero, and analyzed using `mean.R` method. The format of DSC annotation structure is essentially DSC configuration file with an additional level or hierarchy being the tag name. However unlike DSC configuration whose syntax is designed to generate combinations of steps and parameters, syntax for annotation statement is designed to execute queries on databases, thus resembling query lauguages. There are 3 types of supported annotation statements:\n",
    "\n",
    "* Single numeric or string values. For example `rt.R`, `mean.R` and `0` from the example above all belong to this type of annotation statement. It is a simple \"equals\" statement when converted to database queries.\n",
    "  * if `Asis()` operator was used in DSC configuration to set parameters, the corresponding annotation statement should also use this operator. Here is [an example](../tutorials/Intermediate_R_1.html#Result-annotation) involving the `Asis()` operator.\n",
    "* A set of values, specified by `()` similar to the SQL style. For example, `K: (1, 2, 5, 10)` means `K == 1` OR `K == 2` OR `K == 5` OR `K == 10`.\n",
    "* A `%` symbol followed by a query statement. For example, `K: % K > 20 AND K < 30`. This statement will be passed to query command directly. \n",
    "\n",
    "Query statement is the most flexible way to compose an annotation though one has to ensure the statement is valid; DSC will otherwise fail to annotate the result with bad queries."
   ]
  },
  {
   "cell_type": "markdown",
   "metadata": {},
   "source": [
    "It is possible to create as many tags as needed from one DSC annotation file. The results will be annotated with the `--annotation` switch to apply all tags, and one can extract data from specific tags or combination of tags with `--extract` switch. Please see documentation for these command line options [here](Command_Options.html). To see how DSC annotation works in action please follow through the [2nd part of the Quick Start tutorial](../tutorials/Explore_Output.html)."
   ]
  }
 ],
 "metadata": {
  "kernelspec": {
   "display_name": "SoS",
   "language": "sos",
   "name": "sos"
  },
  "language_info": {
   "codemirror_mode": "sos",
   "file_extension": ".sos",
   "mimetype": "text/x-sos",
   "name": "sos",
   "nbconvert_exporter": "sos.jupyter.converter.SoS_Exporter",
   "pygments_lexer": "sos"
  },
  "sos": {
   "kernels": [
    [
     "sos",
     "SoS",
     ""
    ]
   ]
  }
 },
 "nbformat": 4,
 "nbformat_minor": 2
}
