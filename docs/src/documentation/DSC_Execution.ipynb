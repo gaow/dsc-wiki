{
 "cells": [
  {
   "cell_type": "markdown",
   "metadata": {},
   "source": [
    "# Syntax: DSC execution"
   ]
  },
  {
   "cell_type": "markdown",
   "metadata": {},
   "source": [
    "## DSC Sequences\n",
    "Blocks are executed from the **DSC section** as *sequences*, defined by the `DSC::run` entry. Ways these blocks are connected can be specified via \"*\", \",\" and \"()\" operators:\n",
    "\n",
    "_FIXME: give example for_ `+`\n",
    "\n",
    "*  `*`: right hand side (RHS) is executed after the left hand side (LHS).\n",
    "*  `+`: LHS and RHS are pair-wise combined first. **In DSC, + operator has higher precedence than * operator**.\n",
    "*  `,`: RHS and LHS are concurrent.\n",
    "*  `()`: allows for combinations of `*` and `,`.\n",
    "\n",
    "These operators also apply to `.logic` entries which define the ways parameters are combined.\n",
    "\n",
    "### Example 1\n",
    "```yaml\n",
    "  run: simulate * (transform * estimate) * score\n",
    "```\n",
    "\n",
    "DSC will run \"transform\" first, followed by \"estimate\".\n",
    "\n",
    "### Example 2\n",
    "```yaml\n",
    "  run: simulate * (transform * estimate, estimate) * score\n",
    "```\n",
    "\n",
    "DSC will run 2 concurrent sequences of steps. The first involves \"transform\" followed by \"estimate\"; the second is \"estimate\" only.\n",
    "\n",
    "Slicing is supported, for example:\n",
    "\n",
    "```yaml\n",
    "  run: simulate * (transform[1:3] * estimate[1], transform[4:5] * estimate[2], estimate) * score\n",
    "```\n",
    "\n",
    "### Example 3\n",
    "```yaml\n",
    "  run: simulate * (voom, sqrt, identity) * (RUV, SVA) * (DESeq, edgeRglm, ash) * score\n",
    "```\n",
    "\n",
    "will be expanded to:\n",
    "\n",
    "```yaml\n",
    "  run: simulate * sqrt * RUV * DESeq * score,\n",
    "       simulate * sqrt * SVA * DESeq * score,\n",
    "       simulate * identity * RUV * DESeq * score,\n",
    "       simulate * voom * RUV * DESeq * score,\n",
    "       simulate * identity * SVA * DESeq * score,\n",
    "       simulate * voom * SVA * DESeq * score,\n",
    "       simulate * sqrt * RUV * ash * score,\n",
    "       simulate * sqrt * RUV * edgeRglm * score,\n",
    "       simulate * sqrt * SVA * ash * score,\n",
    "       simulate * sqrt * SVA * edgeRglm * score,\n",
    "       simulate * identity * RUV * ash * score,\n",
    "       simulate * voom * RUV * ash * score,\n",
    "       simulate * identity * RUV * edgeRglm * score,\n",
    "       simulate * voom * RUV * edgeRglm * score,\n",
    "       simulate * identity * SVA * ash * score,\n",
    "       simulate * voom * SVA * ash * score,\n",
    "       simulate * identity * SVA * edgeRglm * score,\n",
    "       simulate * voom * SVA * edgeRglm * score\n",
    "```\n",
    "\n",
    "## DSC Section Parameters\n",
    "*  `master`: Block names that will become one of the *master* tables in DSC output. By default the last block of a DSC sequence will be the master table. When a block becomes a master table, DSC will attempt to extract information from the block output and write them explicitly to the DSC output database.\n",
    "\n",
    "*FIXME: we should no longer need master parameter once we have simple interface to extract intermediate output*\n",
    "\n",
    "*  `params`: Defines DSC variables which can be used anywhere in the DSC file through `$()` sigil.\n",
    "*  `exec_path`: Search path for executable files.\n",
    "*  `lib_path`: Search path for library files, such as R script to be `source`-ed or Python scripts to be `import`-ed.\n",
    "*  `R_libs`: Required R libraries, from cran, bioconductor or github:\n",
    " *  `package`: DSC will check / install `package` from cran or bioconductor.\n",
    " *  `github_repo/package`: DSC will install `package` from `github_repo` on github.\n",
    " *  `package (version[s])`: DSC will install `package` and check version as required. A warning message will be generated if version do not match. It is possible to specify several versions such as `edgeR (3.12.0, 3.12.1)` or simply `edgeR (3.12.0+)`.\n",
    "*  `python_modules`: Required Python3 modules, from pip.\n",
    "*  `work_dir`: work directory where DSC runs take place.\n",
    "\n",
    "## Running DSC\n",
    "At this point we have covered everthing we need to compose a DSC file. To see how it works in practice with a simple example, please follow through this [Quick Start tutorial](../tutorials/Quick_Start.html)."
   ]
  }
 ],
 "metadata": {
  "kernelspec": {
   "display_name": "SoS",
   "language": "sos",
   "name": "sos"
  },
  "language_info": {
   "codemirror_mode": "sos",
   "file_extension": ".sos",
   "mimetype": "text/x-sos",
   "name": "sos",
   "nbconvert_exporter": "sos.jupyter.converter.SoS_Exporter",
   "pygments_lexer": "sos"
  },
  "sos": {
   "celltoolbar": true,
   "kernels": [
    [
     "sos",
     "SoS",
     ""
    ],
    [
     "python3",
     "Python3",
     "#EAFAF1"
    ],
    [
     "ir",
     "ir",
     ""
    ]
   ],
   "panel": {
    "displayed": true,
    "height": 0,
    "style": "side"
   }
  }
 },
 "nbformat": 4,
 "nbformat_minor": 2
}
