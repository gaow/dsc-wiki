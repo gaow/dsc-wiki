{
 "cells": [
  {
   "cell_type": "markdown",
   "metadata": {},
   "source": [
    "# Design and Features"
   ]
  },
  {
   "cell_type": "markdown",
   "metadata": {},
   "source": [
    "## Design Overview\n",
    "DSC2 is designed to execute a sequence of computational steps that generate (or gather) data, perform statistical analyses and evaluate the performance of statistical procedures involved. Each step will take some input and create some output. A DSC2 user thus has two jobs: define the steps, and define the sequence of steps.\n",
    "\n",
    "A typical DSC sequences consists of 3 logical types of steps: **scenario**, **method** and **score**, where\n",
    "\n",
    "*  **scenario**: provides input data and / or computational routines that generate input data.\n",
    "*  **method**: defines statistical procedures that analyzes data.\n",
    "*  **score**: defines methods that evaluates the result of data analyses against the \"truth\" (model from which the data is generated) and calculates scores as measures of evaluations.\n"
   ]
  },
  {
   "cell_type": "markdown",
   "metadata": {},
   "source": [
    "> Peter: I was confused here because this is only an illustration of DSC2; not all use cases of DSC2 need to \n",
    "> follow this approach. I think you need to reframe this an illustrative example, and emphasize that DSC2\n",
    "> is very generic.\n",
    ">\n",
    "> Also, maybe use the plural for all three (scenarios, methods and scores)?\n",
    "\n",
    "_FIXME: At this point I'm not sure if we want to emphasize this typical logic, or emphasize it this heavily. This is essentially DSCR logic. Though DSC2 is more generic I do not want to make people think / use it as a tool to run pipelines. In the domain of methods comparisons any DSC sequence should follow along the line of these 3 broad types of steps_\n"
   ]
  },
  {
   "cell_type": "markdown",
   "metadata": {},
   "source": [
    "DSC allows for flexible combination of computational steps, as illustrated in the pipeline below,\n",
    "\n",
    "```\n",
    "  | scenario 1               |    | method 1 ->                      |    | score 1 |\n",
    "  | scenario 2               | -> | method 2 -> method 1             | -> | score 2 |\n",
    "  | scenario 1 -> scenario 3 |    | method 3 -> method 2 -> method 1 |    | ...     |\n",
    "  | scenario 4 -> ...        |    | method 4 -> ...                  |    | ...     |\n",
    "```\n",
    "\n",
    "where each **scenario**, **method** and **score** is a computational step which can be different approaches to generate data, perform statistical analysis, or measure performance of methods, or can be the same approaches with different parameter settings. It is good to have the 3 logical types in mind when developing a DSC, though these are not necessarily keywords in DSC syntax, as will be demonstrated in the case study below. Naturally you do not have to fully developing each of these logical steps particularly in the exploratory phase of research.\n",
    "\n"
   ]
  },
  {
   "cell_type": "markdown",
   "metadata": {},
   "source": [
    "> Peter: What do the arrows mean here?\n",
    "\n",
    "_FIXME: replace this text illustration with a figure generated via inkscape_\n"
   ]
  },
  {
   "cell_type": "markdown",
   "metadata": {},
   "source": [
    "## A Case Study\n",
    "\n",
    "To understand the DSC design we review a simple example with (mostly) self-explanatory syntax. DSC syntax is completely documented [elsewhere](../../documentation.html#Syntax); readers should not worry about learning the syntax at this point.\n",
    "\n",
    "> Peter: Can you briefly describe (in a few sentences) what is the aim of this example? It looks like \n",
    "> this example is comparing two methods (windsor1 and windsor2) and evaluating these methods\n",
    "> by computing the MSE between the estimate and the ground-truth value. Is this correct?\n",
    "> I realize that you describe this example in more detail below, but it is useful to have\n",
    "> a brief description upfront.\n",
    "\n",
    "The example reads:\n",
    "\n",
    "```yaml\n",
    "  simulate:\n",
    "      exec: rt.R, rcauchy.R\n",
    "      seed: R(1:5)\n",
    "      params:\n",
    "          n: 1000\n",
    "          true_loc: 0, 1\n",
    "      return: x, true_loc\n",
    "\n",
    "  transform:\n",
    "      exec: winsor1.R, winsor2.R\n",
    "      params:\n",
    "          x: $x\n",
    "          exec[1]:\n",
    "              fraction: 0.05\n",
    "          exec[2]:\n",
    "              multiple: 3\n",
    "      return: x\n",
    "\n",
    "  estimate:\n",
    "      exec: mean.R, median.R\n",
    "      params:\n",
    "          x: $x\n",
    "      return: loc\n",
    "\n",
    "  mse:\n",
    "      exec: MSE.R\n",
    "      params:\n",
    "          mean_est: $loc\n",
    "          true_mean: $true_loc\n",
    "      return: mse\n",
    "\n",
    "  DSC:\n",
    "      run: simulate *\n",
    "           (transform * estimate, estimate) *\n",
    "           mse\n",
    "      exec_path: R\n",
    "      output: dsc_result\n",
    "```\n",
    "\n",
    "Each section in the DSC file, except for the last \"DSC\" section, is called a *DSC block*. Each DSC block defines **a family of** computational routines (or steps, defined by `exec` entries), input to these routines (`params`) and output (`return`). The family of routines in the same block share similar (not necessarily the same) input parameters, and strictly the same return values. In this example, computational steps from the same block are logically concurrent to each other, because routines for all `exec` entries are independent. The \"DSC\" section defines the sequence of steps to execute, via logical combinations of available DSC blocks.\n"
   ]
  },
  {
   "cell_type": "markdown",
   "metadata": {},
   "source": [
    "> Peter: I think I mostly understand what the paragraph above is saying. But maybe you can give an example?\n",
    "> e.g., in the \"transform\" block, are the family of routines `winsor1.R` and `winsor2.R`?\n",
    ">\n",
    "> Are you required to define 'exec', 'params' and 'return' for all blocks? Are there many other \n",
    "> parameters that aren't mentioned here? \n"
   ]
  },
  {
   "cell_type": "markdown",
   "metadata": {},
   "source": [
    "In this example, the first part of the DSC sequence calls the \"simulate\" block, which has two computational routines `rcauchy.R` and `rt.R`. These routines generate `n` random samples under Cauchy distribution with location parameter `true_loc`, and *t* distribution with non-centrality parameter `true_loc`, respectively. There are 2 choices of computational routines, each routine has one choice of `n` (1000) and two choices of `true_loc` (0 and 1). 5 replicates are evaluated as defined by `seed`. As a result, the \"simulate\" block has 20 parallel computational steps.\n",
    "\n",
    "The second part of the sequence consists of \"transform\" and \"estimate\" blocks. \"transform\" block performs two types of winsorization on input data. \"estimate\" block defines two computational routines to estimate location parameter, via sample mean (`mean.R`) and median (`median.R`) respectively. In this part, there are two types of procedures: the first is `transform + estimate` which runs the \"transform\" family of steps first, then run the \"estimate\" family after data has been transformed; the second is `estimate` which directly performs parameter estimation with the original data produced by its upstream computational steps.\n",
    "\n",
    "The last part of the sequence calls the \"mse\" block, which has a single computational routine `MSE.R` to calculate the mean square error as a summary of comparison between the *true* (`true_mean`) and *estimated* (`mean_est`) location parameters, taking `$true_loc` and `$loc` respectively which correspond to the `return` values from previous computational steps.\n",
    "\n",
    "In this case study, the design of blocks logically follows the **scenario**, **method** (pre-processing and analysis), and **score** paradigm; thus there are 3 blocks. It does not have to be this way, though: one can even make separated blocks for each computational routine (in this case for every R script) and combine them in the *run* sequence in *DSC* section. The style adopted in this example appears to be the most reasonable choice because computational routines sharing input and output are consolidated into single blocks, and logic between blocks reflecting the DSC design are clearly presented.\n",
    "\n",
    "> Peter: I'm confused---aren't there 4 blocks in this example? (simulate, transform, estimate, mse)\n",
    "\n",
    "DSC2 script implements an implicit rule for the scope of variables starting with `$` sigil. Within a DSC block, all parameter variables should be considered *local* to the block, not accessible from outside the block; all returned values should be considered *global* variable accessible from other DSC blocks via `$` sigil. It is legitimate and sometimes necessary that multiple blocks have the same variable name in their return entry, for example here both \"simulate\" and \"transform\" blocks return `x`. In such case, which block provides value `$x` depends on the context of the DSC sequence. The implicit rule here is that DSC2 will always search for the nearest upstream block that yields the variable it looks for. For example, the DSC sequence `simulate * (transform * estimate, estimate) * mse` can be expanded to `simulate * transform * estimate * mse` and `simulate * estimate * mse`. In the first sequence, `$x` in \"estimate\" comes from its direct upstream neighbor \"transform\", not \"simulate\", while in the second sequence `$x` comes from \"simulate\".\n",
    "\n",
    "> Peter: The \"transform\" block takes x as input and returns x. Could DSC2 run transform multiple times?\n",
    "\n",
    "## Executable modes\n",
    "DSC2 will consider a computational routine a *plugin* when the `exec` is R or Python script, and the return value is not [`File()`](DSC_Configuration.html#File()). Computational results and communications between blocks will be handled implicitly (via RDS files). In plugin mode, users only have to make sure the variables used in plugin scripts are defined in the DSC script not the plugin scripts, and the return value for the DSC block should be one or multiple variables in the plugin script. All the computational routines in the example above are plugins written in R.\n"
   ]
  }
 ],
 "metadata": {
  "kernelspec": {
   "display_name": "SoS",
   "language": "sos",
   "name": "sos"
  },
  "language_info": {
   "codemirror_mode": "sos",
   "file_extension": ".sos",
   "mimetype": "text/x-sos",
   "name": "sos",
   "nbconvert_exporter": "sos.jupyter.converter.SoS_Exporter",
   "pygments_lexer": "sos"
  }
 },
 "nbformat": 4,
 "nbformat_minor": 0
}
