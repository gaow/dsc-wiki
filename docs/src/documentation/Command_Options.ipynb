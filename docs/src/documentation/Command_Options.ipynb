{
 "cells": [
  {
   "cell_type": "markdown",
   "metadata": {},
   "source": [
    "# Command interface"
   ]
  },
  {
   "cell_type": "markdown",
   "metadata": {},
   "source": [
    "DSC2 implements DSC by executing DSC script and annotation via command line program `dsc`:\n",
    "## Help message"
   ]
  },
  {
   "cell_type": "code",
   "execution_count": 1,
   "metadata": {
    "collapsed": false,
    "kernel": "sos",
    "output_cache": "[{\"name\":\"stdout\",\"output_type\":\"stream\",\"text\":\"usage: dsc [-h] [--version] [-v {0,1,2,3,4}] [-j N] [-o str] [-f]\\n           [--target str] [-x DSC script] [--sequence str [str ...]]\\n           [--seed values [values ...]] [--recover levels] [--ignore-errors]\\n           [--clean [str [str ...]]] [--host str] [-a file.ann [file.ann ...]]\\n           [-e block:variable [block:variable ...]] [--tags str [str ...]]\\n           [--distribute [files [files ...]]]\\n\\noptional arguments:\\n  -h, --help            show this help message and exit\\n  --version             show program's version number and exit\\n  -v {0,1,2,3,4}, --verbosity {0,1,2,3,4}\\n                        Output error (0), warning (1), info (2), debug (3) and\\n                        trace (4) information. Default to 2.\\n  -j N                  Number of maximum concurrent processes.\\n  -o str                Output data prefix for -x / -e commands.\\n  -f                    Force re-run -x / -e commands from scratch.\\n  --target str          The ultimate target of a DSC benchmark is the name of\\n                        the last block in a DSC sequence. This option is\\n                        relevant to -a / -e commands when there exists\\n                        multiple DSC sequences with different targets.\\n\\nExecute DSC:\\n  -x DSC script, --execute DSC script\\n                        Execute DSC.\\n  --sequence str [str ...]\\n                        DSC sequences to be executed. It will override the\\n                        DSC::run entry when specified. Multiple sequences are\\n                        allowed. Each input should be a quoted string defining\\n                        a valid DSC sequence, or referring to the key of an\\n                        existing sequence in the DSC script. Multiple such\\n                        strings should be separated by space.\\n  --seed values [values ...]\\n                        This will override any \\\"seed\\\" property in the DSC\\n                        script. This feature is useful for using a small\\n                        number of seeds for a test run. Example: `--seed 1`,\\n                        `--seed 1 2 3 4`, `--seed {1..10}`, `--seed \\\"R(1:10)\\\"`\\n  --recover levels      Recover DSC based on names (not contents) of existing\\n                        files. Level 1 recover will try to reconstruct the\\n                        entire benchmark skipping existing files. Level 2\\n                        recover will only use existing files to reconstruct\\n                        the benchmark output metadata, making it possible to\\n                        explore partial benchmark results without having to\\n                        wait until completion of entire benchmark.\\n  --ignore-errors       Bypass all errors from computational programs. This\\n                        will keep the benchmark running but all results will\\n                        be set to missing values and the problematic script\\n                        will be saved when applicable.\\n  --clean [str [str ...]]\\n                        Instead of running DSC, output for one or multiple\\n                        steps from previous DSC runs are to be cleaned. Each\\n                        step should be a valid DSC step in the format of\\n                        \\\"block[index]\\\", or \\\"block\\\" for all steps in the block.\\n                        Multiple steps should be separated by space. When \\\"--\\n                        clean\\\" is used with \\\"-f\\\", all specified files will be\\n                        removed regardless of their step execution status.\\n  --host str            URL of Redis server for distributed computation.\\n\\nAnnotate DSC:\\n  -a file.ann [file.ann ...], --annotate file.ann [file.ann ...]\\n                        Annotate DSC. Annotation files must have \\\".ann\\\"\\n                        extension. If \\\"-a\\\" option is used independently from\\n                        \\\"-x\\\", then the first file should be the DSC\\n                        configuration file with a non-\\\".ann\\\" extension. If\\n                        this rule is violated, the program will attempt to\\n                        look for a file having the same base name as the first\\n                        file but with \\\".dsc\\\" extension and if found it will be\\n                        used as the DSC configuration file.\\n\\nExtract DSC results:\\n  -e block:variable [block:variable ...], --extract block:variable [block:variable ...]\\n                        Variable(s) to extract. Variable(s) should be\\n                        specified by \\\"block:variable\\\". Valid `variable` are\\n                        variables found in `return` of the corresponding DSC\\n                        block.\\n  --tags str [str ...]  Tags to extract. The \\\"&&\\\" sign can be used to specify\\n                        intersect of multiple tags. The \\\"=\\\" sign can be used\\n                        to rename extracted tags. Default to extracting for\\n                        all tags.\\n\\nDistribute DSC:\\n  --distribute [files [files ...]]\\n                        Additional files to distribute. This option will\\n                        create a tarball for the DSC benchmark for\\n                        distribution. If additional files are given to this\\n                        option, then those files will also be included in the\\n                        benchmark.\\n\"}]",
    "scrolled": false
   },
   "outputs": [
    {
     "name": "stdout",
     "output_type": "stream",
     "text": [
      "usage: dsc [-h] [--version] [-v {0,1,2,3,4}] [-j N] [-b str] [-f]\n",
      "           [--target str] [-x DSC script] [--sequence str [str ...]]\n",
      "           [--seeds values [values ...]] [--recover levels] [--ignore-errors]\n",
      "           [--clean [str [str ...]]] [--host str] [-a DSC Annotation]\n",
      "           [-e block:variable [block:variable ...]] [--tags str [str ...]]\n",
      "           [-o str] [--distribute [files [files ...]]]\n",
      "\n",
      "optional arguments:\n",
      "  -h, --help            show this help message and exit\n",
      "  --version             show program's version number and exit\n",
      "  -v {0,1,2,3,4}, --verbosity {0,1,2,3,4}\n",
      "                        Output error (0), warning (1), info (2), debug (3) and\n",
      "                        trace (4) information. Default to 2.\n",
      "  -j N                  Number of maximum concurrent processes.\n",
      "  -b str                Benchmark name. Will overwrite \"DSC::run\" in DSC\n",
      "                        configuration file.\n",
      "  -f                    Force re-run -x / -e commands from scratch.\n",
      "  --target str          The ultimate target of a DSC benchmark is the name of\n",
      "                        the last block in a DSC sequence. This option is\n",
      "                        relevant to -a / -e commands when there exists\n",
      "                        multiple DSC sequences with different targets.\n",
      "\n",
      "Execute DSC:\n",
      "  -x DSC script, --execute DSC script\n",
      "                        Execute DSC.\n",
      "  --sequence str [str ...]\n",
      "                        DSC sequences to be executed. It will override the\n",
      "                        DSC::run entry when specified. Multiple sequences are\n",
      "                        allowed. Each input should be a quoted string defining\n",
      "                        a valid DSC sequence, or referring to the key of an\n",
      "                        existing sequence in the DSC script. Multiple such\n",
      "                        strings should be separated by space.\n",
      "  --seeds values [values ...]\n",
      "                        This will override any \"seed\" property in the DSC\n",
      "                        script. This feature is useful for using a small\n",
      "                        number of seeds for a test run. Example: `--seeds 1`,\n",
      "                        `--replicate 1 2 3 4`, `--seeds {1..10}`, `--seeds\n",
      "                        \"R(1:10)\"`\n",
      "  --recover levels      Recover DSC based on names (not contents) of existing\n",
      "                        files. Level 1 recover will try to reconstruct the\n",
      "                        entire benchmark skipping existing files. Level 2\n",
      "                        recover will only use existing files to reconstruct\n",
      "                        the benchmark output metadata, making it possible to\n",
      "                        explore partial benchmark results without having to\n",
      "                        wait until completion of entire benchmark.\n",
      "  --ignore-errors       Bypass all errors from computational programs. This\n",
      "                        will keep the benchmark running but all results will\n",
      "                        be set to missing values and the problematic script\n",
      "                        will be saved when applicable.\n",
      "  --clean [str [str ...]]\n",
      "                        Instead of running DSC, output for one or multiple\n",
      "                        steps from previous DSC runs are to be cleaned. Each\n",
      "                        step should be a valid DSC step in the format of\n",
      "                        \"block[index]\", or \"block\" for all steps in the block.\n",
      "                        Multiple steps should be separated by space. When \"--\n",
      "                        clean\" is used with \"-f\", all specified files will be\n",
      "                        removed regardless of their step execution status.\n",
      "  --host str            URL of Redis server for distributed computation.\n",
      "\n",
      "Annotate DSC:\n",
      "  -a DSC Annotation, --annotate DSC Annotation\n",
      "                        Annotate DSC.\n",
      "\n",
      "Extract DSC results:\n",
      "  -e block:variable [block:variable ...], --extract block:variable [block:variable ...]\n",
      "                        Variable(s) to extract. Variable(s) should be\n",
      "                        specified by \"block:variable\". Valid `variable` are\n",
      "                        variables found in `return` of the corresponding DSC\n",
      "                        block.\n",
      "  --tags str [str ...]  Tags to extract. The \"&&\" sign can be used to specify\n",
      "                        intersect of multiple tags. The \"=\" sign can be used\n",
      "                        to rename extracted tags. Default to extracting for\n",
      "                        all tags.\n",
      "  -o str                Output file name.\n",
      "\n",
      "Distribute DSC:\n",
      "  --distribute [files [files ...]]\n",
      "                        Additional files to distribute. This option will\n",
      "                        create a tarball for the DSC benchmark for\n",
      "                        distribution. If additional files are given to this\n",
      "                        option, then those files will also be included in the\n",
      "                        benchmark.\n"
     ]
    }
   ],
   "source": [
    "! dsc -h"
   ]
  },
  {
   "cell_type": "markdown",
   "metadata": {},
   "source": [
    "## Global options\n",
    "*  `-j` specifies number of CPU threads to use. You may run DSC in parallel on a single desktop, or on distributed computer system that runs `Redis` server / worker (FIXME: link to tutorial), in which case `--host` will have to be specified.\n",
    "*  `-v` controls verbosity level. Default level is 2. If you encounter error messages you can increase the verbosity level to output more information to diagnose the cause.\n",
    "*  `-b` changes the default output filename / directory specified in the DSC script.\n",
    "*  `-f` forces executing DSC or extracting DSC results without using existing cache. During a DSC execution, cache files of intermediate output and parameters are saved so that future re-runs of the same computation will be skipped. The `-f` option forces DSC to ignore existing cache and run the entire procedure from scratch.\n",
    "* `--target` by default, is the name of the last DSC block if the DSC procedure only runs one sequence. Otherwise the name of the last DSC block has to be provided when `-a` or `-e` switches are turned on.\n",
    "\n",
    "\n",
    "## DSC Execution options\n",
    "* `-x` specifies the DSC configuration script.\n",
    "* `--sequence` specifies which particular DSC sequence to run. See this [section](DSC_Execution.html#Load-sequence-from-command-line) for an example.\n",
    "*  `--recover` executes DSC using existing output files without checking for their properties. This is useful when files are migrated from one computational system to another: `--recover` prevents DSC from re-running due to change of file properties (mostly absoluate path to file) in this case. This option takes parameters 1 or 2. 1 will re-run the benchmark ignoring existing output; 2 will attempt to recover the output metadata without re-running the benchmark at all (this is useful when the benchmark is not complete but a preview of results is desired).\n",
    "* `--seeds` is useful in exploratory analysis and debug. One can use `--seeds 1` or `--seeds 1 2` to overwrite all `seed` properties defined in the DSC file, thus only executing a small number of replicates, for testing purpose.\n",
    "* `--ignore-errors` is a flag which, when added, will ignore errors from user provided scripts thus keep the benchmark running. There are often situations when we use other people's software packages that produces errors in random corner cases that will interrupt the benchmark from moving forward. It is suggested that one should develop the DSC benchmark without adding this flag, and use this flag to run the benchmark in large scale when all codes are gauranteed to work in most situations. Instead of throwing an error, DSC will **store the problematic chunk of code that resulted in an error to the output, creating a fake output file that keeps DSC moving**. These faked output will result in a chain reaction of failure in every other step that depends on them. In the end the `dsc -e` option will try to deal with this situation by extracting values whenever available, otherwise using the problematic file name in place of the values. In this way the users can either filter out these bad output as if they are missing values, or track those files to examine what goes wrong, by executing them as plain text script.\n",
    "*  `--clean` will remove output from specified DSC sequences / steps, instead of executing them.\n",
    "\n",
    "## DSC annotation\n",
    "These options will annotate DSC by applying \"tags\" to DSC results. This is a pre-processing step to DSC results extraction\n",
    "\n",
    "* `-a` specifies annotation files. See this [section](DSC_Annotation.html) for an example annotation file.\n",
    "\n",
    "## DSC results extraction\n",
    "These options will extract annotated DSC to a separate file for further analysis.\n",
    "\n",
    "* `-e` specifies the name of variable to extract.\n",
    "* `--tags` annotations to extract. It is possible to extract intersection of annotations using the `&&` operator. One can also rename extracted fields using `=` operator. For example, `--tags \"case1 = small_sample && large_features && elasticnet\"`.\n",
    "* `-o` specifies ultimate output data file name.\n",
    "\n",
    "## DSC release\n",
    "The `--distribute` option will bundle the DSC benchmark into a tarball that can be uploaded to `shinydsc` for data query and visualization, or be transfered to other computational environment. DSC benchmarks should be released with this command.\n",
    "\n",
    "* `--distribute` when used without any argument it will pack project meta information, DSC configuration and annotation script (if applicable), and benchmark output into a tarball. This tarball contains enough information to be used with `shinydsc`. To port the complete benchmark, one should specify additional files such as computational scripts and data used, eg, `--distribute /path/to/scripts`. \n"
   ]
  }
 ],
 "metadata": {
  "kernelspec": {
   "display_name": "SoS",
   "language": "sos",
   "name": "sos"
  },
  "language_info": {
   "codemirror_mode": "sos",
   "file_extension": ".sos",
   "mimetype": "text/x-sos",
   "name": "sos",
   "nbconvert_exporter": "sos.jupyter.converter.SoS_Exporter",
   "pygments_lexer": "sos"
  },
  "sos": {
   "celltoolbar": true,
   "kernels": [
    [
     "sos",
     "SoS",
     ""
    ],
    [
     "python3",
     "Python3",
     "#EAFAF1"
    ],
    [
     "ir",
     "ir",
     ""
    ]
   ],
   "panel": {
    "displayed": true,
    "height": 0,
    "style": "side"
   }
  }
 },
 "nbformat": 4,
 "nbformat_minor": 0
}
