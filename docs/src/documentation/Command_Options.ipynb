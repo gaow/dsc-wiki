{
 "cells": [
  {
   "cell_type": "markdown",
   "metadata": {},
   "source": [
    "# Command interface"
   ]
  },
  {
   "cell_type": "markdown",
   "metadata": {},
   "source": [
    "DSC2 implements DSC by executing DSC script and annotation via command line program `dsc`:\n",
    "## Help message"
   ]
  },
  {
   "cell_type": "code",
   "execution_count": 1,
   "metadata": {
    "collapsed": false,
    "kernel": "sos"
   },
   "outputs": [
    {
     "name": "stdout",
     "output_type": "stream",
     "text": [
      "usage: dsc [-h] [--version] [-v {0,1,2,3,4}] [-j N] [-o str] [-f]\n",
      "           [--target str] [-x DSC script] [--sequence str [str ...]]\n",
      "           [--recover] [--clean [str [str ...]]] [--host str]\n",
      "           [-a DSC files [DSC files ...]]\n",
      "           [-e block:variable [block:variable ...]] [--tags str [str ...]]\n",
      "\n",
      "Implementation of Dynamic Statistical Comparisons\n",
      "\n",
      "optional arguments:\n",
      "  -h, --help            show this help message and exit\n",
      "  --version             show program's version number and exit\n",
      "  -v {0,1,2,3,4}, --verbosity {0,1,2,3,4}\n",
      "                        Output error (0), warning (1), info (2), debug (3) and\n",
      "                        trace (4) information. Default to 2.\n",
      "  -j N                  Number of maximum concurrent processes.\n",
      "  -o str                Output data prefix for -x / -e commands.\n",
      "  -f                    Force re-run -x / -e commands from scratch.\n",
      "  --target str          The ultimate target of a DSC benchmark is the name of\n",
      "                        the last block in a DSC sequence. This option is\n",
      "                        relevant to -a / -e commands when there exists\n",
      "                        multiple DSC sequences with different targets.\n",
      "\n",
      "Execute DSC:\n",
      "  -x DSC script, --execute DSC script\n",
      "                        Execute DSC.\n",
      "  --sequence str [str ...]\n",
      "                        DSC sequence to be executed. It will override the\n",
      "                        DSC::run entry when specified. Multiple sequences are\n",
      "                        allowed. Each input should be a quoted string defining\n",
      "                        a valid DSC sequence. Multiple such strings should be\n",
      "                        separated by space.\n",
      "  --recover             Recover DSC based on names (not contents) of existing\n",
      "                        files.\n",
      "  --clean [str [str ...]]\n",
      "                        Instead of running DSC, output for one or multiple\n",
      "                        steps from previous DSC runs are to be cleaned. Each\n",
      "                        step should be a valid DSC step in the format of\n",
      "                        \"block[index]\", or \"block\" for all steps in the block.\n",
      "                        Multiple steps should be separated by space. When \"--\n",
      "                        clean\" is used with \"-f\", all specified files will be\n",
      "                        removed regardless of their step execution status.\n",
      "  --host str            URL of Redis server for distributed computation.\n",
      "\n",
      "Annotate DSC:\n",
      "  -a DSC files [DSC files ...], --annotate DSC files [DSC files ...]\n",
      "                        Annotate DSC. An annotation file name is required and\n",
      "                        DSC will look for the script file having the same base\n",
      "                        name but with *.dsc extension. Optionally one can\n",
      "                        input 2 file names with the first the annotation file\n",
      "                        name and the second the DSC script name, eg, -a\n",
      "                        test.ann test.dsc\n",
      "\n",
      "Extract DSC results:\n",
      "  -e block:variable [block:variable ...], --extract block:variable [block:variable ...]\n",
      "                        Variable(s) to extract. Variable(s) should be\n",
      "                        specified by \"block:variable\". Valid `variable` are\n",
      "                        variables found in `return` of the corresponding DSC\n",
      "                        block.\n",
      "  --tags str [str ...]  Tags to extract. The \"&&\" symbol can be used to\n",
      "                        specify intersect of multiple tags. Default to\n",
      "                        extracting for all tags.\n"
     ]
    }
   ],
   "source": [
    "! dsc -h"
   ]
  },
  {
   "cell_type": "markdown",
   "metadata": {},
   "source": [
    "## Global options\n",
    "*  `-j` specifies number of CPU threads to use. You may run DSC in parallel on a single desktop, or on distributed computer system that runs `Redis` server / worker (FIXME: link to tutorial), in which case `--host` will have to be specified.\n",
    "*  `-v` controls verbosity level. Default level is 2. If you encounter error messages you can increase the verbosity level to output more information to diagnose the cause.\n",
    "*  `-o` changes the default output filename / directory specified in the DSC script.\n",
    "*  `-f` forces executing DSC or extracting DSC results without using existing cache. During a DSC execution, cache files of intermediate output and parameters are saved so that future re-runs of the same computation will be skipped. The `-f` option forces DSC to ignore existing cache and run the entire procedure from scratch.\n",
    "* `--target` by default, is the name of the last DSC block if the DSC procedure only runs one sequence. Otherwise the name of the last DSC block has to be provided when `-a` or `-e` switches are turned on.\n",
    "\n",
    "\n",
    "## DSC Execution options\n",
    "* `-x` specifies the DSC configuration script.\n",
    "* `--sequence` specifies which particular DSC sequence to run. See this [section](https://github.com/stephenslab/dsc2/wiki/04-Multiple-DSC-Sequences#execute-sequences-from-command-line) for an example.\n",
    "*  `--recover` executes DSC using existing output files without checking for their properties. This is useful when files are migrated from one computational system to another: `--recover` prevents DSC from re-running due to change of file properties (mostly absoluate path to file) in this case.\n",
    "*  `--clean` will remove specified DSC steps, instead of executing them. In order to remove data properly, the dsc result meta data (and RDS file defined in `DSC::output`) must be accessible.\n",
    "\n",
    "## DSC annotation\n",
    "These options will annotate DSC by applying \"tags\" to DSC results. This is a pre-processing step to DSC results extraction\n",
    "\n",
    "* `-a` specifies the annotation file. See this [section](DSC_Annotation.html) for an example annotation file. The annotation file must have the same prefix as the corresponding DSC configuration file. Otherwise one needs to use `-a annotation.ann dsc_script.dsc` to specify both of them.\n",
    "\n",
    "## DSC results extraction\n",
    "These options will extract annotated DSC to a separate file for further analysis.\n",
    "\n",
    "* `-e` specifies the name of variable to extract.\n",
    "* `--tags` annotations to extract. It is possible to extract intersection of annotations using the `&&` operator."
   ]
  }
 ],
 "metadata": {
  "kernelspec": {
   "display_name": "SoS",
   "language": "sos",
   "name": "sos"
  },
  "language_info": {
   "codemirror_mode": "sos",
   "file_extension": ".sos",
   "mimetype": "text/x-sos",
   "name": "sos",
   "nbconvert_exporter": "sos.jupyter.converter.SoS_Exporter",
   "pygments_lexer": "sos"
  },
  "sos": {
   "kernels": [
    [
     "sos",
     "SoS",
     ""
    ],
    [
     "python3",
     "Python3",
     "#EAFAF1"
    ],
    [
     "ir",
     "ir",
     ""
    ]
   ]
  }
 },
 "nbformat": 4,
 "nbformat_minor": 0
}
