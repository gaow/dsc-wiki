{
 "cells": [
  {
   "cell_type": "markdown",
   "metadata": {},
   "source": [
    "# Command interface"
   ]
  },
  {
   "cell_type": "markdown",
   "metadata": {},
   "source": [
    "DSC2 implements DSC by executing DSC script via command line program `dsc`:\n",
    "## Help message"
   ]
  },
  {
   "cell_type": "code",
   "execution_count": 1,
   "metadata": {
    "collapsed": false
   },
   "outputs": [
    {
     "name": "stdout",
     "output_type": "stream",
     "text": [
      "usage: dsc [-h] [--version] [-v {0,1,2,3,4}] [-s str [str ...]] [-o str] [-f]\n",
      "           [-r] [-j N] [--host str] [--remove str [str ...]]\n",
      "           [--annotation str] [--annotate_to str] [--extract str]\n",
      "           [--extract_from str] [--extract_to str] [--tags str [str ...]]\n",
      "           DSC file\n",
      "\n",
      "Implementation of Dynamic Statistical Comparisons\n",
      "\n",
      "positional arguments:\n",
      "  DSC file\n",
      "\n",
      "optional arguments:\n",
      "  -h, --help            show this help message and exit\n",
      "  --version             show program's version number and exit\n",
      "  -v {0,1,2,3,4}, --verbosity {0,1,2,3,4}\n",
      "                        Output error (0), warning (1), info (2), debug (3) and\n",
      "                        trace (4) information.\n",
      "  -s str [str ...], --sequence str [str ...]\n",
      "                        DSC sequence to be executed. It will override the\n",
      "                        DSC::run entry when specified. Multiple sequences are\n",
      "                        allowed. Each input should be a quoted string defining\n",
      "                        a valid DSC sequence. Multiple such strings should be\n",
      "                        separated by space.\n",
      "  -o str                DSC output filename/directory. When used, it will\n",
      "                        override the specification in DSC script\n",
      "\n",
      "Execute DSC:\n",
      "  -f                    Force executing DSC ignoring existing results.\n",
      "  -r                    Recover DSC based on names (not contents) of existing\n",
      "                        files.\n",
      "  -j N                  Number of concurrent processes allowed.\n",
      "  --host str            URL of Redis server for distributed computation.\n",
      "\n",
      "Remove DSC:\n",
      "  --remove str [str ...]\n",
      "                        DSC steps whose output are to be removed. Multiple\n",
      "                        steps are allowed. Each step should be a quoted string\n",
      "                        defining a valid DSC step, in the format of\n",
      "                        \"block_name[step_index]\". Multiple such steps should\n",
      "                        be separated by space.\n",
      "\n",
      "Annotate DSC:\n",
      "  --annotation str      DSC annotation configuration file.\n",
      "  --annotate_to str     Name of last block in DSC to annotate, applicable when\n",
      "                        there are multiple DSC sequences executed.\n",
      "\n",
      "Extract DSC results:\n",
      "  --extract str         Variable name to extract.\n",
      "  --extract_from str    Name of last block in DSC to extract data from,\n",
      "                        applicable when there are multiple DSC sequences\n",
      "                        executed.\n",
      "  --extract_to str      Prefix of file name to which extracted data is\n",
      "                        written.\n",
      "  --tags str [str ...]  Tags to extract for. Default to all tags.\n"
     ]
    }
   ],
   "source": [
    "! dsc -h"
   ]
  },
  {
   "cell_type": "markdown",
   "metadata": {},
   "source": [
    "## DSC Execution options\n",
    "* `-s` specifies which particular DSC sequence to run. See this [section](https://github.com/stephenslab/dsc2/wiki/04-Multiple-DSC-Sequences#execute-sequences-from-command-line) for an example.\n",
    "*  `-j` specifies number of CPU threads to use. You may run DSC in parallel on a single desktop, or on distributed computer system that runs `Redis` server / worker (FIXME: link to tutorial), in which case `--host` will have to be specified.\n",
    "*  `-o` changes the default output filename / directory specified in the DSC script.\n",
    "*  `-f` forces executing DSC without using existing cache and runtime signature. During a DSC execution, cache files of intermediate output and runtime signatures of parameters are saved so that future re-runs of the same computational routine will be skipped. The `-f` option forces DSC to ignore existing cache and run the entire procedure afresh.\n",
    "*  `-r` executes DSC using only existing cache but not runtime signature -- it will skip existing files by file name, without trying to figure out if the file property has been changed. This is useful when files are migrated from one computational system to another: `--recover` prevents DSC from re-running due to change of file properties in this case.\n",
    "*  `-v` controls verbosity level. Default level is 2. If you encounter error messages you can increase the verbosity level to output more information to diagnose the cause.\n",
    "\n",
    "## DSC results removal\n",
    "*  `--remove` will remove some DSC steps as specified. In order to remove data properly, the dsc result database (defined in `dsc_file`) must be accessible.\n",
    "\n",
    "## DSC result annotation\n",
    "These options will annotate DSC by applying \"tags\" to DSC results. This is a pre-processing step to DSC results extraction\n",
    "\n",
    "* `--annotation` specifies the annotation file. See this [section]() for an example annotation file.\n",
    "* `--annotate_to` by default, is the name of the last DSC block if the DSC procedure only runs one sequence. Otherwise the name of the last DSC block has to be provided.\n",
    "\n",
    "## DSC results extraction\n",
    "These options will extract annotated DSC to a separate file for further analysis.\n",
    "\n",
    "* `--extract` specifies the name of variable to extract. The variable name should be avaiable in the last DSC block.\n",
    "* `--extract_from` same as `--annotate_to` above. \n",
    "* `--extract_to` output file for extracted data.\n",
    "* `--tags` Annotations to extract.\n"
   ]
  }
 ],
 "metadata": {
  "kernelspec": {
   "display_name": "SoS",
   "language": "sos",
   "name": "sos"
  },
  "language_info": {
   "codemirror_mode": "sos",
   "file_extension": ".sos",
   "mimetype": "text/x-sos",
   "name": "sos",
   "nbconvert_exporter": "sos.jupyter.converter.SoS_Exporter",
   "pygments_lexer": "sos"
  }
 },
 "nbformat": 4,
 "nbformat_minor": 0
}
