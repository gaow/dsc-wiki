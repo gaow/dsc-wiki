{
 "cells": [
  {
   "cell_type": "markdown",
   "metadata": {},
   "source": [
    "# Download and Installation"
   ]
  },
  {
   "cell_type": "markdown",
   "metadata": {},
   "source": [
    "## Requirement\n",
    "DSC2 requires Python 3.4+, because it takes advantage of some new features introduced since Python 3.4. If you do not have Python 3 on your system it is strongly recommended that you install Python 3 from `conda`. If you have an older version of Python 3, please do not worry. You can still follow instructions below to install Python 3. The installer will also guide you to make it your default Python 3 so you do not have to remove your old installation.\n",
    "\n",
    "You can check if your system satisfies the requirement via:\n",
    "\n",
    "```\n",
    "python3 --version\n",
    "```\n",
    "\n",
    "If you do have Python 3.4+ you can skip the rest of this step.\n",
    "\n",
    "We will use `miniconda` (a lite version of `anaconda`), which contains Python 3 and `conda`, a package manager for Python like `cran` for R.\n",
    "\n",
    "### For Linux\n",
    "```\n",
    "wget https://repo.continuum.io/miniconda/Miniconda3-latest-Linux-x86_64.sh\n",
    "bash Miniconda3-latest-Linux-x86_64.sh\n",
    "```\n",
    "\n",
    "### For MacOS\n",
    "Download the `conda` package from [here](https://repo.continuum.io/miniconda/Miniconda3-latest-MacOSX-x86_64.sh\n",
    "), and install it via terminal command:\n",
    "```\n",
    "bash Miniconda3-latest-MacOSX-x86_64.sh\n",
    "```\n",
    "\n",
    "Follow the prompt to install it (use `ctrl+F` to quickly jump to the end of the Licenses if you have read them before). Be sure to add the installation path to your shell environment (the installation script will ask if you'd like this be configured automatically: say Yes unless you know what you are doing).\n",
    "\n",
    "After the program is installed, you have to reload your `bash` profile. If you do not know what this means, just exit the current terminal and open up a new one.\n",
    "\n",
    "## Released Versions\n",
    "Versioned release can be installed via `pip3 install`:\n",
    "\n",
    "```\n",
    "pip3 install dsc\n",
    "```\n",
    "\n",
    "`DCS2` will automatically download and compile its dependent packages, among which `numpy` and `pandas` may take a while to install. To upgrade the DSC2 you previously have installed:\n",
    "\n",
    "```\n",
    "pip3 install --upgrade dsc\n",
    "```\n",
    "\n",
    "> If you have a Mac and use [R](cran.r-project.org) only from RStudio (not from command line), then you might experience an error message in DSC2 installation complaining that R command is not found. This is because the link to your R program from Mac terminal was accidentally wiped, most likely due to a major system update. In that case we suggest you download the same version of R from [cran](cran.r-project.org) and re-install it. The command line link will be recovered after install.\n",
    "\n",
    "## Developmental Version\n",
    "DSC2 co-evolves with the [SoS library](http://github.com/vatlab/sos). The developmental version (`master` branch on github) requires the developmental version of SoS. To install the latest SoS:\n",
    "\n",
    "```\n",
    "git clone https://github.com/vatlab/SOS.git\n",
    "python3 setup.py install\n",
    "```\n",
    "\n",
    "Then the latest DSC2:\n",
    "\n",
    "```\n",
    "git clone https://github.com/stephenslab/dsc2.git\n",
    "python3 setup.py install\n",
    "```\n",
    "\n"
   ]
  }
 ],
 "metadata": {
  "kernelspec": {
   "display_name": "SoS",
   "language": "sos",
   "name": "sos"
  },
  "language_info": {
   "codemirror_mode": "sos",
   "file_extension": ".sos",
   "mimetype": "text/x-sos",
   "name": "sos",
   "nbconvert_exporter": "sos.jupyter.converter.SoS_Exporter",
   "pygments_lexer": "sos"
  }
 },
 "nbformat": 4,
 "nbformat_minor": 0
}
