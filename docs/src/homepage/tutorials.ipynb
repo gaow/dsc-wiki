{
 "cells": [
  {
   "cell_type": "markdown",
   "metadata": {},
   "source": [
    "## Quick start\n",
    "[Quick Start Guide](doc/tutorials/quick_start.html)<br>\n",
    "&nbsp; &nbsp; Brief introduction to the DSC2 format and basic usages"
   ]
  },
  {
   "cell_type": "markdown",
   "metadata": {},
   "source": [
    "## DSC mini-course\n",
    "[Update Existing DSC](doc/tutorials/update_dsc.html)<br>\n",
    "&nbsp; &nbsp; How to extend a DSC benchmark"
   ]
  },
  {
   "cell_type": "markdown",
   "metadata": {},
   "source": [
    "[Multiple DSC Sequences](doc/tutorials/multiple_dsc.html)<br>\n",
    "&nbsp; &nbsp; Comparisons of multiple procedures in the same DSC benchmark"
   ]
  },
  {
   "cell_type": "markdown",
   "metadata": {},
   "source": [
    "[Mixing lanugages](doc/tutorials/mix_lang.html)<br>\n",
    "&nbsp; &nbsp; Work with Python and R scripts in the same benchmark"
   ]
  },
  {
   "cell_type": "markdown",
   "metadata": {},
   "source": [
    "## Intermediate DSC examples\n",
    "[An R example: `ashr` benchmark](doc/tutorials/ashr.html)<br>\n",
    "&nbsp; &nbsp; An R example using Adaptive Shrinkage package `ashr` to illustrate inline codes, variable alias and R library check / installation"
   ]
  },
  {
   "cell_type": "markdown",
   "metadata": {
    "collapsed": true
   },
   "source": [
    "## Tips & Tricks\n",
    "[Debug tips](doc/tutorials/debug.html)<br>\n",
    "&nbsp; &nbsp; Debugging in DSC2 environment\n",
    "    "
   ]
  }
 ],
 "metadata": {
  "anaconda-cloud": {},
  "kernelspec": {
   "display_name": "SoS",
   "language": "sos",
   "name": "sos"
  },
  "language_info": {
   "codemirror_mode": "sos",
   "file_extension": ".sos",
   "mimetype": "text/x-sos",
   "name": "sos",
   "nbconvert_exporter": "sos.jupyter.converter.SoS_Exporter",
   "pygments_lexer": "sos"
  },
  "toc": {
   "colors": {
    "hover_highlight": "#DAA520",
    "running_highlight": "#FF0000",
    "selected_highlight": "#FFD700"
   },
   "moveMenuLeft": true,
   "nav_menu": {
    "height": "45px",
    "width": "254px"
   },
   "navigate_menu": true,
   "number_sections": true,
   "sideBar": true,
   "threshold": 4,
   "toc_cell": false,
   "toc_section_display": "block",
   "toc_window_display": false
  }
 },
 "nbformat": 4,
 "nbformat_minor": 2
}
