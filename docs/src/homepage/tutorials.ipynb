{
 "cells": [
  {
   "cell_type": "markdown",
   "metadata": {},
   "source": [
    "## Quick start\n",
    "[A Basic DSC setup and execution](doc/tutorials/Quick_Start.html)<br>\n",
    "&nbsp; &nbsp; Brief introduction to the DSC2 format and basic usages"
   ]
  },
  {
   "cell_type": "markdown",
   "metadata": {},
   "source": [
    "[Explore DSC output](doc/tutorials/Explore_Output.html)<br>\n",
    "&nbsp; &nbsp; Understanding the finle configuration and command options to extract DSC output"
   ]
  },
  {
   "cell_type": "markdown",
   "metadata": {},
   "source": [
    "## Mini courses\n",
    "[Update Existing DSC](doc/tutorials/Expand_Existing_DSC.html)<br>\n",
    "&nbsp; &nbsp; How to extend a DSC benchmark"
   ]
  },
  {
   "cell_type": "markdown",
   "metadata": {},
   "source": [
    "[Multiple DSC Sequences](doc/tutorials/Multiple_Sequences.html)<br>\n",
    "&nbsp; &nbsp; Comparisons of multiple procedures in one DSC"
   ]
  },
  {
   "cell_type": "markdown",
   "metadata": {},
   "source": [
    "[Mixing lanugages](doc/tutorials/Mixed_Languages.html)<br>\n",
    "&nbsp; &nbsp; Work with Python and R scripts in one DSC"
   ]
  },
  {
   "cell_type": "markdown",
   "metadata": {
    "collapsed": true
   },
   "source": [
    "## Tips & Tricks\n",
    "[Debug tips](doc/tutorials/Debug_Tips.html)<br>\n",
    "&nbsp; &nbsp; Debugging in DSC environment\n",
    "    "
   ]
  },
  {
   "cell_type": "markdown",
   "metadata": {},
   "source": [
    "## Intermediate examples\n",
    "[An R example: `ashr` benchmark](doc/tutorials/Intermediate_R_1.html)<br>\n",
    "&nbsp; &nbsp; An illustration of inline codes, variable alias, R library installation and multiple tagging"
   ]
  },
  {
   "cell_type": "markdown",
   "metadata": {},
   "source": [
    "## Advanced examples\n",
    "* List of [DSC2 benchmarks](examples.html)"
   ]
  }
 ],
 "metadata": {
  "anaconda-cloud": {},
  "kernelspec": {
   "display_name": "SoS",
   "language": "sos",
   "name": "sos"
  },
  "language_info": {
   "codemirror_mode": "sos",
   "file_extension": ".sos",
   "mimetype": "text/x-sos",
   "name": "sos",
   "nbconvert_exporter": "sos.jupyter.converter.SoS_Exporter",
   "pygments_lexer": "sos"
  },
  "sos": {
   "celltoolbar": true,
   "kernels": [
    [
     "sos",
     "SoS",
     ""
    ]
   ],
   "panel": {
    "displayed": true,
    "height": 0,
    "style": "side"
   }
  },
  "toc": {
   "colors": {
    "hover_highlight": "#DAA520",
    "running_highlight": "#FF0000",
    "selected_highlight": "#FFD700"
   },
   "moveMenuLeft": true,
   "nav_menu": {
    "height": "45px",
    "width": "254px"
   },
   "navigate_menu": true,
   "number_sections": true,
   "sideBar": true,
   "threshold": 4,
   "toc_cell": false,
   "toc_section_display": "block",
   "toc_window_display": false
  }
 },
 "nbformat": 4,
 "nbformat_minor": 2
}
