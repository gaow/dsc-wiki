{
 "cells": [
  {
   "cell_type": "markdown",
   "metadata": {},
   "source": [
    "# Test / documentation TODO"
   ]
  },
  {
   "cell_type": "markdown",
   "metadata": {},
   "source": [
    "## Unit tests\n",
    "\n",
    "### Module names\n",
    "- [] module name cannot start with `pipeline_`\n",
    "- [] module names have to be SQL compatible\n",
    "\n",
    "### Parser\n",
    "- [] all decorations test\n",
    "- [] module inherit omitting exec\n",
    "- [] no multiple module input `$x`, `$y` or any mixture of them with module parameters\n",
    "\n",
    "### Execution\n",
    "- [] identical tasks will result in complaint. check for identical jobs ie same parameter twice \n",
    "- [] different steps in squence give the same output variable name: warning?\n",
    "- [] both in `DSC::run` and in `--target`: what if the first module has upstream dependency? Should catch and repor that.\n",
    "\n",
    "### Query\n",
    "- [] dsc-query strip path for dsc_output argument\n",
    "\n",
    "\n",
    "### Misc\n",
    "- [] do not write library installed files if installation fails"
   ]
  },
  {
   "cell_type": "markdown",
   "metadata": {},
   "source": [
    "## Documentation\n",
    "### Best practices\n",
    "- [] add a line of best practice: do not use `library()`\n",
    "- [] RE seeds\n",
    "\n",
    "### Examples\n",
    "- [] make sure all previous examples are converted to new syntax"
   ]
  },
  {
   "cell_type": "markdown",
   "metadata": {},
   "source": [
    "## Small features\n",
    "- [] add exec `depend` property to track source files\n",
    "- [x] create a switch / or --debug switch to generate mock run file\n",
    "- [] pipeline seed batch has to be used / tested; based on total number of jobs distribute it smartly.\n",
    "- [x] remove old Rlib info files\n",
    "- [] fix eg `pcarbo/varbvs/R`; for SoS"
   ]
  },
  {
   "cell_type": "markdown",
   "metadata": {},
   "source": [
    "## Major features\n",
    "\n",
    "Many are to be brought back in and test due to new syntax and SoS advances etc\n",
    "\n",
    "- [] a more self-contained way to load DSC related functions: a companion R package eventually?\n",
    "- [] performance (`SoS` tasks)\n",
    "- [] index slicing\n",
    "    ```\n",
    "    Index can be used in the following context:\n",
    "\n",
    "    *  Index for parameters in `exec` entry, for example `exec: makeped.py $data $output[1]` where `output` parameter takes the form of `output: (1.ped, 1.map), (2.ped, 2.map)`. In this case `output[1]` will only use the first value of each parameter group.\n",
    "    ```\n",
    "- [] CONF `merge` feature:\n",
    "   ```\n",
    "   `inline`: True or False, of whether or not an R script is executed inline with the next procedure instead of producing return files. This feature is useful when the cost of computation for a procedure is trivial compared to the cost of storing its output. For example if a simulation procedure is simply `runif(500000)` it makes more sense to save this line of code and execute it inline with the next step, rather than to save a vector of 500,000 random numbers to disk.\n",
    "   ```\n",
    "- [] `--host` feature bind with SoS\n",
    "\n",
    "    ```\n",
    "    *FIXME: this feature is not yet implemented as of Jan 16, 2017. With the cluster support we may end up using a separate cluster job configuration file for it to keep DSC configuration file concise.*\n",
    "\n",
    "    `.options` include parameters that controls behavior of the corresponding `exec` as it executes, for example:\n",
    "\n",
    "  .options: ncpu = 2, mem = 4G\n",
    "\n",
    "    Supported options are:\n",
    "\n",
    "    *  `ncpu`: Number of required CPUs.\n",
    "    *  `mem`: Required memory.\n",
    "    ```\n",
    "- executable command options\n",
    "    ```\n",
    "    `exec` specifies the names of executable computational routines as well as their command line arguments if applicable. For example an `exec` entry reads:\n",
    "\n",
    "     exec: datamaker.R, ms $nsam $nreps -t $theta -seed $seed\n",
    "    ```\n",
    "- `inline` executables\n"
   ]
  },
  {
   "cell_type": "markdown",
   "metadata": {},
   "source": [
    "## Bugs\n",
    "- [] recover full does not work"
   ]
  }
 ],
 "metadata": {
  "kernelspec": {
   "display_name": "SoS",
   "language": "sos",
   "name": "sos"
  },
  "language_info": {
   "codemirror_mode": "sos",
   "file_extension": ".sos",
   "mimetype": "text/x-sos",
   "name": "sos",
   "nbconvert_exporter": "sos_notebook.converter.SoS_Exporter",
   "pygments_lexer": "sos"
  },
  "sos": {
   "default_kernel": "SoS",
   "kernels": [
    [
     "Python3",
     "python3",
     "Python3",
     "#FFE771"
    ],
    [
     "R",
     "ir",
     "R",
     "#DCDCDA"
    ],
    [
     "SoS",
     "sos",
     "",
     ""
    ]
   ],
   "panel": {
    "displayed": true,
    "height": 0,
    "style": "side"
   }
  }
 },
 "nbformat": 4,
 "nbformat_minor": 2
}
