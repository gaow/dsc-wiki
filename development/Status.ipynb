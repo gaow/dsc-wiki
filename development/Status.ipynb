{
 "cells": [
  {
   "cell_type": "markdown",
   "metadata": {},
   "source": [
    "# Test / documentation TODO"
   ]
  },
  {
   "cell_type": "markdown",
   "metadata": {},
   "source": [
    "## Unit tests\n",
    "\n",
    "### Module names\n",
    "- [] module name cannot start with `pipeline_`\n",
    "- [] module names have to be SQL compatible\n",
    "\n",
    "### Execution\n",
    "- [] identical tasks will result in complaint. check for identical jobs ie same parameter twice \n",
    "- [] different steps in squence give the same output variable name: warning?\n",
    "\n",
    "### Query\n",
    "- [] dsc-query strip path for dsc_output argument\n",
    "\n",
    "\n",
    "### Misc\n",
    "- [] do not write library installed files if installation fails"
   ]
  },
  {
   "cell_type": "markdown",
   "metadata": {},
   "source": [
    "## Documentation\n",
    "### Best practices\n",
    "- [] add a line of best practice: do not use `library()`\n",
    "- [] RE seeds\n",
    "\n",
    "### Examples\n",
    "- [] make sure all previous examples are converted to new syntax"
   ]
  },
  {
   "cell_type": "markdown",
   "metadata": {},
   "source": [
    "## Small features\n",
    "- [] add exec `depend` property to track source files\n",
    "- [x] create a switch / or --debug switch to generate mock run file\n",
    "- [] pipeline seed batch has to be used / tested; based on total number of jobs distribute it smartly.\n",
    "- [x] remove old Rlib info files\n",
    "- [] fix eg `pcarbo/varbvs/R`; for SoS"
   ]
  },
  {
   "cell_type": "markdown",
   "metadata": {},
   "source": [
    "## Major features\n",
    "- [] a more self-contained way to load DSC related functions: a companion R package eventually?\n",
    "- [] performance (`SoS` tasks)"
   ]
  },
  {
   "cell_type": "markdown",
   "metadata": {},
   "source": [
    "## Bugs\n",
    "- [] recover full does not work"
   ]
  }
 ],
 "metadata": {
  "kernelspec": {
   "display_name": "SoS",
   "language": "sos",
   "name": "sos"
  },
  "language_info": {
   "codemirror_mode": "sos",
   "file_extension": ".sos",
   "mimetype": "text/x-sos",
   "name": "sos",
   "nbconvert_exporter": "sos_notebook.converter.SoS_Exporter",
   "pygments_lexer": "sos"
  },
  "sos": {
   "default_kernel": "SoS",
   "kernels": [
    [
     "Python3",
     "python3",
     "Python3",
     "#FFE771"
    ],
    [
     "R",
     "ir",
     "R",
     "#DCDCDA"
    ],
    [
     "SoS",
     "sos",
     "",
     ""
    ]
   ],
   "panel": {
    "displayed": true,
    "height": 0,
    "style": "side"
   }
  }
 },
 "nbformat": 4,
 "nbformat_minor": 2
}
