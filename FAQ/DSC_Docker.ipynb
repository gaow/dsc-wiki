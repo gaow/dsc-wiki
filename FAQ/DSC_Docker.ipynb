{
 "cells": [
  {
   "cell_type": "markdown",
   "metadata": {},
   "source": [
    "# Share DSC via docker"
   ]
  },
  {
   "cell_type": "markdown",
   "metadata": {},
   "source": [
    "First you need to install and configure docker:\n",
    "- Follow [Docker installation guild](https://www.docker.com/community-edition) until you can use `sudo docker` to print the \"Hello World\" example.\n",
    "- Run `sudo usermod -aG docker $USER`\n",
    "- Log out and log back in"
   ]
  },
  {
   "cell_type": "markdown",
   "metadata": {},
   "source": [
    "We have provided a docker image for DSC which can be used to\n",
    "\n",
    "- Run some of the DSC vignettes examples\n",
    "- Serve as the base docker image to add to it your own benchmarks for others to reproduce."
   ]
  },
  {
   "cell_type": "markdown",
   "metadata": {},
   "source": [
    "## Run DSC base docker image"
   ]
  },
  {
   "cell_type": "markdown",
   "metadata": {},
   "source": [
    "To use the docker image:\n",
    "\n",
    "```bash\n",
    "docker pull gaow/dsc\n",
    "docker run --rm --security-opt label:disable \\\n",
    "       -v $USER:/home/docker -v /tmp:/tmp -v $PWD:$PWD \\\n",
    "       -t -P -w $PWD -u $UID:${GROUPS[0]} gaow/dsc \\\n",
    "       dsc -h\n",
    "```\n",
    "\n",
    "You can add a shortcut to your shell configuration script (`~/.bashrc` on Linux and `~/.bash_profile` on Mac) to trigger docker based DSC:\n",
    "\n",
    "```bash\n",
    "alias dsc-docker='docker run --rm --security-opt label:disable -v $USER:/home/docker -v /tmp:/tmp -v $PWD:$PWD -t -P -w $PWD -u $UID:${GROUPS[0]} gaow/dsc dsc'\n",
    "```"
   ]
  },
  {
   "cell_type": "markdown",
   "metadata": {},
   "source": [
    "For example, to run the [Introductory DSC tutorial](../tutorials/Intro_DSC.html),"
   ]
  },
  {
   "cell_type": "code",
   "execution_count": 1,
   "metadata": {
    "kernel": "SoS"
   },
   "outputs": [
    {
     "name": "stdout",
     "output_type": "stream",
     "text": [
      "/home/gaow/Documents/GIT/dsc/vignettes/one_sample_location"
     ]
    }
   ],
   "source": [
    "%cd ~/GIT/dsc/vignettes/one_sample_location"
   ]
  },
  {
   "cell_type": "code",
   "execution_count": 2,
   "metadata": {
    "kernel": "Bash"
   },
   "outputs": [
    {
     "name": "stdout",
     "output_type": "stream",
     "text": [
      "INFO: DSC script exported to \u001b[32mfirst_investigation.html\u001b[0m\n",
      "INFO: Constructing DSC from \u001b[32mfirst_investigation.dsc\u001b[0m ...\n",
      "INFO: Building execution graph & running DSC ...\n",
      "DSC: 100%|██████████████████████████████████████| 15/15 [00:16<00:00,  1.23it/s]\n",
      "INFO: Building DSC database ...\n",
      "INFO: DSC complete!\n",
      "INFO: Elapsed time \u001b[32m18.142\u001b[0m seconds.\n"
     ]
    }
   ],
   "source": [
    "docker run --rm --security-opt label:disable \\\n",
    "    -v $USER:/home/docker -v /tmp:/tmp -v $PWD:$PWD \\\n",
    "    -t -P -w $PWD -u $UID:${GROUPS[0]} gaow/dsc \\\n",
    "    dsc first_investigation.dsc --replicate 10 -c 2"
   ]
  }
 ],
 "metadata": {
  "kernelspec": {
   "display_name": "SoS",
   "language": "sos",
   "name": "sos"
  },
  "language_info": {
   "codemirror_mode": "sos",
   "file_extension": ".sos",
   "mimetype": "text/x-sos",
   "name": "sos",
   "nbconvert_exporter": "sos_notebook.converter.SoS_Exporter",
   "pygments_lexer": "sos"
  },
  "sos": {
   "default_kernel": "SoS",
   "kernels": [
    [
     "Bash",
     "bash",
     "Bash",
     "#E6EEFF"
    ],
    [
     "SoS",
     "sos",
     "",
     ""
    ]
   ],
   "panel": {
    "displayed": true,
    "height": 0,
    "style": "side"
   },
   "version": "0.9.12.9"
  }
 },
 "nbformat": 4,
 "nbformat_minor": 2
}
