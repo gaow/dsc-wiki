{
 "cells": [
  {
   "cell_type": "markdown",
   "metadata": {},
   "source": [
    "# DSC in 5 Minutes with Python"
   ]
  },
  {
   "cell_type": "markdown",
   "metadata": {},
   "source": [
    "This tutorials shows re-implementation of the [DSC Introduction](../Intro_DSC.html) in Python. Source code to run this example can be found [here](https://github.com/stephenslab/dsc/tree/master/vignettes/one_sample_location_python).\n",
    "\n",
    "The DSC script mostly the same as the Quick Start example:\n",
    "\n",
    "```\n",
    "#!/usr/bin/env dsc\n",
    "\n",
    "normal: normal.py\n",
    "  n: 100\n",
    "  $data: x\n",
    "  $true_mean: 0\n",
    "\n",
    "t: t.py\n",
    "  n: 100\n",
    "  df: 2\n",
    "  $data: x\n",
    "  $true_mean: 3\n",
    "\n",
    "mean: mean.py\n",
    "  x: $data\n",
    "  $est_mean: y\n",
    "\n",
    "median: median.py\n",
    "  x: $data\n",
    "  $est_mean: y\n",
    "\n",
    "sq_err: sq.py\n",
    "  a: $est_mean\n",
    "  b: $true_mean\n",
    "  $error: e\n",
    " \n",
    "abs_err: abs.py\n",
    "  a: $est_mean\n",
    "  b: $true_mean\n",
    "  $error: e \n",
    "  \n",
    "DSC:\n",
    "    define:\n",
    "      simulate: normal, t\n",
    "      analyze: mean, median\n",
    "      score: abs_err, sq_err\n",
    "    run: simulate * analyze * score\n",
    "    exec_path: PY\n",
    "    python_modules: numpy\n",
    "    output: dsc_result\n",
    "\n",
    "```"
   ]
  },
  {
   "cell_type": "markdown",
   "metadata": {},
   "source": [
    "You may notice the only difference are the executables (and search path) -- now implemented in Python:\n",
    "```python\n",
    "==> normal.py <==\n",
    "import numpy\n",
    "x=numpy.random.normal(loc=0, size=n)\n",
    "\n",
    "==> t.py <==\n",
    "import numpy\n",
    "x=3+numpy.random.standard_t(df=df,size=n)\n",
    "\n",
    "==> mean.py <==\n",
    "import numpy\n",
    "y = numpy.mean(x)\n",
    "\n",
    "==> median.py <==\n",
    "import numpy\n",
    "y = numpy.median(x)\n",
    "\n",
    "==> abs.py <==\n",
    "e = abs(a-b)\n",
    "\n",
    "==> sq.py <==\n",
    "e = (a-b)**2\n",
    "```\n",
    "To run the DSC,"
   ]
  },
  {
   "cell_type": "code",
   "execution_count": 1,
   "metadata": {
    "kernel": "SoS"
   },
   "outputs": [
    {
     "name": "stdout",
     "output_type": "stream",
     "text": [
      "/home/gaow/Documents/GIT/software/dsc/vignettes/one_sample_location_python"
     ]
    }
   ],
   "source": [
    "%cd ~/GIT/dsc/vignettes/one_sample_location_python"
   ]
  },
  {
   "cell_type": "code",
   "execution_count": 2,
   "metadata": {
    "kernel": "SoS"
   },
   "outputs": [
    {
     "name": "stdout",
     "output_type": "stream",
     "text": [
      "\u001b[1;32mINFO: Checking Python module numpy ...\u001b[0m\n",
      "INFO: DSC script exported to \u001b[32mdsc_result.html\u001b[0m\n",
      "INFO: Constructing DSC from \u001b[32m./settings.dsc\u001b[0m ...\n",
      "INFO: Building execution graph & Running DSC ...\n",
      "DSC: 100%|██████████████████████████████████████| 15/15 [00:04<00:00,  2.41it/s]\n",
      "INFO: Building DSC database ...\n",
      "INFO: DSC complete!\n",
      "INFO: Elapsed time \u001b[32m6.003\u001b[0m seconds.\n"
     ]
    }
   ],
   "source": [
    "! ./settings.dsc -c 30"
   ]
  }
 ],
 "metadata": {
  "kernelspec": {
   "display_name": "SoS",
   "language": "sos",
   "name": "sos"
  },
  "language_info": {
   "codemirror_mode": "sos",
   "file_extension": ".sos",
   "mimetype": "text/x-sos",
   "name": "sos",
   "nbconvert_exporter": "sos_notebook.converter.SoS_Exporter",
   "pygments_lexer": "sos"
  },
  "sos": {
   "default_kernel": "SoS",
   "kernels": [
    [
     "SoS",
     "sos",
     "",
     ""
    ]
   ],
   "panel": {
    "displayed": true,
    "height": 0,
    "style": "side"
   },
   "version": "0.9.12.9"
  }
 },
 "nbformat": 4,
 "nbformat_minor": 2
}
