{
 "cells": [
  {
   "cell_type": "markdown",
   "metadata": {},
   "source": [
    "# Unsupported features"
   ]
  },
  {
   "cell_type": "markdown",
   "metadata": {},
   "source": [
    "As a continuation of the [DSC syntax documentation](../reference/DSC_Configuration.html) this page documents existing DSC features that are possibly useful yet adds complexity to DSC syntax and burden of support. We believe that DSC is well versed to handle most user cases without these features. We may formally discuss and support some of these features in the future when we deem them truly helpful to users."
   ]
  },
  {
   "cell_type": "markdown",
   "metadata": {},
   "source": [
    "## Rmarkdown based modules\n",
    "\n",
    "See [this tutorial](Rmd_Executable.html) for detailed introduction with an example."
   ]
  },
  {
   "cell_type": "markdown",
   "metadata": {},
   "source": [
    "## Wildcard operators\n",
    "\n",
    "### Global variable wildcard\n",
    "The global variable wildcard `${}`, when used to specify module parameters, refers to variables defined in `DSC::global`.\n",
    "\n",
    "```\n",
    "simulate_cosine: cosine.R\n",
    "    types: ${data_functions}\n",
    "...\n",
    "\n",
    "DSC:\n",
    "    global: \n",
    "        data_functions: discrete.cosine, discrete.cosine2, discrete.cosine.peaksel\n",
    "```\n",
    "\n",
    "is equivalent to\n",
    "\n",
    "```\n",
    "simulate_cosine: cosine.R\n",
    "    types: discrete.cosine, discrete.cosine2, discrete.cosine.peaksel\n",
    "```"
   ]
  },
  {
   "cell_type": "markdown",
   "metadata": {},
   "source": [
    "### Inline module input wildcard\n",
    "\n",
    "Wildcard `$()` can be used inside language operators to specify module inputs so that they do not have to be defined separately. Here is a full example using this feature:\n",
    "\n",
    "```\n",
    "#!/usr/bin/env dsc\n",
    "\n",
    "normal: R(x = rnorm(n,0,1))\n",
    "  n: 100\n",
    "  $data: x\n",
    "  $true_mean: 0\n",
    "\n",
    "t: R(x = 3+rt(n,df))\n",
    "  n: 100\n",
    "  df: 2\n",
    "  $data: x\n",
    "  $true_mean: 3\n",
    "\n",
    "mean: R(y = mean($(data))) \n",
    "  $est_mean: y\n",
    "\n",
    "median: R(y = median($(data)))\n",
    "  $est_mean: y\n",
    "\n",
    "sq_err: R(e = ($(est_mean) - $(true_mean))^2)\n",
    "  $error: e\n",
    " \n",
    "abs_err: R(e = abs($(est_mean) - $(true_mean)))\n",
    "  $error: e \n",
    "  \n",
    "DSC:\n",
    "    define:\n",
    "      simulate: normal, t\n",
    "      analyze: mean, median\n",
    "      score: abs_err, sq_err\n",
    "    run: simulate * analyze * score\n",
    "    output: dsc_result\n",
    "```\n",
    "\n",
    "`$()` in inline module executables specifies the required pipeline variables. Therefore for modules `mean`, `median` and `sq_err` and `abs_err` only module output needs to be specified -- module input are defined already in this inline module executable style."
   ]
  },
  {
   "cell_type": "markdown",
   "metadata": {},
   "source": [
    "### Command argument wildcard\n",
    "\n",
    "Wildcard `{}` can be used with module executable to specify command argument options when they refer to one of the module parameter, eg:\n",
    "\n",
    "```\n",
    "module: Python(import sys; print(sys.argv[1:])) {option} constant\n",
    "  option: 1, 2\n",
    "  $out: 0\n",
    "```\n",
    "\n",
    "The `print` statement writes to standard output, which is redirected to files:\n",
    "\n",
    "```\n",
    "$ cat t/t_1.stdout\n",
    "['1', 'constant']\n",
    "$ cat t/t_2.stdout \n",
    "['2', 'constant']\n",
    "```\n",
    "\n",
    "It shows that command argument `{option}` has been passed to the module as module parameters."
   ]
  },
  {
   "cell_type": "markdown",
   "metadata": {},
   "source": [
    "## Grouping operators\n",
    "Currently `for_each()` and `pairs()` are supported to generate cartesian product and paired grouping of parameters. These operators makes it easier to assign values to DSC. For example:\n",
    "\n",
    "```\n",
    "n: for_each(1, [1,2,3])\n",
    "```\n",
    "\n",
    "is equivalent to the cartesian product\n",
    "\n",
    "```\n",
    "n: (1,1), (1,2), (1,3)\n",
    "```\n",
    "\n",
    "and\n",
    "```\n",
    "...\n",
    "  settings: pairs(${classifier}, ${kernel})\n",
    "...\n",
    "DSC:\n",
    "  globals:\n",
    "    classifier: svm, ridge\n",
    "    kernel: k1, k2\n",
    "```\n",
    "is equivalent to:\n",
    "\n",
    "```\n",
    "...\n",
    "  settings: (svm, k1), (ridge, k2)\n",
    "...\n",
    "```"
   ]
  },
  {
   "cell_type": "markdown",
   "metadata": {},
   "source": [
    "## ALIAS operators\n",
    "\n",
    "As previously discussed, `List()` and `Dict()` are used in `@ALIAS` decorator to help construct variables of nested `List` or `dictionary` structures in `R` and `Python`. For example for `R` modules:\n",
    "\n",
    "```\n",
    "@ALIAS: args = List()\n",
    "```\n",
    " \n",
    "will convert all input / parameters the module has available, say `x,y,z` to `args <- list(x = ..., y = ..., z = ...)`. Likewise, `List()` will convert parameters to `dictionary` in Python. Partial conversion is also supported, for example `args = List(x, y)` will only convert selected variables to R list which will be translated to R code `args <- list(x = x, y = y)`."
   ]
  },
  {
   "cell_type": "markdown",
   "metadata": {},
   "source": [
    "## Named `DSC::run` pipelines\n",
    "\n",
    "```\n",
    "DSC:\n",
    "  run: a * b * c, a * b * e\n",
    "```\n",
    "\n",
    "Is equivalent to \n",
    "\n",
    "```\n",
    "DSC:\n",
    "  run:\n",
    "     pipeline_1: a * b * c\n",
    "     pipeline_2: a * b * e\n",
    "```\n",
    "\n",
    "From command interface, instead of `--target \"a * b * c\"` you can use the equivalent command `--target pipeine_1`"
   ]
  }
 ],
 "metadata": {
  "kernelspec": {
   "display_name": "SoS",
   "language": "sos",
   "name": "sos"
  },
  "language_info": {
   "codemirror_mode": "sos",
   "file_extension": ".sos",
   "mimetype": "text/x-sos",
   "name": "sos",
   "nbconvert_exporter": "sos_notebook.converter.SoS_Exporter",
   "pygments_lexer": "sos"
  },
  "sos": {
   "default_kernel": "SoS",
   "kernels": [],
   "panel": {
    "displayed": true,
    "height": 0,
    "style": "side"
   },
   "version": "0.9.13.2"
  }
 },
 "nbformat": 4,
 "nbformat_minor": 2
}
