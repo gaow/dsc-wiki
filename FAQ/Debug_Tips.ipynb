{
 "cells": [
  {
   "cell_type": "markdown",
   "metadata": {},
   "source": [
    "# Debugging in DSC"
   ]
  },
  {
   "cell_type": "markdown",
   "metadata": {},
   "source": [
    "## Module executable and generated script\n",
    "\n",
    "As seen from previous tutorials, the [module executables in DSC](../tutorials/dsc_result.html) are in fact incomplete due to lack of input data and parameter specifications to run. Under the hood, DSC generates R, Python or Shell scripts based on module executable scripts, adding to it specification of module parameters and pipeline variables, then executes the complete script. This generated script is subject to two types of errors:\n",
    "\n",
    "1. Inconsistency between DSC interface and module executables\n",
    "2. Error from module executables as provided\n",
    " \n",
    "In the presence of errors DSC will fail. However the automatically generated script will be saved to disk and will be pointed to you as part of the error prompt on the command console so that you can reproduce and fix the bugs. \n",
    "\n",
    "Here we look at [this toy example](https://github.com/stephenslab/dsc/tree/master/vignettes/one_sample_location_error). We undermine the setup to demonstrate the 2 types of errors we have discussed."
   ]
  },
  {
   "cell_type": "markdown",
   "metadata": {},
   "source": [
    "## Buggy DSC interface\n",
    "\n",
    "To demonstrate inconsistency between interface and module we change the first block of DSC script from:\n",
    "\n",
    "```\n",
    "normal: R(x <- rnorm(n,mean = mu,sd = 1))\n",
    "  mu: 0\n",
    "  n: 100\n",
    "  $data: x\n",
    "  $true_mean: mu\n",
    "```\n",
    "\n",
    "to:\n",
    "\n",
    "```\n",
    "normal: R(x <- rnorm(n,mean = mu,sd = 1))\n",
    "  nu: 0\n",
    "  n: 100\n",
    "  $data: x\n",
    "  $true_mean: mu\n",
    "```\n",
    "\n",
    "creating a parameter `nu`, a typo of `mu`, that does not exist in `normal` module `rt.R`. Consequently the required `mu` variable for these routines will not be provided by DSC interface. We save this configuration file as `first_error_v1.dsc` and run it:"
   ]
  },
  {
   "cell_type": "code",
   "execution_count": 3,
   "metadata": {
    "kernel": "Bash",
    "output_cache": "[{\"output_type\":\"stream\",\"text\":\"INFO: DSC script exported to \\u001b[32mblm.html\\u001b[0m\\nINFO: Constructing DSC from \\u001b[32mblm.dsc\\u001b[0m ...\\nINFO: Building execution graph ...\\n\\rDSC:   0%|          | 0/10 [00:00<?, ?it/s]\\rDSC:  10%|█         | 1/10 [00:00<00:00,  9.67it/s]\\rDSC:  20%|██        | 2/10 [00:00<00:00,  9.12it/s]\\rDSC:  60%|██████    | 6/10 [00:00<00:00, 11.49it/s]\\rDSC:  90%|█████████ | 9/10 [00:00<00:00, 10.97it/s]\\n\\u001b[91mERROR\\u001b[0m: \\u001b[91mFailed to execute workflow DSC\\n[score_1 ['dsc_blm/datamaker.R_1_gemma_bs] RuntimeError:\\n\\tFailed to process statement sos_run('core_score_1:1', outp...ignature)\\\\n: Failed to execute workflow core_score_1\\n[core_score_1_1 (score.R)] RuntimeError:\\n\\tFailed to execute script (ret=1).\\nPlease use command\\n\\t\\u001b[32mRscript \\\\\\n\\t  --default-packages=datasets,methods,utils,stats,grDevices,graphics \\\\\\n\\t  /home/gaow/GIT/lab-dsc/dsc-blm/.sos/core_score_1_1_6.R\\u001b[91m\\nunder \\\"/home/gaow/GIT/lab-dsc/dsc-blm\\\" to test it.\\n[core_score_1] RuntimeError:\\n\\t1 failed step: core_score_1_1 (score.R)\\n[DSC] RuntimeError:\\n\\t1 failed step: score_1\\u001b[0m\\n\\u001b[95mWARNING\\u001b[0m: \\u001b[95mIf needed, you can open \\u001b[32mdsc_blm.transcript.html\\u001b[95m and use \\u001b[32mctrl-F\\u001b[95m to search for the problematic chunk of code by output file name.\\u001b[0m\\n\",\"name\":\"stderr\"}]"
   },
   "outputs": [
    {
     "name": "stdout",
     "output_type": "stream",
     "text": [
      "\u001b[1;32mINFO: Checking R library dscrutils@stephenslab/dsc/dscrutils ...\u001b[0m\n",
      "INFO: DSC script exported to \u001b[32mdsc_result.html\u001b[0m\n",
      "INFO: Constructing DSC from \u001b[32mfirst_error_v1.dsc\u001b[0m ...\n",
      "INFO: Building execution graph & running DSC ...\n",
      "DSC:  53%|████████████████████▊                  | 8/15 [00:03<00:02,  2.54it/s]\n",
      "\u001b[91mERROR\u001b[0m: \u001b[91m[566b788d-73de-4e34-85ed-b480227a3e5d]: [normal_0]: \n",
      "---------------------------------------------------------------------------\n",
      "RuntimeError                              Traceback (most recent call last)\n",
      "script_-3186687848203597564 in <module>\n",
      "      \n",
      "      \n",
      "----> \"\"\", workdir = './', stderr = f\"{_output:n}.stderr\", stdout = f\"{_output:n}.stdout\")\n",
      "\n",
      "RuntimeError: Failed to execute commmand \"Rscript /tmp/tmp9arx3lf5.R\" (ret=1, workdir=/home/gaow/Documents/TempDir/dsc/vignettes/one_sample_location, script now in \u001b[0m\u001b[32m/home/gaow/Documents/TempDir/dsc/vignettes/one_sample_location/.sos/normal_0_0_a467d5c4.R\u001b[0m\u001b[91m, err=\u001b[0m\u001b[32mdsc_result/normal/normal_1.stderr\u001b[0m\u001b[91m)\n",
      "[DSC]: 7 pending steps: DSC_0, a_abs_err, b_sq_err, c_abs_err, d_sq_err, a_mean, c_median\u001b[0m\n",
      "\u001b[95mWARNING\u001b[0m: \u001b[95mFiles \u001b[0m\u001b[32min green\u001b[0m\u001b[95m in the error prompt above contains codes and error info to help debug.\n",
      "Scripts upstream of the error can be found in \u001b[0m\u001b[32mdsc_result.scripts.html\u001b[0m\u001b[95m.\u001b[0m\n",
      "INFO: Elapsed time \u001b[32m5.150\u001b[0m seconds.\n"
     ]
    },
    {
     "ename": "",
     "evalue": "1",
     "output_type": "error",
     "traceback": []
    }
   ],
   "source": [
    "dsc first_error_v1.dsc -o dsc_result"
   ]
  },
  {
   "cell_type": "markdown",
   "metadata": {
    "output_cache": "[]"
   },
   "source": [
    "The error message is a bit wordy but the part most relevant to debugging are highlighted in green color on your terminal. In this case multiple generated scripts have failed, but the cause is likely the same. You can try to resolve the problem starting from the last error message and see if the fix will help with other errors.\n",
    "\n",
    "You can also see that a file called `dsc_result.scripts.html` is generated. It bundles generated scripts from all module instances involved in the benchmark up to the point the errors occur."
   ]
  },
  {
   "cell_type": "markdown",
   "metadata": {
    "output_cache": "[]"
   },
   "source": [
    "### Debug with the problematic script\n",
    "As prompted in the error message, let's see what's inside `dsc_result/normal/normal_1.stderr`:"
   ]
  },
  {
   "cell_type": "code",
   "execution_count": 4,
   "metadata": {
    "kernel": "Bash"
   },
   "outputs": [
    {
     "name": "stdout",
     "output_type": "stream",
     "text": [
      "Error in rnorm(n, mean = mu, sd = 1) : object 'mu' not found\n",
      "Execution halted\n"
     ]
    }
   ],
   "source": [
    "cat dsc_result/normal/normal_1.stderr"
   ]
  },
  {
   "cell_type": "markdown",
   "metadata": {
    "output_cache": "[]"
   },
   "source": [
    "Okey so what's going on? Let's take a look at this script:"
   ]
  },
  {
   "cell_type": "code",
   "execution_count": 6,
   "metadata": {
    "kernel": "Bash"
   },
   "outputs": [
    {
     "name": "stdout",
     "output_type": "stream",
     "text": [
      "## r script UUID: 89241936\n",
      "\n",
      "dscrutils:::empty_text(c(\"dsc_result/normal/normal_1.stdout\", \"dsc_result/normal/normal_1.stderr\"))\n",
      "DSC_REPLICATE <- 1\n",
      "n <- 100\n",
      "nu <- 0\n",
      "TIC_C1997B87 <- proc.time()\n",
      "set.seed(DSC_REPLICATE + 89241936)\n",
      "\n",
      "## BEGIN DSC CORE\n",
      "x <- rnorm(n,mean = mu,sd = 1)\n",
      "## END DSC CORE\n",
      "\n",
      "saveRDS(list(data=x, true_mean=mu, DSC_DEBUG=list(time=proc.time() - TIC_C1997B87, script=dscrutils:::load_script(), replicate=DSC_REPLICATE, session=toString(sessionInfo()))), 'dsc_result/normal/normal_1.rds')\n",
      "dscrutils:::rm_if_empty(c(\"dsc_result/normal/normal_1.stdout\", \"dsc_result/normal/normal_1.stderr\"))\n",
      "\n",
      "\n"
     ]
    }
   ],
   "source": [
    "cat .sos/normal_0_0_a467d5c4.R"
   ]
  },
  {
   "cell_type": "markdown",
   "metadata": {
    "output_cache": "[]"
   },
   "source": [
    "It seems like the line `x <- rnorm(n,mean = mu,sd = 1)\n",
    "` looks for variable `mu`, which was not previously defined in the script. We know from the [DSC script](https://github.com/stephenslab/dsc/blob/master/vignettes/one_sample_location_error/first_error_v1.dsc) that we had set `nu` not `mu`. So obviously there is a glitch on the interface which can be fixed by changing `nu` to `mu` in the DSC script.\n",
    "\n",
    "In practice when you run into problems that you cannot immediately tell what is going on from `err` file or script file, you should load the problematic script `.sos/normal_0_0_a467d5c4.R` to some interactive session, try to debug and fix the script from there (do not worry about changing this script), test until it works. Then you should have learned where the problem is, and you can apply what you've learned to patching DSC script or the original module code. *Fixing these generated scripts is not enough as they will be overwritten next time DSC runs*."
   ]
  },
  {
   "cell_type": "markdown",
   "metadata": {},
   "source": [
    "## Buggy module script\n",
    "\n",
    "Now let's undermine the module code instead. We change from:\n",
    "\n",
    "```\n",
    "mean: R(y <- mean(x))\n",
    "```\n",
    "\n",
    "to \n",
    "\n",
    "```\n",
    "mean: R(y <- \"meow\")\n",
    "```\n",
    "\n",
    "As you can probably tell, this will not result an error for this module, but may impact downstream ones. So let's find it out!"
   ]
  },
  {
   "cell_type": "code",
   "execution_count": 13,
   "metadata": {
    "kernel": "Bash"
   },
   "outputs": [
    {
     "name": "stdout",
     "output_type": "stream",
     "text": [
      "INFO: DSC script exported to \u001b[32mdsc_result.html\u001b[0m\n",
      "INFO: Constructing DSC from \u001b[32mfirst_error_v2.dsc\u001b[0m ...\n",
      "INFO: Building execution graph & running DSC ...\n",
      "DSC:  93%|███████████████████████████████████▍  | 14/15 [00:03<00:00,  4.19it/s]\n",
      "\u001b[91mERROR\u001b[0m: \u001b[91m[317e740e-7dea-478f-ae3d-cfec17674a99]: [abs_err_0]: \n",
      "---------------------------------------------------------------------------\n",
      "RuntimeError                              Traceback (most recent call last)\n",
      "script_-6533540462407766879 in <module>\n",
      "      \n",
      "      \n",
      "----> \"\"\", workdir = './', stderr = f\"{_output:n}.stderr\", stdout = f\"{_output:n}.stdout\")\n",
      "\n",
      "RuntimeError: Failed to execute commmand \"Rscript /tmp/tmpf1phv0qi.R\" (ret=1, workdir=/home/gaow/Documents/TempDir/dsc/vignettes/one_sample_location, script now in \u001b[0m\u001b[32m/home/gaow/Documents/TempDir/dsc/vignettes/one_sample_location/.sos/abs_err_0_0_909abdf6.R\u001b[0m\u001b[91m, err=\u001b[0m\u001b[32mdsc_result/abs_err/normal_1_mean_1_abs_err_1.stderr\u001b[0m\u001b[91m)\n",
      "[ffc0b82c-f9da-42bf-ac5b-99141a1bcaa2]: [sq_err_0]: \n",
      "---------------------------------------------------------------------------\n",
      "RuntimeError                              Traceback (most recent call last)\n",
      "script_-7940773457002835044 in <module>\n",
      "      \n",
      "      \n",
      "----> \"\"\", workdir = './', stderr = f\"{_output:n}.stderr\", stdout = f\"{_output:n}.stdout\")\n",
      "\n",
      "RuntimeError: Failed to execute commmand \"Rscript /tmp/tmpt3tkk9_6.R\" (ret=1, workdir=/home/gaow/Documents/TempDir/dsc/vignettes/one_sample_location, script now in \u001b[0m\u001b[32m/home/gaow/Documents/TempDir/dsc/vignettes/one_sample_location/.sos/sq_err_0_0_42c75fd3.R\u001b[0m\u001b[91m, err=\u001b[0m\u001b[32mdsc_result/sq_err/normal_1_mean_1_sq_err_1.stderr\u001b[0m\u001b[91m)\n",
      "[fe2174d5-8e6c-40f2-81dd-8331983d2c67]: [abs_err_0]: \n",
      "---------------------------------------------------------------------------\n",
      "RuntimeError                              Traceback (most recent call last)\n",
      "script_-6533540462407766879 in <module>\n",
      "      \n",
      "      \n",
      "----> \"\"\", workdir = './', stderr = f\"{_output:n}.stderr\", stdout = f\"{_output:n}.stdout\")\n",
      "\n",
      "RuntimeError: Failed to execute commmand \"Rscript /tmp/tmpqa9oq6l_.R\" (ret=1, workdir=/home/gaow/Documents/TempDir/dsc/vignettes/one_sample_location, script now in \u001b[0m\u001b[32m/home/gaow/Documents/TempDir/dsc/vignettes/one_sample_location/.sos/abs_err_0_0_5d4f02e1.R\u001b[0m\u001b[91m, err=\u001b[0m\u001b[32mdsc_result/abs_err/t_1_mean_1_abs_err_1.stderr\u001b[0m\u001b[91m)\n",
      "[d2016ae5-d9fc-4c83-8e9a-8962bdf88cca]: [sq_err_0]: \n",
      "---------------------------------------------------------------------------\n",
      "RuntimeError                              Traceback (most recent call last)\n",
      "script_-7940773457002835044 in <module>\n",
      "      \n",
      "      \n",
      "----> \"\"\", workdir = './', stderr = f\"{_output:n}.stderr\", stdout = f\"{_output:n}.stdout\")\n",
      "\n",
      "RuntimeError: Failed to execute commmand \"Rscript /tmp/tmpxaew1km1.R\" (ret=1, workdir=/home/gaow/Documents/TempDir/dsc/vignettes/one_sample_location, script now in \u001b[0m\u001b[32m/home/gaow/Documents/TempDir/dsc/vignettes/one_sample_location/.sos/sq_err_0_0_8c068b57.R\u001b[0m\u001b[91m, err=\u001b[0m\u001b[32mdsc_result/sq_err/t_1_mean_1_sq_err_1.stderr\u001b[0m\u001b[91m)\n",
      "[DSC]: 1 pending step: DSC_0\u001b[0m\n",
      "\u001b[95mWARNING\u001b[0m: \u001b[95mFiles \u001b[0m\u001b[32min green\u001b[0m\u001b[95m in the error prompt above contains codes and error info to help debug.\n",
      "Scripts upstream of the error can be found in \u001b[0m\u001b[32mdsc_result.scripts.html\u001b[0m\u001b[95m.\u001b[0m\n",
      "INFO: Elapsed time \u001b[32m4.924\u001b[0m seconds.\n"
     ]
    },
    {
     "ename": "",
     "evalue": "1",
     "output_type": "error",
     "traceback": []
    }
   ],
   "source": [
    "dsc first_error_v2.dsc -o dsc_result"
   ]
  },
  {
   "cell_type": "markdown",
   "metadata": {},
   "source": [
    "So there are multiple module failures. In case like this we should check and fix the first one first. Same as before, we check:"
   ]
  },
  {
   "cell_type": "code",
   "execution_count": 14,
   "metadata": {
    "kernel": "Bash"
   },
   "outputs": [
    {
     "name": "stdout",
     "output_type": "stream",
     "text": [
      "Error in x - y : non-numeric argument to binary operator\n",
      "Execution halted\n"
     ]
    }
   ],
   "source": [
    "cat dsc_result/abs_err/normal_1_mean_1_abs_err_1.stderr"
   ]
  },
  {
   "cell_type": "markdown",
   "metadata": {},
   "source": [
    "It is not immediately clear what is going on, so we examine the code `.sos/abs_err_0_0_909abdf6.R` by adding a couple of `print` commands before the line in question:"
   ]
  },
  {
   "cell_type": "code",
   "execution_count": 18,
   "metadata": {
    "kernel": "R"
   },
   "outputs": [
    {
     "name": "stdout",
     "output_type": "stream",
     "text": [
      "[1] \"meow\"\n",
      "[1] 0\n"
     ]
    },
    {
     "ename": "ERROR",
     "evalue": "Error in x - y: non-numeric argument to binary operator\n",
     "output_type": "error",
     "traceback": [
      "Error in x - y: non-numeric argument to binary operator\nTraceback:\n"
     ]
    }
   ],
   "source": [
    "## r script UUID: 90107557\n",
    "dscrutils:::empty_text(c(\"dsc_result/abs_err/normal_1_mean_1_abs_err_1.stdout\", \"dsc_result/abs_err/normal_1_mean_1_abs_err_1.stderr\"))\n",
    "DSC_A0BFA20F <- list()\n",
    "input.files <- c('dsc_result/normal/normal_1.rds','dsc_result/mean/normal_1_mean_1.rds')\n",
    "for (i in 1:length(input.files)) DSC_A0BFA20F <- dscrutils:::merge_lists(DSC_A0BFA20F, readRDS(input.files[i]))\n",
    "DSC_REPLICATE <- DSC_A0BFA20F$DSC_DEBUG$replicate\n",
    "x <- DSC_A0BFA20F$est_mean\n",
    "y <- DSC_A0BFA20F$true_mean\n",
    "TIC_A0BFA20F <- proc.time()\n",
    "set.seed(DSC_REPLICATE + 90107557)\n",
    "\n",
    "## BEGIN DSC CORE\n",
    "\n",
    "print(x)\n",
    "print(y)\n",
    "e <- abs(x - y)\n",
    "## END DSC CORE\n",
    "\n",
    "saveRDS(list(error=e, DSC_DEBUG=list(time=proc.time() - TIC_A0BFA20F, script=dscrutils:::load_script(), replicate=DSC_REPLICATE, session=toString(sessionInfo()))), 'dsc_result/abs_err/normal_1_mean_1_abs_err_1.rds')\n",
    "dscrutils:::rm_if_empty(c(\"dsc_result/abs_err/normal_1_mean_1_abs_err_1.stdout\", \"dsc_result/abs_err/normal_1_mean_1_abs_err_1.stderr\"))"
   ]
  },
  {
   "cell_type": "markdown",
   "metadata": {},
   "source": [
    "It looks like `x`, instead of being a number, is a string `meow`. Therefore the line `e <- abs(x - y)` is doomed to fail. We know from the DSC script that `x` comes from an upstream module group `analyze`, that somehow returned `meow` as output. We can also see from this script that the variable comes from one of `'dsc_result/normal/normal_1.rds','dsc_result/mean/normal_1_mean_1.rds'`. From our knowledge of the DSC script we know it should come from `'dsc_result/mean/normal_1_mean_1.rds'` the `mean` module. Therefore there is nothing we can do in the current script to fix the problem."
   ]
  },
  {
   "cell_type": "markdown",
   "metadata": {
    "output_cache": "[]"
   },
   "source": [
    "### Debugging with upstream scripts\n",
    "\n",
    "Now we want to find out what has produced the problematic `x` variable. That is, we want to find the module instance that generated `'dsc_result/mean/normal_1_mean_1.rds'` from which `x` is loaded. However the problematic script above did not tell us where this data comes from. This leads us to examine other scripts in the benchmark that leads to the error, in [`dsc_result.scripts.html`](../tutorials/dsc_result.scripts_e2.html).\n",
    "\n",
    "You can open up [this file](../tutorials/dsc_result.scripts_e2.html) in your web browser, and *search* (`ctrl-F`) for the phrase `dsc_result/mean/normal_1_mean_1.rds`. This leads you to the following: \n",
    "\n",
    "![debug-1](../img/debug-tips-1.png)\n",
    "\n",
    "Unsurprisingly, running these code by itself produces no error message -- this is expected because otherwise DSC would have failed at this stage. However we know from previous investigation that the output does not look right. For this example we can spot instantly that the `meow` string somehow &#128049; replaced the code for location parameter estimation; and we can fix it easily. In practice, one may need to load both this code chunk and the previous `.sos/abs_err_0_0_909abdf6.R` to an interactive session, fix it until `.sos/abs_err_0_0_909abdf6.R` works, and apply the knowledge learned to the original module line `mean: R(y <- \"meow\")` in the DSC script."
   ]
  },
  {
   "cell_type": "markdown",
   "metadata": {
    "output_cache": "[]"
   },
   "source": [
    "## Debug with `--target` and `--truncate`\n",
    "It is highly recommanded that these options be used to check the correctness of DSC benchmark as you develop them. Do not run the entire benchmark unless you have checked it bit by bit. `--truncate` will only run one instance from a module, thus enables running a fraction of DSC benchmark relatively quickly to ensure everthing is correct. Additionally it is suggested that a benchmark be executed module by module using `--target`: the next module or module ensemble is only attedmpted when there is no obvious problem with the previous module. For example for a DSC benchmark:\n",
    "\n",
    "```\n",
    "DSC:\n",
    "  define: \n",
    "      simulate: normal, t\n",
    "      estimate: median, mean\n",
    "  run: simulate * estimate * mse\n",
    "```\n",
    "When the benchmark is tested for the first time, one should at least run the following sequentially:\n",
    "\n",
    "```\n",
    "dcs file.dsc --target normal --truncate\n",
    "dcs file.dsc --target t --truncate\n",
    "dcs file.dsc --target \"normal * mean\" --truncate\n",
    "dcs file.dsc --target \"normal * median\" --truncate\n",
    "dcs file.dsc --target \"normal * median * mse\" --truncate\n",
    "```\n",
    "\n",
    "This will ensure all module are tested for at least one instance. Then you can run the benchmark knowing that the chances of errors has already been reduced.\n",
    "\n",
    "```\n",
    "dcs file.dsc \n",
    "```\n",
    "\n",
    "## More output info\n",
    "The run-time information are kept in greater when running DSC with verbosity level greater than `2`. Though typically unnecessary, if you still cannot fix issues at this point it may help re-running benchmark with `-v 4` and look into the screen output (or, redirect them to a file) for more run-time information to help performing diagnostics."
   ]
  }
 ],
 "metadata": {
  "kernelspec": {
   "display_name": "SoS",
   "language": "sos",
   "name": "sos"
  },
  "language_info": {
   "codemirror_mode": "sos",
   "file_extension": ".sos",
   "mimetype": "text/x-sos",
   "name": "sos",
   "nbconvert_exporter": "sos_notebook.converter.SoS_Exporter",
   "pygments_lexer": "sos"
  },
  "sos": {
   "celltoolbar": true,
   "default_kernel": "SoS",
   "kernels": [
    [
     "Bash",
     "bash",
     "Bash",
     "#E6EEFF"
    ],
    [
     "R",
     "ir",
     "R",
     "#DCDCDA"
    ],
    [
     "SoS",
     "sos",
     "",
     ""
    ]
   ],
   "panel": {
    "displayed": true,
    "height": 0,
    "style": "side"
   },
   "version": "0.9.12.9"
  }
 },
 "nbformat": 4,
 "nbformat_minor": 1
}
