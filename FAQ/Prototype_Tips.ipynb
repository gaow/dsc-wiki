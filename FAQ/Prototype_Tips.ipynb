{
 "cells": [
  {
   "cell_type": "markdown",
   "metadata": {},
   "source": [
    "# Prototype in DSC"
   ]
  },
  {
   "cell_type": "markdown",
   "metadata": {},
   "source": [
    "Although DSC is a benchmarking tool, you might still be able to utilize DSC when you are in a \"research mode\", or the prototyping stage. Starting directly with DSC to build mini-benchmark for methods prototyping saves the efforts of having to migrate your code over to DSC down the line when you seriously consider expanding your initial comparisons.\n",
    "\n",
    "In prototyping stage, you might find command options `--target` and `--truncate` are of particular relevance. In brief, `--target` accepts:\n",
    "\n",
    "- A single or a sequence of modules\n",
    "- A single or a sequence of module groups\n",
    "- A single `run` flag\n",
    "\n",
    "and `--truncate` enables running a fraction of DSC benchmark relatively quickly to ensure everthing is correct. Please read on for details."
   ]
  },
  {
   "cell_type": "markdown",
   "metadata": {},
   "source": [
    "## Test out one module at a time\n",
    "\n",
    "It is highly recommanded that you check the correctness of DSC modules as you develop them. Do not run the entire benchmark unless you have checked it module by module: that is, only add in the next module when you are sure the first module works well. Command options `--target` and `--truncate` can be used for this purpose, for example for a DSC benchmark:\n",
    "\n",
    "```\n",
    "DSC:\n",
    "  define: \n",
    "      simulate: normal, t\n",
    "      estimate: median, mean\n",
    "  run: simulate * estimate * mse\n",
    "```\n",
    "\n",
    "When the benchmark is tested for the first time, one should at least run the following to ensure the first 2 modules work well:\n",
    "\n",
    "```\n",
    "dcs file.dsc --target normal --truncate\n",
    "dcs file.dsc --target t --truncate\n",
    "```\n",
    "\n",
    "Then move on to testing next modules:\n",
    "\n",
    "```\n",
    "dcs file.dsc --target \"normal * mean\" --truncate\n",
    "dcs file.dsc --target \"normal * median\" --truncate\n",
    "```\n",
    "\n",
    "and finally:\n",
    "\n",
    "```\n",
    "dcs file.dsc --target \"normal * median * mse\" --truncate\n",
    "```\n",
    "\n",
    "to test `mse`. When everything looks good, run:\n",
    "\n",
    "```\n",
    "dcs file.dsc \n",
    "```\n",
    "\n",
    "You can also use module groups in `--target`:\n",
    "\n",
    "```\n",
    "dcs file.dsc --target simulate --truncate\n",
    "```\n",
    "\n",
    "will run both `normal` and `t` modules.\n",
    "\n",
    "### Option `--truncate`\n",
    "\n",
    "`--truncate` allows one to run one instance from a module. For example, for this DSC:\n",
    "\n",
    "```\n",
    "simulate: R(x=rnorm(n))\n",
    "  n: 100, 200, 300, 400\n",
    "  \n",
    "DSC:\n",
    "  replicate: 20\n",
    "```\n",
    "\n",
    "Then running \n",
    "\n",
    "```\n",
    "dsc file.dsc --target simulate\n",
    "```\n",
    "\n",
    "will result in 4 different `n` values and 20 replicates, a total of 80 module instances. However with \n",
    "\n",
    "```\n",
    "dsc file.dsc --target simulate --truncate\n",
    "```\n",
    "\n",
    "It will only run the first `n` (n=100) with only 1 replicate."
   ]
  },
  {
   "cell_type": "markdown",
   "metadata": {},
   "source": [
    "## Test out a particular module downstream\n",
    "\n",
    "`--target` can also accept temporary `run` flags. This is useful when testing out newly added modules downstream. For example in the DSC section below:\n",
    "\n",
    "```\n",
    "DSC:\n",
    "  define:\n",
    "    get_Y: original_Y\n",
    "    init: init_mnm\n",
    "    fit: fit_mnm, fit_susie, fit_varbvs, fit_finemap\n",
    "  run:\n",
    "    first_pass: get_data * get_Y * get_sumstats * init * fit\n",
    "    dap: get_data * get_Y * get_sumstats * init * fit_dap\n",
    "```\n",
    "\n",
    "Two `run` flags are defined: `first_pass` and `dap`. Clearly the difference between `first_pass` and `dap` is that `first_pass` does not have `fit_dap` in its `fit` group, but `dat` has only `fit_dap` not any other modules for `fit`. As their name suggests, `first_pass` are module that has been tested to work, as our first pass to a problem. `dap` include modules that we are currently working on, which is `fit_dap`. To prototype `fit_dap` exclusively:\n",
    "\n",
    "```\n",
    "dsc file.dsc --target dap\n",
    "```\n",
    "\n",
    "You can remove this flag if deemed necessary after prototyping."
   ]
  },
  {
   "cell_type": "markdown",
   "metadata": {},
   "source": [
    "## Test locally before running on a cluster system\n",
    "\n",
    "If you are working with a cluster, we suggest that you have an interactive session on the cluster, and use `--target` & `--truncate` as instructed above to test your modules out quickly; but do not use `--host` so your test DSC runs will be local to the interactive node and you get feedback quickly. Once you are confident everything works, you can submit DSC instances as cluster jobs using `--host` option, from either your computer or from the cluster's head node. See [this tutorial](Remote_Computations.html) for details."
   ]
  }
 ],
 "metadata": {
  "kernelspec": {
   "display_name": "SoS",
   "language": "sos",
   "name": "sos"
  },
  "language_info": {
   "codemirror_mode": "sos",
   "file_extension": ".sos",
   "mimetype": "text/x-sos",
   "name": "sos",
   "nbconvert_exporter": "sos_notebook.converter.SoS_Exporter",
   "pygments_lexer": "sos"
  },
  "sos": {
   "default_kernel": "SoS",
   "kernels": [],
   "panel": {
    "displayed": false,
    "height": 0,
    "style": "side"
   },
   "version": "0.9.13.3"
  }
 },
 "nbformat": 4,
 "nbformat_minor": 2
}
