{
 "cells": [
  {
   "cell_type": "markdown",
   "metadata": {},
   "source": [
    "# FAQ"
   ]
  },
  {
   "cell_type": "markdown",
   "metadata": {},
   "source": [
    "## Other DSC features\n",
    "\n",
    "#### I'm done with the DSC introductory tutorials. What next?\n",
    "\n",
    "[This document](FAQ/Syntax_Tips.html) demonstrates some of the most useful syntax not covered with introductory tutorials. We believe it is a good next read. \n",
    "You can then read the rest of this FAQ page to read about other topics that interest you, or, to take a quick look at our [Reference Manual](reference.html)."
   ]
  },
  {
   "cell_type": "markdown",
   "metadata": {},
   "source": [
    "####  My DSC run failed with an error. What should I do?\n",
    "\n",
    "Well, the bug is either ours or yours. DSC software is still under active development. If you catch one of our bug please [post an issue](https://github.com/stephenslab/dsc/issues) with a minimal example of DSC file and command executed that allows us to reproduce the bug. It is difficult to fix an issue without being able to reproduce it on our end first.\n",
    "\n",
    "If it is a bug on your end, DSC should raise a complaint and ask you to fix the issue, as [demonstrated on this page](FAQ/Debug_Tips.html)."
   ]
  },
  {
   "cell_type": "markdown",
   "metadata": {},
   "source": [
    "#### The introductory tutorials are benchmarks implemented in R. Can I work with other languages?\n",
    "\n",
    "Current implementation of DSC works with R, Python and Shell, and provides implicit data handling for R and Python modules. \n",
    "You can find in [here](FAQ/5_Minutes_Python.html) a Python example, and [here](FAQ/5_Minutes_RPY.html) preliminary support to mixing R and Python\n",
    "codes in benchmark.\n",
    "\n",
    "Additionally DSC provides experimental support for Rmd files to run R benchmarks, see [this tutorial](FAQ/Rmd_Executable.html) for details."
   ]
  },
  {
   "cell_type": "markdown",
   "metadata": {},
   "source": [
    "#### My benchmark is more complicated than the 3-step paradigm (\"simulate\", \"analyze\" and \"score\"). Can I still use DSC?\n",
    "\n",
    "Most likely yes. DSC should allow you to run multiple legit pipelines with one or many steps (in DSC's term, modules), as demonstrated in [this toy example](FAQ/Multiple_Pipelines.html)."
   ]
  },
  {
   "cell_type": "markdown",
   "metadata": {},
   "source": [
    "#### Can I use DSC to prototype my methods at the \"research stage\" so that I do not have to migrate code to DSC down the line?\n",
    "\n",
    "Most likely yes, if you work with DSC in certain fashion, as demonstrated in this [prototyping tutorial](FAQ/Prototype_Tips.html)."
   ]
  },
  {
   "cell_type": "markdown",
   "metadata": {},
   "source": [
    "#### I wish DSC has feature *X* to make my benchmarking easier. Can you do that for me?\n",
    "\n",
    "Before you [file a feature request](https://github.com/stephenslab/dsc/issues) please take a look at our [Unsupported Features](FAQ/Unsupported_Features.html) page. These are features we have implemented but decided to keep hidden in order to make DSC a light-weight program. We appreciate your feedback if you some of these features attractive and that we should officially support them."
   ]
  },
  {
   "cell_type": "markdown",
   "metadata": {},
   "source": [
    "## Running DSC benchmarks\n",
    "\n",
    "#### How do I run DSC on a remote computer?\n",
    "\n",
    "[Here is a tutorial](FAQ/Remote_Computations.html) for running DSC on a remote computer such as HPC cluster."
   ]
  },
  {
   "cell_type": "markdown",
   "metadata": {},
   "source": [
    "#### I want to share my benchmark for my manuscript that allows others to reproduce with little hassle. What's the best way to do it?\n",
    "\n",
    "We suggest using Docker. [Here](FAQ/DSC_Docker.html) is a tutorial on dockerizing your benchmark."
   ]
  },
  {
   "cell_type": "markdown",
   "metadata": {},
   "source": [
    "#### I notice that simple benchmarks are a lot slower to run in DSC than in, say, a pure R implementation. What is going on?\n",
    "\n",
    "In short, there are data communication and workflow overhead. Please read a discussion on performance on [this page](FAQ/DSC_Data.html)."
   ]
  },
  {
   "cell_type": "markdown",
   "metadata": {},
   "source": [
    "## DSC under the hood\n",
    "\n",
    "#### I'm curious how DSC handles data implicitly. How does it work?\n",
    "\n",
    "[This page](FAQ/DSC_Data.html) has a discussion on how  DSC handles data communication and storage for R and Python languages."
   ]
  },
  {
   "cell_type": "markdown",
   "metadata": {},
   "source": [
    "#### Why is DSC written in Python?\n",
    "\n",
    "DSC relies heavily on [Script of Scripts (SoS)](https://github.com/vatlab/SOS) project, a Python-based workflow system. \n",
    "Core features in DSC are directly implemented in SoS whenever applicable. DSC also depends on a number of other Python packages [listed here](FAQ/Implementation_Details.html)."
   ]
  },
  {
   "cell_type": "markdown",
   "metadata": {},
   "source": [
    "## Installation troubleshoot\n",
    "\n",
    "#### I am new to `conda`. Do you have advice for setting it up?\n",
    "\n",
    "Here we provide some suggestions for installing [Miniconda](https://conda.io/miniconda.html) with Python 3. (The instructions below worked for Miniconda3 4.4.10 -- future versions may have a different \n",
    "installation procedure.)\n",
    "\n",
    "First, download the version Miniconda built for your operating system. On a Mac computer, for example, open up a terminal and run these commands:\n",
    "\n",
    "```\n",
    "chmod +x Miniconda3-latest-MacOSX-x86_64.sh\n",
    "./Miniconda3-latest-MacOSX-x86_64.sh\n",
    "```\n",
    "\n",
    "Follow the prompt to install it (use `ctrl+F` a couple of times to quickly jump to the end of the Licenses if you have read them before). At the end of installation, the installer will ask you something like this:\n",
    "\n",
    "```\n",
    "Do you wish the installer to prepend the Miniconda3 install location\n",
    "to PATH in your /home/<user_name>/.bashrc ? [yes|no]\n",
    "[no] >>>\n",
    "```\n",
    "\n",
    "If you are not familiar with `conda`, our recommendation is to type `no` for now. Then the installer would say something like:\n",
    "\n",
    "```\n",
    "You may wish to edit your .bashrc to prepend the Miniconda3 install location to PATH:\n",
    "export PATH=/<path_to_conda>/bin:$PATH\n",
    "Thank you for installing Miniconda3!\n",
    "```\n",
    "\n",
    "The next step is important: open an empty text file `~/.bash_conda`, copy the \"`export PATH=...`\" line **from your own terminal output (not from above text!)** to this file, and save the file. Then type\n",
    "\n",
    "```\n",
    "source ~/.bash_conda\n",
    "```\n",
    "\n",
    "to load your new Python 3 environment. **In the future, each time when you open a new terminal to run DSC you need to run `source` with this file**. If you do this often, you may want to add this line to your `.bashrc` file."
   ]
  },
  {
   "cell_type": "markdown",
   "metadata": {},
   "source": [
    "#### What do I do if I already have `conda`, but not python >= 3.6?\n",
    "\n",
    "You have two options: (1) upgrade your Python software to the latest version, or (2) remove your conda installation, and install a new one from scratch.\n",
    "\n",
    "##### Upgrade to Python 3.6\n",
    "\n",
    "Run the following to upgrade your Python to 3.6:\n",
    "\n",
    "```\n",
    "conda install python=3.6.3\n",
    "```\n",
    "\n",
    "##### Start from scratch\n",
    "\n",
    "The safer option is to install from scratch. To remove your existing installation, first figure out where it is installed. For example:\n",
    "\n",
    "```\n",
    "$ which python\n",
    "/home/osboxes/miniconda3/bin/python\n",
    "```\n",
    "\n",
    "Next, remove `/home/osboxes/miniconda3`:\n",
    "\n",
    "```\n",
    "rm -rf /home/osboxes/miniconda3\n",
    "```\n",
    "\n",
    "Then follow the provided instructions to install Anaconda or Miniconda."
   ]
  },
  {
   "cell_type": "markdown",
   "metadata": {},
   "source": [
    "#### What do I do when I do not have permission to install Python packages?\n",
    "\n",
    "If you did not install Python, it is possible that you will not have permission to install packages. To work around this permissions issue, add the `--user` switch to the `pip` command:\n",
    "\n",
    "```\n",
    "pip install --user dsc\n",
    "```\n",
    "\n",
    "**Important note:** The `--user` switch will install packages to the `~/.local` hidden directory. This may cause problems if `dsc` is upgraded at a later date without the `--user` switch."
   ]
  },
  {
   "cell_type": "markdown",
   "metadata": {},
   "source": [
    "#### What to do if I try to run `dscquery` in RStudio, and it complains that the `dsc-query` command is not found?\n",
    "\n",
    "If you are using DSC in RStudio, you will need to adjust your `~/.Renviron` settings, e.g. if your `dsc-query` is in `/home/osboxes/miniconda3/bin` (use `which dsc-query` to figure this out) then your `~/.Renviron` should look like:\n",
    "\n",
    "```\n",
    "$ cat ~/.Renviron\n",
    "PATH=/home/osboxes/miniconda3/bin:${PATH}\n",
    "```\n",
    "\n",
    "and restart `R` to load the setting."
   ]
  },
  {
   "cell_type": "markdown",
   "metadata": {},
   "source": [
    "## Contribute\n",
    "\n",
    "#### I would like to help improve DSC documentation. Where should I start?\n",
    "\n",
    "The wiki is mostly written in Jupyter's `.ipynb` format for interactive documents that executes bash, R or Python codes. Markdown files (with suffix `.Rmd`) are also allowed. We welcome your contributions -- for starters please follow the [`README`](https://github.com/stephenslab/dsc-wiki/blob/master/README.md) of the wiki source repo to set up the software environment for editing."
   ]
  }
 ],
 "metadata": {
  "kernelspec": {
   "display_name": "SoS",
   "language": "sos",
   "name": "sos"
  },
  "language_info": {
   "codemirror_mode": "sos",
   "file_extension": ".sos",
   "mimetype": "text/x-sos",
   "name": "sos",
   "nbconvert_exporter": "sos_notebook.converter.SoS_Exporter",
   "pygments_lexer": "sos"
  },
  "sos": {
   "celltoolbar": true,
   "default_kernel": "SoS",
   "kernels": [],
   "panel": {
    "displayed": false,
    "height": 0,
    "style": "side"
   },
   "version": "0.9.13.3"
  }
 },
 "nbformat": 4,
 "nbformat_minor": 1
}
