{
 "cells": [
  {
   "cell_type": "markdown",
   "metadata": {},
   "source": [
    "# FAQ"
   ]
  },
  {
   "cell_type": "markdown",
   "metadata": {},
   "source": [
    "## Other DSC features\n",
    "\n",
    "#### I'm done with the DSC introductory tutorials. What next?\n",
    "\n",
    "[This document](FAQ/Syntax_Tips.html) demonstrates some of the most useful syntax not covered with introductory tutorials. We believe it is a good next read. \n",
    "You can then read the rest of this FAQ page to read about other topics that interest you, or, to take a quick look at our [Reference Manual](reference.html)."
   ]
  },
  {
   "cell_type": "markdown",
   "metadata": {},
   "source": [
    "####  My DSC run failed with an error. What should I do?\n",
    "\n",
    "Well, the bug is either ours or yours. DSC software is still under active development. If you catch one of our bug please [post an issue](https://github.com/stephenslab/dsc/issues) with a minimal example of DSC file and command executed that allows us to reproduce the bug. It is difficult to fix an issue without being able to reproduce it on our end first.\n",
    "\n",
    "If it is a bug on your end, DSC should raise a complaint and ask you to fix the issue, as [demonstrated on this page](FAQ/Debug_Tips.html)."
   ]
  },
  {
   "cell_type": "markdown",
   "metadata": {},
   "source": [
    "#### The introductory tutorials are benchmarks implemented in R. Can I work with other languages?\n",
    "\n",
    "Current implementation of DSC works with R, Python and Shell, and provides implicit data handling for R and Python modules. \n",
    "You can find in [here](FAQ/5_Minutes_Python.html) a Python example, and [here](FAQ/5_Minutes_RPY.html) preliminary support to mixing R and Python\n",
    "codes in benchmark.\n",
    "\n",
    "Additionally DSC provides experimental support for Rmd files to run R benchmarks, see [this tutorial](FAQ/Rmd_Executable.html) for details."
   ]
  },
  {
   "cell_type": "markdown",
   "metadata": {},
   "source": [
    "#### My benchmark is more complicated than the 3-step paradigm (\"simulate\", \"analyze\" and \"score\"). Can I still use DSC?\n",
    "\n",
    "Most likely yes. DSC should allow you to run multiple legit pipelines with one or many steps (in DSC's term, modules), as demonstrated in [this toy example](FAQ/Multiple_Pipelines.html)."
   ]
  },
  {
   "cell_type": "markdown",
   "metadata": {},
   "source": [
    "#### I wish DSC has feature *X* to make my benchmarking easier. Can you do that for me?\n",
    "\n",
    "Before you [file a feature request](https://github.com/stephenslab/dsc/issues) please take a look at our [Unsupported Features](FAQ/Unsupported_Features.html) page. These are features we have implemented but decided to keep hidden in order to make DSC a light-weight program. We appreciate your feedback if you some of these features attractive and that we should officially support them."
   ]
  },
  {
   "cell_type": "markdown",
   "metadata": {},
   "source": [
    "## Running DSC benchmarks\n",
    "\n",
    "#### How do I run DSC on a remote computer?\n",
    "\n",
    "[Here is a tutorial](FAQ/Remote_Computations.html) for running DSC on a remote computer such as HPC cluster."
   ]
  },
  {
   "cell_type": "markdown",
   "metadata": {},
   "source": [
    "#### I want to share my benchmark for my manuscript that allows others to reproduce with little hassle. What's the best way to do it?\n",
    "\n",
    "We suggest using Docker. [Here](FAQ/DSC_Docker.html) is a tutorial on dockerizing your benchmark."
   ]
  },
  {
   "cell_type": "markdown",
   "metadata": {},
   "source": [
    "## DSC under the hood\n",
    "\n",
    "#### I'm curious how DSC handles data implicitly. How does it work?\n",
    "\n",
    "[This page](FAQ/DSC_Data.html) has a discussion on how  DSC handles data communication and storage for R and Python languages."
   ]
  },
  {
   "cell_type": "markdown",
   "metadata": {},
   "source": [
    "#### Why is DSC written in Python?\n",
    "\n",
    "DSC relies heavily on [Script of Scripts (SoS)](https://github.com/vatlab/SOS) project, a Python-based workflow system. \n",
    "Core features in DSC are directly implemented in SoS whenever applicable. DSC also depends on a number of other Python packages [listed here](FAQ/Implementation_Details.html)."
   ]
  },
  {
   "cell_type": "markdown",
   "metadata": {},
   "source": [
    "## Contribute\n",
    "\n",
    "#### I would like to help improve DSC documentation. Where should I start?\n",
    "\n",
    "The wiki is mostly written in Jupyter's `.ipynb` format for interactive documents that executes bash, R or Python codes. Markdown files (with suffix `.Rmd`) are also allowed. We welcome your contributions -- for starters please follow the [`README`](https://github.com/stephenslab/dsc-wiki/blob/master/README.md) of the wiki source repo to set up the software environment for editing."
   ]
  }
 ],
 "metadata": {
  "kernelspec": {
   "display_name": "SoS",
   "language": "sos",
   "name": "sos"
  },
  "language_info": {
   "codemirror_mode": "sos",
   "file_extension": ".sos",
   "mimetype": "text/x-sos",
   "name": "sos",
   "nbconvert_exporter": "sos_notebook.converter.SoS_Exporter",
   "pygments_lexer": "sos"
  },
  "sos": {
   "celltoolbar": true,
   "default_kernel": "SoS",
   "kernels": [],
   "panel": {
    "displayed": false,
    "height": 0,
    "style": "side"
   },
   "version": "0.9.13.1"
  }
 },
 "nbformat": 4,
 "nbformat_minor": 1
}
