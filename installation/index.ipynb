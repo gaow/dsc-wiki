{
 "cells": [
  {
   "cell_type": "markdown",
   "metadata": {
    "kernel": "SoS"
   },
   "source": [
    "# DSC Installation Guide\n",
    "\n",
    "Follow these steps to get started using DSC. \n",
    "\n",
    "If you encounter a problem during the installation procedure, please see the [\"Troubleshooting installation\"](FAQ.html#Installation-troubleshoot) section in the FAQ for a possible solution.\n",
    "\n",
    "*Note:* If you have [Docker](https://www.docker.com), you can follow the [Docker instructions](FAQ/DSC_Docker.html) instead of installing DSC from source. Once you have completed the Docker instructions, jump directly to Installation Step 5 below.\n",
    "\n",
    "*Note to developers:* Please refer to the installation instructions in the `README` of the [dsc repository](https://github.com/stephenslab/dsc)."
   ]
  },
  {
   "cell_type": "markdown",
   "metadata": {
    "kernel": "SoS"
   },
   "source": [
    "## Overview of DSC components\n",
    "\n",
    "DSC consists of several components that interact with each other. Before beginning the installation, it is helpful to know: (1) what is being installed, (2) where DSC is installed, and (3) what software is needed to run DSC successfully.\n",
    "\n",
    "To install DSC, you will need to have the following software on your computer:\n",
    "\n",
    "1. [Python](http://python.org) (version 3.6 or greater).\n",
    "\n",
    "2. Several Python modules, including NumPy and Pandas.\n",
    "\n",
    "3. Optionally, [R](https://www.r-project.org). Although not required, to get the full benefit of DSC we recommend installing R.\n",
    "\n",
    "The DSC software consists of the following three components:\n",
    "\n",
    "1. A [Python module](https://docs.python.org/3/tutorial/modules.html) called `dsc`. It is installed in the same location as other Python modules (unless you choose to override the standard choice).\n",
    "\n",
    "2. Two Python executables, `dsc` and `dsc-query`, that can be run from the command-line shell. These executables are also installed and managed by the `pip` program. It is installed in the same location as other Python executables (unless you choose to override the standard choice).\n",
    "\n",
    "3. An R package called `dscrutils` that provides an interface for querying DSC results in R, as well as tools to run R code inside a DSC program. It is installed in the same location as other R packages.\n",
    "\n",
    "A complete installation of DSC not only involves installing these components, but also setting up your computing environment to ensure that these components can communicate with each other. We will explain how to do this in the steps below."
   ]
  },
  {
   "cell_type": "markdown",
   "metadata": {
    "kernel": "SoS"
   },
   "source": [
    "## 1. Install python >= 3.6\n",
    "\n",
    "To use DSC, you must have Python version 3.6 or greater. There are several ways you can install Python >= 3.6.\n",
    "\n",
    "**Our recommendation:** Install Python via a [conda](https://conda.io/docs)-based package manager such as [Miniconda](https://conda.io/miniconda.html) or [Anaconda](https://anaconda.org/). If you are starting from scratch, we recommend [Miniconda](https://conda.io/miniconda.html). See [here](#Troubleshooting) (*TO DO: fix this link*) for additional advice on installing and configuring Miniconda.\n",
    "\n",
    "** Other options:** DSC will also work with standalone distributions of Python (e.g., downloaded from [Python.org](https://www.python.org)), and the instructions below should work regardless of how Python is installed on your computer. However, we recommend `conda` because it will provide easy access to various Python packages DSC depends on, thus making it a lot easier to install DSC."
   ]
  },
  {
   "cell_type": "markdown",
   "metadata": {
    "kernel": "SoS"
   },
   "source": [
    "## 2. Check your Python installation\n",
    "\n",
    "DSC is distributed via [pypi](https://pypi.python.org/pypi/dsc). The simplest way to install a Python module from pypi is with `pip`. [All recent Python versions are by default bundled with pip](https://pip.pypa.io/en/stable/installing). Before running `pip`, check that you are running the version bundled with Python >= 3.6:\n",
    "\n",
    "```\n",
    "python --version\n",
    "pip --version\n",
    "```\n",
    "\n",
    "or \n",
    "\n",
    "```\n",
    "python3 --version\n",
    "pip3 --version\n",
    "```\n",
    "\n",
    "If the reported Python version is or greater than 3.6.0 and `pip` is reported to come from that version (eg. `pip 9.0.1 from /path/to/python (python 3.6)`), then you are ready for the next step. \n",
    "\n",
    "**Important:** *In the instructions below, we assume your Python 3.6+ executable is `python`, and your pip (python 3.6+) executable is `pip`. However, you might need to replace `python` with `python3` and `pip` with `pip3`.* \n",
    "\n",
    "If you already have an old version of Miniconda or Anaconda installed, but you do not have Python >= 3.6, see [here](#Troubleshooting) (*TO DO: fix this link*) for advice on how to proceed."
   ]
  },
  {
   "cell_type": "markdown",
   "metadata": {
    "kernel": "SoS"
   },
   "source": [
    "## 3. Install (or upgrade) DSC\n",
    "\n",
    "We provide two sets of installation instructions: Python installed with `conda` (*i.e.*, Anaconda or Miniconda), and Python not installed with `conda`.\n",
    "\n",
    "\n",
    "### 3a. If Python is installed with `conda` (Anaconda or Miniconda)\n",
    "\n",
    "Using `conda`, install DSC from the conda-forge channel:\n",
    "\n",
    "```\n",
    "conda install -c conda-forge dsc\n",
    "```\n",
    "\n",
    "### 3b. If Python is *not* installed with `conda`\n",
    "\n",
    "Run this command to install or upgrade DSC (and any Python dependencies that remain uninstalled):\n",
    "\n",
    "```\n",
    "pip install -U --upgrade-strategy only-if-needed dsc\n",
    "```\n",
    "\n",
    "However, we caution that:\n",
    "\n",
    "* You must have both `C` and `Fortran` compilers (and accompanying libraries).\n",
    "\n",
    "* The `pip` command may take a long time to run because several packages will need to be built from source. \n",
    "\n",
    "* Installation of some packages may fail. If so, try running the same command again; *sometimes running the same `pip` command a second time works!*\n",
    "\n",
    "If you are having difficulty installing DSC and its dependnencies directly from source, we recommend switching to using `conda`. Since `conda` installs binary packages that have already been compiled, this saves you from having to configure the correct compiler settings on your local machine."
   ]
  },
  {
   "cell_type": "markdown",
   "metadata": {
    "kernel": "SoS"
   },
   "source": [
    "## 4. Install modules for network visualization of benchmarks (optional)\n",
    "\n",
    "If you'd like to be able to create a network visualization of your benchmarks, you'll need to install some additional Python modules. This is an entirely optional feature which will not affect the running of your DSC benchmarks.\n",
    "\n",
    "\n",
    "### 3a. If Python is installed with `conda` (Anaconda or Miniconda)\n",
    "\n",
    "Run the following:\n",
    "\n",
    "```\n",
    "conda install -c conda-forge python-graphviz imageio pillow\n",
    "```\n",
    "\n",
    "### 3b. If Python is *not* installed with `conda`\n",
    "\n",
    "Run the following:\n",
    "\n",
    "```\n",
    "pip install -U --upgrade-strategy only-if-needed graphviz imageio pillow\n",
    "```\n"
   ]
  },
  {
   "cell_type": "markdown",
   "metadata": {
    "kernel": "SoS"
   },
   "source": [
    "## 5. Verify installation of Python module\n",
    "\n",
    "Check that the Python module is installed and recognized in your current shell environment by running this command:\n",
    "\n",
    "```\n",
    "pip show dsc\n",
    "```\n",
    "\n",
    "After running this command, you should see something like this:\n",
    "\n",
    "```\n",
    "Name: dsc\n",
    "Version: 0.2.7.2\n",
    "Summary: Implementation of Dynamic Statistical Comparisons\n",
    "Home-page: https://github.com/stephenslab/dsc\n",
    "Author: Gao Wang\n",
    "Author-email: gaow@uchicago.edu\n",
    "License: MIT\n",
    "Location: /home/jsmith/anaconda3/lib/python3.6/site-packages\n",
    "Requires: numpy, pandas, sympy, numexpr, sos, sos-pbs, h5py, pyarrow, sqlalchemy, msgpack-python\n",
    "```"
   ]
  },
  {
   "cell_type": "markdown",
   "metadata": {
    "kernel": "SoS"
   },
   "source": [
    "## 6. Test installation of Python executables\n",
    "\n",
    "Run the following commands to verify that the Python executables are accessible in your current shell environment:\n",
    "\n",
    "```\n",
    "dsc --version\n",
    "dsc-query --version\n",
    "```\n",
    "\n",
    "For both commands, you should see the software version number printed to the screen.\n",
    "\n",
    "If you get an error, and you have verified that the Python module has been successfully installed, the most likely explanation is that the Python executables are stored in a location that is not in your command search path. In particular, this location needs to be included in the `PATH` environment variable.\n",
    "\n",
    "*NOTE: I think it would be better to move this to the FAQ Troubleshooting section, with title, \"What do I do when it says that commands dsc or dsc-query cannot be found\"?*\n",
    "\n",
    "The most reliable is to way to find the location of the executables is to run these two commands:\n",
    "\n",
    "```\n",
    "pip show dsc\n",
    "pip show dsc --files | grep dsc-query\n",
    "```\n",
    "\n",
    "The first command gives the install location of the Python module, and the second command gives the install location of the executables *which may be relative to the Python module.* Based on this, you can run the following command in the bash shell to add the appropriate location to your command search path:\n",
    "\n",
    "```\n",
    "export PATH=<python-exec-path>:$PATH\n",
    "```\n",
    "\n",
    "where `<python-exec-path>` was identified from running the commands above. For example, in Anaconda the first and second install locations may look something like `/home/jsmith/anaconda3/lib/python3.6/site-packages` and `../../../bin/dsc-query`, in which case running\n",
    "\n",
    "```\n",
    "export PATH=/home/jsmith/anaconda3/lib:$PATH\n",
    "```\n",
    "\n",
    "should make the `dsc` and `dsc-query` commands accessible."
   ]
  },
  {
   "cell_type": "markdown",
   "metadata": {
    "kernel": "SoS"
   },
   "source": [
    "## 7. Install R (optional)\n",
    "\n",
    "R is optional, but highly recommended—it is useful for querying DSC results. It is also required for running any DSC benchmarks that run R code. Follow the instructions on the [CRAN website](https://cran.r-project.org) to install R on your computer. DSC also works with [RStudio](http://rstudio.com), although an additional setup step may be required for RStudio."
   ]
  },
  {
   "cell_type": "markdown",
   "metadata": {
    "kernel": "SoS"
   },
   "source": [
    "## 8. Install `dscrutils` R package (optional)\n",
    "\n",
    "The simplest way to install the `dscrutils` package is to start up R or RStudio and run the following code:\n",
    "\n",
    "```R\n",
    "install.packages(\"devtools\")\n",
    "library(devtools)\n",
    "install_github(\"stephenslab/dsc\",subdir = \"dscrutils\",force = TRUE)\n",
    "```\n",
    "\n",
    "This will also install the [devtools](https://github.com/hadley/devtools) package."
   ]
  },
  {
   "cell_type": "markdown",
   "metadata": {
    "kernel": "SoS"
   },
   "source": [
    "## 9. Ensure `dsc-query` is recognized in R (optional)\n",
    "\n",
    "In a previous step, you verified that `dsc-query` can be run from the command-line shell. In order to query DSC results, we also need to make sure that it can be run inside your preferred R environment.\n",
    "\n",
    "Start up R or RStudio, and run\n",
    "\n",
    "```\n",
    "system(\"dsc-query --version\")\n",
    "```\n",
    "\n",
    "If this outputs a version number, then you are ready to use the `dscrutils` package. If this command reports an error, then most likely you will need to fix the command search path inside R or RStudio; see the [Troubleshooting](FAQ.html#Installation-troubleshoot) section of the FAQ page for instructions on how to do this."
   ]
  },
  {
   "cell_type": "markdown",
   "metadata": {
    "kernel": "SoS"
   },
   "source": [
    "## 10. Start your first DSC project\n",
    "\n",
    "*If you have reached this point, you have everything you need to start working with DSC.*\n",
    "\n",
    "Start from [here](tutorials/Intro_DSC.html) for a first course on DSC. See [here](tutorials.html) for more introductory tutorials."
   ]
  }
 ],
 "metadata": {
  "kernelspec": {
   "display_name": "Python 3",
   "language": "python",
   "name": "python3"
  },
  "language_info": {
   "codemirror_mode": {
    "name": "ipython",
    "version": 3
   },
   "file_extension": ".py",
   "mimetype": "text/x-python",
   "name": "python",
   "nbconvert_exporter": "python",
   "pygments_lexer": "ipython3",
   "version": "3.6.7"
  },
  "sos": {
   "celltoolbar": true,
   "default_kernel": "SoS",
   "kernels": [],
   "panel": {
    "displayed": false,
    "height": 0,
    "style": "side"
   },
   "version": "0.9.13.2"
  }
 },
 "nbformat": 4,
 "nbformat_minor": 2
}
