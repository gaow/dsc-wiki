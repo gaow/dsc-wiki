{
 "cells": [
  {
   "cell_type": "markdown",
   "metadata": {},
   "source": [
    "# Quick Start\n",
    "\n",
    "Follow these five steps to quickly get started using DSC2."
   ]
  },
  {
   "cell_type": "markdown",
   "metadata": {},
   "source": [
    "## 1. Install python >= 3.6\n",
    "\n",
    "To use DSC2, you must have Python version 3.6 or greater. There are several accepted ways to install Python >= 3.6 for DSC2. \n",
    "\n",
    "**Our recommendation:** install Python via a [conda](https://conda.io/docs)-based package manager such as [Miniconda](https://conda.io/miniconda.html) or [Anaconda](https://anaconda.org/). If you would like to start from scratch we recommand using [Miniconda](https://conda.io/miniconda.html) due to its light-weight and consquently less complications. [Here](#Troubleshooting) are some novice advice on installation and configuration. \n",
    "\n",
    "** Other options:** DSC2 will also work with standalone distributions of Python (e.g., downloaded from [Python.org](https://www.python.org), and the instructions below should work regardless of how Python is installed on your computer. However, we recommend `conda` because it will provide easy access to various Python packages DSC2 depends on, thus making it a lot easier to install DSC2."
   ]
  },
  {
   "cell_type": "markdown",
   "metadata": {},
   "source": [
    "## 2. Check your Python installation\n",
    "\n",
    "DSC2 is frequently release to [pypi](https://pypi.python.org/pypi/dsc) which can be accessed via command line tool `pip`. [All recent Python versions are automatically bundled with pip](https://pip.pypa.io/en/stable/installing). Before running `pip`, check that you are running the version bundled with Python >= 3.6. To check, run:\n",
    "\n",
    "```\n",
    "python --version\n",
    "pip --version\n",
    "```\n",
    "\n",
    "or \n",
    "\n",
    "```\n",
    "python3 --version\n",
    "pip3 --version\n",
    "```\n",
    "\n",
    "If the reported Python version is or greater than 3.6.0 and `pip` is reported to come from that version (eg. `pip 9.0.1 from /path/to/python (python 3.6)`), then you are ready for the next step. \n",
    "\n",
    "\n",
    "**Important:** *In the instructions below, we assume your Python 3.6+ executable is `python`, your pip (python 3.6+) executable is `pip`. However, you might need to replace `python` with `python3` and `pip` with `pip3` if they otherwise point to other versions* \n",
    "\n",
    "If you already have some old version of Miniconda or Anaconda installed, but you do not have Python >= 3.6, see instructions [here](#Troubleshooting) for what to do."
   ]
  },
  {
   "cell_type": "markdown",
   "metadata": {},
   "source": [
    "## 3. Install dependencies\n",
    "\n",
    "DSC depends on [a number of Python libraries](manual/Implementation_Details.html). We provide two sets of installation instructions for these dependencies: one for Python installed by `conda`, and the other for Python not installed by `conda`. \n",
    "\n",
    "\n",
    "### 3a. If Python is installed by `conda`\n",
    "\n",
    "Install the packages required by DSC2:\n",
    "\n",
    "```\n",
    "conda install -c conda-forge fasteners python-xxhash pyarrow\n",
    "```\n",
    "\n",
    "```\n",
    "conda install numpy pandas sqlalchemy msgpack-python sympy numexpr h5py \\\n",
    "                psutil networkx pydot pydotplus pyyaml tqdm pygments pexpect\n",
    "```\n",
    "\n",
    "Some of these packages may have already been installed, so make sure that you also run these commands to update any previously installed packages to the latest version:\n",
    "\n",
    "```\n",
    "conda update -c conda-forge fasteners python-xxhash pyarrow\n",
    "```\n",
    "\n",
    "```\n",
    "conda update numpy pandas sqlalchemy msgpack-python sympy numexpr h5py \\\n",
    "                psutil networkx pydot pydotplus pyyaml tqdm pygments pexpect\n",
    "```\n",
    "\n",
    "If you encounter errors, see the [troubleshooting tips](#Troubleshooting) below."
   ]
  },
  {
   "cell_type": "markdown",
   "metadata": {},
   "source": [
    "### 3b. If Python is not installed by `conda`\n",
    "\n",
    "Then you can skip this step, because the Python installer `pip` will automatically take care of installing the required packages. However, we caution that:\n",
    "\n",
    "* Installation *will take some time* because many required packages will involve source compile. Also your system has to be equipped with `C` and `Fortan` compilers and libraries.\n",
    "\n",
    "* Installation of some packages may fail. In this case, please try running the command again -- *sometimes running the installation command twice fixes the problem.*"
   ]
  },
  {
   "cell_type": "markdown",
   "metadata": {},
   "source": [
    "## 4. Install DSC2\n",
    "\n",
    "### 4a. Install released version\n",
    "\n",
    "You may run this command to install DSC2 and all the remaining Python dependencies from source:\n",
    "\n",
    "```\n",
    "pip install dsc\n",
    "```\n",
    "\n",
    "To upgrade the DSC2 you previously have installed, run the following command:\n",
    "\n",
    "```\n",
    "pip install --upgrade --upgrade-strategy only-if-needed --no-cache-dir dsc\n",
    "```\n",
    "\n",
    "If you encounter errors, see the [troubleshooting tips](#Troubleshooting) below.\n",
    "\n",
    "### 4b. Install development version\n",
    "\n",
    "For more users, we recommend installing the most recent stable release following the instructions above. But you also have the option of installing the version in-development by following these steps.\n",
    "\n",
    "DSC2 is closely developed in parallel with the [SoS library](http://github.com/vatlab/sos). The development version (`master` branch on GitHub) typically requires the development version of SoS. \n",
    "\n",
    "First install the latest version of SoS:\n",
    "\n",
    "```\n",
    "git clone https://github.com/vatlab/SoS.git\n",
    "cd SoS\n",
    "python setup.py install --single-version-externally-managed --root / \n",
    "```\n",
    "\n",
    "Then install the latest version of DSC2:\n",
    "\n",
    "```\n",
    "git clone https://github.com/stephenslab/dsc2.git\n",
    "cd dsc2\n",
    "python setup.py install --single-version-externally-managed --root /\n",
    "```\n",
    "\n",
    "If you are running R code within your DSC project, you may also want the latest development version of the **dscrutils** R package. This can be installed from GitHub by running the following code in R:\n",
    "\n",
    "```R\n",
    "library(devtools)\n",
    "install_github(\"stephenslab/dsc2\",subdir = \"dscrutils\",force = TRUE)\n",
    "```\n",
    "\n",
    "### 4c. Test installation\n",
    "\n",
    "Type in command prompt:\n",
    "\n",
    "```\n",
    "dsc -h\n",
    "```\n",
    "\n",
    "You should see the DSC [command interface](https://stephenslab.github.io/dsc-wiki/manual/Command_Options.html) displayed."
   ]
  },
  {
   "cell_type": "markdown",
   "metadata": {},
   "source": [
    "## 5. Start your first DSC2 project\n",
    "\n",
    "Start from [here](https://stephenslab.github.io/dsc-wiki/tutorials/First_Course.html) for a first course on DSC, and [here](https://stephenslab.github.io/dsc-wiki/tutorials/First_Course_Elaborated.html) an elaboration of its design and syntax."
   ]
  },
  {
   "cell_type": "markdown",
   "metadata": {},
   "source": [
    "## Troubleshooting\n",
    "\n",
    "### I am new to `conda`. Do you have advice for setting it up?\n",
    "\n",
    "Here we provide some suggestions for installing [Miniconda](https://conda.io/miniconda.html) with Python 3. (The instructions below worked for Miniconda3 4.4.10 -- future versions may have a different \n",
    "installation procedure.)\n",
    "\n",
    "First, download the version Miniconda built for your operating system. On a Mac computer, for example, open up a terminal and run these commands:\n",
    "\n",
    "```\n",
    "chmod +x Miniconda3-latest-MacOSX-x86_64.sh\n",
    "./Miniconda3-latest-MacOSX-x86_64.sh\n",
    "```\n",
    "\n",
    "Follow the prompt to install it (use `ctrl+F` a couple of times to quickly jump to the end of the Licenses if you have read them before). At the end of installation, the installer will ask you something like this:\n",
    "\n",
    "```\n",
    "Do you wish the installer to prepend the Miniconda3 install location\n",
    "to PATH in your /home/<user_name>/.bashrc ? [yes|no]\n",
    "[no] >>>\n",
    "```\n",
    "\n",
    "If you are not familiar with `conda`, our recommendation is to type `no` for now. Then the installer would say something like:\n",
    "\n",
    "```\n",
    "You may wish to edit your .bashrc to prepend the Miniconda3 install location to PATH:\n",
    "export PATH=/<path_to_conda>/bin:$PATH\n",
    "Thank you for installing Miniconda3!\n",
    "```\n",
    "\n",
    "The next step is important: open an empty text file `~/.bash_conda`, copy the \"`export PATH=...`\" line **from your own terminal output (not from above text!)** to this file, and save the file. Then type\n",
    "\n",
    "```\n",
    "source ~/.bash_conda\n",
    "```\n",
    "\n",
    "to load your new Python 3 environment. **In the future, each time when you open a new terminal to run DSC you need to run `source` with this file**. If you do this often, you may want to add this line to your `.bashrc` file."
   ]
  },
  {
   "cell_type": "markdown",
   "metadata": {},
   "source": [
    "### What do I do if I already have `conda`, but not python >= 3.6?\n",
    "\n",
    "You have two options: (1) upgrade your Python software to the latest version, or (2) remove your conda installation, and install a new one from scratch.\n",
    "\n",
    "The safer option is to install from scratch. To remove your existing installation, first figure out where it is installed. For example:\n",
    "\n",
    "```\n",
    "$ which python\n",
    "/home/osboxes/miniconda3/bin/python\n",
    "```\n",
    "\n",
    "Next, remove `/home/osboxes/miniconda3`:\n",
    "\n",
    "```\n",
    "rm -rf /home/osboxes/miniconda3\n",
    "```\n",
    "\n",
    "Then follow the provided instructions to install Anaconda or Miniconda.\n",
    "\n",
    "Alternatively, update Python to the latest version (currently version 3.6):\n",
    "\n",
    "```\n",
    "conda install python=3.6 \n",
    "```"
   ]
  },
  {
   "cell_type": "markdown",
   "metadata": {},
   "source": [
    "### What do I do when I do not have permission to install Python packages?\n",
    "\n",
    "If you did not install Python, it is possible that you will not have permission to install packages. To work around this permissions issue, add the `--user` switch to the `pip` command:\n",
    "\n",
    "```\n",
    "pip install --user dsc\n",
    "```\n",
    "\n",
    "**Important note:** The `--user` switch will install packages to the `~/.local` hidden directory. This may cause problems if `dsc` is upgraded at a later date without the `--user` switch."
   ]
  },
  {
   "cell_type": "markdown",
   "metadata": {},
   "source": [
    "### What to do if `dscquery` in R complains about `dsc-query` command not found yet I can use it from command console?\n",
    "\n",
    "If you are using DSC in RStudio, you will need to adjust your `~/.Renviron` settings, e.g. if your `dsc-query` is in `/home/osboxes/miniconda3/bin` (use `which dsc-query` to figure this out) then your `~/.Renviron` should look like:\n",
    "\n",
    "```\n",
    "$ cat ~/.Renviron\n",
    "PATH=/home/osboxes/miniconda3/bin:$PATH\n",
    "```"
   ]
  }
 ],
 "metadata": {
  "kernelspec": {
   "display_name": "SoS",
   "language": "sos",
   "name": "sos"
  },
  "language_info": {
   "codemirror_mode": "sos",
   "file_extension": ".sos",
   "mimetype": "text/x-sos",
   "name": "sos",
   "nbconvert_exporter": "sos_notebook.converter.SoS_Exporter",
   "pygments_lexer": "sos"
  },
  "sos": {
   "celltoolbar": true,
   "default_kernel": "SoS",
   "kernels": [
    [
     "R",
     "ir",
     "R",
     "#DCDCDA"
    ],
    [
     "SoS",
     "sos",
     "",
     ""
    ],
    [
     "python3",
     "python3",
     "",
     ""
    ]
   ],
   "panel": {
    "displayed": true,
    "height": 0,
    "style": "side"
   }
  }
 },
 "nbformat": 4,
 "nbformat_minor": 1
}
