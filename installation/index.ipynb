{
 "cells": [
  {
   "cell_type": "markdown",
   "metadata": {},
   "source": [
    "# Installation Guide\n",
    "\n",
    "Follow these steps to get started using DSC. \n",
    "\n",
    "If you encounter a problem during the installation procedure, please see the [\"Troubleshooting installation\"](FAQ.html#Installation-troubleshoot) section in the FAQ for a possible solution.\n",
    "\n",
    "*Note:* If you have [Docker](https://www.docker.com), you can follow the [Docker instructions](FAQ/DSC_Docker.html) instead of installing DSC from source. Once you have completed the Docker instructinos, jump directly to Installation Step 5 below."
   ]
  },
  {
   "cell_type": "markdown",
   "metadata": {},
   "source": [
    "## Overview of DSC components\n",
    "\n",
    "DSC consists of several components that interact with each other. Before beginning the installation, it is helpful to know: (1) what is being installed, (2) where DSC is installed, and (3) what software is needed to run DSC successfully.\n",
    "\n",
    "To install DSC, you will need to have the following software on your computer:\n",
    "\n",
    "1. [Python](http://python.org) (version 3.6 or greater).\n",
    "\n",
    "2. Several Python modules, including NumPy and Pandas.\n",
    "\n",
    "3. Optionally, [R](https://www.r-project.org). Although not required, to get the full benefit of DSC we recommend installing R.\n",
    "\n",
    "The DSC software consists of the following three components:\n",
    "\n",
    "1. A [Python module](https://docs.python.org/3/tutorial/modules.html) called `dsc`. It is installed in the same location as other Python modules (unless you choose to override the standard choice).\n",
    "\n",
    "2. Two Python executables, `dsc` and `dsc-query`, that can be run from the command-line shell. These executables are also installed and managed by the `pip` program. It is installed in the same location as other Python executables (unless you choose to override the standard choice).\n",
    "\n",
    "3. An R package called `dscrutils` that provides an interface for querying DSC results in R, as well as tools to run R code inside a DSC program. It is installed in the same location as other R packages.\n",
    "\n",
    "A complete installation of DSC not only involves installing these components, but also setting up your computing environment to ensure that these components can communicate with each other. We will explain how to do this in the steps below."
   ]
  },
  {
   "cell_type": "markdown",
   "metadata": {},
   "source": [
    "## 1. Install python >= 3.6\n",
    "\n",
    "To use DSC, you must have Python version 3.6 or greater. There are several ways you can install Python >= 3.6.\n",
    "\n",
    "**Our recommendation:** Install Python via a [conda](https://conda.io/docs)-based package manager such as [Miniconda](https://conda.io/miniconda.html) or [Anaconda](https://anaconda.org/). If you are starting from scratch, we recommend [Miniconda](https://conda.io/miniconda.html). See [here](#Troubleshooting) (*TO DO: fix this link*) for additional advice on installing and configuring Miniconda.\n",
    "\n",
    "** Other options:** DSC will also work with standalone distributions of Python (e.g., downloaded from [Python.org](https://www.python.org)), and the instructions below should work regardless of how Python is installed on your computer. However, we recommend `conda` because it will provide easy access to various Python packages DSC depends on, thus making it a lot easier to install DSC."
   ]
  },
  {
   "cell_type": "markdown",
   "metadata": {},
   "source": [
    "## 2. Check your Python installation\n",
    "\n",
    "DSC is distributed via [pypi](https://pypi.python.org/pypi/dsc). The simplest way to install a Python module from pypi is with `pip`. [All recent Python versions are by default bundled with pip](https://pip.pypa.io/en/stable/installing). Before running `pip`, check that you are running the version bundled with Python >= 3.6:\n",
    "\n",
    "```\n",
    "python --version\n",
    "pip --version\n",
    "```\n",
    "\n",
    "or \n",
    "\n",
    "```\n",
    "python3 --version\n",
    "pip3 --version\n",
    "```\n",
    "\n",
    "If the reported Python version is or greater than 3.6.0 and `pip` is reported to come from that version (eg. `pip 9.0.1 from /path/to/python (python 3.6)`), then you are ready for the next step. \n",
    "\n",
    "**Important:** *In the instructions below, we assume your Python 3.6+ executable is `python`, and your pip (python 3.6+) executable is `pip`. However, you might need to replace `python` with `python3` and `pip` with `pip3`.* \n",
    "\n",
    "If you already have an old version of Miniconda or Anaconda installed, but you do not have Python >= 3.6, see [here](#Troubleshooting) (*TO DO: fix this link*) for advice on how to proceed."
   ]
  },
  {
   "cell_type": "markdown",
   "metadata": {},
   "source": [
    "## 3. Install Python dependencies\n",
    "\n",
    "DSC uses [several Python modules](FAQ/Implementation_Details.html). We provide two sets of installation instructions: Python installed with `conda`, and Python not installed with `conda`. \n",
    "\n",
    "\n",
    "### 3a. If Python is installed with `conda` (Anaconda or Miniconda)\n",
    "\n",
    "Install the modules required by DSC. First run\n",
    "\n",
    "```\n",
    "conda install -c conda-forge fasteners python-xxhash pyarrow\n",
    "```\n",
    "\n",
    "then run\n",
    "\n",
    "```\n",
    "conda install numpy pandas sqlalchemy msgpack-python sympy numexpr h5py \n",
    "conda install psutil networkx pydotplus pyyaml tqdm pygments pexpect\n",
    "```\n",
    "\n",
    "After running these `conda install` commands, run these commands to make sure you have the latest versions:\n",
    "\n",
    "```\n",
    "conda update -c conda-forge fasteners python-xxhash pyarrow\n",
    "conda update numpy pandas sqlalchemy msgpack-python sympy numexpr h5py\n",
    "conda update psutil networkx pydotplus pyyaml tqdm pygments pexpect\n",
    "```"
   ]
  },
  {
   "cell_type": "markdown",
   "metadata": {},
   "source": [
    "### 3b. If Python is *not* installed with `conda`\n",
    "\n",
    "In this case, you can skip this step because `pip` will automatically install the required packages. However, we caution that:\n",
    "\n",
    "* You must have `C` and `Fortran` compilers and libraries.\n",
    "\n",
    "* Installation *will take time* because several packages will need to be built from source. \n",
    "\n",
    "* Installation of some packages may fail. In so, please try running the command again; *sometimes running `pip` a second time works!*"
   ]
  },
  {
   "cell_type": "markdown",
   "metadata": {},
   "source": [
    "## 4. Install DSC\n",
    "\n",
    "### 4a. Install released version\n",
    "\n",
    "You may run this command to install DSC and all the remaining Python dependencies from source:\n",
    "\n",
    "```\n",
    "pip install dsc\n",
    "```\n",
    "\n",
    "To upgrade the DSC you previously have installed, run the following command:\n",
    "\n",
    "```\n",
    "pip install -U --upgrade-strategy only-if-needed dsc\n",
    "```\n",
    "\n",
    "If you encounter errors, see the [troubleshooting tips](FAQ.html#Installation-troubleshoot) below.\n",
    "\n",
    "### 4b. Install development version\n",
    "\n",
    "For more users, we recommend installing the most recent stable release following the instructions above. But you also have the option of installing the version in-development by following these steps.\n",
    "\n",
    "DSC is closely developed in parallel with the [SoS library](http://github.com/vatlab/sos). The development version (`master` branch on GitHub) typically requires the development version of SoS. \n",
    "\n",
    "First install the latest version of SoS:\n",
    "\n",
    "```\n",
    "git clone https://github.com/vatlab/SoS.git\n",
    "cd SoS\n",
    "pip install -U --upgrade-strategy only-if-needed . \n",
    "```\n",
    "\n",
    "Then install the latest version of DSC:\n",
    "\n",
    "```\n",
    "git clone https://github.com/stephenslab/dsc.git\n",
    "cd dsc\n",
    "pip install -U --upgrade-strategy only-if-needed .\n",
    "```\n",
    "\n",
    "If you are running R code within your DSC project, you may also want the latest development version of the **dscrutils** R package. This can be installed from GitHub by running the following code in R:\n",
    "\n",
    "```R\n",
    "library(devtools)\n",
    "install_github(\"stephenslab/dsc\",subdir = \"dscrutils\",force = TRUE)\n",
    "```\n",
    "\n",
    "### 4c. Test installation\n",
    "\n",
    "Type in command prompt:\n",
    "\n",
    "```\n",
    "dsc -h\n",
    "```\n",
    "\n",
    "You should see the DSC [command interface](reference/Command_Options.html) displayed."
   ]
  },
  {
   "cell_type": "markdown",
   "metadata": {},
   "source": [
    "## 5. Start your first DSC project\n",
    "\n",
    "Start from [here](tutorials/Intro_DSC.html) for a first course on DSC, and [here](tutorials.html) for more introductory tutorials."
   ]
  }
 ],
 "metadata": {
  "kernelspec": {
   "display_name": "SoS",
   "language": "sos",
   "name": "sos"
  },
  "language_info": {
   "codemirror_mode": "sos",
   "file_extension": ".sos",
   "mimetype": "text/x-sos",
   "name": "sos",
   "nbconvert_exporter": "sos_notebook.converter.SoS_Exporter",
   "pygments_lexer": "sos"
  },
  "sos": {
   "celltoolbar": true,
   "default_kernel": "SoS",
   "kernels": [],
   "panel": {
    "displayed": true,
    "height": 0,
    "style": "side"
   },
   "version": "0.9.12.11"
  }
 },
 "nbformat": 4,
 "nbformat_minor": 1
}
