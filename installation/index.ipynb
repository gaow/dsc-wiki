{
 "cells": [
  {
   "cell_type": "markdown",
   "metadata": {},
   "source": [
    "# Installation Guide\n",
    "\n",
    "Follow these steps to quickly get started using DSC. If you are familiar with `docker` and would like to try out DSC without installing, you can follow [instructions here](FAQ/DSC_Docker.html) and jump directly to step 5 from there.\n",
    "\n",
    "If you encounter problems, please see the [\"Troubleshooting installation\"](FAQ.html#Installation-troubleshoot) section in the FAQ. "
   ]
  },
  {
   "cell_type": "markdown",
   "metadata": {},
   "source": [
    "## 1. Install python >= 3.6\n",
    "\n",
    "To use DSC, you must have Python version 3.6 or greater. There are several accepted ways to install Python >= 3.6 for DSC. \n",
    "\n",
    "**Our recommendation:** install Python via a [conda](https://conda.io/docs)-based package manager such as [Miniconda](https://conda.io/miniconda.html) or [Anaconda](https://anaconda.org/). If you would like to start from scratch we recommand using [Miniconda](https://conda.io/miniconda.html) due to its light-weight and consquently less complications. [Here](#Troubleshooting) are some novice advice on installation and configuration. \n",
    "\n",
    "** Other options:** DSC will also work with standalone distributions of Python (e.g., downloaded from [Python.org](https://www.python.org), and the instructions below should work regardless of how Python is installed on your computer. However, we recommend `conda` because it will provide easy access to various Python packages DSC depends on, thus making it a lot easier to install DSC."
   ]
  },
  {
   "cell_type": "markdown",
   "metadata": {},
   "source": [
    "## 2. Check your Python installation\n",
    "\n",
    "DSC is frequently release to [pypi](https://pypi.python.org/pypi/dsc) which can be accessed via command line tool `pip`. [All recent Python versions are by default bundled with pip](https://pip.pypa.io/en/stable/installing). Before running `pip`, check that you are running the version bundled with Python >= 3.6. To check, run:\n",
    "\n",
    "```\n",
    "python --version\n",
    "pip --version\n",
    "```\n",
    "\n",
    "or \n",
    "\n",
    "```\n",
    "python3 --version\n",
    "pip3 --version\n",
    "```\n",
    "\n",
    "If the reported Python version is or greater than 3.6.0 and `pip` is reported to come from that version (eg. `pip 9.0.1 from /path/to/python (python 3.6)`), then you are ready for the next step. \n",
    "\n",
    "\n",
    "**Important:** *In the instructions below, we assume your Python 3.6+ executable is `python`, your pip (python 3.6+) executable is `pip`. However, you might need to replace `python` with `python3` and `pip` with `pip3` if they otherwise point to other versions* \n",
    "\n",
    "If you already have some old version of Miniconda or Anaconda installed, but you do not have Python >= 3.6, see instructions [here](#Troubleshooting) for what to do."
   ]
  },
  {
   "cell_type": "markdown",
   "metadata": {},
   "source": [
    "## 3. Install dependencies\n",
    "\n",
    "DSC depends on [a number of Python libraries](FAQ/Implementation_Details.html). We provide two sets of installation instructions for these dependencies: one for Python installed by `conda`, and the other for Python not installed by `conda`. \n",
    "\n",
    "\n",
    "### 3a. If Python is installed by `conda`\n",
    "\n",
    "Install the packages required by DSC:\n",
    "\n",
    "```\n",
    "conda install -c conda-forge fasteners python-xxhash pyarrow\n",
    "```\n",
    "\n",
    "```\n",
    "conda install numpy pandas sqlalchemy msgpack-python sympy numexpr h5py psutil networkx pydotplus pyyaml tqdm pygments pexpect\n",
    "```\n",
    "\n",
    "Some of these packages may have already been installed, so make sure that you also run these commands to update any previously installed packages to the latest version:\n",
    "\n",
    "```\n",
    "conda update -c conda-forge fasteners python-xxhash pyarrow\n",
    "```\n",
    "\n",
    "```\n",
    "conda update numpy pandas sqlalchemy msgpack-python sympy numexpr h5py psutil networkx pydotplus pyyaml tqdm pygments pexpect\n",
    "```\n",
    "\n",
    "If you encounter errors, see the [troubleshooting tips](#Troubleshooting) below."
   ]
  },
  {
   "cell_type": "markdown",
   "metadata": {},
   "source": [
    "### 3b. If Python is not installed by `conda`\n",
    "\n",
    "Then you can skip this step, because the Python installer `pip` will automatically take care of installing the required packages. However, we caution that:\n",
    "\n",
    "* Installation *will take some time* because many required packages will involve source compile. Also your system has to be equipped with `C` and `Fortran` compilers and libraries.\n",
    "\n",
    "* Installation of some packages may fail. In this case, please try running the command again -- *sometimes running the installation command twice fixes the problem.*"
   ]
  },
  {
   "cell_type": "markdown",
   "metadata": {},
   "source": [
    "## 4. Install DSC\n",
    "\n",
    "### 4a. Install released version\n",
    "\n",
    "You may run this command to install DSC and all the remaining Python dependencies from source:\n",
    "\n",
    "```\n",
    "pip install dsc\n",
    "```\n",
    "\n",
    "To upgrade the DSC you previously have installed, run the following command:\n",
    "\n",
    "```\n",
    "pip install -U --upgrade-strategy only-if-needed dsc\n",
    "```\n",
    "\n",
    "If you encounter errors, see the [troubleshooting tips](FAQ.html#Installation-troubleshoot) below.\n",
    "\n",
    "### 4b. Install development version\n",
    "\n",
    "For more users, we recommend installing the most recent stable release following the instructions above. But you also have the option of installing the version in-development by following these steps.\n",
    "\n",
    "DSC is closely developed in parallel with the [SoS library](http://github.com/vatlab/sos). The development version (`master` branch on GitHub) typically requires the development version of SoS. \n",
    "\n",
    "First install the latest version of SoS:\n",
    "\n",
    "```\n",
    "git clone https://github.com/vatlab/SoS.git\n",
    "cd SoS\n",
    "pip install -U --upgrade-strategy only-if-needed . \n",
    "```\n",
    "\n",
    "Then install the latest version of DSC:\n",
    "\n",
    "```\n",
    "git clone https://github.com/stephenslab/dsc.git\n",
    "cd dsc\n",
    "pip install -U --upgrade-strategy only-if-needed .\n",
    "```\n",
    "\n",
    "If you are running R code within your DSC project, you may also want the latest development version of the **dscrutils** R package. This can be installed from GitHub by running the following code in R:\n",
    "\n",
    "```R\n",
    "library(devtools)\n",
    "install_github(\"stephenslab/dsc\",subdir = \"dscrutils\",force = TRUE)\n",
    "```\n",
    "\n",
    "### 4c. Test installation\n",
    "\n",
    "Type in command prompt:\n",
    "\n",
    "```\n",
    "dsc -h\n",
    "```\n",
    "\n",
    "You should see the DSC [command interface](reference/Command_Options.html) displayed."
   ]
  },
  {
   "cell_type": "markdown",
   "metadata": {},
   "source": [
    "## 5. Start your first DSC project\n",
    "\n",
    "Start from [here](tutorials/Intro_DSC.html) for a first course on DSC, and [here](tutorials.html) for more introductory tutorials."
   ]
  }
 ],
 "metadata": {
  "kernelspec": {
   "display_name": "SoS",
   "language": "sos",
   "name": "sos"
  },
  "language_info": {
   "codemirror_mode": "sos",
   "file_extension": ".sos",
   "mimetype": "text/x-sos",
   "name": "sos",
   "nbconvert_exporter": "sos_notebook.converter.SoS_Exporter",
   "pygments_lexer": "sos"
  },
  "sos": {
   "celltoolbar": true,
   "default_kernel": "SoS",
   "kernels": [],
   "panel": {
    "displayed": true,
    "height": 0,
    "style": "side"
   },
   "version": "0.9.12.11"
  }
 },
 "nbformat": 4,
 "nbformat_minor": 1
}
