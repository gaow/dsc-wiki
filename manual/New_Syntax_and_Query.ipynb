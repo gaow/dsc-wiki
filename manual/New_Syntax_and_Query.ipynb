{
 "cells": [
  {
   "cell_type": "markdown",
   "metadata": {},
   "source": [
    "# New DSC syntax and query demo\n",
    "\n",
    "This demo is created for the purpose of discussing the new design of DSC syntax and query, along the lines of [this note](https://github.com/stephenslab/dsc-wiki/blob/master/development/finalized_terminology_and_extraction.md)."
   ]
  },
  {
   "cell_type": "markdown",
   "metadata": {},
   "source": [
    "## The new syntax"
   ]
  },
  {
   "cell_type": "markdown",
   "metadata": {},
   "source": [
    "The new syntax is no longer `yaml` compatible. We dropped the compatibility for more compact syntax. \n",
    "\n",
    "### Example for the mean estimation problem"
   ]
  },
  {
   "cell_type": "markdown",
   "metadata": {},
   "source": [
    "[Link](https://github.com/stephenslab/dsc2/blob/master/vignettes/one_sample_location/settings.dsc)"
   ]
  },
  {
   "cell_type": "markdown",
   "metadata": {},
   "source": [
    "** Module section (blocks not called `DSC`)**\n",
    "\n",
    "* Removed `exec`, `input`, `output` tags\n",
    "* `@` decoration to configure DSC level module options\n",
    "  - `@RNG` for replicates\n",
    "  - `@ALIAS` for swapping parameter names\n",
    "  - `@FILTER` for parameter combination filtering\n",
    "  - `@CONF` cluster configurations\n",
    "  - `@{module}` for module specific parameters, for example\n",
    "      ```\n",
    "      normal, t: rnorm.R, rt.R\n",
    "          n: 9\n",
    "          @normal:\n",
    "              true_mean: 0\n",
    "          @t:\n",
    "              true_mean: 1\n",
    "       ```\n",
    "* `$` symbol for pipeline variables (module output)\n",
    "\n",
    "** Pipeline section (block named `DSC`) **\n",
    "* `define`: where module essemble are defined\n",
    "  - `simulate: normal, t`\n",
    "  - `preprocess: (filter1, filter2) * normalize`"
   ]
  },
  {
   "cell_type": "markdown",
   "metadata": {},
   "source": [
    "## Example for ash\n",
    "\n",
    "[link](https://github.com/stephenslab/dsc2/blob/master/vignettes/ash/settings.dsc)"
   ]
  },
  {
   "cell_type": "markdown",
   "metadata": {},
   "source": [
    "## Command interface"
   ]
  },
  {
   "cell_type": "code",
   "execution_count": 2,
   "metadata": {
    "kernel": "SoS"
   },
   "outputs": [
    {
     "name": "stdout",
     "output_type": "stream",
     "text": [
      "usage: dsc [-h] [--version] [-o str] [--target str [str ...]]\n",
      "           [--seed values [values ...]] [--recover option] [--remove option]\n",
      "           [--host str] [-c N] [--ignore-errors] [-v {0,1,2,3,4}]\n",
      "           DSC script\n",
      "\n",
      "positional arguments:\n",
      "  DSC script            DSC script to execute.\n",
      "\n",
      "optional arguments:\n",
      "  -h, --help            show this help message and exit\n",
      "  --version             show program's version number and exit\n",
      "  -o str                Benchmark output. It overwrites \"DSC::run::output\"\n",
      "                        defined in configuration file. (default: None)\n",
      "  --target str [str ...]\n",
      "                        This argument can be used in two contexts: 1) When\n",
      "                        used without \"--remove\" it specifies DSC sequences to\n",
      "                        execute. It overwrites \"DSC::run\" defined in\n",
      "                        configuration file. Multiple sequences are allowed.\n",
      "                        Each input should be a quoted string defining a valid\n",
      "                        DSC sequence, or referring to the key of an existing\n",
      "                        sequence in the DSC script. Multiple such strings\n",
      "                        should be separated by space. 2) When used along with\n",
      "                        \"--remove\" it specifies one or more computational\n",
      "                        modules, separated by space, whose output are to be\n",
      "                        removed. They should be 1) valid DSC modules in the\n",
      "                        format of \"module[index]\", or 2) \"module\" for all\n",
      "                        routines in the module, or 3) simply path to files\n",
      "                        that needs to be removed. (default: None)\n",
      "  --seed values [values ...]\n",
      "                        It overwrites any \"seed\" property in the DSC script.\n",
      "                        This feature is useful for running a quick test with\n",
      "                        small number of replicates. Example: `--seed 1`,\n",
      "                        `--seed 1 2 3 4`, `--seed {1..10}`, `--seed \"R(1:10)\"`\n",
      "                        (default: None)\n",
      "  --recover option      Behavior of how DSC is executed in the presence of\n",
      "                        existing files. \"default\" recover will check file\n",
      "                        signature and skip the ones that matches expected\n",
      "                        signature. \"no\" recover will run everything from\n",
      "                        scratch ignoring any existing file. \"full\" recover\n",
      "                        will reconstruct signature for existing files that\n",
      "                        matches expected input environment, and run jobs to\n",
      "                        generate non-existing files, to complete the\n",
      "                        benchmark. \"partial\" recover will use existing files\n",
      "                        directly to construct output metadata, making it\n",
      "                        possible to explore partial benchmark results without\n",
      "                        having to wait until completion of entire benchmark.\n",
      "                        (default: default)\n",
      "  --remove option       Behavior of how DSC removes files. \"purge\" deletes\n",
      "                        specified files or files generated by specified\n",
      "                        modules. \"replace\" replaces these files by dummy files\n",
      "                        with \"*.zapped\" extension, instead of removing them\n",
      "                        (useful to swap out large intermediate files). Files\n",
      "                        to operate on should be specified by \"--target\".\n",
      "                        (default: None)\n",
      "  --host str            Name of host computer to send tasks to. (default:\n",
      "                        None)\n",
      "  -c N                  Number of maximum cpu threads. (default: 20)\n",
      "  --ignore-errors       Bypass all errors from computational programs. This\n",
      "                        will keep the benchmark running but all results will\n",
      "                        be set to missing values and the problematic script\n",
      "                        will be saved when possible. (default: False)\n",
      "  -v {0,1,2,3,4}, --verbosity {0,1,2,3,4}\n",
      "                        Output error (0), warning (1), info (2), debug (3) and\n",
      "                        trace (4) information. (default: 2)\n"
     ]
    }
   ],
   "source": [
    "! dsc -h"
   ]
  },
  {
   "cell_type": "markdown",
   "metadata": {},
   "source": [
    "We endeavor to keep command list short. And in most cases no additional arguments are needed."
   ]
  },
  {
   "cell_type": "markdown",
   "metadata": {},
   "source": [
    "### Command in action"
   ]
  },
  {
   "cell_type": "markdown",
   "metadata": {},
   "source": [
    "First run:\n"
   ]
  },
  {
   "cell_type": "code",
   "execution_count": 4,
   "metadata": {
    "kernel": "SoS"
   },
   "outputs": [
    {
     "name": "stdout",
     "output_type": "stream",
     "text": [
      "INFO: DSC script exported to \u001b[32mdsc_result.html\u001b[0m\n",
      "INFO: Constructing DSC from \u001b[32msettings.dsc\u001b[0m ...\n",
      "INFO: Building execution graph ...\n",
      "INFO: DSC in progress ...\n",
      "DSC: 100%|██████████████████████████████████████| 11/11 [00:26<00:00,  3.40s/it]\n",
      "INFO: Building DSC database ...\n",
      "INFO: DSC complete!\n",
      "INFO: Elapsed time \u001b[32m34.336\u001b[0m seconds.\n"
     ]
    }
   ],
   "source": [
    "! dsc settings.dsc"
   ]
  },
  {
   "cell_type": "markdown",
   "metadata": {},
   "source": [
    "Second run:"
   ]
  },
  {
   "cell_type": "code",
   "execution_count": 5,
   "metadata": {
    "kernel": "SoS"
   },
   "outputs": [
    {
     "name": "stdout",
     "output_type": "stream",
     "text": [
      "INFO: DSC script exported to \u001b[32mdsc_result.html\u001b[0m\n",
      "INFO: Constructing DSC from \u001b[32msettings.dsc\u001b[0m ...\n",
      "INFO: Building execution graph ...\n",
      "INFO: DSC in progress ...\n",
      "DSC: 100%|██████████████████████████████████████| 11/11 [00:02<00:00,  4.88it/s]\n",
      "INFO: Building DSC database ...\n",
      "INFO: DSC complete!\n",
      "INFO: Elapsed time \u001b[32m4.509\u001b[0m seconds.\n"
     ]
    }
   ],
   "source": [
    "! dsc settings.dsc"
   ]
  },
  {
   "cell_type": "markdown",
   "metadata": {},
   "source": [
    "`ash` example run:"
   ]
  },
  {
   "cell_type": "code",
   "execution_count": 6,
   "metadata": {
    "kernel": "SoS"
   },
   "outputs": [
    {
     "name": "stdout",
     "output_type": "stream",
     "text": [
      "/home/gaow/GIT/dsc2/vignettes/ash\n",
      "INFO: Checking R library \u001b[32mstephens999/ashr\u001b[0m ...\n",
      "INFO: DSC script exported to \u001b[32mdsc_result.html\u001b[0m\n",
      "INFO: Constructing DSC from \u001b[32msettings.dsc\u001b[0m ...\n",
      "INFO: Building execution graph ...\n",
      "INFO: DSC in progress ...\n",
      "DSC: 100%|████████████████████████████████████████| 5/5 [00:53<00:00, 11.19s/it]\n",
      "INFO: Building DSC database ...\n",
      "INFO: DSC complete!\n",
      "INFO: Elapsed time \u001b[32m64.821\u001b[0m seconds.\n"
     ]
    }
   ],
   "source": [
    "%cd ../ash\n",
    "! echo -e \"\\nash example\"\n",
    "! dsc settings.dsc"
   ]
  },
  {
   "cell_type": "code",
   "execution_count": 8,
   "metadata": {
    "kernel": "SoS"
   },
   "outputs": [
    {
     "name": "stdout",
     "output_type": "stream",
     "text": [
      "INFO: DSC script exported to \u001b[32mdsc_result.html\u001b[0m\n",
      "INFO: Constructing DSC from \u001b[32msettings.dsc\u001b[0m ...\n",
      "INFO: Building execution graph ...\n",
      "INFO: DSC in progress ...\n",
      "DSC: 100%|████████████████████████████████████████| 5/5 [00:01<00:00,  2.26it/s]\n",
      "INFO: Building DSC database ...\n",
      "INFO: DSC complete!\n",
      "INFO: Elapsed time \u001b[32m4.518\u001b[0m seconds.\n"
     ]
    }
   ],
   "source": [
    "! dsc settings.dsc"
   ]
  },
  {
   "cell_type": "code",
   "execution_count": 9,
   "metadata": {
    "kernel": "SoS"
   },
   "outputs": [
    {
     "name": "stdout",
     "output_type": "stream",
     "text": [
      "/home/gaow/GIT/dsc2/vignettes/one_sample_location"
     ]
    }
   ],
   "source": [
    "%cd ../one_sample_location"
   ]
  },
  {
   "cell_type": "markdown",
   "metadata": {},
   "source": [
    "## The new query design"
   ]
  },
  {
   "cell_type": "markdown",
   "metadata": {},
   "source": [
    "* Query syntax still mimics SQL but enhanced with dynamic grouping of tables\n",
    "* Is not SQL compatible!\n",
    "  * Supported operations:\n",
    "    - `=, ==, >, <, >=, <=, !=`\n",
    "  * Supported logic:\n",
    "    - `AND`, `OR`\n",
    "    - Or derived compound logic, eg `(((a AND b) OR c) AND d)`\n",
    "* After deeper thinking into the problem, loading data into query result is disabled\n",
    "  * Mainly due to R/Python data communication problems for complex objects\n",
    "  * Both for loading information (matters to developers) and writing information (matters to users)\n",
    "* Only a \"meta\" table is saved. Should be used as an internel command (or even never openly advertise it) for a companion R package."
   ]
  },
  {
   "cell_type": "markdown",
   "metadata": {},
   "source": [
    "### Command interface"
   ]
  },
  {
   "cell_type": "code",
   "execution_count": 1,
   "metadata": {
    "kernel": "SoS"
   },
   "outputs": [
    {
     "name": "stdout",
     "output_type": "stream",
     "text": [
      "usage: dsc-query [-h] [--version] -o str [--limit N] [--title str]\n",
      "                 [--description str [str ...]] [-t WHAT [WHAT ...]]\n",
      "                 [-c WHERE [WHERE ...]] [-g G:A,B [G:A,B ...]]\n",
      "                 [--language str] [--addon str [str ...]] [-v {0,1,2,3,4}]\n",
      "                 DSC output folder\n",
      "\n",
      "positional arguments:\n",
      "  DSC output folder     Path to DSC output.\n",
      "\n",
      "optional arguments:\n",
      "  -h, --help            show this help message and exit\n",
      "  --version             show program's version number and exit\n",
      "  -o str                Output notebook / data file name. In query\n",
      "                        applications if file name ends with \".rds\" then only\n",
      "                        data file will be saved as result of query. Otherwise\n",
      "                        both data file and a notebook that displays the data\n",
      "                        will be saved. (default: None)\n",
      "  --limit N             Number of rows to display for tables. Default is to\n",
      "                        display it for all rows (will result in very large\n",
      "                        HTML output for large benchmarks). (default: -1)\n",
      "  --title str           Title for notebook file. (default: DSC summary &\n",
      "                        query)\n",
      "  --description str [str ...]\n",
      "                        Text to add under notebook title. Each string is a\n",
      "                        standalone paragraph. (default: None)\n",
      "  -t WHAT [WHAT ...], --target WHAT [WHAT ...]\n",
      "                        Query targets. (default: None)\n",
      "  -c WHERE [WHERE ...], --condition WHERE [WHERE ...]\n",
      "                        Query conditions. (default: None)\n",
      "  -g G:A,B [G:A,B ...], --groups G:A,B [G:A,B ...]\n",
      "                        Definition of module groups. (default: None)\n",
      "  --language str        Language kernel to switch to for follow up analysis in\n",
      "                        notebook generated. (default: None)\n",
      "  --addon str [str ...]\n",
      "                        Scripts to load to the notebooks for follow up\n",
      "                        analysis. Only usable in conjunction with \"--\n",
      "                        language\". (default: None)\n",
      "  -v {0,1,2,3,4}, --verbosity {0,1,2,3,4}\n",
      "                        Output error (0), warning (1), info (2), debug (3) and\n",
      "                        trace (4) information. (default: 2)\n"
     ]
    }
   ],
   "source": [
    "! dsc-query -h"
   ]
  },
  {
   "cell_type": "markdown",
   "metadata": {},
   "source": [
    "The `-t`, `-c` and `-g` options are the core features."
   ]
  },
  {
   "cell_type": "markdown",
   "metadata": {},
   "source": [
    "### Overview of executed DSC"
   ]
  },
  {
   "cell_type": "code",
   "execution_count": 3,
   "metadata": {
    "kernel": "SoS"
   },
   "outputs": [
    {
     "name": "stdout",
     "output_type": "stream",
     "text": [
      "INFO: Loading database ...\n",
      "INFO: Exporting database ...\n",
      "INFO: Export complete. You can use \u001b[32mjupyter notebook Overview.ipynb\u001b[0m to open it and run all cells, or run it from command line with \u001b[32mjupyter nbconvert --to notebook --execute Overview.ipynb\u001b[0m first, then use \u001b[32mjupyter notebook Overview.nbconvert.ipynb\u001b[0m to open it.\n"
     ]
    }
   ],
   "source": [
    "! dsc-query dsc_result -o Overview"
   ]
  },
  {
   "cell_type": "code",
   "execution_count": 4,
   "metadata": {
    "kernel": "SoS"
   },
   "outputs": [
    {
     "name": "stdout",
     "output_type": "stream",
     "text": [
      "[NbConvertApp] WARNING | Config option `template_path` not recognized by `NotebookExporter`.\n",
      "[NbConvertApp] Converting notebook Overview.ipynb to notebook\n",
      "[NbConvertApp] Executing notebook with kernel: sos\n",
      "[NbConvertApp] Writing 47851 bytes to Overview.nbconvert.ipynb\n"
     ]
    }
   ],
   "source": [
    "! jupyter nbconvert --to notebook --execute Overview.ipynb"
   ]
  },
  {
   "cell_type": "markdown",
   "metadata": {},
   "source": [
    "The aim of [this notebook](../playground/Overview.html) is to show the structure of what benchmark files are generated and how they are connected to each other. "
   ]
  },
  {
   "cell_type": "markdown",
   "metadata": {},
   "source": [
    "### Query example: ungrouped tables"
   ]
  },
  {
   "cell_type": "code",
   "execution_count": 5,
   "metadata": {
    "kernel": "SoS"
   },
   "outputs": [
    {
     "name": "stdout",
     "output_type": "stream",
     "text": [
      "INFO: Loading database ...\n",
      "INFO: Running queries ...\n",
      "INFO: Query results saved to spread sheet \u001b[32mQ1.xlsx\u001b[0m\n",
      "INFO: Export complete. You can use \u001b[32mjupyter notebook Q1.ipynb\u001b[0m to open it and run all cells, or run it from command line with \u001b[32mjupyter nbconvert --to notebook --execute Q1.ipynb\u001b[0m first, then use \u001b[32mjupyter notebook Q1.nbconvert.ipynb\u001b[0m to open it.\n"
     ]
    }
   ],
   "source": [
    "! dsc-query dsc_result -o Q1 \\\n",
    "    -t normal.n mean mse.score \\\n",
    "    -c \"normal.true_mean = 1\""
   ]
  },
  {
   "cell_type": "markdown",
   "metadata": {},
   "source": [
    "The output is a [spreadsheet](../playground/Q1.xlsx) of meta info (that can be loaded to `R` to process) as well as a [notebook](../playground/Q1.html) that loads the data in the spreed sheet for Jupyter users to get engaged right away. The notebook additonally contains an SQL query to help checking what's going on under the hood."
   ]
  },
  {
   "cell_type": "markdown",
   "metadata": {},
   "source": [
    "### Query example: grouped tables"
   ]
  },
  {
   "cell_type": "code",
   "execution_count": 6,
   "metadata": {
    "kernel": "SoS"
   },
   "outputs": [
    {
     "name": "stdout",
     "output_type": "stream",
     "text": [
      "INFO: Loading database ...\n",
      "INFO: Running queries ...\n",
      "INFO: Query results saved to spread sheet \u001b[32mQ2.xlsx\u001b[0m\n",
      "INFO: Export complete. You can use \u001b[32mjupyter notebook Q2.ipynb\u001b[0m to open it and run all cells, or run it from command line with \u001b[32mjupyter nbconvert --to notebook --execute Q2.ipynb\u001b[0m first, then use \u001b[32mjupyter notebook Q2.nbconvert.ipynb\u001b[0m to open it.\n"
     ]
    }
   ],
   "source": [
    "! dsc-query dsc_result -o Q2 \\\n",
    "    -t simulate.n method mse.score \\\n",
    "    -c \"simulate.true_mean = 1\" \\\n",
    "    -g \"simulate: normal, t\" \\\n",
    "       \"method: mean, median\""
   ]
  },
  {
   "cell_type": "markdown",
   "metadata": {},
   "source": [
    "Here, `normal` and `t` are grouped to `simulate`; `mean` and `median` are grouped to `method`. Therefore the [output spreadsheet](../playground/Q2.xlsx) is a bit different from the one generated above -- an additional column is needed to annotate the merged columns. \n",
    "\n",
    "Here is [under the hood](../playground/Q2.html)."
   ]
  }
 ],
 "metadata": {
  "kernelspec": {
   "display_name": "SoS",
   "language": "sos",
   "name": "sos"
  },
  "language_info": {
   "codemirror_mode": "sos",
   "file_extension": ".sos",
   "mimetype": "text/x-sos",
   "name": "sos",
   "nbconvert_exporter": "sos_notebook.converter.SoS_Exporter",
   "pygments_lexer": "sos"
  },
  "sos": {
   "default_kernel": "SoS",
   "kernels": [
    [
     "SoS",
     "sos",
     "",
     ""
    ],
    [
     "Python3",
     "python3",
     "Python3",
     "#FFE771"
    ],
    [
     "R",
     "ir",
     "R",
     "#DCDCDA"
    ]
   ],
   "panel": {
    "displayed": true,
    "height": 0,
    "style": "side"
   }
  }
 },
 "nbformat": 4,
 "nbformat_minor": 2
}
