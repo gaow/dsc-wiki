{
 "cells": [
  {
   "cell_type": "markdown",
   "metadata": {},
   "source": [
    "# Unsupported features"
   ]
  },
  {
   "cell_type": "markdown",
   "metadata": {},
   "source": [
    "As a continuation of the [DSC syntax documentation](DSC_Configuration.html) this page documents existing DSC features that are possibly useful yet adds complexity to DSC syntax and burden of support. We believe that DSC is well versed to handle most user cases without these features. We may formally discuss and support some of these features in the future when we deem them truly helpful to users."
   ]
  },
  {
   "cell_type": "markdown",
   "metadata": {},
   "source": [
    "## Wildcard for inline modules\n",
    "\n",
    "[Variable wild-card](#Variable-wildcard-131) `$()` can be used inside language operators to specify module inputs so that they do not have to be defined separately. Please read [this tutorial](../tutorials/Inline_Executable.html) for a concrete example."
   ]
  },
  {
   "cell_type": "markdown",
   "metadata": {},
   "source": [
    "## Rmarkdown based modules\n",
    "\n",
    "See [this tutorial](../tutorials/Rmd_Executable.html) for detailed introduction with an example."
   ]
  },
  {
   "cell_type": "markdown",
   "metadata": {},
   "source": [
    "## Variable wildcard operator\n",
    "\n",
    "The variable wildcard `$()`, when used to specify module parameters, refers to variables defined in `DSC::global`.\n",
    "\n",
    "```\n",
    "simulate_cosine: cosine.R\n",
    "    types: $(data_functions)\n",
    "...\n",
    "\n",
    "DSC:\n",
    "    global: \n",
    "        data_functions: discrete.cosine, discrete.cosine2, discrete.cosine.peaksel\n",
    "```\n",
    "\n",
    "is equivalent to\n",
    "\n",
    "```\n",
    "simulate_cosine: cosine.R\n",
    "    types: discrete.cosine, discrete.cosine2, discrete.cosine.peaksel\n",
    "```\n",
    "\n",
    "When used as part of [inline module executables](#Inline-executables), when they are inside language interpreters it refers to module inputs available from one of its *upstream* modules (see [this tutorial](../tutorials/Inline_Executable.html) for a concrete example); otherwise it should point to module parameters in the *current* module, as part of command argument to a module executable (**FIXME: need examples**)."
   ]
  },
  {
   "cell_type": "markdown",
   "metadata": {},
   "source": [
    "## Grouping operators\n",
    "Currently `for_each()` and `pairs()` are supported to generate cartesian product and paired grouping of parameters. These operators makes it easier to assign values to DSC. For example:\n",
    "\n",
    "```\n",
    "n: for_each(1, [1,2,3])\n",
    "```\n",
    "\n",
    "is equivalent to the cartesian product\n",
    "\n",
    "```\n",
    "n: (1,1), (1,2), (1,3)\n",
    "```\n",
    "\n",
    "and\n",
    "```\n",
    "...\n",
    "  settings: pairs($(classifier), $(kernel))\n",
    "...\n",
    "DSC:\n",
    "  globals:\n",
    "    classifier: svm, ridge\n",
    "    kernel: k1, k2\n",
    "```\n",
    "is equivalent to:\n",
    "\n",
    "```\n",
    "...\n",
    "  settings: (svm, k1), (ridge, k2)\n",
    "...\n",
    "```"
   ]
  },
  {
   "cell_type": "markdown",
   "metadata": {},
   "source": [
    "## ALIAS operators\n",
    "\n",
    "As previously discussed, `List()` and `Dict()` are used in `@ALIAS` decorator to help construct variables of nested `List` or `dictionary` structures in `R` and `Python`. For example for `R` modules:\n",
    "\n",
    "```\n",
    "@ALIAS: args = List()\n",
    "```\n",
    " \n",
    "will convert all input / parameters the module has available, say `x,y,z` to `args <- list(x = ..., y = ..., z = ...)`. Likewise, `List()` will convert parameters to `dictionary` in Python. Partial conversion is also supported, for example `args = List(x, y)` will only convert selected variables to R list which will be translated to R code `args <- list(x = x, y = y)`."
   ]
  }
 ],
 "metadata": {
  "kernelspec": {
   "display_name": "SoS",
   "language": "sos",
   "name": "sos"
  },
  "language_info": {
   "codemirror_mode": "sos",
   "file_extension": ".sos",
   "mimetype": "text/x-sos",
   "name": "sos",
   "nbconvert_exporter": "sos_notebook.converter.SoS_Exporter",
   "pygments_lexer": "sos"
  },
  "sos": {
   "default_kernel": "SoS",
   "kernels": [],
   "panel": {
    "displayed": true,
    "height": 0,
    "style": "side"
   },
   "version": "0.9.13.1"
  }
 },
 "nbformat": 4,
 "nbformat_minor": 2
}
