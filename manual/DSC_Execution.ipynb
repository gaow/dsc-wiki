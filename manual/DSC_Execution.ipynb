{
 "cells": [
  {
   "cell_type": "markdown",
   "metadata": {},
   "source": [
    "# DSC syntax: basics of benchmark execution"
   ]
  },
  {
   "cell_type": "markdown",
   "metadata": {},
   "source": [
    "This document is continuation of discussion in [DSC syntax: basics of modules](DSC_Configuration.html). We will use toy DSC examples (including breaking down [this toy](https://github.com/stephenslab/dsc2/blob/master/vignettes/one_sample_location/settings.dsc)) to introduce a special syntax block called `DSC` that defines benchmark pipelines and execution. This block has a reserved headline `DSC` and is required for all DSC scripts. In this document we refer to its contents by `DSC::<key>` where `<key>` is the identifier on the left side of `:` in each line of the `DSC` block."
   ]
  },
  {
   "cell_type": "markdown",
   "metadata": {},
   "source": [
    "## Pipeline operators\n",
    "\n",
    "To put together modules into pipelines, two logic are available: \"alternating\" modules refers to groups of modules that achieve the same goal (able to take similar input and provide the same type of output) as if they are exchangable; \"concatenating\" modules refers to groups of modules that acts one after another as if concatenated into a chain of actions. These logic are implemented via `*`, `,` and `()` operators:\n",
    "\n",
    "*  `*`: connects concatenating modules, ie, right hand side (RHS) is executed after the left hand side (LHS).\n",
    "*  `,`: connects alternating modules, ie, RHS and LHS are exchangable.\n",
    "*  `()`: when alternating modules and concatenating modules are combined, it is used to re-define operator precedence (by default `*` has higher precedence than `,`)."
   ]
  },
  {
   "cell_type": "markdown",
   "metadata": {},
   "source": [
    "## Module ensembles and pipelines\n",
    "\n",
    "`DSC::define` defines module ensembles, that is, groups of \"alternating\" or \"concatenating\" modules. For example:\n",
    "\n",
    "```\n",
    "normal, t: rnorm.R, rt.R\n",
    "    ...\n",
    "mean, median: mean.R, median.R\n",
    "    ...\n",
    "\n",
    "DSC:\n",
    "    define:\n",
    "      simulate: normal, t\n",
    "      estimate: mean, median\n",
    "```\n",
    "\n",
    "Here 2 ensembles are defined: `simulate`, of alternating modules `normal` and `t` for data generation, and `estimate`, of alternating modules `mean` and `median` for parameter estimation.\n",
    "\n",
    "To illustrate concatenating modules and its combination with alternating modules we can add an additional `winsorize` module to `estimate`:\n",
    "\n",
    "```\n",
    "DSC:\n",
    "    define:\n",
    "      simulate: normal, t\n",
    "      winsorized_estimate: winsorize * (mean, median)\n",
    "```\n",
    "\n",
    "These ensembles, once defined, can be used as if they are modules, to define DSC benchmark as will be discussed next."
   ]
  },
  {
   "cell_type": "markdown",
   "metadata": {},
   "source": [
    "## DSC benchmark\n",
    "\n",
    "DSC benchmark, defined by `DSC::run`, is one or multiple DSC pipelines each consisted of logically connected modules or module ensembles via pipeline operators. We will use a series of examples to illustrate how benchmarks are created.\n",
    "\n",
    "#### Example 1: ensembles in pipeline\n",
    "```\n",
    "run: simulate * estimate * score\n",
    "```\n",
    "\n",
    "Here `simulate` and `estimate` are module ensembles (see `DSC::define` of previous section). This is equivalent to writing:\n",
    "\n",
    "```\n",
    "run: (normal, t) * (mean, median) * score    \n",
    "```\n",
    "\n",
    "#### Example 2: combination of concatenating and alternating modules\n",
    "\n",
    "```\n",
    "run: simulate * (winsorize * mean, mean) * score\n",
    "```\n",
    "DSC will run 2 types of pipelines: 1) that involves `winsorize` followed by `mean`, and 2) \"mean\" only.\n",
    "\n",
    "#### Example 3: expansion of pipeline operators\n",
    "\n",
    "```\n",
    "run: simulate * (voom, sqrt, identity) * (RUV, SVA) * (DESeq, edgeRglm, ash) * score\n",
    "```\n",
    "\n",
    "will be expanded to:\n",
    "\n",
    "```\n",
    "run: simulate * sqrt * RUV * DESeq * score,\n",
    "   simulate * sqrt * SVA * DESeq * score,\n",
    "   simulate * identity * RUV * DESeq * score,\n",
    "   simulate * voom * RUV * DESeq * score,\n",
    "   simulate * identity * SVA * DESeq * score,\n",
    "   simulate * voom * SVA * DESeq * score,\n",
    "   simulate * sqrt * RUV * ash * score,\n",
    "   simulate * sqrt * RUV * edgeRglm * score,\n",
    "   simulate * sqrt * SVA * ash * score,\n",
    "   simulate * sqrt * SVA * edgeRglm * score,\n",
    "   simulate * identity * RUV * ash * score,\n",
    "   simulate * voom * RUV * ash * score,\n",
    "   simulate * identity * RUV * edgeRglm * score,\n",
    "   simulate * voom * RUV * edgeRglm * score,\n",
    "   simulate * identity * SVA * ash * score,\n",
    "   simulate * voom * SVA * ash * score,\n",
    "   simulate * identity * SVA * edgeRglm * score,\n",
    "   simulate * voom * SVA * edgeRglm * score\n",
    "```"
   ]
  },
  {
   "cell_type": "markdown",
   "metadata": {},
   "source": [
    "## Command interface to DSC benchmark\n",
    "By default, DSC will execute all pipelines defined in `DSC::run`. But one can overwrite sequence from [command line](Command_Options.html). For example to execute the complete `Example 1`\n",
    "\n",
    "```\n",
    "dsc file.dsc ... --target \"simulate * estimate * score\"\n",
    "```\n",
    "or a subset of `Example 1`:\n",
    "\n",
    "```\n",
    "dsc file.dsc ... --target \"norm * estimate * score\"\n",
    "```\n",
    "\n",
    "You can also execute a single module / ensemble **for debug purpose**:\n",
    "\n",
    "```\n",
    "dsc file.dsc ... --target \"simulate\"\n",
    "```"
   ]
  },
  {
   "cell_type": "markdown",
   "metadata": {},
   "source": [
    "## Benchmark parameters\n",
    "\n",
    "These parameters are specified in the rest of `DSC` block:\n",
    "\n",
    "* `DSC::exec_path`: search path for executable files.\n",
    "* `DSC::lib_path`: search path for library files, such as R script to be `source`-ed or Python scripts to be `import`-ed.\n",
    "* `DSC::R_libs`: check required R libraries and if not available, automatically install them from cran, bioconductor or github. 3 formats are accepted:\n",
    " * `<package>`: DSC will check / install `package` from cran or bioconductor.\n",
    " * `<github_repo/package>`: DSC will install `package` from `github_repo` on github.\n",
    " * `<package (version[s])>`: DSC will install `package` and check version as required. A warning message will be generated if version do not match. It is possible to specify several versions such as `edgeR (3.12.0, 3.12.1)` or simply `edgeR (3.12.0+)`.\n",
    "* `python_modules`: check required Python3 modules, and install from pip if not available.\n",
    "* `work_dir`: work directory where benchmarking will take place.\n",
    "* `output`: folder name to store benchmark output files.\n",
    "* `global`: defines global variables which can be used in definition of modules through [substitution operator `$()`](DSC_Configuration.html#Substitution-operator-131)."
   ]
  },
  {
   "cell_type": "markdown",
   "metadata": {},
   "source": [
    "## Ready to indulge?\n",
    "At this point we have covered the basics to compose a DSC benchmark. To see how it works in practice with a simple example, please follow through this [Quick Start tutorial](tutorials/Quick_Start.html)."
   ]
  }
 ],
 "metadata": {
  "kernelspec": {
   "display_name": "SoS",
   "language": "sos",
   "name": "sos"
  },
  "language_info": {
   "codemirror_mode": "sos",
   "file_extension": ".sos",
   "mimetype": "text/x-sos",
   "name": "sos",
   "nbconvert_exporter": "sos_notebook.converter.SoS_Exporter",
   "pygments_lexer": "sos"
  },
  "sos": {
   "celltoolbar": true,
   "default_kernel": "SoS",
   "kernels": [
    [
     "Python3",
     "python3",
     "Python3",
     "#FFE771"
    ],
    [
     "R",
     "ir",
     "R",
     "#DCDCDA"
    ],
    [
     "SoS",
     "sos",
     "",
     ""
    ]
   ],
   "panel": {
    "displayed": true,
    "height": 0,
    "style": "side"
   }
  }
 },
 "nbformat": 4,
 "nbformat_minor": 2
}
