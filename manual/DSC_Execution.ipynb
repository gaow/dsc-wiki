{
 "cells": [
  {
   "cell_type": "markdown",
   "metadata": {},
   "source": [
    "# DSC syntax: basics of benchmark execution"
   ]
  },
  {
   "cell_type": "markdown",
   "metadata": {},
   "source": [
    "This document is continuation of discussion in [DSC syntax: basics of modules](DSC_Configuration.html). We will use toy DSC examples (including breaking down [this toy](https://github.com/stephenslab/dsc2/blob/master/vignettes/one_sample_location/settings.dsc)) to introduce a special syntax block called `DSC` that defines module ensembles, pipelines and DSC benchmark, as well as execution environment. This block has a reserved property keyword `DSC` and is required for all DSC scripts. In this document we refer to its contents by `DSC::<key>` where `<key>` is the identifier on the left side of `:` in each line of the `DSC` block."
   ]
  },
  {
   "cell_type": "markdown",
   "metadata": {},
   "source": [
    "## Benchmark logic operators\n",
    "\n",
    "In building a DSC benchmark, two logic are involved: \"alternating\" modules, or *module ensemble*, refers to groups of modules that achieve the same goal (able to take similar input and provide the same type of output) as if they are exchangable; \"concatenating\" modules, or *pipelines* refers to sequences of modules that executes one after another as if concatenated into a chain of actions. These logic are implemented via `*`, `,` and `()` operators:\n",
    "\n",
    "*  `*`: connects concatenating modules, ie, right hand side (RHS) is executed after the left hand side (LHS).\n",
    "*  `,`: connects alternating modules, ie, RHS and LHS are exchangable.\n",
    "*  `()`: when alternating modules and concatenating modules are combined, it is used to re-define operator precedence. By default `*` has higher precedence than `,`."
   ]
  },
  {
   "cell_type": "markdown",
   "metadata": {},
   "source": [
    "## Module ensembles and pipelines\n",
    "\n",
    "`DSC::define` defines module ensembles and pipelines, that is, groups of \"alternating\" or sequences of \"concatenating\" modules / ensembles. For example:\n",
    "\n",
    "```\n",
    "normal, t: rnorm.R, rt.R\n",
    "    ...\n",
    "mean, median: mean.R, median.R\n",
    "    ...\n",
    "\n",
    "DSC:\n",
    "    define:\n",
    "      simulate: normal, t\n",
    "      estimate: mean, median\n",
    "```\n",
    "\n",
    "Here 2 ensembles are defined: `simulate`, of alternating modules `normal` and `t` for data generation, and `estimate`, of alternating modules `mean` and `median` for parameter estimation.\n",
    "\n",
    "To illustrate pipelines and pipeline ensemble we can add an additional `winsorize` module to `estimate`, creating a pipeline ensemble called `winsorized_estimate`:\n",
    "\n",
    "```\n",
    "DSC:\n",
    "    define:\n",
    "      simulate: normal, t\n",
    "      winsorized_estimate: winsorize * (mean, median)\n",
    "```\n",
    "\n",
    "`winsorized_estimate` pipeline ensemble contains 2 pipelines `winsorize * mean` and `winsorize * median`. They are not *full pipeline* because they depend on input from `simulate`. DSC benchmark `DSC::run` will require one or multiple full pipelines -- see below for detailed discussions."
   ]
  },
  {
   "cell_type": "markdown",
   "metadata": {},
   "source": [
    "## DSC benchmark\n",
    "\n",
    "DSC benchmark, defined by `DSC::run`, is one or multiple complete pipelines. We will use a series of examples to illustrate how benchmarks are created.\n",
    "\n",
    "#### Example 1: styles of pipeline speicification\n",
    "```\n",
    "run: simulate * estimate * score\n",
    "```\n",
    "\n",
    "Here `simulate` and `estimate` are module ensembles (see `DSC::define` of previous section). This is equivalent to writing:\n",
    "\n",
    "```\n",
    "run: (normal, t) * (mean, median) * score    \n",
    "```\n",
    "\n",
    "#### Example 2: concatenating module and pipeline ensembles\n",
    "\n",
    "```\n",
    "run: simulate * (winsorize * mean, mean) * score\n",
    "```\n",
    "Here `simulate` is a module ensemble, `(winsorize * mean, mean)` is a pipeline ensemble and `score` is a module. DSC will run 2 flavors of pipelines: 1) that involves `winsorize` followed by `mean`, and 2) `mean` only.\n",
    "\n",
    "#### Example 3: expansion of pipeline operators\n",
    "\n",
    "```\n",
    "run: simulate * (voom, sqrt, identity) * (RUV, SVA) * (DESeq, edgeRglm, ash) * score\n",
    "```\n",
    "\n",
    "will be expanded to:\n",
    "\n",
    "```\n",
    "run: simulate * sqrt * RUV * DESeq * score,\n",
    "   simulate * sqrt * SVA * DESeq * score,\n",
    "   simulate * identity * RUV * DESeq * score,\n",
    "   simulate * voom * RUV * DESeq * score,\n",
    "   simulate * identity * SVA * DESeq * score,\n",
    "   simulate * voom * SVA * DESeq * score,\n",
    "   simulate * sqrt * RUV * ash * score,\n",
    "   simulate * sqrt * RUV * edgeRglm * score,\n",
    "   simulate * sqrt * SVA * ash * score,\n",
    "   simulate * sqrt * SVA * edgeRglm * score,\n",
    "   simulate * identity * RUV * ash * score,\n",
    "   simulate * voom * RUV * ash * score,\n",
    "   simulate * identity * RUV * edgeRglm * score,\n",
    "   simulate * voom * RUV * edgeRglm * score,\n",
    "   simulate * identity * SVA * ash * score,\n",
    "   simulate * voom * SVA * ash * score,\n",
    "   simulate * identity * SVA * edgeRglm * score,\n",
    "   simulate * voom * SVA * edgeRglm * score\n",
    "```"
   ]
  },
  {
   "cell_type": "markdown",
   "metadata": {},
   "source": [
    "## Command interface to DSC benchmark\n",
    "By default, DSC will execute all pipelines defined in `DSC::run`. But one can override pipelines from [command line](Command_Options.html). For example to execute the complete `Example 1`\n",
    "\n",
    "```\n",
    "dsc file.dsc --target \"simulate * estimate * score\"\n",
    "```\n",
    "or a subset of `Example 1`:\n",
    "\n",
    "```\n",
    "dsc file.dsc --target \"normal * estimate * score\"\n",
    "```\n",
    "\n",
    "You can also execute a single module / ensemble **for debug purpose**. Commands below are equivalent:\n",
    "\n",
    "```\n",
    "dsc file.dsc --target normal t\n",
    "dsc file.dsc --target simulate\n",
    "```"
   ]
  },
  {
   "cell_type": "markdown",
   "metadata": {},
   "source": [
    "## Benchmark parameters\n",
    "\n",
    "These parameters are specified in the rest of `DSC` block:\n",
    "\n",
    "* `DSC::exec_path`: search path for executable files.\n",
    "* `DSC::lib_path`: search path for library files, such as R script to be `source`-ed or Python scripts to be `import`-ed from.\n",
    "* `DSC::R_libs`: check required R libraries and if not available, automatically install them from cran, bioconductor or github. 3 formats are accepted:\n",
    " * `<package>`: DSC will check / install `package` from cran or bioconductor.\n",
    " * `<package@github_repo/subdir>`: DSC will install `package` from `github_repo` on github. `/subdir` is optional -- only applicable when the package is not in the root of the repository. eg `ashr@stephenslab/ashr`, `varbvs@pcarbo/varbvs/varbvs-r`.\n",
    " * `<package (version[s])>`: DSC will install `package` and check version as required. A warning message will be generated if version do not match after force installation to the latest. It is possible to specify several versions such as `edgeR (3.12.0, 3.12.1)` or simply `edgeR (3.12.0+)`.\n",
    "* `python_modules`: check required Python3 modules, and install from pip if not available.\n",
    "* `work_dir`: work directory where benchmarking will take place.\n",
    "* `output`: folder name to store benchmark output files.\n",
    "* `global`: defines global variables which can be used in definition of module parameters through [variable wildcard](DSC_Configuration.html#Variable-wildcard-131) `$()`."
   ]
  },
  {
   "cell_type": "markdown",
   "metadata": {},
   "source": [
    "## Run DSC on HPC cluster or other remote computaters\n",
    "\n",
    "See [this documentation](Remote_Computations.html) for a discussion."
   ]
  },
  {
   "cell_type": "markdown",
   "metadata": {},
   "source": [
    "## Ready to indulge?\n",
    "At this point we have covered the basics to compose a DSC benchmark. To see how it works in practice with a simple example, please follow through this [Quick Start tutorial](../tutorials/Quick_Start.html)."
   ]
  }
 ],
 "metadata": {
  "kernelspec": {
   "display_name": "SoS",
   "language": "sos",
   "name": "sos"
  },
  "language_info": {
   "codemirror_mode": "sos",
   "file_extension": ".sos",
   "mimetype": "text/x-sos",
   "name": "sos",
   "nbconvert_exporter": "sos_notebook.converter.SoS_Exporter",
   "pygments_lexer": "sos"
  },
  "sos": {
   "celltoolbar": true,
   "default_kernel": "SoS",
   "kernels": [
    [
     "Python3",
     "python3",
     "Python3",
     "#FFE771"
    ],
    [
     "R",
     "ir",
     "R",
     "#DCDCDA"
    ],
    [
     "SoS",
     "sos",
     "",
     ""
    ]
   ],
   "panel": {
    "displayed": true,
    "height": 0,
    "style": "side"
   }
  }
 },
 "nbformat": 4,
 "nbformat_minor": 2
}
