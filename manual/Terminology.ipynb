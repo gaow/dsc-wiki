{
 "cells": [
  {
   "cell_type": "markdown",
   "metadata": {},
   "source": [
    "# Terminology"
   ]
  },
  {
   "cell_type": "markdown",
   "metadata": {},
   "source": [
    "Here is a list of terms defined for elements in DSC. We will use these terms throughout the DSC documentation."
   ]
  },
  {
   "cell_type": "markdown",
   "metadata": {},
   "source": [
    "*  **DSC script** or **DSC configuration**: A [YAML](http://yaml.org) flavored text file that configures the entire DSC procedure.\n",
    " * DSC script is YAML flavored but not standard YAML file. It is based on YAML parser yet it is capable of handling block operators and DSC variables as it loads the script.\n",
    "*  **DSC block**: Sections in DSC script that defines a family of computational routines.\n",
    "*  **DSC step**: A computational routine defined in a DSC block.\n",
    "*  **Block properties**: \n",
    "  * Main properties: `exec`, `params`, `seed`, `return`\n",
    "  * Optional properties: `.alias`, `.logic`, `.options`\n",
    "*  **DSC entry**: Lines in DSC blocks, labeled by block parameters or options and separated by comma (\",\"), to allow for a range of values be assigned to multiple computational routines.\n",
    "*  **Block operators**: Special functions to help DSC specification, including:\n",
    " * `$, $(), (), R(), Python(), Shell(), Combo(), Pairs(), Asis(), File(), Pack()`\n",
    "*  **The DSC Section**: A special section called `DSC`, consisting of a [**DSC sequence**](Design_and_Features.html#Design-Overview), plus various miscellaneous parameters to configure DSC runs.\n",
    "  * For example, required R libraries, path to executables / libraries, global variables for the DSC script, output file name and work directory.\n",
    "*  **DSC sequence** & **DSC sequence operators**: A sequence of logical expression that defines how the DSC blocks should be connected to each other.\n",
    "*  **DSC variables**: The `params` entry in the `DSC` section that defines variables to be accessed by DSC blocks (via `$()` sigil).\n",
    "*  **DSC annotation**: A [YAML](http://yaml.org) text file that annotates DSC with tags.\n",
    "  * DSC annotation file is a strict YAML file. Only limited block operators are supported.\n",
    "*  **Annotation statement**: entries in DSC annotation file.\n",
    "* `block::entry::value` is the notation to refer to an entry in a DSC block. For example `simulate::params::K` refers to the parameter `K` in `simulate` block.\n",
    "\n",
    "You may glance over some [sample DSC scripts](../tutorials.html#Intermediate-examples) to have an idea of DSC2 syntax. It is also recommended that you read the [DSC design concept](Design_and_Features) before diving into the details throughout the rest of the document."
   ]
  }
 ],
 "metadata": {
  "kernelspec": {
   "display_name": "SoS",
   "language": "sos",
   "name": "sos"
  },
  "language_info": {
   "codemirror_mode": "sos",
   "file_extension": ".sos",
   "mimetype": "text/x-sos",
   "name": "sos",
   "nbconvert_exporter": "sos.jupyter.converter.SoS_Exporter",
   "pygments_lexer": "sos"
  },
  "sos": {
   "default_kernel": "SoS",
   "kernels": [
    [
     "Python3",
     "python3",
     "Python3",
     "#FFE771"
    ],
    [
     "R",
     "ir",
     "R",
     "#DCDCDA"
    ],
    [
     "SoS",
     "sos",
     "",
     ""
    ]
   ],
   "panel": {
    "displayed": true,
    "height": 0,
    "style": "side"
   }
  }
 },
 "nbformat": 4,
 "nbformat_minor": 2
}
