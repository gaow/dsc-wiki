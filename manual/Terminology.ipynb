{
 "cells": [
  {
   "cell_type": "markdown",
   "metadata": {},
   "source": [
    "# Terminology"
   ]
  },
  {
   "cell_type": "markdown",
   "metadata": {},
   "source": [
    "This document defines a list of DSC jargons. We will use these terms throughout the DSC documentation. Here we focus on fundamental concepts. Other jargons, particularly a whole class of various *operators*, will be defined and explained at the same time in [DSC modules](DSC_Configuration.html) and [DSC benchmark](DSC_Execution.html) documentations."
   ]
  },
  {
   "cell_type": "markdown",
   "metadata": {},
   "source": [
    "## DSC file (or DSC script)\n",
    "A [YAML](http://yaml.org) flavored text file (yet not YAML compatible!) that configures DSC **modules** and **benchmark**.\n",
    "\n",
    "### Code block (or block)\n",
    "A piece of code that starts at (and includes) a line where there is no indentation and ends at (and excludes) another line where there is no indentation.\n",
    "\n",
    "### Property\n",
    "A line of code that has a \"key: value\" syntax: the name of the property is on the left side of `:`, followed by the contents of the property on the right side."
   ]
  },
  {
   "cell_type": "markdown",
   "metadata": {},
   "source": [
    "## Module definition\n",
    "\n",
    "A module definition is a block that takes *input* and produces *output*, and otherwise has no side effects. It is defined by an executable (or inline code), and (optionally) a set of *parameters* and *decorators* that determine the behavior of the code.  Each module definition must have a unique name, which will be useful for referring to that module later. We use a $ prefix to distinguish variables that are inputs and outputs from a module, vs parameters. "
   ]
  },
  {
   "cell_type": "markdown",
   "metadata": {},
   "source": [
    "## Module specification (module)\n",
    "\n",
    "*parameters* and *decorators* are considered to be part of a module specification, not an addendum to it. That is, the same executable with different parameters is a different module. *Module definition* is a succint way to specify a number of syntactically exchangable modules. Each module takes a unique set of parameter combination:\n",
    "\n",
    "- *parameters*: a set of fixed values that distinguishes modules from each other in a module definition.\n",
    "- *decorators*: a mechanism to modify how parameters are passed to the computer executable programs involved in the module"
   ]
  },
  {
   "cell_type": "markdown",
   "metadata": {},
   "source": [
    "## Module instance\n",
    "A module instance is what is created when a module is executed in practice. It is module with specific:\n",
    "\n",
    "* *module input*: the set of inputs to the module\n",
    "* *module output*: the set of outputs produced by executing the module"
   ]
  },
  {
   "cell_type": "markdown",
   "metadata": {},
   "source": [
    "## Module ensemble and pipeline definition\n",
    "\n",
    "A module ensemble is a sequence of module definitions. A pipeline definition is a special case of module ensemble that represents a complete and meaningful computational procedure DSC aims to investigate.\n",
    "\n",
    "### Valid pipeline definition \n",
    "\n",
    "A pipeline definition is valid if, for each module in the pipeline, the *input* are *output* of (at least one) previous module definition in the sequence."
   ]
  },
  {
   "cell_type": "markdown",
   "metadata": {},
   "source": [
    "## Pipeline instance\n",
    "\n",
    "Pipeline instance is a sequence of Module instances. It results from actually executing an instance of a pipeline on data.\n",
    "\n",
    "- *pipeline input*: the input to the first module instance in a pipeline instance.\n",
    "- *pipeline output*: the set of all outputs produced by all module instances in a pipeline instance (not just the final module instance)."
   ]
  },
  {
   "cell_type": "markdown",
   "metadata": {},
   "source": [
    "## Pipeline variable\n",
    "\n",
    "Any output variable from any module in the pipeline (will often also be an *input* to another module). Pipeline variables are passed through the pipeline to be available to other modules, and a key feature of DSC is that it facilitates this process. A pipeline variable is created for each output variable of each module. These variables are then available as potential input variables to subsequent modules in the pipeline. They are also saved, and so are available at the end of pipeline execution for inspection (and also potentially for input into other pipelines to be run)."
   ]
  },
  {
   "cell_type": "markdown",
   "metadata": {},
   "source": [
    "**Note: \"Module\" may be used as a synonym for \"Module definition\" or \"Module instance\" when the potential ambiguity is clear from the context; \"Pipeline\" may be used as synonym for either \"pipeline definition\" or \"pipeline instance\" when the potential ambiguity is clear from the context. For example, \"valid pipeline\" must mean \"valid pipeline definition\"; and \"pipeline input/output\" must mean \"pipeline instance input/output\".**"
   ]
  },
  {
   "cell_type": "markdown",
   "metadata": {},
   "source": [
    "## DSC benchmark definition and instance\n",
    "\n",
    "DSC benchmark is a collective term for all pipelines (definition and instance) specified in a DSC file (or via `dsc` command line interface)."
   ]
  },
  {
   "cell_type": "markdown",
   "metadata": {},
   "source": [
    "You may glance over some [sample DSC scripts](tutorials.html#Intermediate-examples) to have an idea of DSC2 syntax. It is also recommended that you read the [DSC design concept](Design_and_Features) before diving into the details throughout the rest of the documentation on this site."
   ]
  }
 ],
 "metadata": {
  "kernelspec": {
   "display_name": "SoS",
   "language": "sos",
   "name": "sos"
  },
  "language_info": {
   "codemirror_mode": "sos",
   "file_extension": ".sos",
   "mimetype": "text/x-sos",
   "name": "sos",
   "nbconvert_exporter": "sos_notebook.converter.SoS_Exporter",
   "pygments_lexer": "sos"
  },
  "sos": {
   "default_kernel": "SoS",
   "kernels": [
    [
     "Python3",
     "python3",
     "Python3",
     "#FFE771"
    ],
    [
     "R",
     "ir",
     "R",
     "#DCDCDA"
    ],
    [
     "SoS",
     "sos",
     "",
     ""
    ]
   ],
   "panel": {
    "displayed": false,
    "height": 0,
    "style": "side"
   }
  }
 },
 "nbformat": 4,
 "nbformat_minor": 2
}
