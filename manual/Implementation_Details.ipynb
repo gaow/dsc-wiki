{
 "cells": [
  {
   "cell_type": "markdown",
   "metadata": {
    "kernel": "sos"
   },
   "source": [
    "# Implementation details"
   ]
  },
  {
   "cell_type": "markdown",
   "metadata": {},
   "source": [
    "DSC2 is implemented in Python 3. It relies on a number of libraries:\n",
    "\n",
    "*  [`SoS`](https://github.com/vatlab/SoS) library supports the execution of steps in DSC, which implements job dependency management via [`networkx`](https://networkx.github.io/) and visualization via [`pydot`](https://github.com/erocarrera/pydot). Development of DSC is contributed directly to `SoS` whenever approperate.\n",
    "*  [`sympy`](http://www.sympy.org/en/index.html) is used to interpret logic behind DSC sequences and parameter assignment (if `.logic` options are available).\n",
    "*  [`pandas`](http://pandas.pydata.org/) is used to ensure proper conversion between R and Python data frames. It is also used to manipulate output data.\n",
    "* [`sqlalchemy`](https://www.sqlalchemy.org) supports `dsc-query` via SQL-like syntax.\n",
    "*  The DSC2 script partially uses [`ruamel.yaml`](http://yaml.readthedocs.io/en/latest/), a YAML 1.2 loader, for parsing DSC configuration (although DSC configuration format is not compatible with YAML).\n",
    "\n",
    "**FIXME: this will soon be changed to using HDF5 format (with restrictions)**\n",
    "\n",
    "Data flow between computational routines via [RDS files](http://www.inside-r.org/r-doc/base/saverds), if those routines are implemented as R or Python plugins. Saving and loading RDS files can be costly in both execution time and disk space; as a result you may notice that it seems to take DSC2 rather long time to complete a job compared to directly running R or Python scripts involved to complete a job. On the other hand, archiving outcome of computational routines in the form of RDS files makes it possible to re-use existing results, thus beneficial in the long run, particularly for projects where computational steps are not trivial and there is a need to actively add new computational routines to existing DSC framework."
   ]
  }
 ],
 "metadata": {
  "kernelspec": {
   "display_name": "SoS",
   "language": "sos",
   "name": "sos"
  },
  "language_info": {
   "codemirror_mode": "sos",
   "file_extension": ".sos",
   "mimetype": "text/x-sos",
   "name": "sos",
   "nbconvert_exporter": "sos_notebook.converter.SoS_Exporter",
   "pygments_lexer": "sos"
  },
  "sos": {
   "default_kernel": "SoS",
   "kernels": [
    [
     "Python3",
     "python3",
     "Python3",
     "#FFE771"
    ],
    [
     "R",
     "ir",
     "R",
     "#DCDCDA"
    ],
    [
     "SoS",
     "sos",
     "",
     ""
    ]
   ],
   "panel": {
    "displayed": true,
    "height": 0,
    "style": "side"
   }
  }
 },
 "nbformat": 4,
 "nbformat_minor": 1
}
