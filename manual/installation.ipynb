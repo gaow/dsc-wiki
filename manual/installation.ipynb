{
 "cells": [
  {
   "cell_type": "markdown",
   "metadata": {},
   "source": [
    "# Quick Start\n",
    "\n",
    "Follow these five steps to quickly get started using DSC2."
   ]
  },
  {
   "cell_type": "markdown",
   "metadata": {},
   "source": [
    "## 1. Install python >= 3.6\n",
    "\n",
    "To use DSC2, you must have Python version 3.6 or greater. There are several accepted ways to install Python >= 3.6 for DSC2. \n",
    "\n",
    "**Our recommendation:** install Python via a [conda](https://conda.io/docs)-based package manager such as [Miniconda](https://conda.io/miniconda.html) or [Anaconda](https://www.anaconda.com/download). Follow the instructions on those websites to install Miniconda or Anaconda\n",
    "\n",
    "** Other options:** DSC2 will also work with standalone distributions of Python (e.g., downloaded from [Python.org](https://www.python.org), and the instructions below should work regardless of how Python is installed on your computer. However, we recommend `conda` because it will make it easier to install DSC2."
   ]
  },
  {
   "cell_type": "markdown",
   "metadata": {},
   "source": [
    "## 2. Check your Python installation\n",
    "\n",
    "Check that Python >= 3.6 is active in your computing environment. To check, run\n",
    "\n",
    "```\n",
    "python --version\n",
    "```\n",
    "\n",
    "or \n",
    "\n",
    "```\n",
    "python3 --version\n",
    "```\n",
    "\n",
    "If the reported version is greater than 3.6.0, then you are ready for the next step. Note that if you just installed Anaconda or Miniconda, you may need to start up a new shell to make sure that the new version of Python is recognized in the search path. \n",
    "\n",
    "If you already have Anaconda or Miniconda installed, but you do not have Python >= 3.6, see instructions below for what to do.\n",
    "\n",
    "**Important:** *In the instructions below, we assume your Python 3.6+ executable is `python`. However, you may need to replace `python` with `python3`.* "
   ]
  },
  {
   "cell_type": "markdown",
   "metadata": {},
   "source": [
    "## 3. Install latest release of DSC2\n",
    "\n",
    "We provide two sets of installation instructions: one for Python installed by `conda`, and the other for Python not installed by `conda`. \n",
    "\n",
    "If you would like install the latest (possibly unstable) development version of DSC2 instead, please see the instructions below.\n",
    "\n",
    "\n",
    "### 3a. If Python is installed by `conda`\n",
    "\n",
    "Install the packages required by DSC2:\n",
    "\n",
    "```\n",
    "conda install -c conda-forge fasteners python-xxhash pyarrow ruamel.yaml\n",
    "conda install mkl numpy pandas sqlalchemy msgpack-python sympy numexpr \n",
    "conda install psutil networkx pydot pydotplus pyyaml tqdm pygments pexpect\n",
    "```\n",
    "\n",
    "Some of these packages may have already been installed, so make sure that you also run these commands to update any previously installed packages to the latest version:\n",
    "\n",
    "```\n",
    "conda update -c conda-forge fasteners python-xxhash pyarrow ruamel.yaml\n",
    "conda update mkl numpy pandas sqlalchemy msgpack-python sympy psutil \n",
    "conda update networkx pydot pydotplus pyyaml tqdm pygments pexpect\n",
    "```\n",
    "\n",
    "If you encounter errors, see the troubleshooting tips below."
   ]
  },
  {
   "cell_type": "markdown",
   "metadata": {},
   "source": [
    "### 3b. If Python is not installed by `conda`\n",
    "\n",
    "The Python installer `pip` will automatically take care of installing the required packages. However, we caution that:\n",
    "\n",
    "* Installation may take some time because most packages will be built from source.\n",
    "\n",
    "* Installation of some packages may fail. In this case, please try running the command again---*sometimes running the installation command twice fixes the problem.*\n",
    "\n",
    "[All recent Python versions are automatically bundled with pip](https://pip.pypa.io/en/stable/installing). Before running `pip`, check that you are running the version bundled with Python >= 3.6. To check, run\n",
    "\n",
    "```\n",
    "pip --version\n",
    "```\n",
    "\n",
    "or \n",
    "\n",
    "```\n",
    "pip3 --version\n",
    "```\n",
    "\n",
    "**Important:** *In the instructions below, we assume your pip 3.6+ executable is `pip`. However, you may need to replace `pip` with `pip3`.* \n",
    "\n",
    "Now, you may run this command to install DSC2 and all the Python dependencies from source:\n",
    "\n",
    "```\n",
    "pip install dsc\n",
    "```\n",
    "\n",
    "If you encounter errors, see the troubleshooting tips below."
   ]
  },
  {
   "cell_type": "markdown",
   "metadata": {},
   "source": [
    "## 4. Create your first DSC2 project\n",
    "\n",
    "See [this tutorial](https://stephenslab.github.io/dsc-wiki/tutorials/Quick_Start.html)."
   ]
  },
  {
   "cell_type": "markdown",
   "metadata": {},
   "source": [
    "## 5. Walk through the other tutorials\n",
    "\n",
    "See [here](https://stephenslab.github.io/dsc-wiki/tutorials.html) for more demonstrations of DSC2."
   ]
  },
  {
   "cell_type": "markdown",
   "metadata": {},
   "source": [
    "## Installing the latest development version of DSC2\n",
    "\n",
    "DSC2 is closely developed in parallel with the [SoS library](http://github.com/vatlab/sos). The development version (`master` branch on GitHub) typically requires the development version of SoS. \n",
    "\n",
    "First install the latest version of SoS:\n",
    "\n",
    "```\n",
    "git clone https://github.com/vatlab/SoS.git\n",
    "cd SoS\n",
    "python setup.py install\n",
    "```\n",
    "\n",
    "Then install the latest version of DSC2:\n",
    "\n",
    "```\n",
    "git clone https://github.com/stephenslab/dsc2.git\n",
    "cd dsc2\n",
    "python setup.py install\n",
    "```"
   ]
  },
  {
   "cell_type": "markdown",
   "metadata": {},
   "source": [
    "## Troubleshooting\n",
    "\n",
    "### What to do if you already have `conda` but not python >= 3.6\n",
    "\n",
    "You have two options: (1) upgrade your Python software to the latest version, or (2) remove your conda installation, and install a new one from scratch.\n",
    "\n",
    "The safer option is to install from scratch. To remove your existing installation, first figure out where it is installed. For example:\n",
    "\n",
    "```\n",
    "$ which python\n",
    "/home/osboxes/miniconda3/bin/python\n",
    "```\n",
    "\n",
    "Next, remove `/home/osboxes/miniconda3`:\n",
    "\n",
    "```\n",
    "rm -rf /home/osboxes/miniconda3\n",
    "```\n",
    "\n",
    "Then follow the provided instructions to install Anaconda or Miniconda.\n",
    "\n",
    "Alternatively, update Python to the latest version (currently version 3.6):\n",
    "\n",
    "```\n",
    "conda install python=3.6 \n",
    "```"
   ]
  },
  {
   "cell_type": "markdown",
   "metadata": {
    "kernel": "SoS"
   },
   "source": [
    "### How to upgrade a previously installed version of DSC2\n",
    "\n",
    "To upgrade the DSC2 you previously have installed, run the following command:\n",
    "\n",
    "```\n",
    "pip install --upgrade --upgrade-strategy only-if-needed --no-cache-dir dsc\n",
    "```"
   ]
  },
  {
   "cell_type": "markdown",
   "metadata": {},
   "source": [
    "### What do you if you do not have permission to install Python packages\n",
    "\n",
    "If you did not install Python, it is possible that you will not have permission to install packages. To work around this permissions issue, add the `--user` switch to the `pip` command:\n",
    "\n",
    "```\n",
    "pip install --user dsc\n",
    "```\n",
    "\n",
    "**Important note:** The `--user` switch will install packages to the `~/.local` hidden directory. This may cause problems if `dsc` is upgraded at a later date without the `--user` switch."
   ]
  }
 ],
 "metadata": {
  "kernelspec": {
   "display_name": "SoS",
   "language": "sos",
   "name": "sos"
  },
  "language_info": {
   "codemirror_mode": "sos",
   "file_extension": ".sos",
   "mimetype": "text/x-sos",
   "name": "sos",
   "nbconvert_exporter": "sos_notebook.converter.SoS_Exporter",
   "pygments_lexer": "sos"
  },
  "sos": {
   "celltoolbar": true,
   "default_kernel": "SoS",
   "kernels": [
    [
     "Bash",
     "bash",
     "Bash",
     "#E6EEFF"
    ],
    [
     "Python3",
     "python3",
     "Python3",
     "#FFE771"
    ],
    [
     "R",
     "ir",
     "R",
     "#DCDCDA"
    ],
    [
     "SoS",
     "sos",
     "",
     ""
    ]
   ],
   "panel": {
    "displayed": true,
    "height": 0,
    "style": "side"
   }
  }
 },
 "nbformat": 4,
 "nbformat_minor": 1
}
