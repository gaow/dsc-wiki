{
 "cells": [
  {
   "cell_type": "markdown",
   "metadata": {},
   "source": [
    "# Download and Installation"
   ]
  },
  {
   "cell_type": "markdown",
   "metadata": {},
   "source": [
    "## Requirement\n",
    "DSC2 requires Python 3.6+. If you do not have Python 3 on your system it is strongly recommended that you install Python 3 from `conda` for Linux and `brew` for Mac. If you have an older version of Python 3, please do not worry. You can still follow instructions below to install a new version of Python 3. The installer will also guide you to make it your default Python 3 so you do not have to remove your old installation.\n",
    "\n",
    "You can check if your system satisfies the requirement via:\n",
    "\n",
    "```\n",
    "python3 --version\n",
    "```\n",
    "\n",
    "If you do have Python 3.6+ you can skip the rest of this step.\n",
    "\n",
    "We will use `miniconda` (a lite version of `anaconda`), which contains Python 3 and `conda`, a package manager for Python like `cran` for R.\n",
    "\n",
    "### For Linux\n",
    "```\n",
    "wget https://repo.continuum.io/miniconda/Miniconda3-latest-Linux-x86_64.sh\n",
    "bash Miniconda3-latest-Linux-x86_64.sh\n",
    "```\n",
    "\n",
    "Follow the prompt to install it (use `ctrl+F` to quickly jump to the end of the Licenses if you have read them before). Be sure to add the installation path to your shell environment (the installation script will ask if you'd like this be configured automatically: say Yes unless you know what you are doing).\n",
    "\n",
    "After the program is installed, you have to reload your `bash` profile. If you do not know what this means, just exit the current terminal and open up a new one.\n",
    "\n",
    "### For MacOS\n",
    "\n",
    "**FIXME: need to verify if this instructions still works.**\n",
    "\n",
    "If you have `homebrew` you can type:\n",
    "\n",
    "```\n",
    "brew install pip3\n",
    "``` \n",
    "to install Python 3 and `pip` which will be used to install DSC2. Alternatively you can also use `conda` package. `conda` for Mac can be download from [here](https://repo.continuum.io/miniconda/Miniconda3-latest-MacOSX-x86_64.sh\n",
    "). Installation is the same as for Linux.\n",
    "\n",
    "\n",
    "## Released Versions\n",
    "Versioned release can be installed via `pip install`:\n",
    "\n",
    "```\n",
    "pip install dsc\n",
    "```\n",
    "\n",
    "`DCS2` will automatically download and compile its dependent packages, among which `numpy` and `pandas` may take a while to install. To upgrade the DSC2 you previously have installed:\n",
    "\n",
    "```\n",
    "pip install --upgrade --upgrade-strategy only-if-needed --no-cache-dir --user dsc\n",
    "```\n",
    "\n",
    "## Development Version\n",
    "DSC2 co-develops with the [SoS library](http://github.com/vatlab/sos). The development version (`master` branch on github) typically requires the development version of SoS. To install the latest SoS:\n",
    "\n",
    "```\n",
    "git clone https://github.com/vatlab/SoS.git\n",
    "cd SoS\n",
    "python3 setup.py install\n",
    "```\n",
    "\n",
    "Then the latest DSC2:\n",
    "\n",
    "```\n",
    "git clone https://github.com/stephenslab/dsc2.git\n",
    "cd dsc2\n",
    "python3 setup.py install\n",
    "```"
   ]
  }
 ],
 "metadata": {
  "kernelspec": {
   "display_name": "SoS",
   "language": "sos",
   "name": "sos"
  },
  "language_info": {
   "codemirror_mode": "sos",
   "file_extension": ".sos",
   "mimetype": "text/x-sos",
   "name": "sos",
   "nbconvert_exporter": "sos_notebook.converter.SoS_Exporter",
   "pygments_lexer": "sos"
  },
  "sos": {
   "celltoolbar": true,
   "default_kernel": "SoS",
   "kernels": [
    [
     "Python3",
     "python3",
     "Python3",
     "#FFE771"
    ],
    [
     "R",
     "ir",
     "R",
     "#DCDCDA"
    ],
    [
     "SoS",
     "sos",
     "",
     ""
    ]
   ],
   "panel": {
    "displayed": false,
    "height": 0,
    "style": "side"
   }
  }
 },
 "nbformat": 4,
 "nbformat_minor": 1
}
