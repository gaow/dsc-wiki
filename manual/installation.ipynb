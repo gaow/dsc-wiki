{
 "cells": [
  {
   "cell_type": "markdown",
   "metadata": {},
   "source": [
    "# Download and Installation"
   ]
  },
  {
   "cell_type": "markdown",
   "metadata": {},
   "source": [
    "## Requirement\n",
    "DSC2 requires Python 3.6+. If you do not have this version of Python 3 on your system it is strongly recommended that you install it from [`conda`](https://conda.io/docs/), a package manager for `Python`. This is the \"cleanest\" way to install, especially when there are multiple versions of Python in your system paths that you are worried about breaking or removing -- `conda` installer will also guide you to make it your default Python 3 so you do not have to remove your old installation.\n",
    "\n",
    "You can check the status on your system by typing the `python3` command in terminal:\n",
    "\n",
    "```\n",
    "$ python3\n",
    "\n",
    "Python 3.6.1 |Continuum Analytics, Inc.| (default, May 11 2017, 13:09:58) \n",
    "[GCC 4.4.7 20120313 (Red Hat 4.4.7-1)] on linux\n",
    "Type \"help\", \"copyright\", \"credits\" or \"license\" for more information.\n",
    ">>> \n",
    "```\n",
    "\n",
    "You should see not only if Python 3 is available and is 3.6+, but also see if it comes from `conda` -- indicated by the phrase `Continuum Analytics, Inc.`"
   ]
  },
  {
   "cell_type": "markdown",
   "metadata": {},
   "source": [
    "### If you already have `conda` but not 3.6+\n",
    "\n",
    "Then you have 2 options: upgrade your `conda` to the latest, or remove / install a new `conda`.\n",
    "\n",
    "We recommand a fresh installation, if possible. To remove your existing installation, first figure out where it is installed. For example:\n",
    "\n",
    "```\n",
    "$ which python3\n",
    "\n",
    "/home/osboxes/miniconda3/bin/python3\n",
    "```\n",
    "\n",
    "Now we will need to remove `/home/osboxes/miniconda3`:\n",
    "\n",
    "```\n",
    "rm -rf /home/osboxes/miniconda3\n",
    "```\n",
    "\n",
    "Then follow instructions in the next section to install Python 3.6.\n",
    "\n",
    "If you actively use older versions of `conda` for different purposes, you can either [create a separate `env`](https://conda.io/docs/user-guide/tasks/manage-environments.html) for this installation, or, if deemed safe, to update your `conda` default to the latest (here it refers to Python 3.6):\n",
    "\n",
    "```\n",
    "conda install python=3.6 \n",
    "```"
   ]
  },
  {
   "cell_type": "markdown",
   "metadata": {},
   "source": [
    "### If you do not have `conda` and want to use `conda` version of Python 3.6\n",
    "\n",
    "We will first install `miniconda`, a lite version of `anaconda`; and run a few additional commands to install other required packages as instructed in the next section.\n",
    "\n",
    "For 64 bit Linux, please download at https://repo.continuum.io/miniconda/Miniconda3-latest-Linux-x86_64.sh. For Mac, at https://repo.continuum.io/miniconda/Miniconda3-latest-MacOSX-x86_64.sh.\n",
    "\n",
    "Then in the terminal, take Mac version for example:\n",
    "\n",
    "```\n",
    "chmod +x Miniconda3-latest-MacOSX-x86_64.sh\n",
    "./Miniconda3-latest-MacOSX-x86_64.sh\n",
    "```\n",
    "\n",
    "Follow the prompt to install it (use `ctrl+F` a couple of times to quickly jump to the end of the Licenses if you have read them before). Be sure to add the installation path to your shell environment (the installation script will ask if you'd like this be configured automatically: type `Yes`, unless you know what you are doing).\n",
    "\n",
    "After the program is installed, you have to reload your `bash` profile. If you do not know what this means, just exit the current terminal and open up a new one."
   ]
  },
  {
   "cell_type": "markdown",
   "metadata": {},
   "source": [
    "### Now that you have Python 3.6 from `conda`\n",
    "\n",
    "If it is a fresh installation of `miniconda`, please use the following commands to install additional required packages:\n",
    "\n",
    "```\n",
    "conda install -c conda-forge fasteners python-xxhash pyarrow ruamel.yaml\n",
    "conda install mkl numpy pandas sqlalchemy msgpack-python sympy numexpr psutil networkx pydot pydotplus pyyaml tqdm pygments pexpect\n",
    "```\n",
    "\n",
    "Otherwise, it is recommanded that you also update these required packages to the latest version:\n",
    "\n",
    "```\n",
    "conda update -c conda-forge fasteners python-xxhash pyarrow ruamel.yaml\n",
    "conda update mkl numpy pandas sqlalchemy msgpack-python sympy psutil networkx pydot pydotplus pyyaml tqdm pygments pexpect\n",
    "```"
   ]
  },
  {
   "cell_type": "markdown",
   "metadata": {},
   "source": [
    "### If your Python 3.6 is not `conda` based \n",
    "\n",
    "You can still install `dsc` in this scenario. There is not need to install required packages beforehand, since the `dsc` installation (see next sections) will automatically take care of dependencies. However, notice that:\n",
    "\n",
    "* Installation may take a while because dependent packages will have to be compile from source\n",
    "* There are chances that automatic installation of dependent packages fail, in which case you will have to figure out how to manually install them, **although sometimes running the installation command twice fixes the problem.**"
   ]
  },
  {
   "cell_type": "markdown",
   "metadata": {},
   "source": [
    "## Released Version\n",
    "\n",
    "Versioned release can be installed via `pip`. First, check if you `pip` comes from `conda` -- this will ensure that you use the same environment we have just configured:\n",
    "\n",
    "\n",
    "```\n",
    "$ which pip\n",
    "\n",
    "/home/osboxes/miniconda3/bin/pip\n",
    "\n",
    "```\n",
    "\n",
    "Then,\n",
    "\n",
    "```\n",
    "pip install dsc\n",
    "```\n",
    "\n",
    "If your `pip` is not from `conda`, it is possible that `pip install dsc` fails because the `pip` version is for Python 2 by default, in which case you will have to use\n",
    "\n",
    "```\n",
    "pip3 install dsc\n",
    "```\n",
    "\n",
    "If you do not use `conda` you may run into permission issues in a cluster environment. To fix, you need to add `--user` switch:\n",
    "\n",
    "```\n",
    "pip install --user dsc\n",
    "```\n",
    "\n",
    "\n",
    "To upgrade the DSC2 you previously have installed:\n",
    "\n",
    "```\n",
    "pip install --upgrade --upgrade-strategy only-if-needed --no-cache-dir dsc\n",
    "```\n",
    "\n",
    "Or with `--user` switch:\n",
    "\n",
    "```\n",
    "pip install --upgrade --upgrade-strategy only-if-needed --no-cache-dir --user dsc\n",
    "```\n",
    "\n",
    "**Note that `--user` switch will install packages to `~/.local` folder outside the default `conda` environment. This will cause problems when later `dsc` is upgraded without `--user` switch because the system will still load obsolete packages from `~/.local`. So please only use `--user` switch if you have permission problems; and please remove `~/.local/lib/python3.6/site-packages` when you no longer have permission issues (eg after installing and using your own copy Python from `conda`.)** "
   ]
  },
  {
   "cell_type": "markdown",
   "metadata": {},
   "source": [
    "## Development Version\n",
    "\n",
    "DSC2 co-develops with the [SoS library](http://github.com/vatlab/sos). The development version (`master` branch on github) typically requires the development version of SoS. To install the latest SoS:\n",
    "\n",
    "```\n",
    "git clone https://github.com/vatlab/SoS.git\n",
    "cd SoS\n",
    "python3 setup.py install\n",
    "```\n",
    "\n",
    "Then the latest DSC2:\n",
    "\n",
    "```\n",
    "git clone https://github.com/stephenslab/dsc2.git\n",
    "cd dsc2\n",
    "python3 setup.py install\n",
    "```"
   ]
  }
 ],
 "metadata": {
  "kernelspec": {
   "display_name": "SoS",
   "language": "sos",
   "name": "sos"
  },
  "language_info": {
   "codemirror_mode": "sos",
   "file_extension": ".sos",
   "mimetype": "text/x-sos",
   "name": "sos",
   "nbconvert_exporter": "sos_notebook.converter.SoS_Exporter",
   "pygments_lexer": "sos"
  },
  "sos": {
   "celltoolbar": true,
   "default_kernel": "SoS",
   "kernels": [
    [
     "Python3",
     "python3",
     "Python3",
     "#FFE771"
    ],
    [
     "R",
     "ir",
     "R",
     "#DCDCDA"
    ],
    [
     "SoS",
     "sos",
     "",
     ""
    ]
   ],
   "panel": {
    "displayed": false,
    "height": 0,
    "style": "side"
   }
  }
 },
 "nbformat": 4,
 "nbformat_minor": 1
}
