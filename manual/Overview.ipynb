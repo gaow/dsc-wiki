{
 "cells": [
  {
   "cell_type": "markdown",
   "metadata": {},
   "source": [
    "# DSC: Dynamic Statistical Comparisons"
   ]
  },
  {
   "cell_type": "markdown",
   "metadata": {},
   "source": [
    "## Overview of DSC\n",
    "\n",
    "DSC provides a framework for managing **computational benchmarking experiments** that compare several competing methods for a task across datasets or simulation scenarios. \n",
    "\n",
    "DSC helps execute such comparisons in an **organized and reproducible way**, and provides convenient ways to query the results.\n",
    "\n",
    "DSC is designed to help make these comparisons *dynamic* — that is, it is easy to extend by adding new methods or simulation scenarios. Hence the name, *Dynamic Statistical Comparisons*.\n",
    "\n",
    "DSC is able to run benchmarks written in most languages that can be compiled or run as executables.  DSC is particularly well-suited to run methods implemented in **R and Python**, the two predominant interactive programming languages in scientific research. DSC also provides support for experiments that combine R and Python.\n",
    "\n",
    "DSC is implemented in [Python 3](http://python.org), building on the [SoS framework](https://github.com/vatlab/SoS), with additional tools developed for [R](https://www.r-project.org)."
   ]
  },
  {
   "cell_type": "markdown",
   "metadata": {},
   "source": [
    "## Getting started with DSC\n",
    "\n",
    "If you are new to DSC, we recommend taking a look at the [introductory DSC tutorial](tutorials/Intro_DSC.html). This tutorial  gives an overview of DSC's main features, and illustrates how DSC can be used to quickly implement a simple computational experiment.\n",
    "\n",
    "If you would like to try DSC for yourself, follow the [installation instructions](installation.html) to download and set up DSC on your computer. Then return to the [introductory tutorial](tutorials/Intro_DSC.html) and try implementing the example on your computer.\n",
    "\n",
    "If you would like to use DSC for your project, start by reading through the [Introduction to DSC Syntax Part I](tutorials/Intro_Syntax_I.html) and [Part II](tutorials/Intro_Syntax_II.html). To learn more, we provide [additional tutorials on other DSC topics](tutorials.html), a [DSC reference manual](manual.html), and [extended examples](examples.html) illustrating how DSC can be used to implement a variety of computational experiments.\n",
    "\n",
    "If you have any questions or want to share some information with the developer / user community, please open a [github issue](https://github.com/stephenslab/dsc/issues)."
   ]
  },
  {
   "cell_type": "markdown",
   "metadata": {},
   "source": [
    "## Acknowledgement\n",
    "\n",
    "This work is supported by the the Gordon and Betty Moore Foundation via an Investigator Award to Matthew Stephens, [Grant GBMF4559](https://www.moore.org/grants/list/GBMF4559), as part of the [Data-Driven Discovery program](https://www.moore.org/programs/science/data-driven-discovery)."
   ]
  }
 ],
 "metadata": {
  "kernelspec": {
   "display_name": "SoS",
   "language": "sos",
   "name": "sos"
  },
  "language_info": {
   "codemirror_mode": "sos",
   "file_extension": ".sos",
   "mimetype": "text/x-sos",
   "name": "sos",
   "nbconvert_exporter": "sos_notebook.converter.SoS_Exporter",
   "pygments_lexer": "sos"
  },
  "sos": {
   "celltoolbar": true,
   "default_kernel": "SoS",
   "kernels": [
    [
     "R",
     "ir",
     "R",
     "#DCDCDA"
    ],
    [
     "SoS",
     "sos",
     "",
     ""
    ],
    [
     "python3",
     "python3",
     "",
     ""
    ]
   ],
   "panel": {
    "displayed": true,
    "height": 0,
    "style": "side"
   }
  }
 },
 "nbformat": 4,
 "nbformat_minor": 1
}
