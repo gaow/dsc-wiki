{
 "cells": [
  {
   "cell_type": "markdown",
   "metadata": {},
   "source": [
    "# DSC Filtering Syntax\n",
    "\n",
    "This document specifically focus on the syntax of `@FILTER` in `dsc` and `-c` in `dsc-query`."
   ]
  },
  {
   "cell_type": "markdown",
   "metadata": {},
   "source": [
    "DSC filtering syntax, when applied in `@FILTER`, selects parameter combinations to allow for only a subset of modules can stem from a module definition. When applied in `-c` with `dsc-query` command it allows users to decide which pipeline instance to extract and explore. The syntax in both scenarios are the same.\n",
    "\n",
    "The basic structure for a filtering statement is\n",
    "\n",
    "```\n",
    "C_i = {module.parameter}_i {condition operator} {value}\n",
    "C = C_1 {logic operator} C_2 {logic operator} ...\n",
    "```\n",
    "\n",
    "Where we support\n",
    "\n",
    "* condition operators: `=, ==, >, <, >=, <=, !=, in`\n",
    "* logic operators: `AND`, `OR`, or derived compound logic, eg `(((a AND b) OR c) AND d)`\n",
    "\n",
    "For example:\n",
    "\n",
    "```\n",
    "simulate.n > 100 AND (method.p1 < 0.5 OR method.p2 < 0.5) \n",
    "```"
   ]
  }
 ],
 "metadata": {
  "kernelspec": {
   "display_name": "SoS",
   "language": "sos",
   "name": "sos"
  },
  "language_info": {
   "codemirror_mode": "sos",
   "file_extension": ".sos",
   "mimetype": "text/x-sos",
   "name": "sos",
   "nbconvert_exporter": "sos_notebook.converter.SoS_Exporter",
   "pygments_lexer": "sos"
  },
  "sos": {
   "default_kernel": "SoS",
   "kernels": [
    [
     "Python3",
     "python3",
     "Python3",
     "#FFE771"
    ],
    [
     "R",
     "ir",
     "R",
     "#DCDCDA"
    ],
    [
     "SoS",
     "sos",
     "",
     ""
    ]
   ],
   "panel": {
    "displayed": true,
    "height": 0,
    "style": "side"
   }
  }
 },
 "nbformat": 4,
 "nbformat_minor": 2
}
