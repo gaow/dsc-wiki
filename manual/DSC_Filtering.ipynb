{
 "cells": [
  {
   "cell_type": "markdown",
   "metadata": {},
   "source": [
    "# DSC Filter Syntax\n",
    "\n",
    "This document specifically focus on the syntax of `@FILTER` in `dsc` (for users) and `-c` option in `dsc-query` (for developers)."
   ]
  },
  {
   "cell_type": "markdown",
   "metadata": {},
   "source": [
    "## For users\n",
    "\n",
    "DSC filtering syntax, when applied in `@FILTER`, selects parameter combinations to allow for only a subset of modules can stem from a module definition.\n",
    "\n",
    "The basic structure for a filtering statement `@FILTER` is\n",
    "\n",
    "```\n",
    "C_i = {parameter}_i {condition operator} {value}\n",
    "C = C_1 {logic operator} C_2 {logic operator} ...\n",
    "```\n",
    "\n",
    "Where we support\n",
    "\n",
    "* condition operators: `=, ==, >, <, >=, <=, !=, in`\n",
    "* logic operators: `AND`, `OR`, `NOT`, or derived compound logic, eg `((NOT (a AND b) OR c) AND d)`\n",
    "\n",
    "For example:\n",
    "```\n",
    "simulate: sim.R\n",
    "    n: 10, 20, 150, 200\n",
    "    @FILTER: n > 100\n",
    "method: method.R\n",
    "    p1: 0.1, 0.9\n",
    "    p2: 0.2, 0.8\n",
    "    @FILTER: p1 < 0.5 or p2 < 0.5\n",
    "```\n",
    "\n",
    "## For developers\n",
    "\n",
    "`dsc-query` command can serve as the core to writing extension packages to explore DSC benchmark results. The command option is `dsc-query -c`, which allows users to decide which specific pipeline instance to extract and explore. The syntax is similar to in `@FILTER` except instead of `{parameter}_i`, here we need to specify `{module.parameter}_i` or `{group.parameter}_i`. For example,\n",
    "\n",
    "```\n",
    "dsc_query ... -c \"simulate.n > 100\" \"(method.p1 < 0.5 OR method.p2 < 0.5)\"\n",
    "```"
   ]
  }
 ],
 "metadata": {
  "kernelspec": {
   "display_name": "SoS",
   "language": "sos",
   "name": "sos"
  },
  "language_info": {
   "codemirror_mode": "sos",
   "file_extension": ".sos",
   "mimetype": "text/x-sos",
   "name": "sos",
   "nbconvert_exporter": "sos_notebook.converter.SoS_Exporter",
   "pygments_lexer": "sos"
  },
  "sos": {
   "default_kernel": "SoS",
   "kernels": [
    [
     "Python3",
     "python3",
     "Python3",
     "#FFE771"
    ],
    [
     "R",
     "ir",
     "R",
     "#DCDCDA"
    ],
    [
     "SoS",
     "sos",
     "",
     ""
    ]
   ],
   "panel": {
    "displayed": false,
    "height": 0,
    "style": "side"
   }
  }
 },
 "nbformat": 4,
 "nbformat_minor": 2
}
