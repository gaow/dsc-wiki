{
 "cells": [
  {
   "cell_type": "markdown",
   "metadata": {},
   "source": [
    "# Share DSC via docker"
   ]
  },
  {
   "cell_type": "markdown",
   "metadata": {},
   "source": [
    "First you need to install and configure docker:\n",
    "- Follow [Docker installation guild](https://www.docker.com/community-edition) until you can use `sudo docker` to print the \"Hello World\" example.\n",
    "- Run `sudo usermod -aG docker $USER`\n",
    "- Log out and log back in"
   ]
  },
  {
   "cell_type": "markdown",
   "metadata": {},
   "source": [
    "We have provided a docker image for DSC which can be used to\n",
    "\n",
    "- Run some of the DSC vignettes examples\n",
    "- Serve as the base docker image to add to it your own benchmarks for others to reproduce."
   ]
  },
  {
   "cell_type": "markdown",
   "metadata": {},
   "source": [
    "## Run DSC base docker image"
   ]
  },
  {
   "cell_type": "markdown",
   "metadata": {},
   "source": [
    "To use the docker image:\n",
    "\n",
    "```\n",
    "docker pull gaow/dsc\n",
    "docker run --rm --security-opt label:disable \\\n",
    "        -v ${HOME%%/${USER}}:/home -v /tmp:/tmp \\\n",
    "       -t -P -w $PWD -u $UID:${GROUPS[0]} gaow/dsc \\\n",
    "       dsc -h\n",
    "```\n",
    "\n",
    "You can add a shortcut to your shell configuration script (`~/.bashrc` on Linux and `~/.bash_profile` on Mac) to trigger docker based DSC:\n",
    "\n",
    "```\n",
    "alias dsc-docker='docker run --rm --security-opt label:disable -v ${HOME%%/${USER}}:/home -v /tmp:/tmp -t -P -w $PWD -u $UID:${GROUPS[0]} gaow/dsc dsc'\n",
    "```"
   ]
  },
  {
   "cell_type": "markdown",
   "metadata": {},
   "source": [
    "For example, to run the [Introductory DSC tutorial](../tutorials/Intro_DSC.html),"
   ]
  },
  {
   "cell_type": "code",
   "execution_count": 2,
   "metadata": {},
   "outputs": [
    {
     "name": "stdout",
     "output_type": "stream",
     "text": [
      "/home/gaow/GIT/dsc/vignettes/one_sample_location"
     ]
    }
   ],
   "source": [
    "%cd ~/GIT/dsc/vignettes/one_sample_location"
   ]
  },
  {
   "cell_type": "code",
   "execution_count": null,
   "metadata": {},
   "outputs": [],
   "source": [
    "! docker run --rm --security-opt label:disable \\\n",
    "        -v ${HOME%%/${USER}}:/home -v /tmp:/tmp \\\n",
    "       -t -P -w $PWD -u $UID:${GROUPS[0]} gaow/dsc \\\n",
    "       dsc first_investigation.dsc --replicate 10 -c 2"
   ]
  }
 ],
 "metadata": {
  "kernelspec": {
   "display_name": "SoS",
   "language": "sos",
   "name": "sos"
  },
  "language_info": {
   "codemirror_mode": "sos",
   "file_extension": ".sos",
   "mimetype": "text/x-sos",
   "name": "sos",
   "nbconvert_exporter": "sos_notebook.converter.SoS_Exporter",
   "pygments_lexer": "sos"
  },
  "sos": {
   "default_kernel": "SoS",
   "kernels": [],
   "panel": {
    "displayed": true,
    "height": 0,
    "style": "side"
   },
   "version": "0.9.13.1"
  }
 },
 "nbformat": 4,
 "nbformat_minor": 2
}
