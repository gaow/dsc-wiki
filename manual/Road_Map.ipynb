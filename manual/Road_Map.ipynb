{
 "cells": [
  {
   "cell_type": "markdown",
   "metadata": {},
   "source": [
    "# Release 1.0 roadmap"
   ]
  },
  {
   "cell_type": "markdown",
   "metadata": {},
   "source": [
    "## Unit tests"
   ]
  },
  {
   "cell_type": "markdown",
   "metadata": {},
   "source": [
    "### Module names\n",
    "- [] module name cannot start with `pipeline_`\n",
    "- [] module names have to be SQL friendly\n",
    "- [] modules that are identical in every way except names\n",
    "- [] module names match number of executables"
   ]
  },
  {
   "cell_type": "markdown",
   "metadata": {},
   "source": [
    "### Parser\n",
    "- [] More tests to @FILTER\n",
    "- [] More tests to @ALIAS\n",
    "- [] More tests to @CONF\n",
    "- [x] Module inherit omitting exec\n",
    "- [] No multiple module input `$x`, `$y` or any mixture of them with module parameters\n",
    "- [] All module output in the same block should have same name (a required good practice)\n",
    "- [] `DSC::run` we support only `()` `*` and  `,`\n",
    "- [x] Module names / parameters cannot start with `_` and cannot have `.` in them\n",
    "- [] Duplicate module / parameter names\n",
    "- [] Different length of params in different exec. e.g. mybeta = 1,2,3 vs. mybeta = (4,5,6) will lead to file lock fail. \n",
    "- [] Strings ending with `,` intentionally\n",
    "- [] Check if @ALIAS in the parameter list (or is a number or str?)\n",
    "- [] `@FILTER` cannot have pipeline variables `$`\n",
    "- [] Packages installed from github also has version option"
   ]
  },
  {
   "cell_type": "markdown",
   "metadata": {},
   "source": [
    "### Execution\n",
    "- [] Identical tasks will result in complaint. check for identical jobs ie same parameter twice \n",
    "- [] Both in `DSC::run` and in `--target`: what if the first module has upstream dependency? Should catch and report an error.\n",
    "- [] Unsupported keywords in `DSC` block\n",
    "- [] Bad pipeline logic specification (resulting in failure as said in #22 )\n",
    "- [] Looped steps. Actually this should be a feature when desired ...\n",
    "- [] Downstream pipeline did not use any of upstream variables\n",
    "- [] All modules are valid (defined)\n",
    "- [] Find some Rmd source code and test if they work as executables"
   ]
  },
  {
   "cell_type": "markdown",
   "metadata": {},
   "source": [
    "### Query\n",
    "- [x] dsc-query strip path for dsc_output argument"
   ]
  },
  {
   "cell_type": "markdown",
   "metadata": {},
   "source": [
    "### Misc\n",
    "- [] Do not write library installed files if installation fails"
   ]
  },
  {
   "cell_type": "markdown",
   "metadata": {},
   "source": [
    "## Documentation\n",
    "\n",
    "Add these related discussions to documentation\n",
    "\n",
    "### Best practices\n",
    "- [] RE seeds -- users should ensure seeds for modules are always the same, when applicable.\n",
    "\n",
    "### Examples\n",
    "- [x] Convert all previous examples to new syntax\n",
    "- [] Add a tutorial that compares computation time / speed between modules\n",
    "- [] Add a tutorial for benchmark output managing, eg, remove / rerun specified steps and moving project from one computer to another\n",
    "- [] Add a documentation page on remote execution, and a tutorial for it (`ash` example)\n",
    "- [] **Add a doucmentation for `dscrutils`, and a tutorial on data extraction using [`one_sample_location` example](https://stephenslab.github.io/dsc-wiki/tutorials/Explore_Output.html); and update [`ash` example](https://stephenslab.github.io/dsc-wiki/tutorials/Intermediate_R_1.html) to include result exploration (maybe call it `Intermediate_R_2.html`)**"
   ]
  },
  {
   "cell_type": "markdown",
   "metadata": {},
   "source": [
    "## Engineering\n",
    "\n",
    "- [] Use HDF5 to replace msgpack and reimplement IO_DB to only load the chunk necessary.\n",
    "- [] Optimize `build_result_db` and `build_io_db` via line profiler."
   ]
  },
  {
   "cell_type": "markdown",
   "metadata": {},
   "source": [
    "## Small features\n",
    "- [!] Add exec `depend` property to track source files\n",
    "- [x] Create a switch / or --debug switch to generate mock run file\n",
    "- [!] Pipeline seed batch has to be used / tested; based on total number of jobs distribute it smartly.\n",
    "- [x] Remove old Rlib info files\n",
    "- [x] Fix github R package arbitary paths\n",
    "- [!] Add tags for queries\n",
    "- [x] Support `(N,P):(100,1000)`\n",
    "- [] Unsupport nested tuples `((100,200),(300,400)), ((9,8))`\n",
    "- [] Properly handle grouped input eg `g: (N,P)` (then in the table has to have 2 columns g_N and g_P)\n",
    "- [x] `file()` / `file(ext)` behavior is reversed ... need to fix\n",
    "- [x] Replace eg `simulate_n` with `simulate:n` in the column names\n",
    "- [] Reimplement the underlying `args` and `sys.argv` for plugins -- make them more general\n",
    "- [x] Support `Rmd` file as executable\n",
    "- [x] Rmd file chunk name"
   ]
  },
  {
   "cell_type": "markdown",
   "metadata": {},
   "source": [
    "## Major features\n",
    "\n",
    "Many were existing features removed due to new syntax and SoS advances etc. We need to bring them back in.\n",
    "\n",
    "### Enhanced interface syntax\n",
    "- [x] `inline` executables\n",
    "\n",
    "### R interface\n",
    "- [] Make operator `R()` smarter: **basically make a `dscrutils::run_r()` function that runs input string as R code and format result as a comma separated string. Raise an error if it fails to format.**\n",
    "- [!] **New data exchange format in HDF5**\n",
    "  - [x] Might stick to `rpy2` until we need to support Matlab\n",
    "- [x] New data extraction interface / basic data exploration features in R\n",
    "- [x] A more self-contained way to load DSC related functions: a companion R package eventually?\n",
    "\n",
    "### Python interface\n",
    "- [x] Switch from RDS/rpy2 to HDF5\n",
    "\n",
    "### Shell command executable related issues\n",
    "- [] Multiple output files\n",
    "- [] Executable command options\n",
    "    ```\n",
    "    `exec` specifies the names of executable computational routines as well as their command line arguments if applicable. For example an `exec` entry reads:\n",
    "\n",
    "     exec: datamaker.R, ms $nsam $nreps -t $theta -seed $seed\n",
    "     ```\n",
    " - [] index slicing\n",
    "    ```\n",
    "    Index for parameters, for example `exec: makeped.py $data $output[1]` where `output` parameter takes the form of `output: (1.ped, 1.map), (2.ped, 2.map)`. In this case `output[1]` will only use the first value of each parameter group.\n",
    "    ```\n",
    "\n",
    "### Engineering\n",
    "- [x] optimize performance / minimize overhead to the best of my knowledge\n",
    "   - this is never ending -- i mostly only deal with noticible bottleneck and I use line profiler to identify the culprit.\n",
    "\n",
    "### Large scale computations\n",
    "- [x] `--host` option\n",
    "  - To check: `scp`, `ssh` commands are available\n",
    "  - To sync by DSC: \n",
    "    - the output folder\n",
    "    - the host config file\n",
    "- [!] CONF `merge` feature:\n",
    "   ```\n",
    "   `inline`: True or False, of whether or not an R script is executed inline with the next procedure instead of producing return files. This feature is useful when the cost of computation for a procedure is trivial compared to the cost of storing its output. For example if a simulation procedure is simply `runif(500000)` it makes more sense to save this line of code and execute it inline with the next step, rather than to save a vector of 500,000 random numbers to disk.\n",
    "   ```"
   ]
  },
  {
   "cell_type": "markdown",
   "metadata": {},
   "source": [
    "## Known issues"
   ]
  },
  {
   "cell_type": "markdown",
   "metadata": {},
   "source": [
    "SoS issues that needs to be fixed:\n",
    "- [] Build node not working\n",
    "- [] `stderr` should remove empty files\n",
    "\n",
    "SoS issues that cannot be fixed:\n",
    "\n",
    "- Multiple loads of I/O data for each task distribution\n",
    "\n",
    "SoS issues that has been fixed to the best of our knowledge yet might still be problematic:\n",
    "\n",
    "- Hang on dead-lock"
   ]
  }
 ],
 "metadata": {
  "kernelspec": {
   "display_name": "SoS",
   "language": "sos",
   "name": "sos"
  },
  "language_info": {
   "codemirror_mode": "sos",
   "file_extension": ".sos",
   "mimetype": "text/x-sos",
   "name": "sos",
   "nbconvert_exporter": "sos_notebook.converter.SoS_Exporter",
   "pygments_lexer": "sos"
  },
  "sos": {
   "default_kernel": "SoS",
   "kernels": [
    [
     "SoS",
     "sos",
     "",
     ""
    ],
    [
     "ir",
     "ir",
     "",
     ""
    ],
    [
     "python3",
     "python3",
     "",
     ""
    ]
   ],
   "panel": {
    "displayed": true,
    "height": 0,
    "style": "side"
   }
  }
 },
 "nbformat": 4,
 "nbformat_minor": 2
}
