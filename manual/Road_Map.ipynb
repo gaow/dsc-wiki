{
 "cells": [
  {
   "cell_type": "markdown",
   "metadata": {},
   "source": [
    "# Release 1.0 roadmap"
   ]
  },
  {
   "cell_type": "markdown",
   "metadata": {},
   "source": [
    "## Unit tests"
   ]
  },
  {
   "cell_type": "markdown",
   "metadata": {},
   "source": [
    "### Module names\n",
    "- [] module name cannot start with `pipeline_`\n",
    "- [] module names have to be SQL friendly\n",
    "- [] modules that are identical in every way except names\n",
    "- [] module names match number of executables"
   ]
  },
  {
   "cell_type": "markdown",
   "metadata": {},
   "source": [
    "### Parser\n",
    "- [x] all but @CONF decoration tests\n",
    "- [] module inherit omitting exec\n",
    "- [] no multiple module input `$x`, `$y` or any mixture of them with module parameters\n",
    "- [] all module output in the same block should have same name (a required good practice)\n",
    "- [] `DSC::run` we support only `()` `*` and  `,`\n",
    "- [] module names / parameters cannot start with `_` and cannot have `.` in them\n",
    "- [] duplicate module / parameter names\n",
    "- [] Different length of params in different exec. e.g. mybeta = 1,2,3 vs. mybeta = (4,5,6) will lead to file lock fail. \n",
    "- [] strings ending with `,` intentionally\n",
    "- [] Check if @ALIAS in the parameter list (or is a number or str?)\n",
    "- `@FILTER` cannot have pipeline variables `$`"
   ]
  },
  {
   "cell_type": "markdown",
   "metadata": {},
   "source": [
    "### Execution\n",
    "- [] identical tasks will result in complaint. check for identical jobs ie same parameter twice \n",
    "- [] both in `DSC::run` and in `--target`: what if the first module has upstream dependency? Should catch and report an error.\n",
    "- [] Unsupported keywords in `DSC` block\n",
    "- [] Bad pipeline logic specification (resulting in failure as said in #22 )\n",
    "- [] Looped steps. Actually this should be a feature when desired ...\n",
    "- [] Downstream pipeline did not use any of upstream variables\n",
    "- [] all modules are valid (defined)"
   ]
  },
  {
   "cell_type": "markdown",
   "metadata": {},
   "source": [
    "### Query\n",
    "- [] dsc-query strip path for dsc_output argument"
   ]
  },
  {
   "cell_type": "markdown",
   "metadata": {},
   "source": [
    "### Misc\n",
    "- [] do not write library installed files if installation fails"
   ]
  },
  {
   "cell_type": "markdown",
   "metadata": {},
   "source": [
    "## Documentation\n",
    "### Best practices\n",
    "- [] RE seeds -- users should ensure seeds for modules are always the same, when applicable.\n",
    "\n",
    "### Examples\n",
    "- [x] convert all previous examples to new syntax\n",
    "- [] add a tutorial that compares computation time / speed between modules\n",
    "- []  a tutorial for benchmark output managing, eg, remove / rerun specified steps and moving project from one computer to another"
   ]
  },
  {
   "cell_type": "markdown",
   "metadata": {},
   "source": [
    "## Small features\n",
    "- [] add exec `depend` property to track source files\n",
    "- [x] create a switch / or --debug switch to generate mock run file\n",
    "- [!] pipeline seed batch has to be used / tested; based on total number of jobs distribute it smartly.\n",
    "- [x] remove old Rlib info files\n",
    "- [x] fix github R package arbitary paths\n",
    "- [!] add tags for queries\n",
    "- [] Properly handle grouped input eg `g: (N,P)` (then in the table has to have 2 columns g_N and g_P)\n",
    "- [x] `file()` / `file(ext)` behavior is reversed ... need to fix\n",
    "- [] Replace eg `simulate_n` with `simulate:n` in the column names"
   ]
  },
  {
   "cell_type": "markdown",
   "metadata": {},
   "source": [
    "## Major features\n",
    "\n",
    "Many were existing features removed due to due to new syntax and SoS advances etc. We need to bring them back in.\n",
    "\n",
    "### Enhanced interface syntax\n",
    "- [] `inline` executables\n",
    "\n",
    "### Multi-language related issues\n",
    "- [] New data exchange format\n",
    "\n",
    "### Shell command executable related issues\n",
    "- [] Multiple output files\n",
    "- [] executable command options\n",
    "    ```\n",
    "    `exec` specifies the names of executable computational routines as well as their command line arguments if applicable. For example an `exec` entry reads:\n",
    "\n",
    "     exec: datamaker.R, ms $nsam $nreps -t $theta -seed $seed\n",
    "     ```\n",
    " - [] index slicing\n",
    "    ```\n",
    "    *  Index for parameters, for example `exec: makeped.py $data $output[1]` where `output` parameter takes the form of `output: (1.ped, 1.map), (2.ped, 2.map)`. In this case `output[1]` will only use the first value of each parameter group.\n",
    "     \n",
    "- [] New data extraction interface / basic data exploration features\n",
    "- [x] a more self-contained way to load DSC related functions: a companion R package eventually?\n",
    "- [x] performance (`SoS` tasks)\n",
    "    ```\n",
    "\n",
    "### Large scale computations\n",
    "- [] `--host` feature bind with SoS: is now broken due to new SoS task model\n",
    "  - To check: `scp`, `ssh` commands are available\n",
    "  - To sync by DSC: \n",
    "    - the output folder\n",
    "    - Not the host config file (?)\n",
    "- [] CONF `merge` feature:\n",
    "   ```\n",
    "   `inline`: True or False, of whether or not an R script is executed inline with the next procedure instead of producing return files. This feature is useful when the cost of computation for a procedure is trivial compared to the cost of storing its output. For example if a simulation procedure is simply `runif(500000)` it makes more sense to save this line of code and execute it inline with the next step, rather than to save a vector of 500,000 random numbers to disk.\n",
    "   ```"
   ]
  },
  {
   "cell_type": "markdown",
   "metadata": {},
   "source": [
    "## Known issues"
   ]
  },
  {
   "cell_type": "markdown",
   "metadata": {},
   "source": [
    "SoS issues:\n",
    "\n",
    "- [] Multiple loads of I/O data for each task distribution (SoS global section repeated executions)\n",
    "- [] `-c` option not honored for non-task\n",
    "- [] Hang on dead-lock"
   ]
  }
 ],
 "metadata": {
  "kernelspec": {
   "display_name": "SoS",
   "language": "sos",
   "name": "sos"
  },
  "language_info": {
   "codemirror_mode": "sos",
   "file_extension": ".sos",
   "mimetype": "text/x-sos",
   "name": "sos",
   "nbconvert_exporter": "sos_notebook.converter.SoS_Exporter",
   "pygments_lexer": "sos"
  },
  "sos": {
   "default_kernel": "SoS",
   "kernels": [
    [
     "Python3",
     "python3",
     "Python3",
     "#FFE771"
    ],
    [
     "R",
     "ir",
     "R",
     "#DCDCDA"
    ],
    [
     "SoS",
     "sos",
     "",
     ""
    ]
   ],
   "panel": {
    "displayed": true,
    "height": 0,
    "style": "side"
   }
  }
 },
 "nbformat": 4,
 "nbformat_minor": 2
}
