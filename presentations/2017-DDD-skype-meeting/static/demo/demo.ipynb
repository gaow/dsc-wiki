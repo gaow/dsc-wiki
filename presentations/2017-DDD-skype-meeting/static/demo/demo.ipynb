{
 "cells": [
  {
   "cell_type": "markdown",
   "metadata": {
    "collapsed": false,
    "kernel": "SoS",
    "scrolled": true,
    "tags": [
     "None"
    ]
   },
   "source": [
    "# DSC Omega benchmark\n",
    "Queries performed for:\n",
    "\n",
    "* targets: `['hub_graph.P', 'hub_graph.n', 'mse.score', 'tiger', 'glasso', 'clime']`\n",
    "* conditions: `['hub_graph.P = 300', 'hub_graph.n = 200', 'hub_graph.seed <= 5']`"
   ]
  },
  {
   "cell_type": "code",
   "execution_count": 1,
   "metadata": {
    "collapsed": false,
    "kernel": "SoS",
    "scrolled": true,
    "tags": [
     "None"
    ]
   },
   "outputs": [],
   "source": [
    "import warnings\n",
    "warnings.filterwarnings(\"ignore\")\n",
    "from dsc.utils import load_rds\n",
    "import pandas as pd\n",
    "info = [pd.DataFrame.from_dict(x) for x in load_rds(\"demo.rds\").values()]"
   ]
  },
  {
   "cell_type": "markdown",
   "metadata": {
    "collapsed": false,
    "kernel": "SoS",
    "scrolled": true,
    "tags": [
     "None"
    ]
   },
   "source": [
    "## Pipeline 1"
   ]
  },
  {
   "cell_type": "markdown",
   "metadata": {
    "collapsed": false,
    "kernel": "SoS",
    "scrolled": true,
    "tags": [
     "hide_output"
    ]
   },
   "source": [
    "```sql\n",
    "SELECT hub_graph.P AS hub_graph_P, hub_graph.n AS hub_graph_n, mse.FILE AS mse_FILE_score, 'glasso' AS glasso FROM mse INNER JOIN glasso ON mse.parent = glasso.ID INNER JOIN hub_graph ON glasso.parent = hub_graph.ID WHERE ((hub_graph.P = 300) AND (hub_graph.n = 200) AND (hub_graph.seed <= 5))\n",
    "```"
   ]
  },
  {
   "cell_type": "code",
   "execution_count": 2,
   "metadata": {
    "collapsed": false,
    "kernel": "SoS",
    "scrolled": true,
    "tags": [
     "report_output"
    ]
   },
   "outputs": [
    {
     "data": {
      "text/html": [
       "<div class=\"sos_hint\">> info[0]: DataFrame of shape (2, 4)</div>"
      ],
      "text/plain": [
       ">>> info[0]:\n"
      ]
     },
     "metadata": {},
     "output_type": "display_data"
    },
    {
     "data": {
      "text/html": [
       "\n",
       "    <div class='dataframe_container' style=\"max-height:400px\">\n",
       "    <input type=\"text\" class='dataframe_input' id=\"search_1\" onkeyup=\"filterDataFrame('1')\" placeholder=\"Search for names..\">\n",
       "    <table border=\"1\" id=\"dataframe_1\" class=\"sos_dataframe dataframe\">\n",
       "  <thead>\n",
       "    <tr style=\"text-align: right;\">\n",
       "      <th> &nbsp; <i class=\"fa fa-sort\" style=\"color:lightgray\" onclick=\"sortDataFrame('1', 0, 'numeric')\"></th>\n",
       "      <th>glasso &nbsp; <i class=\"fa fa-sort\" style=\"color:lightgray\" onclick=\"sortDataFrame('1', 1, 'alphabetic')\"></th>\n",
       "      <th>hub_graph_P &nbsp; <i class=\"fa fa-sort\" style=\"color:lightgray\" onclick=\"sortDataFrame('1', 2, 'numeric')\"></th>\n",
       "      <th>hub_graph_n &nbsp; <i class=\"fa fa-sort\" style=\"color:lightgray\" onclick=\"sortDataFrame('1', 3, 'numeric')\"></th>\n",
       "      <th>mse_score &nbsp; <i class=\"fa fa-sort\" style=\"color:lightgray\" onclick=\"sortDataFrame('1', 4, 'numeric')\"></th>\n",
       "    </tr>\n",
       "  </thead>\n",
       "  <tbody>\n",
       "    <tr>\n",
       "      <th>0</th>\n",
       "      <td>glasso</td>\n",
       "      <td>300</td>\n",
       "      <td>200</td>\n",
       "      <td>30381.874719</td>\n",
       "    </tr>\n",
       "    <tr>\n",
       "      <th>1</th>\n",
       "      <td>glasso</td>\n",
       "      <td>300</td>\n",
       "      <td>200</td>\n",
       "      <td>30370.918424</td>\n",
       "    </tr>\n",
       "  </tbody>\n",
       "</table></div>"
      ]
     },
     "metadata": {},
     "output_type": "display_data"
    }
   ],
   "source": [
    "%preview -n info[0]"
   ]
  },
  {
   "cell_type": "markdown",
   "metadata": {
    "collapsed": false,
    "kernel": "SoS",
    "scrolled": true,
    "tags": [
     "None"
    ]
   },
   "source": [
    "## Pipeline 2"
   ]
  },
  {
   "cell_type": "markdown",
   "metadata": {
    "collapsed": false,
    "kernel": "SoS",
    "scrolled": true,
    "tags": [
     "hide_output"
    ]
   },
   "source": [
    "```sql\n",
    "SELECT hub_graph.P AS hub_graph_P, hub_graph.n AS hub_graph_n, mse.FILE AS mse_FILE_score, 'tiger' AS tiger FROM mse INNER JOIN tiger ON mse.parent = tiger.ID INNER JOIN hub_graph ON tiger.parent = hub_graph.ID WHERE ((hub_graph.P = 300) AND (hub_graph.n = 200) AND (hub_graph.seed <= 5))\n",
    "```"
   ]
  },
  {
   "cell_type": "code",
   "execution_count": 3,
   "metadata": {
    "collapsed": false,
    "kernel": "SoS",
    "scrolled": true,
    "tags": [
     "report_output"
    ]
   },
   "outputs": [
    {
     "data": {
      "text/html": [
       "<div class=\"sos_hint\">> info[1]: DataFrame of shape (2, 4)</div>"
      ],
      "text/plain": [
       ">>> info[1]:\n"
      ]
     },
     "metadata": {},
     "output_type": "display_data"
    },
    {
     "data": {
      "text/html": [
       "\n",
       "    <div class='dataframe_container' style=\"max-height:400px\">\n",
       "    <input type=\"text\" class='dataframe_input' id=\"search_2\" onkeyup=\"filterDataFrame('2')\" placeholder=\"Search for names..\">\n",
       "    <table border=\"1\" id=\"dataframe_2\" class=\"sos_dataframe dataframe\">\n",
       "  <thead>\n",
       "    <tr style=\"text-align: right;\">\n",
       "      <th> &nbsp; <i class=\"fa fa-sort\" style=\"color:lightgray\" onclick=\"sortDataFrame('2', 0, 'numeric')\"></th>\n",
       "      <th>hub_graph_P &nbsp; <i class=\"fa fa-sort\" style=\"color:lightgray\" onclick=\"sortDataFrame('2', 1, 'numeric')\"></th>\n",
       "      <th>hub_graph_n &nbsp; <i class=\"fa fa-sort\" style=\"color:lightgray\" onclick=\"sortDataFrame('2', 2, 'numeric')\"></th>\n",
       "      <th>mse_score &nbsp; <i class=\"fa fa-sort\" style=\"color:lightgray\" onclick=\"sortDataFrame('2', 3, 'numeric')\"></th>\n",
       "      <th>tiger &nbsp; <i class=\"fa fa-sort\" style=\"color:lightgray\" onclick=\"sortDataFrame('2', 4, 'alphabetic')\"></th>\n",
       "    </tr>\n",
       "  </thead>\n",
       "  <tbody>\n",
       "    <tr>\n",
       "      <th>0</th>\n",
       "      <td>300</td>\n",
       "      <td>200</td>\n",
       "      <td>30238.842018</td>\n",
       "      <td>tiger</td>\n",
       "    </tr>\n",
       "    <tr>\n",
       "      <th>1</th>\n",
       "      <td>300</td>\n",
       "      <td>200</td>\n",
       "      <td>30206.299045</td>\n",
       "      <td>tiger</td>\n",
       "    </tr>\n",
       "  </tbody>\n",
       "</table></div>"
      ]
     },
     "metadata": {},
     "output_type": "display_data"
    }
   ],
   "source": [
    "%preview -n info[1]"
   ]
  },
  {
   "cell_type": "markdown",
   "metadata": {
    "collapsed": false,
    "kernel": "SoS",
    "scrolled": true,
    "tags": [
     "None"
    ]
   },
   "source": [
    "## Pipeline 3"
   ]
  },
  {
   "cell_type": "markdown",
   "metadata": {
    "collapsed": false,
    "kernel": "SoS",
    "scrolled": true,
    "tags": [
     "hide_output"
    ]
   },
   "source": [
    "```sql\n",
    "SELECT hub_graph.P AS hub_graph_P, hub_graph.n AS hub_graph_n, mse.FILE AS mse_FILE_score, 'clime' AS clime FROM mse INNER JOIN clime ON mse.parent = clime.ID INNER JOIN hub_graph ON clime.parent = hub_graph.ID WHERE ((hub_graph.P = 300) AND (hub_graph.n = 200) AND (hub_graph.seed <= 5))\n",
    "```"
   ]
  },
  {
   "cell_type": "code",
   "execution_count": 4,
   "metadata": {
    "collapsed": false,
    "kernel": "SoS",
    "scrolled": true,
    "tags": [
     "report_output"
    ]
   },
   "outputs": [
    {
     "data": {
      "text/html": [
       "<div class=\"sos_hint\">> info[2]: DataFrame of shape (2, 4)</div>"
      ],
      "text/plain": [
       ">>> info[2]:\n"
      ]
     },
     "metadata": {},
     "output_type": "display_data"
    },
    {
     "data": {
      "text/html": [
       "\n",
       "    <div class='dataframe_container' style=\"max-height:400px\">\n",
       "    <input type=\"text\" class='dataframe_input' id=\"search_3\" onkeyup=\"filterDataFrame('3')\" placeholder=\"Search for names..\">\n",
       "    <table border=\"1\" id=\"dataframe_3\" class=\"sos_dataframe dataframe\">\n",
       "  <thead>\n",
       "    <tr style=\"text-align: right;\">\n",
       "      <th> &nbsp; <i class=\"fa fa-sort\" style=\"color:lightgray\" onclick=\"sortDataFrame('3', 0, 'numeric')\"></th>\n",
       "      <th>clime &nbsp; <i class=\"fa fa-sort\" style=\"color:lightgray\" onclick=\"sortDataFrame('3', 1, 'alphabetic')\"></th>\n",
       "      <th>hub_graph_P &nbsp; <i class=\"fa fa-sort\" style=\"color:lightgray\" onclick=\"sortDataFrame('3', 2, 'numeric')\"></th>\n",
       "      <th>hub_graph_n &nbsp; <i class=\"fa fa-sort\" style=\"color:lightgray\" onclick=\"sortDataFrame('3', 3, 'numeric')\"></th>\n",
       "      <th>mse_score &nbsp; <i class=\"fa fa-sort\" style=\"color:lightgray\" onclick=\"sortDataFrame('3', 4, 'numeric')\"></th>\n",
       "    </tr>\n",
       "  </thead>\n",
       "  <tbody>\n",
       "    <tr>\n",
       "      <th>0</th>\n",
       "      <td>clime</td>\n",
       "      <td>300</td>\n",
       "      <td>200</td>\n",
       "      <td>30367.071748</td>\n",
       "    </tr>\n",
       "    <tr>\n",
       "      <th>1</th>\n",
       "      <td>clime</td>\n",
       "      <td>300</td>\n",
       "      <td>200</td>\n",
       "      <td>30488.268484</td>\n",
       "    </tr>\n",
       "  </tbody>\n",
       "</table></div>"
      ]
     },
     "metadata": {},
     "output_type": "display_data"
    }
   ],
   "source": [
    "%preview -n info[2]"
   ]
  },
  {
   "cell_type": "code",
   "execution_count": 5,
   "metadata": {
    "collapsed": false,
    "kernel": "SoS",
    "scrolled": true,
    "tags": [
     "None"
    ]
   },
   "outputs": [],
   "source": [
    "%use R\n",
    "info <- readRDS('demo.rds')"
   ]
  }
 ],
 "metadata": {
  "anaconda-cloud": {},
  "celltoolbar": "Tags",
  "kernelspec": {
   "display_name": "SoS",
   "language": "sos",
   "name": "sos"
  },
  "language_info": {
   "codemirror_mode": "sos",
   "file_extension": ".sos",
   "mimetype": "text/x-sos",
   "name": "sos",
   "nbconvert_exporter": "sos.jupyter.converter.SoS_Exporter",
   "pygments_lexer": "sos"
  },
  "sos": {
   "kernels": [],
   "panel": {
    "displayed": true,
    "height": 0,
    "style": "side"
   }
  }
 },
 "nbformat": 4,
 "nbformat_minor": 2
}
